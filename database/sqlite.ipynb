{
 "cells": [
  {
   "cell_type": "markdown",
   "metadata": {},
   "source": [
    "### Python"
   ]
  },
  {
   "cell_type": "code",
   "execution_count": 98,
   "metadata": {},
   "outputs": [],
   "source": [
    "import sqlite3\n",
    "import pandas as pd"
   ]
  },
  {
   "cell_type": "code",
   "execution_count": 99,
   "metadata": {},
   "outputs": [],
   "source": [
    "# Connect to database\n",
    "# conn = sqlite3.connect('movies.db')\n",
    "conn = sqlite3.connect(':memory:')\n",
    "cursor = conn.cursor()"
   ]
  },
  {
   "cell_type": "code",
   "execution_count": 100,
   "metadata": {},
   "outputs": [],
   "source": [
    "# Create table\n",
    "sql = '''CREATE TABLE IF NOT EXISTS players (\n",
    "            name TEXT NOT NULL,\n",
    "            foot TEXT,\n",
    "            team TEXT,\n",
    "            rating INTEGER\n",
    ")'''\n",
    "\n",
    "cursor.execute(sql)\n",
    "conn.commit()"
   ]
  },
  {
   "cell_type": "markdown",
   "metadata": {},
   "source": [
    "### Inserting data"
   ]
  },
  {
   "cell_type": "code",
   "execution_count": 101,
   "metadata": {},
   "outputs": [],
   "source": [
    "# Insert into table\n",
    "cursor.execute('''INSERT INTO players \n",
    "               (name, foot, team, rating)\n",
    "               VALUES \n",
    "               ('Hames', 'L', 'Real Madrid', 85)\n",
    "               ''')\n",
    "conn.commit()"
   ]
  },
  {
   "cell_type": "code",
   "execution_count": 125,
   "metadata": {},
   "outputs": [],
   "source": [
    "players = [('Mbappe', 'R', 'Real Madrid', 107), \n",
    "           ('Messi', 'L', 'Miami', 107), \n",
    "           ('Kvara', 'R', 'PSG', 106), \n",
    "           ('Zidane', 'R', 'Real Madrid', 105)]"
   ]
  },
  {
   "cell_type": "code",
   "execution_count": 126,
   "metadata": {},
   "outputs": [],
   "source": [
    "# Insert many\n",
    "cursor.executemany('INSERT INTO players VALUES (?, ?, ?, ?)', players)\n",
    "conn.commit()"
   ]
  },
  {
   "cell_type": "markdown",
   "metadata": {},
   "source": [
    "### Querying database"
   ]
  },
  {
   "cell_type": "code",
   "execution_count": 104,
   "metadata": {},
   "outputs": [
    {
     "data": {
      "text/plain": [
       "('Hames', 'L', 'Real Madrid', 85)"
      ]
     },
     "execution_count": 104,
     "metadata": {},
     "output_type": "execute_result"
    }
   ],
   "source": [
    "# Query database\n",
    "select_query = 'SELECT * FROM players'\n",
    "cursor.execute(select_query)\n",
    "\n",
    "cursor.fetchone()\n",
    "# cursor.fetchmany(2)\n",
    "# cursor.fetchall()"
   ]
  },
  {
   "cell_type": "code",
   "execution_count": 105,
   "metadata": {},
   "outputs": [
    {
     "data": {
      "text/plain": [
       "'Hames'"
      ]
     },
     "execution_count": 105,
     "metadata": {},
     "output_type": "execute_result"
    }
   ],
   "source": [
    "# Indexing query results\n",
    "cursor.execute(select_query)\n",
    "cursor.fetchone()[0]"
   ]
  },
  {
   "cell_type": "code",
   "execution_count": 106,
   "metadata": {},
   "outputs": [
    {
     "name": "stdout",
     "output_type": "stream",
     "text": [
      "Hames - Real Madrid\n",
      "Donnarumma - Paris\n",
      "Zanneti - Inter\n",
      "Nesta - Juventus\n",
      "Carlos - Real Madrid\n"
     ]
    }
   ],
   "source": [
    "cursor.execute(select_query)\n",
    "items = cursor.fetchall()\n",
    "for i in items:\n",
    "    print(f'{i[0]} - {i[2]}')"
   ]
  },
  {
   "cell_type": "code",
   "execution_count": 107,
   "metadata": {},
   "outputs": [
    {
     "name": "stdout",
     "output_type": "stream",
     "text": [
      "(1, 'Hames', 'L', 'Real Madrid', 85)\n",
      "(2, 'Donnarumma', 'L', 'Paris', 100)\n",
      "(3, 'Zanneti', 'R', 'Inter', 102)\n",
      "(4, 'Nesta', 'R', 'Juventus', 106)\n",
      "(5, 'Carlos', 'L', 'Real Madrid', 102)\n"
     ]
    }
   ],
   "source": [
    "# Row id\n",
    "cursor.execute('SELECT rowid, * FROM players')\n",
    "items = cursor.fetchall()\n",
    "for i in items:\n",
    "    print(i)"
   ]
  },
  {
   "cell_type": "code",
   "execution_count": 108,
   "metadata": {},
   "outputs": [
    {
     "data": {
      "text/plain": [
       "[('Donnarumma', 'L', 'Paris', 100),\n",
       " ('Zanneti', 'R', 'Inter', 102),\n",
       " ('Nesta', 'R', 'Juventus', 106),\n",
       " ('Carlos', 'L', 'Real Madrid', 102)]"
      ]
     },
     "execution_count": 108,
     "metadata": {},
     "output_type": "execute_result"
    }
   ],
   "source": [
    "# Query with conditions\n",
    "cursor.execute('SELECT * FROM players WHERE rating >=100 ')\n",
    "cursor.fetchall()"
   ]
  },
  {
   "cell_type": "code",
   "execution_count": 109,
   "metadata": {},
   "outputs": [
    {
     "data": {
      "text/plain": [
       "[('Nesta', 'Juventus', 106),\n",
       " ('Zanneti', 'Inter', 102),\n",
       " ('Carlos', 'Real Madrid', 102),\n",
       " ('Donnarumma', 'Paris', 100),\n",
       " ('Hames', 'Real Madrid', 85)]"
      ]
     },
     "execution_count": 109,
     "metadata": {},
     "output_type": "execute_result"
    }
   ],
   "source": [
    "# Ordering\n",
    "cursor.execute('SELECT name, team, rating FROM players ORDER BY rating DESC')\n",
    "cursor.fetchall()"
   ]
  },
  {
   "cell_type": "code",
   "execution_count": null,
   "metadata": {},
   "outputs": [
    {
     "data": {
      "text/plain": [
       "[('Carlos', 'L', 'Real Madrid', 102)]"
      ]
     },
     "execution_count": 128,
     "metadata": {},
     "output_type": "execute_result"
    }
   ],
   "source": [
    "# And\n",
    "cursor.execute(\"SELECT * FROM players WHERE team = 'Real Madrid' AND foot = 'L'\")\n",
    "cursor.fetchall()"
   ]
  },
  {
   "cell_type": "code",
   "execution_count": 130,
   "metadata": {},
   "outputs": [
    {
     "data": {
      "text/plain": [
       "[('Dembele', 'R', 'Inter', 102),\n",
       " ('Nesta', 'R', 'Juventus', 106),\n",
       " ('Carlos', 'L', 'Real Madrid', 102),\n",
       " ('Mbappe', 'R', 'Real Madrid', 107),\n",
       " ('Messi', 'L', 'Miami', 107),\n",
       " ('Kvara', 'R', 'PSG', 106),\n",
       " ('Zidane', 'R', 'Real Madrid', 105)]"
      ]
     },
     "execution_count": 130,
     "metadata": {},
     "output_type": "execute_result"
    }
   ],
   "source": [
    "# Or\n",
    "cursor.execute(\"SELECT * FROM players WHERE team = 'Real Madrid' OR team = 'PSG' OR rating > 100\")\n",
    "cursor.fetchall()"
   ]
  },
  {
   "cell_type": "code",
   "execution_count": 134,
   "metadata": {},
   "outputs": [
    {
     "data": {
      "text/plain": [
       "[(6, 'Mbappe', 'R', 'Real Madrid', 107),\n",
       " (7, 'Messi', 'L', 'Miami', 107),\n",
       " (4, 'Nesta', 'R', 'Juventus', 106),\n",
       " (8, 'Kvara', 'R', 'PSG', 106)]"
      ]
     },
     "execution_count": 134,
     "metadata": {},
     "output_type": "execute_result"
    }
   ],
   "source": [
    "# Limit results\n",
    "cursor.execute('SELECT rowid, * FROM players ORDER BY rating DESC LIMIT 4')\n",
    "cursor.fetchall()"
   ]
  },
  {
   "cell_type": "markdown",
   "metadata": {},
   "source": [
    "### Update Records"
   ]
  },
  {
   "cell_type": "code",
   "execution_count": 111,
   "metadata": {},
   "outputs": [],
   "source": [
    "update = ''' UPDATE players SET name = 'Dembele' WHERE rowid = 3 '''\n",
    "cursor.execute(update)\n",
    "conn.commit()  "
   ]
  },
  {
   "cell_type": "code",
   "execution_count": 112,
   "metadata": {},
   "outputs": [
    {
     "data": {
      "text/plain": [
       "[('Hames', 'L', 'Real Madrid', 85),\n",
       " ('Donnarumma', 'L', 'Paris', 100),\n",
       " ('Dembele', 'R', 'Inter', 102),\n",
       " ('Nesta', 'R', 'Juventus', 106),\n",
       " ('Carlos', 'L', 'Real Madrid', 102)]"
      ]
     },
     "execution_count": 112,
     "metadata": {},
     "output_type": "execute_result"
    }
   ],
   "source": [
    "cursor.execute(select_query)\n",
    "cursor.fetchall()"
   ]
  },
  {
   "cell_type": "markdown",
   "metadata": {},
   "source": [
    "### Delete Records"
   ]
  },
  {
   "cell_type": "code",
   "execution_count": 113,
   "metadata": {},
   "outputs": [
    {
     "data": {
      "text/plain": [
       "[('Donnarumma', 'L', 'Paris', 100),\n",
       " ('Dembele', 'R', 'Inter', 102),\n",
       " ('Nesta', 'R', 'Juventus', 106),\n",
       " ('Carlos', 'L', 'Real Madrid', 102)]"
      ]
     },
     "execution_count": 113,
     "metadata": {},
     "output_type": "execute_result"
    }
   ],
   "source": [
    "cursor.execute('DELETE FROM players WHERE rowid = 1')\n",
    "conn.commit()\n",
    "cursor.execute(select_query)\n",
    "cursor.fetchall()"
   ]
  },
  {
   "cell_type": "code",
   "execution_count": 135,
   "metadata": {},
   "outputs": [
    {
     "ename": "OperationalError",
     "evalue": "no such table: players",
     "output_type": "error",
     "traceback": [
      "\u001b[1;31m---------------------------------------------------------------------------\u001b[0m",
      "\u001b[1;31mOperationalError\u001b[0m                          Traceback (most recent call last)",
      "Cell \u001b[1;32mIn[135], line 4\u001b[0m\n\u001b[0;32m      2\u001b[0m cursor\u001b[38;5;241m.\u001b[39mexecute(\u001b[38;5;124m'\u001b[39m\u001b[38;5;124mDROP TABLE players\u001b[39m\u001b[38;5;124m'\u001b[39m)\n\u001b[0;32m      3\u001b[0m conn\u001b[38;5;241m.\u001b[39mcommit()\n\u001b[1;32m----> 4\u001b[0m \u001b[43mcursor\u001b[49m\u001b[38;5;241;43m.\u001b[39;49m\u001b[43mexecute\u001b[49m\u001b[43m(\u001b[49m\u001b[38;5;124;43m'\u001b[39;49m\u001b[38;5;124;43mSELECT * FROM players\u001b[39;49m\u001b[38;5;124;43m'\u001b[39;49m\u001b[43m)\u001b[49m\n",
      "\u001b[1;31mOperationalError\u001b[0m: no such table: players"
     ]
    }
   ],
   "source": [
    "# Drop table\n",
    "cursor.execute('DROP TABLE players')\n",
    "conn.commit()\n",
    "cursor.execute('SELECT * FROM players')"
   ]
  },
  {
   "cell_type": "code",
   "execution_count": null,
   "metadata": {},
   "outputs": [],
   "source": []
  }
 ],
 "metadata": {
  "kernelspec": {
   "display_name": "dataenv",
   "language": "python",
   "name": "python3"
  },
  "language_info": {
   "codemirror_mode": {
    "name": "ipython",
    "version": 3
   },
   "file_extension": ".py",
   "mimetype": "text/x-python",
   "name": "python",
   "nbconvert_exporter": "python",
   "pygments_lexer": "ipython3",
   "version": "3.13.0"
  }
 },
 "nbformat": 4,
 "nbformat_minor": 2
}
