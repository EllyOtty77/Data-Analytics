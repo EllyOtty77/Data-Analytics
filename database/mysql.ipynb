{
 "cells": [
  {
   "cell_type": "code",
   "execution_count": 51,
   "metadata": {},
   "outputs": [],
   "source": [
    "import mysql.connector\n",
    "import pandas as pd\n",
    "import sqlite3"
   ]
  },
  {
   "cell_type": "code",
   "execution_count": 52,
   "metadata": {},
   "outputs": [
    {
     "name": "stdout",
     "output_type": "stream",
     "text": [
      "Connected to MySQL!\n"
     ]
    }
   ],
   "source": [
    "# Connect to database\n",
    "conn = mysql.connector.connect(\n",
    "    host=\"localhost\",\n",
    "    user=\"root\",\n",
    "    password=\"password\",\n",
    "    database=\"movies\"\n",
    ")\n",
    "\n",
    "cursor = conn.cursor()\n",
    "print(\"Connected to MySQL!\")"
   ]
  },
  {
   "cell_type": "code",
   "execution_count": null,
   "metadata": {},
   "outputs": [
    {
     "name": "stdout",
     "output_type": "stream",
     "text": [
      "Table created successfully!\n"
     ]
    }
   ],
   "source": [
    "# Create table\n",
    "cursor.execute(\"\"\"\n",
    "    CREATE TABLE IF NOT EXISTS movies (\n",
    "        id INT AUTO_INCREMENT,\n",
    "        Series_Title VARCHAR(100),\n",
    "        Released_Year INT(4),\n",
    "        Runtime VARCHAR (10),\n",
    "        Genre VARCHAR (50), \n",
    "        IMDB_Rating FLOAT (3),\n",
    "        Overview VARCHAR (2000),\n",
    "        Director VARCHAR (100),\n",
    "        Star1 VARCHAR(100),\n",
    "        Star2 VARCHAR(100),\n",
    "        Star3 VARCHAR(100),\n",
    "        Star4 VARCHAR(100),\n",
    "        No_of_Votes INT(10),\n",
    "        PRIMARY KEY(id)       \n",
    "    )\n",
    "\"\"\")\n",
    "print(\"Table created successfully!\")"
   ]
  },
  {
   "cell_type": "markdown",
   "metadata": {},
   "source": [
    "#### Load data"
   ]
  },
  {
   "cell_type": "code",
   "execution_count": 75,
   "metadata": {},
   "outputs": [],
   "source": [
    "lite_conn = sqlite3.connect('movies.db')\n",
    "query = \"\"\"SELECT Series_Title, Released_Year, \n",
    "          Runtime, Genre, IMDB_Rating, \n",
    "          Overview, Director,\n",
    "          Star1, Star2, Star3, Star4, \n",
    "          No_of_Votes\n",
    "          FROM top1000\n",
    "          \"\"\"\n",
    "df = pd.read_sql_query(query, lite_conn)"
   ]
  },
  {
   "cell_type": "code",
   "execution_count": 76,
   "metadata": {},
   "outputs": [
    {
     "name": "stdout",
     "output_type": "stream",
     "text": [
      "<class 'pandas.core.frame.DataFrame'>\n",
      "RangeIndex: 1000 entries, 0 to 999\n",
      "Data columns (total 12 columns):\n",
      " #   Column         Non-Null Count  Dtype  \n",
      "---  ------         --------------  -----  \n",
      " 0   Series_Title   1000 non-null   object \n",
      " 1   Released_Year  1000 non-null   object \n",
      " 2   Runtime        1000 non-null   object \n",
      " 3   Genre          1000 non-null   object \n",
      " 4   IMDB_Rating    1000 non-null   float64\n",
      " 5   Overview       1000 non-null   object \n",
      " 6   Director       1000 non-null   object \n",
      " 7   Star1          1000 non-null   object \n",
      " 8   Star2          1000 non-null   object \n",
      " 9   Star3          1000 non-null   object \n",
      " 10  Star4          1000 non-null   object \n",
      " 11  No_of_Votes    1000 non-null   int64  \n",
      "dtypes: float64(1), int64(1), object(10)\n",
      "memory usage: 93.9+ KB\n"
     ]
    }
   ],
   "source": [
    "df.info()"
   ]
  },
  {
   "cell_type": "code",
   "execution_count": 77,
   "metadata": {},
   "outputs": [
    {
     "data": {
      "text/html": [
       "<div>\n",
       "<style scoped>\n",
       "    .dataframe tbody tr th:only-of-type {\n",
       "        vertical-align: middle;\n",
       "    }\n",
       "\n",
       "    .dataframe tbody tr th {\n",
       "        vertical-align: top;\n",
       "    }\n",
       "\n",
       "    .dataframe thead th {\n",
       "        text-align: right;\n",
       "    }\n",
       "</style>\n",
       "<table border=\"1\" class=\"dataframe\">\n",
       "  <thead>\n",
       "    <tr style=\"text-align: right;\">\n",
       "      <th></th>\n",
       "      <th>Series_Title</th>\n",
       "      <th>Released_Year</th>\n",
       "      <th>Runtime</th>\n",
       "      <th>Genre</th>\n",
       "      <th>IMDB_Rating</th>\n",
       "      <th>Overview</th>\n",
       "      <th>Director</th>\n",
       "      <th>Star1</th>\n",
       "      <th>Star2</th>\n",
       "      <th>Star3</th>\n",
       "      <th>Star4</th>\n",
       "      <th>No_of_Votes</th>\n",
       "    </tr>\n",
       "  </thead>\n",
       "  <tbody>\n",
       "    <tr>\n",
       "      <th>0</th>\n",
       "      <td>The Shawshank Redemption</td>\n",
       "      <td>1994</td>\n",
       "      <td>142 min</td>\n",
       "      <td>Drama</td>\n",
       "      <td>9.3</td>\n",
       "      <td>Two imprisoned men bond over a number of years...</td>\n",
       "      <td>Frank Darabont</td>\n",
       "      <td>Tim Robbins</td>\n",
       "      <td>Morgan Freeman</td>\n",
       "      <td>Bob Gunton</td>\n",
       "      <td>William Sadler</td>\n",
       "      <td>2343110</td>\n",
       "    </tr>\n",
       "    <tr>\n",
       "      <th>1</th>\n",
       "      <td>The Godfather</td>\n",
       "      <td>1972</td>\n",
       "      <td>175 min</td>\n",
       "      <td>Crime, Drama</td>\n",
       "      <td>9.2</td>\n",
       "      <td>An organized crime dynasty's aging patriarch t...</td>\n",
       "      <td>Francis Ford Coppola</td>\n",
       "      <td>Marlon Brando</td>\n",
       "      <td>Al Pacino</td>\n",
       "      <td>James Caan</td>\n",
       "      <td>Diane Keaton</td>\n",
       "      <td>1620367</td>\n",
       "    </tr>\n",
       "  </tbody>\n",
       "</table>\n",
       "</div>"
      ],
      "text/plain": [
       "               Series_Title Released_Year  Runtime         Genre  IMDB_Rating  \\\n",
       "0  The Shawshank Redemption          1994  142 min         Drama          9.3   \n",
       "1             The Godfather          1972  175 min  Crime, Drama          9.2   \n",
       "\n",
       "                                            Overview              Director  \\\n",
       "0  Two imprisoned men bond over a number of years...        Frank Darabont   \n",
       "1  An organized crime dynasty's aging patriarch t...  Francis Ford Coppola   \n",
       "\n",
       "           Star1           Star2       Star3           Star4  No_of_Votes  \n",
       "0    Tim Robbins  Morgan Freeman  Bob Gunton  William Sadler      2343110  \n",
       "1  Marlon Brando       Al Pacino  James Caan    Diane Keaton      1620367  "
      ]
     },
     "execution_count": 77,
     "metadata": {},
     "output_type": "execute_result"
    }
   ],
   "source": [
    "df.head(2)"
   ]
  },
  {
   "cell_type": "markdown",
   "metadata": {},
   "source": [
    "#### Insert data into MySQL Database"
   ]
  },
  {
   "cell_type": "code",
   "execution_count": null,
   "metadata": {},
   "outputs": [
    {
     "name": "stdout",
     "output_type": "stream",
     "text": [
      "Data inserted into table.\n"
     ]
    }
   ],
   "source": [
    "# Insert into table\n",
    "sql = \"\"\"INSERT INTO movies \n",
    "(Series_Title, Released_Year,Runtime, Genre, Imdb_Rating, Overview,\n",
    "Director, Star1, Star2, Star3, Star4, No_of_Votes) \n",
    "VALUES (%s, %s, %s, %s, %s, %s, %s, %s, %s, %s, %s, %s)\n",
    "\"\"\"\n",
    "for index, row in df.iterrows():\n",
    "    cursor.execute(sql, tuple(row))\n",
    "\n",
    "conn.commit()\n",
    "\n",
    "print(\"Data inserted into table.\")"
   ]
  },
  {
   "cell_type": "code",
   "execution_count": 82,
   "metadata": {},
   "outputs": [
    {
     "name": "stdout",
     "output_type": "stream",
     "text": [
      "(1, 'The Shawshank Redemption', 1994, '142 min', 'Drama', 9.3, 'Two imprisoned men bond over a number of years, finding solace and eventual redemption through acts of common decency.', 'Frank Darabont', 'Tim Robbins', 'Morgan Freeman', 'Bob Gunton', 'William Sadler', 2343110)\n",
      "(2, 'The Godfather', 1972, '175 min', 'Crime, Drama', 9.2, \"An organized crime dynasty's aging patriarch transfers control of his clandestine empire to his reluctant son.\", 'Francis Ford Coppola', 'Marlon Brando', 'Al Pacino', 'James Caan', 'Diane Keaton', 1620367)\n",
      "(3, 'The Dark Knight', 2008, '152 min', 'Action, Crime, Drama', 9.0, 'When the menace known as the Joker wreaks havoc and chaos on the people of Gotham, Batman must accept one of the greatest psychological and physical tests of his ability to fight injustice.', 'Christopher Nolan', 'Christian Bale', 'Heath Ledger', 'Aaron Eckhart', 'Michael Caine', 2303232)\n",
      "(4, 'The Godfather: Part II', 1974, '202 min', 'Crime, Drama', 9.0, 'The early life and career of Vito Corleone in 1920s New York City is portrayed, while his son, Michael, expands and tightens his grip on the family crime syndicate.', 'Francis Ford Coppola', 'Al Pacino', 'Robert De Niro', 'Robert Duvall', 'Diane Keaton', 1129952)\n",
      "(5, '12 Angry Men', 1957, '96 min', 'Crime, Drama', 9.0, 'A jury holdout attempts to prevent a miscarriage of justice by forcing his colleagues to reconsider the evidence.', 'Sidney Lumet', 'Henry Fonda', 'Lee J. Cobb', 'Martin Balsam', 'John Fiedler', 689845)\n"
     ]
    }
   ],
   "source": [
    "# Preview data\n",
    "cursor.execute(\"SELECT * FROM movies LIMIT 5\")\n",
    "rows = cursor.fetchall()\n",
    "for row in rows:\n",
    "    print(row)"
   ]
  },
  {
   "cell_type": "code",
   "execution_count": 83,
   "metadata": {},
   "outputs": [],
   "source": [
    "# Close connection\n",
    "cursor.close()\n",
    "conn.close()"
   ]
  }
 ],
 "metadata": {
  "kernelspec": {
   "display_name": "dataenv",
   "language": "python",
   "name": "python3"
  },
  "language_info": {
   "codemirror_mode": {
    "name": "ipython",
    "version": 3
   },
   "file_extension": ".py",
   "mimetype": "text/x-python",
   "name": "python",
   "nbconvert_exporter": "python",
   "pygments_lexer": "ipython3",
   "version": "3.13.0"
  }
 },
 "nbformat": 4,
 "nbformat_minor": 4
}
