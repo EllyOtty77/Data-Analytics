{
 "cells": [
  {
   "cell_type": "markdown",
   "id": "ef2c6a18-73b4-438d-b4b5-5a332944d517",
   "metadata": {
    "jp-MarkdownHeadingCollapsed": true
   },
   "source": [
    "# Missing Data"
   ]
  },
  {
   "cell_type": "markdown",
   "id": "82c27f33-8d19-46c0-9f79-7968d946690a",
   "metadata": {},
   "source": [
    "When cleaning up data for\r\n",
    "analysis, it is often important to do analysis on the missing data itself to identify data\r\n",
    "collection problems or potential biases in the data caused by missing data."
   ]
  },
  {
   "cell_type": "markdown",
   "id": "cf37cc0f-8100-4b28-8b34-c6da009b02ae",
   "metadata": {},
   "source": [
    "Some functions related to missing data handling:\n",
    "- dropna Filter axis labels based on whether values for each label have missing data, with varying thresholds for how\n",
    "much missing data to tolerate.\n",
    "- fillna Fill in missing data with some value or using an interpolation method such as 'ffill' or 'bfill'.\n",
    "- isnull Return boolean values indicating which values are missing/NA.\n",
    "- notnull Negation of isnull"
   ]
  },
  {
   "cell_type": "markdown",
   "id": "0ee2d127-2f1e-49e7-98a3-075d5525a8c6",
   "metadata": {
    "jp-MarkdownHeadingCollapsed": true
   },
   "source": [
    "## Filtering Out Missing Data\n"
   ]
  },
  {
   "cell_type": "markdown",
   "id": "24dd95b0-8cd9-40f4-a040-dcd29681f745",
   "metadata": {},
   "source": [
    "There are a few ways to filter out missing data. While you always have the option to\r\n",
    "do it by hand using pandas.isnull and boolean indexing, the dropna can be helpful.\r\n",
    "On a Series, it returns the Series with only the non-null data and index values:"
   ]
  },
  {
   "cell_type": "code",
   "execution_count": 1,
   "id": "97dbab52-8dbe-4d52-bab1-bf74bade1b94",
   "metadata": {},
   "outputs": [],
   "source": [
    "import pandas as pd\n",
    "import numpy as np\n",
    "from numpy import nan as NA"
   ]
  },
  {
   "cell_type": "code",
   "execution_count": 2,
   "id": "b4f3e710-2098-4858-8dda-904a976b45f7",
   "metadata": {},
   "outputs": [],
   "source": [
    "data = pd.Series([1, NA, 3.5, NA, 7])"
   ]
  },
  {
   "cell_type": "code",
   "execution_count": 3,
   "id": "824f9593-ef7d-4c80-ac99-8becfb5fadc5",
   "metadata": {},
   "outputs": [
    {
     "data": {
      "text/plain": [
       "0    1.0\n",
       "2    3.5\n",
       "4    7.0\n",
       "dtype: float64"
      ]
     },
     "execution_count": 3,
     "metadata": {},
     "output_type": "execute_result"
    }
   ],
   "source": [
    "data.dropna()"
   ]
  },
  {
   "cell_type": "markdown",
   "id": "c9123556-f088-4c64-b7e8-e9781ed0d210",
   "metadata": {},
   "source": [
    "This is equivalent to:\n"
   ]
  },
  {
   "cell_type": "code",
   "execution_count": 4,
   "id": "1c9037df-6aa1-4322-8161-4224d69610c1",
   "metadata": {},
   "outputs": [
    {
     "data": {
      "text/plain": [
       "0    1.0\n",
       "2    3.5\n",
       "4    7.0\n",
       "dtype: float64"
      ]
     },
     "execution_count": 4,
     "metadata": {},
     "output_type": "execute_result"
    }
   ],
   "source": [
    " data[data.notnull()]"
   ]
  },
  {
   "cell_type": "markdown",
   "id": "66e1ac24-914f-44e7-8353-45ea3c56185f",
   "metadata": {},
   "source": [
    "dropna by default drops any row containing a missing value"
   ]
  },
  {
   "cell_type": "code",
   "execution_count": 5,
   "id": "a3c363d2-e5c7-43f4-ad1c-69d05ef95025",
   "metadata": {},
   "outputs": [],
   "source": [
    "data = pd.DataFrame([[1., 6.5, 3.], [1., NA, NA],\n",
    "                     [NA, NA, NA], [NA, 6.5, 3.]])\n",
    "cleaned = data.dropna()"
   ]
  },
  {
   "cell_type": "code",
   "execution_count": 6,
   "id": "33d42487-020e-4936-8d0f-573abe928e89",
   "metadata": {},
   "outputs": [
    {
     "data": {
      "text/html": [
       "<div>\n",
       "<style scoped>\n",
       "    .dataframe tbody tr th:only-of-type {\n",
       "        vertical-align: middle;\n",
       "    }\n",
       "\n",
       "    .dataframe tbody tr th {\n",
       "        vertical-align: top;\n",
       "    }\n",
       "\n",
       "    .dataframe thead th {\n",
       "        text-align: right;\n",
       "    }\n",
       "</style>\n",
       "<table border=\"1\" class=\"dataframe\">\n",
       "  <thead>\n",
       "    <tr style=\"text-align: right;\">\n",
       "      <th></th>\n",
       "      <th>0</th>\n",
       "      <th>1</th>\n",
       "      <th>2</th>\n",
       "    </tr>\n",
       "  </thead>\n",
       "  <tbody>\n",
       "    <tr>\n",
       "      <th>0</th>\n",
       "      <td>1.0</td>\n",
       "      <td>6.5</td>\n",
       "      <td>3.0</td>\n",
       "    </tr>\n",
       "    <tr>\n",
       "      <th>1</th>\n",
       "      <td>1.0</td>\n",
       "      <td>NaN</td>\n",
       "      <td>NaN</td>\n",
       "    </tr>\n",
       "    <tr>\n",
       "      <th>2</th>\n",
       "      <td>NaN</td>\n",
       "      <td>NaN</td>\n",
       "      <td>NaN</td>\n",
       "    </tr>\n",
       "    <tr>\n",
       "      <th>3</th>\n",
       "      <td>NaN</td>\n",
       "      <td>6.5</td>\n",
       "      <td>3.0</td>\n",
       "    </tr>\n",
       "  </tbody>\n",
       "</table>\n",
       "</div>"
      ],
      "text/plain": [
       "     0    1    2\n",
       "0  1.0  6.5  3.0\n",
       "1  1.0  NaN  NaN\n",
       "2  NaN  NaN  NaN\n",
       "3  NaN  6.5  3.0"
      ]
     },
     "execution_count": 6,
     "metadata": {},
     "output_type": "execute_result"
    }
   ],
   "source": [
    "data"
   ]
  },
  {
   "cell_type": "code",
   "execution_count": 7,
   "id": "8e4678ba-73ca-4142-8a23-405f921d8d63",
   "metadata": {},
   "outputs": [
    {
     "data": {
      "text/html": [
       "<div>\n",
       "<style scoped>\n",
       "    .dataframe tbody tr th:only-of-type {\n",
       "        vertical-align: middle;\n",
       "    }\n",
       "\n",
       "    .dataframe tbody tr th {\n",
       "        vertical-align: top;\n",
       "    }\n",
       "\n",
       "    .dataframe thead th {\n",
       "        text-align: right;\n",
       "    }\n",
       "</style>\n",
       "<table border=\"1\" class=\"dataframe\">\n",
       "  <thead>\n",
       "    <tr style=\"text-align: right;\">\n",
       "      <th></th>\n",
       "      <th>0</th>\n",
       "      <th>1</th>\n",
       "      <th>2</th>\n",
       "    </tr>\n",
       "  </thead>\n",
       "  <tbody>\n",
       "    <tr>\n",
       "      <th>0</th>\n",
       "      <td>1.0</td>\n",
       "      <td>6.5</td>\n",
       "      <td>3.0</td>\n",
       "    </tr>\n",
       "  </tbody>\n",
       "</table>\n",
       "</div>"
      ],
      "text/plain": [
       "     0    1    2\n",
       "0  1.0  6.5  3.0"
      ]
     },
     "execution_count": 7,
     "metadata": {},
     "output_type": "execute_result"
    }
   ],
   "source": [
    "cleaned"
   ]
  },
  {
   "cell_type": "markdown",
   "id": "dcb2043e-53bc-40d2-95d4-6999dec1d649",
   "metadata": {},
   "source": [
    "Passing how='all' will only drop rows that are all NA:"
   ]
  },
  {
   "cell_type": "code",
   "execution_count": 8,
   "id": "904f7f40-0569-4842-ba52-3a4e021ec0ad",
   "metadata": {},
   "outputs": [
    {
     "data": {
      "text/html": [
       "<div>\n",
       "<style scoped>\n",
       "    .dataframe tbody tr th:only-of-type {\n",
       "        vertical-align: middle;\n",
       "    }\n",
       "\n",
       "    .dataframe tbody tr th {\n",
       "        vertical-align: top;\n",
       "    }\n",
       "\n",
       "    .dataframe thead th {\n",
       "        text-align: right;\n",
       "    }\n",
       "</style>\n",
       "<table border=\"1\" class=\"dataframe\">\n",
       "  <thead>\n",
       "    <tr style=\"text-align: right;\">\n",
       "      <th></th>\n",
       "      <th>0</th>\n",
       "      <th>1</th>\n",
       "      <th>2</th>\n",
       "    </tr>\n",
       "  </thead>\n",
       "  <tbody>\n",
       "    <tr>\n",
       "      <th>0</th>\n",
       "      <td>1.0</td>\n",
       "      <td>6.5</td>\n",
       "      <td>3.0</td>\n",
       "    </tr>\n",
       "    <tr>\n",
       "      <th>1</th>\n",
       "      <td>1.0</td>\n",
       "      <td>NaN</td>\n",
       "      <td>NaN</td>\n",
       "    </tr>\n",
       "    <tr>\n",
       "      <th>3</th>\n",
       "      <td>NaN</td>\n",
       "      <td>6.5</td>\n",
       "      <td>3.0</td>\n",
       "    </tr>\n",
       "  </tbody>\n",
       "</table>\n",
       "</div>"
      ],
      "text/plain": [
       "     0    1    2\n",
       "0  1.0  6.5  3.0\n",
       "1  1.0  NaN  NaN\n",
       "3  NaN  6.5  3.0"
      ]
     },
     "execution_count": 8,
     "metadata": {},
     "output_type": "execute_result"
    }
   ],
   "source": [
    "data.dropna(how='all')"
   ]
  },
  {
   "cell_type": "markdown",
   "id": "64be7bb5-b45e-4b2d-9c94-83e7b3f854a0",
   "metadata": {},
   "source": [
    "To drop columns in the same way, pass axis=1:"
   ]
  },
  {
   "cell_type": "code",
   "execution_count": 9,
   "id": "4d0dc156-f758-4a18-ae6b-7bad1617e9d4",
   "metadata": {},
   "outputs": [
    {
     "data": {
      "text/html": [
       "<div>\n",
       "<style scoped>\n",
       "    .dataframe tbody tr th:only-of-type {\n",
       "        vertical-align: middle;\n",
       "    }\n",
       "\n",
       "    .dataframe tbody tr th {\n",
       "        vertical-align: top;\n",
       "    }\n",
       "\n",
       "    .dataframe thead th {\n",
       "        text-align: right;\n",
       "    }\n",
       "</style>\n",
       "<table border=\"1\" class=\"dataframe\">\n",
       "  <thead>\n",
       "    <tr style=\"text-align: right;\">\n",
       "      <th></th>\n",
       "      <th>0</th>\n",
       "      <th>1</th>\n",
       "      <th>2</th>\n",
       "      <th>4</th>\n",
       "    </tr>\n",
       "  </thead>\n",
       "  <tbody>\n",
       "    <tr>\n",
       "      <th>0</th>\n",
       "      <td>1.0</td>\n",
       "      <td>6.5</td>\n",
       "      <td>3.0</td>\n",
       "      <td>NaN</td>\n",
       "    </tr>\n",
       "    <tr>\n",
       "      <th>1</th>\n",
       "      <td>1.0</td>\n",
       "      <td>NaN</td>\n",
       "      <td>NaN</td>\n",
       "      <td>NaN</td>\n",
       "    </tr>\n",
       "    <tr>\n",
       "      <th>2</th>\n",
       "      <td>NaN</td>\n",
       "      <td>NaN</td>\n",
       "      <td>NaN</td>\n",
       "      <td>NaN</td>\n",
       "    </tr>\n",
       "    <tr>\n",
       "      <th>3</th>\n",
       "      <td>NaN</td>\n",
       "      <td>6.5</td>\n",
       "      <td>3.0</td>\n",
       "      <td>NaN</td>\n",
       "    </tr>\n",
       "  </tbody>\n",
       "</table>\n",
       "</div>"
      ],
      "text/plain": [
       "     0    1    2   4\n",
       "0  1.0  6.5  3.0 NaN\n",
       "1  1.0  NaN  NaN NaN\n",
       "2  NaN  NaN  NaN NaN\n",
       "3  NaN  6.5  3.0 NaN"
      ]
     },
     "execution_count": 9,
     "metadata": {},
     "output_type": "execute_result"
    }
   ],
   "source": [
    "data[4] = NA\n",
    "data"
   ]
  },
  {
   "cell_type": "code",
   "execution_count": 10,
   "id": "b7627526-d489-43a7-a79a-8c47096b6bdb",
   "metadata": {},
   "outputs": [
    {
     "data": {
      "text/html": [
       "<div>\n",
       "<style scoped>\n",
       "    .dataframe tbody tr th:only-of-type {\n",
       "        vertical-align: middle;\n",
       "    }\n",
       "\n",
       "    .dataframe tbody tr th {\n",
       "        vertical-align: top;\n",
       "    }\n",
       "\n",
       "    .dataframe thead th {\n",
       "        text-align: right;\n",
       "    }\n",
       "</style>\n",
       "<table border=\"1\" class=\"dataframe\">\n",
       "  <thead>\n",
       "    <tr style=\"text-align: right;\">\n",
       "      <th></th>\n",
       "      <th>0</th>\n",
       "      <th>1</th>\n",
       "      <th>2</th>\n",
       "    </tr>\n",
       "  </thead>\n",
       "  <tbody>\n",
       "    <tr>\n",
       "      <th>0</th>\n",
       "      <td>1.0</td>\n",
       "      <td>6.5</td>\n",
       "      <td>3.0</td>\n",
       "    </tr>\n",
       "    <tr>\n",
       "      <th>1</th>\n",
       "      <td>1.0</td>\n",
       "      <td>NaN</td>\n",
       "      <td>NaN</td>\n",
       "    </tr>\n",
       "    <tr>\n",
       "      <th>2</th>\n",
       "      <td>NaN</td>\n",
       "      <td>NaN</td>\n",
       "      <td>NaN</td>\n",
       "    </tr>\n",
       "    <tr>\n",
       "      <th>3</th>\n",
       "      <td>NaN</td>\n",
       "      <td>6.5</td>\n",
       "      <td>3.0</td>\n",
       "    </tr>\n",
       "  </tbody>\n",
       "</table>\n",
       "</div>"
      ],
      "text/plain": [
       "     0    1    2\n",
       "0  1.0  6.5  3.0\n",
       "1  1.0  NaN  NaN\n",
       "2  NaN  NaN  NaN\n",
       "3  NaN  6.5  3.0"
      ]
     },
     "execution_count": 10,
     "metadata": {},
     "output_type": "execute_result"
    }
   ],
   "source": [
    "data.dropna(axis=1, how='all')"
   ]
  },
  {
   "cell_type": "markdown",
   "id": "a7132162-06f2-49a0-ba66-b1728d97f11f",
   "metadata": {},
   "source": [
    "Suppose\n",
    "you want to keep only rows containing a certain number of observations. You can\n",
    "indicate this with the thresh argument:"
   ]
  },
  {
   "cell_type": "code",
   "execution_count": 24,
   "id": "ad7f83db-63ee-42ee-86f2-6c88d163a514",
   "metadata": {},
   "outputs": [
    {
     "data": {
      "text/html": [
       "<div>\n",
       "<style scoped>\n",
       "    .dataframe tbody tr th:only-of-type {\n",
       "        vertical-align: middle;\n",
       "    }\n",
       "\n",
       "    .dataframe tbody tr th {\n",
       "        vertical-align: top;\n",
       "    }\n",
       "\n",
       "    .dataframe thead th {\n",
       "        text-align: right;\n",
       "    }\n",
       "</style>\n",
       "<table border=\"1\" class=\"dataframe\">\n",
       "  <thead>\n",
       "    <tr style=\"text-align: right;\">\n",
       "      <th></th>\n",
       "      <th>0</th>\n",
       "      <th>1</th>\n",
       "      <th>2</th>\n",
       "    </tr>\n",
       "  </thead>\n",
       "  <tbody>\n",
       "    <tr>\n",
       "      <th>0</th>\n",
       "      <td>1.671786</td>\n",
       "      <td>NaN</td>\n",
       "      <td>NaN</td>\n",
       "    </tr>\n",
       "    <tr>\n",
       "      <th>1</th>\n",
       "      <td>-0.654440</td>\n",
       "      <td>NaN</td>\n",
       "      <td>NaN</td>\n",
       "    </tr>\n",
       "    <tr>\n",
       "      <th>2</th>\n",
       "      <td>1.015331</td>\n",
       "      <td>NaN</td>\n",
       "      <td>-1.211759</td>\n",
       "    </tr>\n",
       "    <tr>\n",
       "      <th>3</th>\n",
       "      <td>-0.062220</td>\n",
       "      <td>NaN</td>\n",
       "      <td>-0.613826</td>\n",
       "    </tr>\n",
       "    <tr>\n",
       "      <th>4</th>\n",
       "      <td>1.242877</td>\n",
       "      <td>1.208110</td>\n",
       "      <td>-0.236407</td>\n",
       "    </tr>\n",
       "    <tr>\n",
       "      <th>5</th>\n",
       "      <td>-2.276661</td>\n",
       "      <td>-1.435561</td>\n",
       "      <td>-1.731508</td>\n",
       "    </tr>\n",
       "    <tr>\n",
       "      <th>6</th>\n",
       "      <td>0.211602</td>\n",
       "      <td>0.653685</td>\n",
       "      <td>1.235571</td>\n",
       "    </tr>\n",
       "  </tbody>\n",
       "</table>\n",
       "</div>"
      ],
      "text/plain": [
       "          0         1         2\n",
       "0  1.671786       NaN       NaN\n",
       "1 -0.654440       NaN       NaN\n",
       "2  1.015331       NaN -1.211759\n",
       "3 -0.062220       NaN -0.613826\n",
       "4  1.242877  1.208110 -0.236407\n",
       "5 -2.276661 -1.435561 -1.731508\n",
       "6  0.211602  0.653685  1.235571"
      ]
     },
     "execution_count": 24,
     "metadata": {},
     "output_type": "execute_result"
    }
   ],
   "source": [
    "df = pd.DataFrame(np.random.randn(7, 3))\n",
    "df.iloc[:4, 1] = NA\n",
    "df.iloc[:2, 2] = NA\n",
    "df"
   ]
  },
  {
   "cell_type": "code",
   "execution_count": 13,
   "id": "c9aef2ec-f511-44e3-a9c6-ac6bab805e47",
   "metadata": {},
   "outputs": [
    {
     "data": {
      "text/html": [
       "<div>\n",
       "<style scoped>\n",
       "    .dataframe tbody tr th:only-of-type {\n",
       "        vertical-align: middle;\n",
       "    }\n",
       "\n",
       "    .dataframe tbody tr th {\n",
       "        vertical-align: top;\n",
       "    }\n",
       "\n",
       "    .dataframe thead th {\n",
       "        text-align: right;\n",
       "    }\n",
       "</style>\n",
       "<table border=\"1\" class=\"dataframe\">\n",
       "  <thead>\n",
       "    <tr style=\"text-align: right;\">\n",
       "      <th></th>\n",
       "      <th>0</th>\n",
       "      <th>1</th>\n",
       "      <th>2</th>\n",
       "    </tr>\n",
       "  </thead>\n",
       "  <tbody>\n",
       "    <tr>\n",
       "      <th>4</th>\n",
       "      <td>-0.304337</td>\n",
       "      <td>0.696975</td>\n",
       "      <td>-2.393546</td>\n",
       "    </tr>\n",
       "    <tr>\n",
       "      <th>5</th>\n",
       "      <td>2.607568</td>\n",
       "      <td>0.088956</td>\n",
       "      <td>-0.151383</td>\n",
       "    </tr>\n",
       "    <tr>\n",
       "      <th>6</th>\n",
       "      <td>-0.138353</td>\n",
       "      <td>-0.812758</td>\n",
       "      <td>0.883960</td>\n",
       "    </tr>\n",
       "  </tbody>\n",
       "</table>\n",
       "</div>"
      ],
      "text/plain": [
       "          0         1         2\n",
       "4 -0.304337  0.696975 -2.393546\n",
       "5  2.607568  0.088956 -0.151383\n",
       "6 -0.138353 -0.812758  0.883960"
      ]
     },
     "execution_count": 13,
     "metadata": {},
     "output_type": "execute_result"
    }
   ],
   "source": [
    "df.dropna()"
   ]
  },
  {
   "cell_type": "code",
   "execution_count": 16,
   "id": "0df6e5fe-49ac-476b-b35f-c6eec7ca5053",
   "metadata": {},
   "outputs": [
    {
     "data": {
      "text/html": [
       "<div>\n",
       "<style scoped>\n",
       "    .dataframe tbody tr th:only-of-type {\n",
       "        vertical-align: middle;\n",
       "    }\n",
       "\n",
       "    .dataframe tbody tr th {\n",
       "        vertical-align: top;\n",
       "    }\n",
       "\n",
       "    .dataframe thead th {\n",
       "        text-align: right;\n",
       "    }\n",
       "</style>\n",
       "<table border=\"1\" class=\"dataframe\">\n",
       "  <thead>\n",
       "    <tr style=\"text-align: right;\">\n",
       "      <th></th>\n",
       "      <th>0</th>\n",
       "      <th>1</th>\n",
       "      <th>2</th>\n",
       "    </tr>\n",
       "  </thead>\n",
       "  <tbody>\n",
       "    <tr>\n",
       "      <th>2</th>\n",
       "      <td>0.145700</td>\n",
       "      <td>NaN</td>\n",
       "      <td>-1.253357</td>\n",
       "    </tr>\n",
       "    <tr>\n",
       "      <th>3</th>\n",
       "      <td>-1.442061</td>\n",
       "      <td>NaN</td>\n",
       "      <td>-1.039466</td>\n",
       "    </tr>\n",
       "    <tr>\n",
       "      <th>4</th>\n",
       "      <td>-0.304337</td>\n",
       "      <td>0.696975</td>\n",
       "      <td>-2.393546</td>\n",
       "    </tr>\n",
       "    <tr>\n",
       "      <th>5</th>\n",
       "      <td>2.607568</td>\n",
       "      <td>0.088956</td>\n",
       "      <td>-0.151383</td>\n",
       "    </tr>\n",
       "    <tr>\n",
       "      <th>6</th>\n",
       "      <td>-0.138353</td>\n",
       "      <td>-0.812758</td>\n",
       "      <td>0.883960</td>\n",
       "    </tr>\n",
       "  </tbody>\n",
       "</table>\n",
       "</div>"
      ],
      "text/plain": [
       "          0         1         2\n",
       "2  0.145700       NaN -1.253357\n",
       "3 -1.442061       NaN -1.039466\n",
       "4 -0.304337  0.696975 -2.393546\n",
       "5  2.607568  0.088956 -0.151383\n",
       "6 -0.138353 -0.812758  0.883960"
      ]
     },
     "execution_count": 16,
     "metadata": {},
     "output_type": "execute_result"
    }
   ],
   "source": [
    "df.dropna(thresh=2)"
   ]
  },
  {
   "cell_type": "markdown",
   "id": "8fcd4b09-7b70-474c-a521-5856a58a105d",
   "metadata": {},
   "source": [
    "## Filling In Missing Data"
   ]
  },
  {
   "cell_type": "markdown",
   "id": "665a40ca-3298-4070-bc2f-fdffc874d84b",
   "metadata": {},
   "source": [
    "Rather than filtering out missing data (and potentially discarding other data along \n",
    "with it), you may want to fill in the “holes” in any number of ways.T the fillna method is the workhorse function to use. Calling fillna with a\r\n",
    "constant replaces missing values with that value:"
   ]
  },
  {
   "cell_type": "code",
   "execution_count": 17,
   "id": "0e9d2bba-e95c-4b20-aa15-1489d6560cb9",
   "metadata": {},
   "outputs": [
    {
     "data": {
      "text/html": [
       "<div>\n",
       "<style scoped>\n",
       "    .dataframe tbody tr th:only-of-type {\n",
       "        vertical-align: middle;\n",
       "    }\n",
       "\n",
       "    .dataframe tbody tr th {\n",
       "        vertical-align: top;\n",
       "    }\n",
       "\n",
       "    .dataframe thead th {\n",
       "        text-align: right;\n",
       "    }\n",
       "</style>\n",
       "<table border=\"1\" class=\"dataframe\">\n",
       "  <thead>\n",
       "    <tr style=\"text-align: right;\">\n",
       "      <th></th>\n",
       "      <th>0</th>\n",
       "      <th>1</th>\n",
       "      <th>2</th>\n",
       "    </tr>\n",
       "  </thead>\n",
       "  <tbody>\n",
       "    <tr>\n",
       "      <th>0</th>\n",
       "      <td>0.760978</td>\n",
       "      <td>0.000000</td>\n",
       "      <td>0.000000</td>\n",
       "    </tr>\n",
       "    <tr>\n",
       "      <th>1</th>\n",
       "      <td>0.859045</td>\n",
       "      <td>0.000000</td>\n",
       "      <td>0.000000</td>\n",
       "    </tr>\n",
       "    <tr>\n",
       "      <th>2</th>\n",
       "      <td>0.145700</td>\n",
       "      <td>0.000000</td>\n",
       "      <td>-1.253357</td>\n",
       "    </tr>\n",
       "    <tr>\n",
       "      <th>3</th>\n",
       "      <td>-1.442061</td>\n",
       "      <td>0.000000</td>\n",
       "      <td>-1.039466</td>\n",
       "    </tr>\n",
       "    <tr>\n",
       "      <th>4</th>\n",
       "      <td>-0.304337</td>\n",
       "      <td>0.696975</td>\n",
       "      <td>-2.393546</td>\n",
       "    </tr>\n",
       "    <tr>\n",
       "      <th>5</th>\n",
       "      <td>2.607568</td>\n",
       "      <td>0.088956</td>\n",
       "      <td>-0.151383</td>\n",
       "    </tr>\n",
       "    <tr>\n",
       "      <th>6</th>\n",
       "      <td>-0.138353</td>\n",
       "      <td>-0.812758</td>\n",
       "      <td>0.883960</td>\n",
       "    </tr>\n",
       "  </tbody>\n",
       "</table>\n",
       "</div>"
      ],
      "text/plain": [
       "          0         1         2\n",
       "0  0.760978  0.000000  0.000000\n",
       "1  0.859045  0.000000  0.000000\n",
       "2  0.145700  0.000000 -1.253357\n",
       "3 -1.442061  0.000000 -1.039466\n",
       "4 -0.304337  0.696975 -2.393546\n",
       "5  2.607568  0.088956 -0.151383\n",
       "6 -0.138353 -0.812758  0.883960"
      ]
     },
     "execution_count": 17,
     "metadata": {},
     "output_type": "execute_result"
    }
   ],
   "source": [
    "df.fillna(0)"
   ]
  },
  {
   "cell_type": "markdown",
   "id": "5b4a3dc0-635a-4049-9db2-4096977c308b",
   "metadata": {},
   "source": [
    "Calling fillna with a dict, you can use a different fill value for each column:\r"
   ]
  },
  {
   "cell_type": "code",
   "execution_count": 18,
   "id": "69caeacd-c5e5-4ae3-a4c5-6cb1ffa2f90c",
   "metadata": {},
   "outputs": [
    {
     "data": {
      "text/html": [
       "<div>\n",
       "<style scoped>\n",
       "    .dataframe tbody tr th:only-of-type {\n",
       "        vertical-align: middle;\n",
       "    }\n",
       "\n",
       "    .dataframe tbody tr th {\n",
       "        vertical-align: top;\n",
       "    }\n",
       "\n",
       "    .dataframe thead th {\n",
       "        text-align: right;\n",
       "    }\n",
       "</style>\n",
       "<table border=\"1\" class=\"dataframe\">\n",
       "  <thead>\n",
       "    <tr style=\"text-align: right;\">\n",
       "      <th></th>\n",
       "      <th>0</th>\n",
       "      <th>1</th>\n",
       "      <th>2</th>\n",
       "    </tr>\n",
       "  </thead>\n",
       "  <tbody>\n",
       "    <tr>\n",
       "      <th>0</th>\n",
       "      <td>0.760978</td>\n",
       "      <td>0.500000</td>\n",
       "      <td>0.000000</td>\n",
       "    </tr>\n",
       "    <tr>\n",
       "      <th>1</th>\n",
       "      <td>0.859045</td>\n",
       "      <td>0.500000</td>\n",
       "      <td>0.000000</td>\n",
       "    </tr>\n",
       "    <tr>\n",
       "      <th>2</th>\n",
       "      <td>0.145700</td>\n",
       "      <td>0.500000</td>\n",
       "      <td>-1.253357</td>\n",
       "    </tr>\n",
       "    <tr>\n",
       "      <th>3</th>\n",
       "      <td>-1.442061</td>\n",
       "      <td>0.500000</td>\n",
       "      <td>-1.039466</td>\n",
       "    </tr>\n",
       "    <tr>\n",
       "      <th>4</th>\n",
       "      <td>-0.304337</td>\n",
       "      <td>0.696975</td>\n",
       "      <td>-2.393546</td>\n",
       "    </tr>\n",
       "    <tr>\n",
       "      <th>5</th>\n",
       "      <td>2.607568</td>\n",
       "      <td>0.088956</td>\n",
       "      <td>-0.151383</td>\n",
       "    </tr>\n",
       "    <tr>\n",
       "      <th>6</th>\n",
       "      <td>-0.138353</td>\n",
       "      <td>-0.812758</td>\n",
       "      <td>0.883960</td>\n",
       "    </tr>\n",
       "  </tbody>\n",
       "</table>\n",
       "</div>"
      ],
      "text/plain": [
       "          0         1         2\n",
       "0  0.760978  0.500000  0.000000\n",
       "1  0.859045  0.500000  0.000000\n",
       "2  0.145700  0.500000 -1.253357\n",
       "3 -1.442061  0.500000 -1.039466\n",
       "4 -0.304337  0.696975 -2.393546\n",
       "5  2.607568  0.088956 -0.151383\n",
       "6 -0.138353 -0.812758  0.883960"
      ]
     },
     "execution_count": 18,
     "metadata": {},
     "output_type": "execute_result"
    }
   ],
   "source": [
    "df.fillna({1: 0.5, 2: 0})"
   ]
  },
  {
   "cell_type": "markdown",
   "id": "65b01123-697e-4347-85ee-f4381cf4ecc4",
   "metadata": {},
   "source": [
    "fillna returns a new object, but you can modify the existing object in-place:\r"
   ]
  },
  {
   "cell_type": "code",
   "execution_count": 26,
   "id": "e08ce7ea-9ca1-4522-845c-b208ffe17bd0",
   "metadata": {},
   "outputs": [
    {
     "data": {
      "text/html": [
       "<div>\n",
       "<style scoped>\n",
       "    .dataframe tbody tr th:only-of-type {\n",
       "        vertical-align: middle;\n",
       "    }\n",
       "\n",
       "    .dataframe tbody tr th {\n",
       "        vertical-align: top;\n",
       "    }\n",
       "\n",
       "    .dataframe thead th {\n",
       "        text-align: right;\n",
       "    }\n",
       "</style>\n",
       "<table border=\"1\" class=\"dataframe\">\n",
       "  <thead>\n",
       "    <tr style=\"text-align: right;\">\n",
       "      <th></th>\n",
       "      <th>0</th>\n",
       "      <th>1</th>\n",
       "      <th>2</th>\n",
       "    </tr>\n",
       "  </thead>\n",
       "  <tbody>\n",
       "    <tr>\n",
       "      <th>0</th>\n",
       "      <td>1.671786</td>\n",
       "      <td>0.000000</td>\n",
       "      <td>0.000000</td>\n",
       "    </tr>\n",
       "    <tr>\n",
       "      <th>1</th>\n",
       "      <td>-0.654440</td>\n",
       "      <td>0.000000</td>\n",
       "      <td>0.000000</td>\n",
       "    </tr>\n",
       "    <tr>\n",
       "      <th>2</th>\n",
       "      <td>1.015331</td>\n",
       "      <td>0.000000</td>\n",
       "      <td>-1.211759</td>\n",
       "    </tr>\n",
       "    <tr>\n",
       "      <th>3</th>\n",
       "      <td>-0.062220</td>\n",
       "      <td>0.000000</td>\n",
       "      <td>-0.613826</td>\n",
       "    </tr>\n",
       "    <tr>\n",
       "      <th>4</th>\n",
       "      <td>1.242877</td>\n",
       "      <td>1.208110</td>\n",
       "      <td>-0.236407</td>\n",
       "    </tr>\n",
       "    <tr>\n",
       "      <th>5</th>\n",
       "      <td>-2.276661</td>\n",
       "      <td>-1.435561</td>\n",
       "      <td>-1.731508</td>\n",
       "    </tr>\n",
       "    <tr>\n",
       "      <th>6</th>\n",
       "      <td>0.211602</td>\n",
       "      <td>0.653685</td>\n",
       "      <td>1.235571</td>\n",
       "    </tr>\n",
       "  </tbody>\n",
       "</table>\n",
       "</div>"
      ],
      "text/plain": [
       "          0         1         2\n",
       "0  1.671786  0.000000  0.000000\n",
       "1 -0.654440  0.000000  0.000000\n",
       "2  1.015331  0.000000 -1.211759\n",
       "3 -0.062220  0.000000 -0.613826\n",
       "4  1.242877  1.208110 -0.236407\n",
       "5 -2.276661 -1.435561 -1.731508\n",
       "6  0.211602  0.653685  1.235571"
      ]
     },
     "execution_count": 26,
     "metadata": {},
     "output_type": "execute_result"
    }
   ],
   "source": [
    "df.fillna(0, inplace=True)\n",
    "df"
   ]
  },
  {
   "cell_type": "markdown",
   "id": "33af3f33-41ea-4204-9a9b-f3597da0123c",
   "metadata": {},
   "source": [
    "The same interpolation methods available for reindexing can be used with fillna:\n"
   ]
  },
  {
   "cell_type": "code",
   "execution_count": 27,
   "id": "d29e815c-33f6-45d0-a758-a3f65d891fb2",
   "metadata": {},
   "outputs": [],
   "source": [
    "df = pd.DataFrame(np.random.randn(6, 3))"
   ]
  },
  {
   "cell_type": "code",
   "execution_count": 28,
   "id": "5aedd7b4-30ab-40ff-9a57-7c9f0e25142b",
   "metadata": {},
   "outputs": [
    {
     "data": {
      "text/html": [
       "<div>\n",
       "<style scoped>\n",
       "    .dataframe tbody tr th:only-of-type {\n",
       "        vertical-align: middle;\n",
       "    }\n",
       "\n",
       "    .dataframe tbody tr th {\n",
       "        vertical-align: top;\n",
       "    }\n",
       "\n",
       "    .dataframe thead th {\n",
       "        text-align: right;\n",
       "    }\n",
       "</style>\n",
       "<table border=\"1\" class=\"dataframe\">\n",
       "  <thead>\n",
       "    <tr style=\"text-align: right;\">\n",
       "      <th></th>\n",
       "      <th>0</th>\n",
       "      <th>1</th>\n",
       "      <th>2</th>\n",
       "    </tr>\n",
       "  </thead>\n",
       "  <tbody>\n",
       "    <tr>\n",
       "      <th>0</th>\n",
       "      <td>-0.297646</td>\n",
       "      <td>0.645862</td>\n",
       "      <td>0.181841</td>\n",
       "    </tr>\n",
       "    <tr>\n",
       "      <th>1</th>\n",
       "      <td>0.580929</td>\n",
       "      <td>0.724424</td>\n",
       "      <td>1.056036</td>\n",
       "    </tr>\n",
       "    <tr>\n",
       "      <th>2</th>\n",
       "      <td>1.647219</td>\n",
       "      <td>NaN</td>\n",
       "      <td>0.456110</td>\n",
       "    </tr>\n",
       "    <tr>\n",
       "      <th>3</th>\n",
       "      <td>-0.921719</td>\n",
       "      <td>NaN</td>\n",
       "      <td>0.459025</td>\n",
       "    </tr>\n",
       "    <tr>\n",
       "      <th>4</th>\n",
       "      <td>1.084724</td>\n",
       "      <td>NaN</td>\n",
       "      <td>NaN</td>\n",
       "    </tr>\n",
       "    <tr>\n",
       "      <th>5</th>\n",
       "      <td>-1.559651</td>\n",
       "      <td>NaN</td>\n",
       "      <td>NaN</td>\n",
       "    </tr>\n",
       "  </tbody>\n",
       "</table>\n",
       "</div>"
      ],
      "text/plain": [
       "          0         1         2\n",
       "0 -0.297646  0.645862  0.181841\n",
       "1  0.580929  0.724424  1.056036\n",
       "2  1.647219       NaN  0.456110\n",
       "3 -0.921719       NaN  0.459025\n",
       "4  1.084724       NaN       NaN\n",
       "5 -1.559651       NaN       NaN"
      ]
     },
     "execution_count": 28,
     "metadata": {},
     "output_type": "execute_result"
    }
   ],
   "source": [
    "df.iloc[2:, 1] = NA\n",
    "df.iloc[4:, 2] = NA\n",
    "df"
   ]
  },
  {
   "cell_type": "code",
   "execution_count": 29,
   "id": "2a2ef035-03c1-425c-b073-8aebd561742a",
   "metadata": {},
   "outputs": [
    {
     "name": "stderr",
     "output_type": "stream",
     "text": [
      "C:\\Users\\Eliud\\AppData\\Local\\Temp\\ipykernel_12416\\1193302488.py:1: FutureWarning: DataFrame.fillna with 'method' is deprecated and will raise in a future version. Use obj.ffill() or obj.bfill() instead.\n",
      "  df.fillna(method='ffill')\n"
     ]
    },
    {
     "data": {
      "text/html": [
       "<div>\n",
       "<style scoped>\n",
       "    .dataframe tbody tr th:only-of-type {\n",
       "        vertical-align: middle;\n",
       "    }\n",
       "\n",
       "    .dataframe tbody tr th {\n",
       "        vertical-align: top;\n",
       "    }\n",
       "\n",
       "    .dataframe thead th {\n",
       "        text-align: right;\n",
       "    }\n",
       "</style>\n",
       "<table border=\"1\" class=\"dataframe\">\n",
       "  <thead>\n",
       "    <tr style=\"text-align: right;\">\n",
       "      <th></th>\n",
       "      <th>0</th>\n",
       "      <th>1</th>\n",
       "      <th>2</th>\n",
       "    </tr>\n",
       "  </thead>\n",
       "  <tbody>\n",
       "    <tr>\n",
       "      <th>0</th>\n",
       "      <td>-0.297646</td>\n",
       "      <td>0.645862</td>\n",
       "      <td>0.181841</td>\n",
       "    </tr>\n",
       "    <tr>\n",
       "      <th>1</th>\n",
       "      <td>0.580929</td>\n",
       "      <td>0.724424</td>\n",
       "      <td>1.056036</td>\n",
       "    </tr>\n",
       "    <tr>\n",
       "      <th>2</th>\n",
       "      <td>1.647219</td>\n",
       "      <td>0.724424</td>\n",
       "      <td>0.456110</td>\n",
       "    </tr>\n",
       "    <tr>\n",
       "      <th>3</th>\n",
       "      <td>-0.921719</td>\n",
       "      <td>0.724424</td>\n",
       "      <td>0.459025</td>\n",
       "    </tr>\n",
       "    <tr>\n",
       "      <th>4</th>\n",
       "      <td>1.084724</td>\n",
       "      <td>0.724424</td>\n",
       "      <td>0.459025</td>\n",
       "    </tr>\n",
       "    <tr>\n",
       "      <th>5</th>\n",
       "      <td>-1.559651</td>\n",
       "      <td>0.724424</td>\n",
       "      <td>0.459025</td>\n",
       "    </tr>\n",
       "  </tbody>\n",
       "</table>\n",
       "</div>"
      ],
      "text/plain": [
       "          0         1         2\n",
       "0 -0.297646  0.645862  0.181841\n",
       "1  0.580929  0.724424  1.056036\n",
       "2  1.647219  0.724424  0.456110\n",
       "3 -0.921719  0.724424  0.459025\n",
       "4  1.084724  0.724424  0.459025\n",
       "5 -1.559651  0.724424  0.459025"
      ]
     },
     "execution_count": 29,
     "metadata": {},
     "output_type": "execute_result"
    }
   ],
   "source": [
    "df.fillna(method='ffill')"
   ]
  },
  {
   "cell_type": "code",
   "execution_count": 32,
   "id": "03146a71-45ac-4b4d-a888-7397e6f98b77",
   "metadata": {},
   "outputs": [
    {
     "name": "stderr",
     "output_type": "stream",
     "text": [
      "C:\\Users\\Eliud\\AppData\\Local\\Temp\\ipykernel_12416\\2719175769.py:1: FutureWarning: DataFrame.fillna with 'method' is deprecated and will raise in a future version. Use obj.ffill() or obj.bfill() instead.\n",
      "  df.fillna(method='ffill', limit=2)\n"
     ]
    },
    {
     "data": {
      "text/html": [
       "<div>\n",
       "<style scoped>\n",
       "    .dataframe tbody tr th:only-of-type {\n",
       "        vertical-align: middle;\n",
       "    }\n",
       "\n",
       "    .dataframe tbody tr th {\n",
       "        vertical-align: top;\n",
       "    }\n",
       "\n",
       "    .dataframe thead th {\n",
       "        text-align: right;\n",
       "    }\n",
       "</style>\n",
       "<table border=\"1\" class=\"dataframe\">\n",
       "  <thead>\n",
       "    <tr style=\"text-align: right;\">\n",
       "      <th></th>\n",
       "      <th>0</th>\n",
       "      <th>1</th>\n",
       "      <th>2</th>\n",
       "    </tr>\n",
       "  </thead>\n",
       "  <tbody>\n",
       "    <tr>\n",
       "      <th>0</th>\n",
       "      <td>-0.297646</td>\n",
       "      <td>0.645862</td>\n",
       "      <td>0.181841</td>\n",
       "    </tr>\n",
       "    <tr>\n",
       "      <th>1</th>\n",
       "      <td>0.580929</td>\n",
       "      <td>0.724424</td>\n",
       "      <td>1.056036</td>\n",
       "    </tr>\n",
       "    <tr>\n",
       "      <th>2</th>\n",
       "      <td>1.647219</td>\n",
       "      <td>0.724424</td>\n",
       "      <td>0.456110</td>\n",
       "    </tr>\n",
       "    <tr>\n",
       "      <th>3</th>\n",
       "      <td>-0.921719</td>\n",
       "      <td>0.724424</td>\n",
       "      <td>0.459025</td>\n",
       "    </tr>\n",
       "    <tr>\n",
       "      <th>4</th>\n",
       "      <td>1.084724</td>\n",
       "      <td>NaN</td>\n",
       "      <td>0.459025</td>\n",
       "    </tr>\n",
       "    <tr>\n",
       "      <th>5</th>\n",
       "      <td>-1.559651</td>\n",
       "      <td>NaN</td>\n",
       "      <td>0.459025</td>\n",
       "    </tr>\n",
       "  </tbody>\n",
       "</table>\n",
       "</div>"
      ],
      "text/plain": [
       "          0         1         2\n",
       "0 -0.297646  0.645862  0.181841\n",
       "1  0.580929  0.724424  1.056036\n",
       "2  1.647219  0.724424  0.456110\n",
       "3 -0.921719  0.724424  0.459025\n",
       "4  1.084724       NaN  0.459025\n",
       "5 -1.559651       NaN  0.459025"
      ]
     },
     "execution_count": 32,
     "metadata": {},
     "output_type": "execute_result"
    }
   ],
   "source": [
    "df.fillna(method='ffill', limit=2)"
   ]
  },
  {
   "cell_type": "code",
   "execution_count": 33,
   "id": "a0afdba2-bf37-4775-9389-1b4c0a793cb4",
   "metadata": {},
   "outputs": [
    {
     "data": {
      "text/html": [
       "<div>\n",
       "<style scoped>\n",
       "    .dataframe tbody tr th:only-of-type {\n",
       "        vertical-align: middle;\n",
       "    }\n",
       "\n",
       "    .dataframe tbody tr th {\n",
       "        vertical-align: top;\n",
       "    }\n",
       "\n",
       "    .dataframe thead th {\n",
       "        text-align: right;\n",
       "    }\n",
       "</style>\n",
       "<table border=\"1\" class=\"dataframe\">\n",
       "  <thead>\n",
       "    <tr style=\"text-align: right;\">\n",
       "      <th></th>\n",
       "      <th>0</th>\n",
       "      <th>1</th>\n",
       "      <th>2</th>\n",
       "    </tr>\n",
       "  </thead>\n",
       "  <tbody>\n",
       "    <tr>\n",
       "      <th>0</th>\n",
       "      <td>-0.297646</td>\n",
       "      <td>0.645862</td>\n",
       "      <td>0.181841</td>\n",
       "    </tr>\n",
       "    <tr>\n",
       "      <th>1</th>\n",
       "      <td>0.580929</td>\n",
       "      <td>0.724424</td>\n",
       "      <td>1.056036</td>\n",
       "    </tr>\n",
       "    <tr>\n",
       "      <th>2</th>\n",
       "      <td>1.647219</td>\n",
       "      <td>0.724424</td>\n",
       "      <td>0.456110</td>\n",
       "    </tr>\n",
       "    <tr>\n",
       "      <th>3</th>\n",
       "      <td>-0.921719</td>\n",
       "      <td>0.724424</td>\n",
       "      <td>0.459025</td>\n",
       "    </tr>\n",
       "    <tr>\n",
       "      <th>4</th>\n",
       "      <td>1.084724</td>\n",
       "      <td>0.724424</td>\n",
       "      <td>0.459025</td>\n",
       "    </tr>\n",
       "    <tr>\n",
       "      <th>5</th>\n",
       "      <td>-1.559651</td>\n",
       "      <td>NaN</td>\n",
       "      <td>0.459025</td>\n",
       "    </tr>\n",
       "  </tbody>\n",
       "</table>\n",
       "</div>"
      ],
      "text/plain": [
       "          0         1         2\n",
       "0 -0.297646  0.645862  0.181841\n",
       "1  0.580929  0.724424  1.056036\n",
       "2  1.647219  0.724424  0.456110\n",
       "3 -0.921719  0.724424  0.459025\n",
       "4  1.084724  0.724424  0.459025\n",
       "5 -1.559651       NaN  0.459025"
      ]
     },
     "execution_count": 33,
     "metadata": {},
     "output_type": "execute_result"
    }
   ],
   "source": [
    "df.ffill(limit=3)"
   ]
  },
  {
   "cell_type": "markdown",
   "id": "a30a398f-bcef-4592-9bac-7175386c384b",
   "metadata": {},
   "source": [
    "With fillna you can do lots of other things with a little creativity. For example, you\r\n",
    "might pass the mean or median value of a Series:\r"
   ]
  },
  {
   "cell_type": "code",
   "execution_count": 30,
   "id": "51768c30-594f-411c-9782-caca53c554c2",
   "metadata": {},
   "outputs": [
    {
     "data": {
      "text/plain": [
       "0    1.0\n",
       "1    NaN\n",
       "2    3.5\n",
       "3    NaN\n",
       "4    7.0\n",
       "dtype: float64"
      ]
     },
     "execution_count": 30,
     "metadata": {},
     "output_type": "execute_result"
    }
   ],
   "source": [
    "data = pd.Series([1., NA, 3.5, NA, 7])\n",
    "data"
   ]
  },
  {
   "cell_type": "code",
   "execution_count": 31,
   "id": "cf8964f6-35b5-427b-a43e-91d00b963383",
   "metadata": {},
   "outputs": [
    {
     "data": {
      "text/plain": [
       "0    1.000000\n",
       "1    3.833333\n",
       "2    3.500000\n",
       "3    3.833333\n",
       "4    7.000000\n",
       "dtype: float64"
      ]
     },
     "execution_count": 31,
     "metadata": {},
     "output_type": "execute_result"
    }
   ],
   "source": [
    "data.fillna(data.mean())"
   ]
  },
  {
   "cell_type": "markdown",
   "id": "5910a186-7a76-4fea-875c-76938bdabf31",
   "metadata": {},
   "source": [
    "### fillna function arguments"
   ]
  },
  {
   "cell_type": "markdown",
   "id": "f607cb67-219a-4a99-919a-acd264819856",
   "metadata": {},
   "source": [
    "- _value_ Scalar value or dict-like object to use to fill missing values\n",
    "- _method_ Interpolation; by default 'ffill' if function called with no other arguments\n",
    "- _axis_ Axis to fill on; default axis=0\n",
    "- _inplace_ Modify the calling object without producing a copy\n",
    "- _limit_ For forward and backward filling, maximum number of consecutive periods to fill\n"
   ]
  },
  {
   "cell_type": "markdown",
   "id": "5a7addf8-e277-4d0a-b3c0-e4bd3ffd12f5",
   "metadata": {
    "jp-MarkdownHeadingCollapsed": true
   },
   "source": [
    "#  Data Transformation"
   ]
  },
  {
   "cell_type": "markdown",
   "id": "83fa8ad2-79e9-46dc-acf1-3ea05b244ce2",
   "metadata": {
    "jp-MarkdownHeadingCollapsed": true
   },
   "source": [
    "## Removing Duplicates"
   ]
  },
  {
   "cell_type": "code",
   "execution_count": 34,
   "id": "19ada2a2-071f-4ce7-b163-abd13be1449a",
   "metadata": {},
   "outputs": [
    {
     "data": {
      "text/html": [
       "<div>\n",
       "<style scoped>\n",
       "    .dataframe tbody tr th:only-of-type {\n",
       "        vertical-align: middle;\n",
       "    }\n",
       "\n",
       "    .dataframe tbody tr th {\n",
       "        vertical-align: top;\n",
       "    }\n",
       "\n",
       "    .dataframe thead th {\n",
       "        text-align: right;\n",
       "    }\n",
       "</style>\n",
       "<table border=\"1\" class=\"dataframe\">\n",
       "  <thead>\n",
       "    <tr style=\"text-align: right;\">\n",
       "      <th></th>\n",
       "      <th>k1</th>\n",
       "      <th>k2</th>\n",
       "    </tr>\n",
       "  </thead>\n",
       "  <tbody>\n",
       "    <tr>\n",
       "      <th>0</th>\n",
       "      <td>one</td>\n",
       "      <td>1</td>\n",
       "    </tr>\n",
       "    <tr>\n",
       "      <th>1</th>\n",
       "      <td>two</td>\n",
       "      <td>1</td>\n",
       "    </tr>\n",
       "    <tr>\n",
       "      <th>2</th>\n",
       "      <td>one</td>\n",
       "      <td>2</td>\n",
       "    </tr>\n",
       "    <tr>\n",
       "      <th>3</th>\n",
       "      <td>two</td>\n",
       "      <td>3</td>\n",
       "    </tr>\n",
       "    <tr>\n",
       "      <th>4</th>\n",
       "      <td>one</td>\n",
       "      <td>3</td>\n",
       "    </tr>\n",
       "    <tr>\n",
       "      <th>5</th>\n",
       "      <td>two</td>\n",
       "      <td>4</td>\n",
       "    </tr>\n",
       "    <tr>\n",
       "      <th>6</th>\n",
       "      <td>two</td>\n",
       "      <td>4</td>\n",
       "    </tr>\n",
       "  </tbody>\n",
       "</table>\n",
       "</div>"
      ],
      "text/plain": [
       "    k1  k2\n",
       "0  one   1\n",
       "1  two   1\n",
       "2  one   2\n",
       "3  two   3\n",
       "4  one   3\n",
       "5  two   4\n",
       "6  two   4"
      ]
     },
     "execution_count": 34,
     "metadata": {},
     "output_type": "execute_result"
    }
   ],
   "source": [
    "data = pd.DataFrame({'k1': ['one', 'two'] * 3 + ['two'],\n",
    "                     'k2': [1, 1, 2, 3, 3, 4, 4]})\n",
    "data"
   ]
  },
  {
   "cell_type": "markdown",
   "id": "ac0cece5-790f-4147-bfde-831137af9dfb",
   "metadata": {},
   "source": [
    "The DataFrame method duplicated returns a boolean Series indicating whether each\n",
    "row is a duplicate (has been observed in a previous row) or not:"
   ]
  },
  {
   "cell_type": "code",
   "execution_count": 35,
   "id": "7562809c-128b-4448-8dd3-d4e5123345d3",
   "metadata": {},
   "outputs": [
    {
     "data": {
      "text/plain": [
       "0    False\n",
       "1    False\n",
       "2    False\n",
       "3    False\n",
       "4    False\n",
       "5    False\n",
       "6     True\n",
       "dtype: bool"
      ]
     },
     "execution_count": 35,
     "metadata": {},
     "output_type": "execute_result"
    }
   ],
   "source": [
    "data.duplicated()"
   ]
  },
  {
   "cell_type": "markdown",
   "id": "8fff5d4a-b048-4ffe-9818-7573eb5bb112",
   "metadata": {},
   "source": [
    "Relatedly, drop_duplicates returns a DataFrame where the duplicated array is\r\n",
    "False:"
   ]
  },
  {
   "cell_type": "code",
   "execution_count": 36,
   "id": "7e4554d9-c09b-49cd-b6d8-e4da9ef2467e",
   "metadata": {},
   "outputs": [
    {
     "data": {
      "text/html": [
       "<div>\n",
       "<style scoped>\n",
       "    .dataframe tbody tr th:only-of-type {\n",
       "        vertical-align: middle;\n",
       "    }\n",
       "\n",
       "    .dataframe tbody tr th {\n",
       "        vertical-align: top;\n",
       "    }\n",
       "\n",
       "    .dataframe thead th {\n",
       "        text-align: right;\n",
       "    }\n",
       "</style>\n",
       "<table border=\"1\" class=\"dataframe\">\n",
       "  <thead>\n",
       "    <tr style=\"text-align: right;\">\n",
       "      <th></th>\n",
       "      <th>k1</th>\n",
       "      <th>k2</th>\n",
       "    </tr>\n",
       "  </thead>\n",
       "  <tbody>\n",
       "    <tr>\n",
       "      <th>0</th>\n",
       "      <td>one</td>\n",
       "      <td>1</td>\n",
       "    </tr>\n",
       "    <tr>\n",
       "      <th>1</th>\n",
       "      <td>two</td>\n",
       "      <td>1</td>\n",
       "    </tr>\n",
       "    <tr>\n",
       "      <th>2</th>\n",
       "      <td>one</td>\n",
       "      <td>2</td>\n",
       "    </tr>\n",
       "    <tr>\n",
       "      <th>3</th>\n",
       "      <td>two</td>\n",
       "      <td>3</td>\n",
       "    </tr>\n",
       "    <tr>\n",
       "      <th>4</th>\n",
       "      <td>one</td>\n",
       "      <td>3</td>\n",
       "    </tr>\n",
       "    <tr>\n",
       "      <th>5</th>\n",
       "      <td>two</td>\n",
       "      <td>4</td>\n",
       "    </tr>\n",
       "  </tbody>\n",
       "</table>\n",
       "</div>"
      ],
      "text/plain": [
       "    k1  k2\n",
       "0  one   1\n",
       "1  two   1\n",
       "2  one   2\n",
       "3  two   3\n",
       "4  one   3\n",
       "5  two   4"
      ]
     },
     "execution_count": 36,
     "metadata": {},
     "output_type": "execute_result"
    }
   ],
   "source": [
    "data.drop_duplicates()"
   ]
  },
  {
   "cell_type": "markdown",
   "id": "56860ea7-c156-4fc9-adf0-41e2c0826be6",
   "metadata": {},
   "source": [
    "Both of these methods by default consider all of the columns; alternatively, you can\n",
    "specify any subset of them to detect duplicates. Suppose we had an additional column\n",
    "of values and wanted to filter duplicates only based on the 'k1' column:"
   ]
  },
  {
   "cell_type": "code",
   "execution_count": 40,
   "id": "0dedcf62-f4df-4f4e-bf6a-8bb366071f2a",
   "metadata": {},
   "outputs": [
    {
     "data": {
      "text/html": [
       "<div>\n",
       "<style scoped>\n",
       "    .dataframe tbody tr th:only-of-type {\n",
       "        vertical-align: middle;\n",
       "    }\n",
       "\n",
       "    .dataframe tbody tr th {\n",
       "        vertical-align: top;\n",
       "    }\n",
       "\n",
       "    .dataframe thead th {\n",
       "        text-align: right;\n",
       "    }\n",
       "</style>\n",
       "<table border=\"1\" class=\"dataframe\">\n",
       "  <thead>\n",
       "    <tr style=\"text-align: right;\">\n",
       "      <th></th>\n",
       "      <th>k1</th>\n",
       "      <th>k2</th>\n",
       "      <th>v1</th>\n",
       "    </tr>\n",
       "  </thead>\n",
       "  <tbody>\n",
       "    <tr>\n",
       "      <th>0</th>\n",
       "      <td>one</td>\n",
       "      <td>1</td>\n",
       "      <td>0</td>\n",
       "    </tr>\n",
       "    <tr>\n",
       "      <th>1</th>\n",
       "      <td>two</td>\n",
       "      <td>1</td>\n",
       "      <td>1</td>\n",
       "    </tr>\n",
       "    <tr>\n",
       "      <th>2</th>\n",
       "      <td>one</td>\n",
       "      <td>2</td>\n",
       "      <td>2</td>\n",
       "    </tr>\n",
       "    <tr>\n",
       "      <th>3</th>\n",
       "      <td>two</td>\n",
       "      <td>3</td>\n",
       "      <td>3</td>\n",
       "    </tr>\n",
       "    <tr>\n",
       "      <th>4</th>\n",
       "      <td>one</td>\n",
       "      <td>3</td>\n",
       "      <td>4</td>\n",
       "    </tr>\n",
       "    <tr>\n",
       "      <th>5</th>\n",
       "      <td>two</td>\n",
       "      <td>4</td>\n",
       "      <td>5</td>\n",
       "    </tr>\n",
       "    <tr>\n",
       "      <th>6</th>\n",
       "      <td>two</td>\n",
       "      <td>4</td>\n",
       "      <td>6</td>\n",
       "    </tr>\n",
       "  </tbody>\n",
       "</table>\n",
       "</div>"
      ],
      "text/plain": [
       "    k1  k2  v1\n",
       "0  one   1   0\n",
       "1  two   1   1\n",
       "2  one   2   2\n",
       "3  two   3   3\n",
       "4  one   3   4\n",
       "5  two   4   5\n",
       "6  two   4   6"
      ]
     },
     "execution_count": 40,
     "metadata": {},
     "output_type": "execute_result"
    }
   ],
   "source": [
    "data['v1'] = range(7)\n",
    "data"
   ]
  },
  {
   "cell_type": "code",
   "execution_count": 38,
   "id": "91a50d8b-9f06-425b-86e9-828b1802e288",
   "metadata": {},
   "outputs": [
    {
     "data": {
      "text/html": [
       "<div>\n",
       "<style scoped>\n",
       "    .dataframe tbody tr th:only-of-type {\n",
       "        vertical-align: middle;\n",
       "    }\n",
       "\n",
       "    .dataframe tbody tr th {\n",
       "        vertical-align: top;\n",
       "    }\n",
       "\n",
       "    .dataframe thead th {\n",
       "        text-align: right;\n",
       "    }\n",
       "</style>\n",
       "<table border=\"1\" class=\"dataframe\">\n",
       "  <thead>\n",
       "    <tr style=\"text-align: right;\">\n",
       "      <th></th>\n",
       "      <th>k1</th>\n",
       "      <th>k2</th>\n",
       "      <th>v1</th>\n",
       "    </tr>\n",
       "  </thead>\n",
       "  <tbody>\n",
       "    <tr>\n",
       "      <th>0</th>\n",
       "      <td>one</td>\n",
       "      <td>1</td>\n",
       "      <td>0</td>\n",
       "    </tr>\n",
       "    <tr>\n",
       "      <th>1</th>\n",
       "      <td>two</td>\n",
       "      <td>1</td>\n",
       "      <td>1</td>\n",
       "    </tr>\n",
       "  </tbody>\n",
       "</table>\n",
       "</div>"
      ],
      "text/plain": [
       "    k1  k2  v1\n",
       "0  one   1   0\n",
       "1  two   1   1"
      ]
     },
     "execution_count": 38,
     "metadata": {},
     "output_type": "execute_result"
    }
   ],
   "source": [
    "data.drop_duplicates(['k1'])"
   ]
  },
  {
   "cell_type": "markdown",
   "id": "0668a1a6-042a-4b3e-875a-33e21223a697",
   "metadata": {},
   "source": [
    "duplicated and drop_duplicates by default keep the first observed value combination. \n",
    "Passing keep='last' will return the last one:"
   ]
  },
  {
   "cell_type": "code",
   "execution_count": 39,
   "id": "05718e71-5601-40c6-b92e-35488878c241",
   "metadata": {},
   "outputs": [
    {
     "data": {
      "text/html": [
       "<div>\n",
       "<style scoped>\n",
       "    .dataframe tbody tr th:only-of-type {\n",
       "        vertical-align: middle;\n",
       "    }\n",
       "\n",
       "    .dataframe tbody tr th {\n",
       "        vertical-align: top;\n",
       "    }\n",
       "\n",
       "    .dataframe thead th {\n",
       "        text-align: right;\n",
       "    }\n",
       "</style>\n",
       "<table border=\"1\" class=\"dataframe\">\n",
       "  <thead>\n",
       "    <tr style=\"text-align: right;\">\n",
       "      <th></th>\n",
       "      <th>k1</th>\n",
       "      <th>k2</th>\n",
       "      <th>v1</th>\n",
       "    </tr>\n",
       "  </thead>\n",
       "  <tbody>\n",
       "    <tr>\n",
       "      <th>0</th>\n",
       "      <td>one</td>\n",
       "      <td>1</td>\n",
       "      <td>0</td>\n",
       "    </tr>\n",
       "    <tr>\n",
       "      <th>1</th>\n",
       "      <td>two</td>\n",
       "      <td>1</td>\n",
       "      <td>1</td>\n",
       "    </tr>\n",
       "    <tr>\n",
       "      <th>2</th>\n",
       "      <td>one</td>\n",
       "      <td>2</td>\n",
       "      <td>2</td>\n",
       "    </tr>\n",
       "    <tr>\n",
       "      <th>3</th>\n",
       "      <td>two</td>\n",
       "      <td>3</td>\n",
       "      <td>3</td>\n",
       "    </tr>\n",
       "    <tr>\n",
       "      <th>4</th>\n",
       "      <td>one</td>\n",
       "      <td>3</td>\n",
       "      <td>4</td>\n",
       "    </tr>\n",
       "    <tr>\n",
       "      <th>6</th>\n",
       "      <td>two</td>\n",
       "      <td>4</td>\n",
       "      <td>6</td>\n",
       "    </tr>\n",
       "  </tbody>\n",
       "</table>\n",
       "</div>"
      ],
      "text/plain": [
       "    k1  k2  v1\n",
       "0  one   1   0\n",
       "1  two   1   1\n",
       "2  one   2   2\n",
       "3  two   3   3\n",
       "4  one   3   4\n",
       "6  two   4   6"
      ]
     },
     "execution_count": 39,
     "metadata": {},
     "output_type": "execute_result"
    }
   ],
   "source": [
    "data.drop_duplicates(['k1', 'k2'], keep='last')"
   ]
  },
  {
   "cell_type": "markdown",
   "id": "c9f1a954-5e79-4420-8651-13de5456d8a6",
   "metadata": {
    "jp-MarkdownHeadingCollapsed": true
   },
   "source": [
    "## Transforming Data Using a Function or Mapping"
   ]
  },
  {
   "cell_type": "markdown",
   "id": "29e5de2f-5646-43b3-9505-852d36a9d305",
   "metadata": {},
   "source": [
    "For many datasets, you may wish to perform some transformation based on the values in an array, Series, or column in a DataFrame. \n",
    "Consider the following hypothetical data collected about various kinds of meat:"
   ]
  },
  {
   "cell_type": "code",
   "execution_count": 41,
   "id": "8f312810-d9b0-4aba-81cf-f152ddae22d2",
   "metadata": {},
   "outputs": [
    {
     "data": {
      "text/html": [
       "<div>\n",
       "<style scoped>\n",
       "    .dataframe tbody tr th:only-of-type {\n",
       "        vertical-align: middle;\n",
       "    }\n",
       "\n",
       "    .dataframe tbody tr th {\n",
       "        vertical-align: top;\n",
       "    }\n",
       "\n",
       "    .dataframe thead th {\n",
       "        text-align: right;\n",
       "    }\n",
       "</style>\n",
       "<table border=\"1\" class=\"dataframe\">\n",
       "  <thead>\n",
       "    <tr style=\"text-align: right;\">\n",
       "      <th></th>\n",
       "      <th>food</th>\n",
       "      <th>ounces</th>\n",
       "    </tr>\n",
       "  </thead>\n",
       "  <tbody>\n",
       "    <tr>\n",
       "      <th>0</th>\n",
       "      <td>bacon</td>\n",
       "      <td>4.0</td>\n",
       "    </tr>\n",
       "    <tr>\n",
       "      <th>1</th>\n",
       "      <td>pulled pork</td>\n",
       "      <td>3.0</td>\n",
       "    </tr>\n",
       "    <tr>\n",
       "      <th>2</th>\n",
       "      <td>bacon</td>\n",
       "      <td>12.0</td>\n",
       "    </tr>\n",
       "    <tr>\n",
       "      <th>3</th>\n",
       "      <td>Pastrami</td>\n",
       "      <td>6.0</td>\n",
       "    </tr>\n",
       "    <tr>\n",
       "      <th>4</th>\n",
       "      <td>corned beef</td>\n",
       "      <td>7.5</td>\n",
       "    </tr>\n",
       "    <tr>\n",
       "      <th>5</th>\n",
       "      <td>Bacon</td>\n",
       "      <td>8.0</td>\n",
       "    </tr>\n",
       "    <tr>\n",
       "      <th>6</th>\n",
       "      <td>pastrami</td>\n",
       "      <td>3.0</td>\n",
       "    </tr>\n",
       "    <tr>\n",
       "      <th>7</th>\n",
       "      <td>honey ham</td>\n",
       "      <td>5.0</td>\n",
       "    </tr>\n",
       "    <tr>\n",
       "      <th>8</th>\n",
       "      <td>nova lox</td>\n",
       "      <td>6.0</td>\n",
       "    </tr>\n",
       "  </tbody>\n",
       "</table>\n",
       "</div>"
      ],
      "text/plain": [
       "          food  ounces\n",
       "0        bacon     4.0\n",
       "1  pulled pork     3.0\n",
       "2        bacon    12.0\n",
       "3     Pastrami     6.0\n",
       "4  corned beef     7.5\n",
       "5        Bacon     8.0\n",
       "6     pastrami     3.0\n",
       "7    honey ham     5.0\n",
       "8     nova lox     6.0"
      ]
     },
     "execution_count": 41,
     "metadata": {},
     "output_type": "execute_result"
    }
   ],
   "source": [
    "data = pd.DataFrame({'food': ['bacon', 'pulled pork', 'bacon',\n",
    "                                'Pastrami', 'corned beef', 'Bacon',\n",
    "                                'pastrami', 'honey ham', 'nova lox'],\n",
    "                       'ounces': [4, 3, 12, 6, 7.5, 8, 3, 5, 6]})\n",
    "data"
   ]
  },
  {
   "cell_type": "markdown",
   "id": "b9eeda86-380e-46dc-a1d4-95ec4dddf1ce",
   "metadata": {},
   "source": [
    "Suppose you wanted to add a column indicating the type of animal that each food came from. \n",
    "Let’s write down a mapping of each distinct meat type to the kind of animal:\n"
   ]
  },
  {
   "cell_type": "code",
   "execution_count": 42,
   "id": "c1263d2c-a357-4632-9900-6700a0b232d9",
   "metadata": {},
   "outputs": [],
   "source": [
    "meat_to_animal = {\n",
    "    'bacon': 'pig',\n",
    "    'pulled pork': 'pig',\n",
    "    'pastrami': 'cow',\n",
    "    'corned beef': 'cow',\n",
    "    'honey ham': 'pig',\n",
    "    'nova lox': 'salmon'\n",
    "}"
   ]
  },
  {
   "cell_type": "markdown",
   "id": "b68f0989-e506-441e-895d-36fb8de39a59",
   "metadata": {},
   "source": [
    "The map method on a Series accepts a function or dict-like object containing a map\n",
    "ping, but here we have a small problem in that some of the meats are capitalized an \r\n",
    "others are not\n",
    ". Thus, we need to convert each value to lowercase using the str.low r\r\n",
    "Series method:"
   ]
  },
  {
   "cell_type": "code",
   "execution_count": 43,
   "id": "7ba7aa86-17c9-44c4-8ff4-c359e047f306",
   "metadata": {},
   "outputs": [],
   "source": [
    "lowercased = data['food'].str.lower()"
   ]
  },
  {
   "cell_type": "code",
   "execution_count": 44,
   "id": "77397c98-f81e-4426-9aee-f80479960600",
   "metadata": {},
   "outputs": [
    {
     "data": {
      "text/html": [
       "<div>\n",
       "<style scoped>\n",
       "    .dataframe tbody tr th:only-of-type {\n",
       "        vertical-align: middle;\n",
       "    }\n",
       "\n",
       "    .dataframe tbody tr th {\n",
       "        vertical-align: top;\n",
       "    }\n",
       "\n",
       "    .dataframe thead th {\n",
       "        text-align: right;\n",
       "    }\n",
       "</style>\n",
       "<table border=\"1\" class=\"dataframe\">\n",
       "  <thead>\n",
       "    <tr style=\"text-align: right;\">\n",
       "      <th></th>\n",
       "      <th>food</th>\n",
       "      <th>ounces</th>\n",
       "      <th>animal</th>\n",
       "    </tr>\n",
       "  </thead>\n",
       "  <tbody>\n",
       "    <tr>\n",
       "      <th>0</th>\n",
       "      <td>bacon</td>\n",
       "      <td>4.0</td>\n",
       "      <td>pig</td>\n",
       "    </tr>\n",
       "    <tr>\n",
       "      <th>1</th>\n",
       "      <td>pulled pork</td>\n",
       "      <td>3.0</td>\n",
       "      <td>pig</td>\n",
       "    </tr>\n",
       "    <tr>\n",
       "      <th>2</th>\n",
       "      <td>bacon</td>\n",
       "      <td>12.0</td>\n",
       "      <td>pig</td>\n",
       "    </tr>\n",
       "    <tr>\n",
       "      <th>3</th>\n",
       "      <td>Pastrami</td>\n",
       "      <td>6.0</td>\n",
       "      <td>cow</td>\n",
       "    </tr>\n",
       "    <tr>\n",
       "      <th>4</th>\n",
       "      <td>corned beef</td>\n",
       "      <td>7.5</td>\n",
       "      <td>cow</td>\n",
       "    </tr>\n",
       "    <tr>\n",
       "      <th>5</th>\n",
       "      <td>Bacon</td>\n",
       "      <td>8.0</td>\n",
       "      <td>pig</td>\n",
       "    </tr>\n",
       "    <tr>\n",
       "      <th>6</th>\n",
       "      <td>pastrami</td>\n",
       "      <td>3.0</td>\n",
       "      <td>cow</td>\n",
       "    </tr>\n",
       "    <tr>\n",
       "      <th>7</th>\n",
       "      <td>honey ham</td>\n",
       "      <td>5.0</td>\n",
       "      <td>pig</td>\n",
       "    </tr>\n",
       "    <tr>\n",
       "      <th>8</th>\n",
       "      <td>nova lox</td>\n",
       "      <td>6.0</td>\n",
       "      <td>salmon</td>\n",
       "    </tr>\n",
       "  </tbody>\n",
       "</table>\n",
       "</div>"
      ],
      "text/plain": [
       "          food  ounces  animal\n",
       "0        bacon     4.0     pig\n",
       "1  pulled pork     3.0     pig\n",
       "2        bacon    12.0     pig\n",
       "3     Pastrami     6.0     cow\n",
       "4  corned beef     7.5     cow\n",
       "5        Bacon     8.0     pig\n",
       "6     pastrami     3.0     cow\n",
       "7    honey ham     5.0     pig\n",
       "8     nova lox     6.0  salmon"
      ]
     },
     "execution_count": 44,
     "metadata": {},
     "output_type": "execute_result"
    }
   ],
   "source": [
    "data['animal'] = lowercased.map(meat_to_animal)\n",
    "data"
   ]
  },
  {
   "cell_type": "markdown",
   "id": "bf30b863-f892-4b1d-b649-a9e867ad8e3e",
   "metadata": {},
   "source": [
    "We could also have passed a function that does all the work:"
   ]
  },
  {
   "cell_type": "code",
   "execution_count": 45,
   "id": "672156d5-1622-4bac-b496-82ea3f7714d1",
   "metadata": {},
   "outputs": [
    {
     "data": {
      "text/plain": [
       "0       pig\n",
       "1       pig\n",
       "2       pig\n",
       "3       cow\n",
       "4       cow\n",
       "5       pig\n",
       "6       cow\n",
       "7       pig\n",
       "8    salmon\n",
       "Name: food, dtype: object"
      ]
     },
     "execution_count": 45,
     "metadata": {},
     "output_type": "execute_result"
    }
   ],
   "source": [
    "data['food'].map(lambda x: meat_to_animal[x.lower()])"
   ]
  },
  {
   "cell_type": "markdown",
   "id": "6ccdc86f-fcb6-4e17-b6d1-c174ff18ccea",
   "metadata": {},
   "source": [
    "Using map is a convenient way to perform element-wise transformations and other\r\n",
    "data cleaning–related operations"
   ]
  },
  {
   "cell_type": "markdown",
   "id": "fad8c9a7-2fa7-4b75-a344-9543dea5df9a",
   "metadata": {
    "jp-MarkdownHeadingCollapsed": true
   },
   "source": [
    "## Replacing Values\n"
   ]
  },
  {
   "cell_type": "markdown",
   "id": "2c47598e-29d4-49ae-8104-db8d64095d7b",
   "metadata": {},
   "source": [
    "map can be used to modify a subset of values in\n",
    "an object but replace provides a simpler and more flexible way to do so"
   ]
  },
  {
   "cell_type": "code",
   "execution_count": 46,
   "id": "49a9f7a1-cac3-436e-b71e-eba2e83be31d",
   "metadata": {},
   "outputs": [
    {
     "data": {
      "text/plain": [
       "0       1.0\n",
       "1    -999.0\n",
       "2       2.0\n",
       "3    -999.0\n",
       "4   -1000.0\n",
       "5       3.0\n",
       "dtype: float64"
      ]
     },
     "execution_count": 46,
     "metadata": {},
     "output_type": "execute_result"
    }
   ],
   "source": [
    "data = pd.Series([1., -999., 2., -999., -1000., 3.])\n",
    "data"
   ]
  },
  {
   "cell_type": "markdown",
   "id": "c8653631-e2bd-45ae-b352-0b249da511f0",
   "metadata": {},
   "source": [
    "The -999 values might be sentinel values for missing data. To replace these with NA\n",
    "values that pandas understands, we can use replace, producing a new Series (unless\n",
    "you pass inplace=True):"
   ]
  },
  {
   "cell_type": "code",
   "execution_count": 47,
   "id": "8a28ae61-8cce-47f0-a164-3f4c4fc1a460",
   "metadata": {},
   "outputs": [
    {
     "data": {
      "text/plain": [
       "0       1.0\n",
       "1       NaN\n",
       "2       2.0\n",
       "3       NaN\n",
       "4   -1000.0\n",
       "5       3.0\n",
       "dtype: float64"
      ]
     },
     "execution_count": 47,
     "metadata": {},
     "output_type": "execute_result"
    }
   ],
   "source": [
    "data.replace(-999, np.nan)"
   ]
  },
  {
   "cell_type": "markdown",
   "id": "74106976-8ac0-483b-b13d-3c7fa71b8b8d",
   "metadata": {},
   "source": [
    "If you want to replace multiple values at once, you instead pass a list and then the\n",
    "substitute value:"
   ]
  },
  {
   "cell_type": "code",
   "execution_count": 48,
   "id": "00d23c22-ad7a-4ec8-ac61-09d1ffda01fc",
   "metadata": {},
   "outputs": [
    {
     "data": {
      "text/plain": [
       "0    1.0\n",
       "1    NaN\n",
       "2    2.0\n",
       "3    NaN\n",
       "4    NaN\n",
       "5    3.0\n",
       "dtype: float64"
      ]
     },
     "execution_count": 48,
     "metadata": {},
     "output_type": "execute_result"
    }
   ],
   "source": [
    "data.replace([-999, -1000], np.nan)"
   ]
  },
  {
   "cell_type": "markdown",
   "id": "6570d345-3b59-4393-8ba2-5ef2fe35eaed",
   "metadata": {},
   "source": [
    "To use a different replacement for each value, pass a list of substitutes:"
   ]
  },
  {
   "cell_type": "code",
   "execution_count": 49,
   "id": "72ac8626-d66c-4922-a1cf-b25065b8ef9d",
   "metadata": {},
   "outputs": [
    {
     "data": {
      "text/plain": [
       "0    1.0\n",
       "1    NaN\n",
       "2    2.0\n",
       "3    NaN\n",
       "4    0.0\n",
       "5    3.0\n",
       "dtype: float64"
      ]
     },
     "execution_count": 49,
     "metadata": {},
     "output_type": "execute_result"
    }
   ],
   "source": [
    "data.replace([-999, -1000], [np.nan, 0])"
   ]
  },
  {
   "cell_type": "markdown",
   "id": "d2003420-4c12-4db0-bc74-4e405455c40f",
   "metadata": {},
   "source": [
    "The argument passed can also be a dict:"
   ]
  },
  {
   "cell_type": "code",
   "execution_count": 50,
   "id": "644c12a4-626b-422c-9dfb-3d3f25f887df",
   "metadata": {},
   "outputs": [
    {
     "data": {
      "text/plain": [
       "0    1.0\n",
       "1    NaN\n",
       "2    2.0\n",
       "3    NaN\n",
       "4    0.0\n",
       "5    3.0\n",
       "dtype: float64"
      ]
     },
     "execution_count": 50,
     "metadata": {},
     "output_type": "execute_result"
    }
   ],
   "source": [
    "data.replace({-999: np.nan, -1000: 0})"
   ]
  },
  {
   "cell_type": "markdown",
   "id": "0ab4f0a7-69fe-4912-9d1f-d81e581c49db",
   "metadata": {},
   "source": [
    "The data.replace method is distinct from data.str.replace,\n",
    "which performs string substitution element-wise"
   ]
  },
  {
   "cell_type": "markdown",
   "id": "e479d057-69aa-4905-902f-d9ec6d7195da",
   "metadata": {},
   "source": [
    "## Renaming Axis Indexes"
   ]
  },
  {
   "cell_type": "markdown",
   "id": "69479e45-a8eb-4ff6-8275-cd9d3e59065b",
   "metadata": {},
   "source": [
    "Like values in a Series, axis labels can be similarly transformed by a function or mapping of some form to produce new, differently labeled objects. \n",
    "You can also modify the axes in-place without creating a new data structure."
   ]
  },
  {
   "cell_type": "code",
   "execution_count": 51,
   "id": "973402d2-e17d-46cf-98ef-5e0349dce041",
   "metadata": {},
   "outputs": [
    {
     "data": {
      "text/html": [
       "<div>\n",
       "<style scoped>\n",
       "    .dataframe tbody tr th:only-of-type {\n",
       "        vertical-align: middle;\n",
       "    }\n",
       "\n",
       "    .dataframe tbody tr th {\n",
       "        vertical-align: top;\n",
       "    }\n",
       "\n",
       "    .dataframe thead th {\n",
       "        text-align: right;\n",
       "    }\n",
       "</style>\n",
       "<table border=\"1\" class=\"dataframe\">\n",
       "  <thead>\n",
       "    <tr style=\"text-align: right;\">\n",
       "      <th></th>\n",
       "      <th>one</th>\n",
       "      <th>two</th>\n",
       "      <th>three</th>\n",
       "      <th>four</th>\n",
       "    </tr>\n",
       "  </thead>\n",
       "  <tbody>\n",
       "    <tr>\n",
       "      <th>Ohio</th>\n",
       "      <td>0</td>\n",
       "      <td>1</td>\n",
       "      <td>2</td>\n",
       "      <td>3</td>\n",
       "    </tr>\n",
       "    <tr>\n",
       "      <th>Colorado</th>\n",
       "      <td>4</td>\n",
       "      <td>5</td>\n",
       "      <td>6</td>\n",
       "      <td>7</td>\n",
       "    </tr>\n",
       "    <tr>\n",
       "      <th>New York</th>\n",
       "      <td>8</td>\n",
       "      <td>9</td>\n",
       "      <td>10</td>\n",
       "      <td>11</td>\n",
       "    </tr>\n",
       "  </tbody>\n",
       "</table>\n",
       "</div>"
      ],
      "text/plain": [
       "          one  two  three  four\n",
       "Ohio        0    1      2     3\n",
       "Colorado    4    5      6     7\n",
       "New York    8    9     10    11"
      ]
     },
     "execution_count": 51,
     "metadata": {},
     "output_type": "execute_result"
    }
   ],
   "source": [
    "data = pd.DataFrame(np.arange(12).reshape((3, 4)),\n",
    "                    index=['Ohio', 'Colorado', 'New York'],\n",
    "                    columns=['one', 'two', 'three', 'four'])\n",
    "data"
   ]
  },
  {
   "cell_type": "code",
   "execution_count": 54,
   "id": "25ccffa2-76a2-47ec-84b7-ea36cb993c34",
   "metadata": {},
   "outputs": [
    {
     "data": {
      "text/plain": [
       "Index(['OHIO', 'COLO', 'NEW '], dtype='object')"
      ]
     },
     "execution_count": 54,
     "metadata": {},
     "output_type": "execute_result"
    }
   ],
   "source": [
    "transform = lambda x: x[:4].upper()\n",
    "data.index.map(transform)"
   ]
  },
  {
   "cell_type": "markdown",
   "id": "7d259d45-f491-474a-8766-940f05d4e51d",
   "metadata": {},
   "source": [
    "You can assign to index, modifying the DataFrame in-place:\r"
   ]
  },
  {
   "cell_type": "code",
   "execution_count": 56,
   "id": "9c687251-7633-445a-b655-254be5974b7e",
   "metadata": {},
   "outputs": [
    {
     "data": {
      "text/html": [
       "<div>\n",
       "<style scoped>\n",
       "    .dataframe tbody tr th:only-of-type {\n",
       "        vertical-align: middle;\n",
       "    }\n",
       "\n",
       "    .dataframe tbody tr th {\n",
       "        vertical-align: top;\n",
       "    }\n",
       "\n",
       "    .dataframe thead th {\n",
       "        text-align: right;\n",
       "    }\n",
       "</style>\n",
       "<table border=\"1\" class=\"dataframe\">\n",
       "  <thead>\n",
       "    <tr style=\"text-align: right;\">\n",
       "      <th></th>\n",
       "      <th>one</th>\n",
       "      <th>two</th>\n",
       "      <th>three</th>\n",
       "      <th>four</th>\n",
       "    </tr>\n",
       "  </thead>\n",
       "  <tbody>\n",
       "    <tr>\n",
       "      <th>OHIO</th>\n",
       "      <td>0</td>\n",
       "      <td>1</td>\n",
       "      <td>2</td>\n",
       "      <td>3</td>\n",
       "    </tr>\n",
       "    <tr>\n",
       "      <th>COLO</th>\n",
       "      <td>4</td>\n",
       "      <td>5</td>\n",
       "      <td>6</td>\n",
       "      <td>7</td>\n",
       "    </tr>\n",
       "    <tr>\n",
       "      <th>NEW</th>\n",
       "      <td>8</td>\n",
       "      <td>9</td>\n",
       "      <td>10</td>\n",
       "      <td>11</td>\n",
       "    </tr>\n",
       "  </tbody>\n",
       "</table>\n",
       "</div>"
      ],
      "text/plain": [
       "      one  two  three  four\n",
       "OHIO    0    1      2     3\n",
       "COLO    4    5      6     7\n",
       "NEW     8    9     10    11"
      ]
     },
     "execution_count": 56,
     "metadata": {},
     "output_type": "execute_result"
    }
   ],
   "source": [
    "data.index = data.index.map(transform)\n",
    "data"
   ]
  },
  {
   "cell_type": "markdown",
   "id": "f9187523-c666-47c8-bad9-800bc57da251",
   "metadata": {},
   "source": [
    "If you want to create a transformed version of a dataset without modifying the original, a useful method is rename:"
   ]
  },
  {
   "cell_type": "code",
   "execution_count": 57,
   "id": "4b7ae517-b767-4146-8c36-5ca8d1130597",
   "metadata": {},
   "outputs": [
    {
     "data": {
      "text/html": [
       "<div>\n",
       "<style scoped>\n",
       "    .dataframe tbody tr th:only-of-type {\n",
       "        vertical-align: middle;\n",
       "    }\n",
       "\n",
       "    .dataframe tbody tr th {\n",
       "        vertical-align: top;\n",
       "    }\n",
       "\n",
       "    .dataframe thead th {\n",
       "        text-align: right;\n",
       "    }\n",
       "</style>\n",
       "<table border=\"1\" class=\"dataframe\">\n",
       "  <thead>\n",
       "    <tr style=\"text-align: right;\">\n",
       "      <th></th>\n",
       "      <th>ONE</th>\n",
       "      <th>TWO</th>\n",
       "      <th>THREE</th>\n",
       "      <th>FOUR</th>\n",
       "    </tr>\n",
       "  </thead>\n",
       "  <tbody>\n",
       "    <tr>\n",
       "      <th>Ohio</th>\n",
       "      <td>0</td>\n",
       "      <td>1</td>\n",
       "      <td>2</td>\n",
       "      <td>3</td>\n",
       "    </tr>\n",
       "    <tr>\n",
       "      <th>Colo</th>\n",
       "      <td>4</td>\n",
       "      <td>5</td>\n",
       "      <td>6</td>\n",
       "      <td>7</td>\n",
       "    </tr>\n",
       "    <tr>\n",
       "      <th>New</th>\n",
       "      <td>8</td>\n",
       "      <td>9</td>\n",
       "      <td>10</td>\n",
       "      <td>11</td>\n",
       "    </tr>\n",
       "  </tbody>\n",
       "</table>\n",
       "</div>"
      ],
      "text/plain": [
       "      ONE  TWO  THREE  FOUR\n",
       "Ohio    0    1      2     3\n",
       "Colo    4    5      6     7\n",
       "New     8    9     10    11"
      ]
     },
     "execution_count": 57,
     "metadata": {},
     "output_type": "execute_result"
    }
   ],
   "source": [
    "data.rename(index=str.title, columns=str.upper)"
   ]
  },
  {
   "cell_type": "markdown",
   "id": "4a6079e3-06e2-425b-a2a8-69ecee4123f0",
   "metadata": {},
   "source": [
    "Notably, rename can be used in conjunction with a dict-like object providing new values for a subset of the axis labels"
   ]
  },
  {
   "cell_type": "code",
   "execution_count": 58,
   "id": "06d1b932-74a3-4e18-81aa-e76d1f9625d3",
   "metadata": {},
   "outputs": [
    {
     "data": {
      "text/html": [
       "<div>\n",
       "<style scoped>\n",
       "    .dataframe tbody tr th:only-of-type {\n",
       "        vertical-align: middle;\n",
       "    }\n",
       "\n",
       "    .dataframe tbody tr th {\n",
       "        vertical-align: top;\n",
       "    }\n",
       "\n",
       "    .dataframe thead th {\n",
       "        text-align: right;\n",
       "    }\n",
       "</style>\n",
       "<table border=\"1\" class=\"dataframe\">\n",
       "  <thead>\n",
       "    <tr style=\"text-align: right;\">\n",
       "      <th></th>\n",
       "      <th>one</th>\n",
       "      <th>two</th>\n",
       "      <th>peekaboo</th>\n",
       "      <th>four</th>\n",
       "    </tr>\n",
       "  </thead>\n",
       "  <tbody>\n",
       "    <tr>\n",
       "      <th>INDIANA</th>\n",
       "      <td>0</td>\n",
       "      <td>1</td>\n",
       "      <td>2</td>\n",
       "      <td>3</td>\n",
       "    </tr>\n",
       "    <tr>\n",
       "      <th>COLO</th>\n",
       "      <td>4</td>\n",
       "      <td>5</td>\n",
       "      <td>6</td>\n",
       "      <td>7</td>\n",
       "    </tr>\n",
       "    <tr>\n",
       "      <th>NEW</th>\n",
       "      <td>8</td>\n",
       "      <td>9</td>\n",
       "      <td>10</td>\n",
       "      <td>11</td>\n",
       "    </tr>\n",
       "  </tbody>\n",
       "</table>\n",
       "</div>"
      ],
      "text/plain": [
       "         one  two  peekaboo  four\n",
       "INDIANA    0    1         2     3\n",
       "COLO       4    5         6     7\n",
       "NEW        8    9        10    11"
      ]
     },
     "execution_count": 58,
     "metadata": {},
     "output_type": "execute_result"
    }
   ],
   "source": [
    "data.rename(index={'OHIO': 'INDIANA'},\n",
    "            columns={'three': 'peekaboo'})"
   ]
  },
  {
   "cell_type": "markdown",
   "id": "749a38e3-e75a-454b-a6c0-59f604784c49",
   "metadata": {},
   "source": [
    "rename saves you from the chore of copying the DataFrame manually and assigning\n",
    "to its index and columns attributes. Should you wish to modify a dataset in-place, pass inplace=True:"
   ]
  },
  {
   "cell_type": "code",
   "execution_count": 59,
   "id": "e1b19a9d-8c6d-4f48-95a4-c12365bda36d",
   "metadata": {},
   "outputs": [
    {
     "data": {
      "text/html": [
       "<div>\n",
       "<style scoped>\n",
       "    .dataframe tbody tr th:only-of-type {\n",
       "        vertical-align: middle;\n",
       "    }\n",
       "\n",
       "    .dataframe tbody tr th {\n",
       "        vertical-align: top;\n",
       "    }\n",
       "\n",
       "    .dataframe thead th {\n",
       "        text-align: right;\n",
       "    }\n",
       "</style>\n",
       "<table border=\"1\" class=\"dataframe\">\n",
       "  <thead>\n",
       "    <tr style=\"text-align: right;\">\n",
       "      <th></th>\n",
       "      <th>one</th>\n",
       "      <th>two</th>\n",
       "      <th>three</th>\n",
       "      <th>four</th>\n",
       "    </tr>\n",
       "  </thead>\n",
       "  <tbody>\n",
       "    <tr>\n",
       "      <th>INDIANA</th>\n",
       "      <td>0</td>\n",
       "      <td>1</td>\n",
       "      <td>2</td>\n",
       "      <td>3</td>\n",
       "    </tr>\n",
       "    <tr>\n",
       "      <th>COLO</th>\n",
       "      <td>4</td>\n",
       "      <td>5</td>\n",
       "      <td>6</td>\n",
       "      <td>7</td>\n",
       "    </tr>\n",
       "    <tr>\n",
       "      <th>NEW</th>\n",
       "      <td>8</td>\n",
       "      <td>9</td>\n",
       "      <td>10</td>\n",
       "      <td>11</td>\n",
       "    </tr>\n",
       "  </tbody>\n",
       "</table>\n",
       "</div>"
      ],
      "text/plain": [
       "         one  two  three  four\n",
       "INDIANA    0    1      2     3\n",
       "COLO       4    5      6     7\n",
       "NEW        8    9     10    11"
      ]
     },
     "execution_count": 59,
     "metadata": {},
     "output_type": "execute_result"
    }
   ],
   "source": [
    "data.rename(index={'OHIO': 'INDIANA'}, inplace=True)\n",
    "data"
   ]
  },
  {
   "cell_type": "markdown",
   "id": "49c75ee9-b132-4724-8025-a59d7c4ad854",
   "metadata": {},
   "source": [
    "## Discretization and Binning\n"
   ]
  },
  {
   "cell_type": "markdown",
   "id": "edc82aaa-a209-474b-ac99-ef66c05f93fa",
   "metadata": {},
   "source": [
    "Continuous data is often discretized or otherwise separated into “bins” for analysis.\n",
    "Suppose you have data about a group of people in a study, and you want to group\n",
    "them into discrete age buckets:"
   ]
  },
  {
   "cell_type": "code",
   "execution_count": 60,
   "id": "f5a768c2-4d01-4568-8ba7-3ae8fda0c8a9",
   "metadata": {},
   "outputs": [],
   "source": [
    "ages = [20, 22, 25, 27, 21, 23, 37, 31, 61, 45, 41, 32]"
   ]
  },
  {
   "cell_type": "markdown",
   "id": "081d9898-0035-41c7-9121-174a4c0eaae7",
   "metadata": {},
   "source": [
    "Let’s divide these into bins of 18 to 25, 26 to 35, 36 to 60, and finally 61 and older.\n",
    "To do so, you have to use cut, a function in pandas:"
   ]
  },
  {
   "cell_type": "code",
   "execution_count": 61,
   "id": "914245e9-93f8-4881-9f9d-dddfbca4bcc0",
   "metadata": {},
   "outputs": [
    {
     "data": {
      "text/plain": [
       "[(18, 25], (18, 25], (18, 25], (25, 35], (18, 25], ..., (25, 35], (60, 100], (35, 60], (35, 60], (25, 35]]\n",
       "Length: 12\n",
       "Categories (4, interval[int64, right]): [(18, 25] < (25, 35] < (35, 60] < (60, 100]]"
      ]
     },
     "execution_count": 61,
     "metadata": {},
     "output_type": "execute_result"
    }
   ],
   "source": [
    "bins = [18, 25, 35, 60, 100]\n",
    "cats = pd.cut(ages, bins)\n",
    "cats"
   ]
  },
  {
   "cell_type": "markdown",
   "id": "a66a8847-40a9-45ea-b0a4-5843014f42f3",
   "metadata": {},
   "source": [
    "The object pandas returns is a special Categorical object. \n",
    "The output you see describes the bins computed by pandas.cut. \n",
    "You can treat it like an array of strings indicating the bin name; \n",
    "internally it contains a categories array specifying the distinct category names along with a labeling for the ages data in the codes attribute:"
   ]
  },
  {
   "cell_type": "code",
   "execution_count": 62,
   "id": "d3fc1bc6-4f53-4fc9-93c5-6c37f7074376",
   "metadata": {},
   "outputs": [
    {
     "data": {
      "text/plain": [
       "array([0, 0, 0, 1, 0, 0, 2, 1, 3, 2, 2, 1], dtype=int8)"
      ]
     },
     "execution_count": 62,
     "metadata": {},
     "output_type": "execute_result"
    }
   ],
   "source": [
    "cats.codes"
   ]
  },
  {
   "cell_type": "code",
   "execution_count": 63,
   "id": "9d96cf21-e05e-4062-96a6-8b624b4e88ce",
   "metadata": {},
   "outputs": [
    {
     "data": {
      "text/plain": [
       "IntervalIndex([(18, 25], (25, 35], (35, 60], (60, 100]], dtype='interval[int64, right]')"
      ]
     },
     "execution_count": 63,
     "metadata": {},
     "output_type": "execute_result"
    }
   ],
   "source": [
    "cats.categories"
   ]
  },
  {
   "cell_type": "markdown",
   "id": "5abdd00c-0820-43ea-a50e-30cb71740cb4",
   "metadata": {},
   "source": [
    "Consistent with mathematical notation for intervals, a parenthesis means that the side\n",
    "is open, while the square bracket means it is closed (inclusive). You can change which\n",
    "side is closed by passing right=False:"
   ]
  },
  {
   "cell_type": "code",
   "execution_count": 64,
   "id": "051c2b0d-7672-432d-82ad-e6c6c216e205",
   "metadata": {},
   "outputs": [
    {
     "data": {
      "text/plain": [
       "[[18, 26), [18, 26), [18, 26), [26, 36), [18, 26), ..., [26, 36), [61, 100), [36, 61), [36, 61), [26, 36)]\n",
       "Length: 12\n",
       "Categories (4, interval[int64, left]): [[18, 26) < [26, 36) < [36, 61) < [61, 100)]"
      ]
     },
     "execution_count": 64,
     "metadata": {},
     "output_type": "execute_result"
    }
   ],
   "source": [
    "pd.cut(ages, [18, 26, 36, 61, 100], right=False)"
   ]
  },
  {
   "cell_type": "markdown",
   "id": "2f906195-6934-4974-8444-c731c8bff26b",
   "metadata": {},
   "source": [
    "You can also pass your own bin names by passing a list or array to the labels option:"
   ]
  },
  {
   "cell_type": "code",
   "execution_count": 65,
   "id": "d501cd5e-6bad-4f4d-bf7e-c37156908585",
   "metadata": {},
   "outputs": [
    {
     "data": {
      "text/plain": [
       "['Youth', 'Youth', 'Youth', 'YoungAdult', 'Youth', ..., 'YoungAdult', 'Senior', 'MiddleAged', 'MiddleAged', 'YoungAdult']\n",
       "Length: 12\n",
       "Categories (4, object): ['Youth' < 'YoungAdult' < 'MiddleAged' < 'Senior']"
      ]
     },
     "execution_count": 65,
     "metadata": {},
     "output_type": "execute_result"
    }
   ],
   "source": [
    "group_names = ['Youth', 'YoungAdult', 'MiddleAged', 'Senior']\n",
    "pd.cut(ages, bins, labels=group_names)"
   ]
  },
  {
   "cell_type": "markdown",
   "id": "44f859c9-f28e-4edd-a6f0-6de1aa9a2d15",
   "metadata": {},
   "source": [
    "If you pass an integer number of bins to cut instead of explicit bin edges, it will compute equal-length bins based on the minimum and maximum values in the data.\n",
    "Consider the case of some uniformly distributed data chopped into fourths:"
   ]
  },
  {
   "cell_type": "code",
   "execution_count": 66,
   "id": "53703e07-cb06-492b-804b-e08c865ddff2",
   "metadata": {},
   "outputs": [
    {
     "data": {
      "text/plain": [
       "[(0.48, 0.71], (0.24, 0.48], (0.71, 0.95], (0.24, 0.48], (0.71, 0.95], ..., (0.48, 0.71], (0.48, 0.71], (0.24, 0.48], (0.48, 0.71], (0.71, 0.95]]\n",
       "Length: 20\n",
       "Categories (4, interval[float64, right]): [(0.0045, 0.24] < (0.24, 0.48] < (0.48, 0.71] < (0.71, 0.95]]"
      ]
     },
     "execution_count": 66,
     "metadata": {},
     "output_type": "execute_result"
    }
   ],
   "source": [
    "data = np.random.rand(20)\n",
    "pd.cut(data, 4, precision=2)"
   ]
  },
  {
   "cell_type": "markdown",
   "id": "424bdaea-d86e-4af8-bb7e-15f7731dea4c",
   "metadata": {},
   "source": [
    "__The precision=2 option limits the decimal precision to two digits.__\n"
   ]
  },
  {
   "cell_type": "markdown",
   "id": "360eb826-c352-411c-b959-8206208398e0",
   "metadata": {},
   "source": [
    "A closely related function, qcut, bins the data based on sample quantiles. Depending\n",
    "on the distribution of the data, using cut will not usually result in each bin having the\n",
    "same number of data points. Since qcut uses sample quantiles instead, by definition\n",
    "you will obtain roughly equal-size bins:"
   ]
  },
  {
   "cell_type": "code",
   "execution_count": 67,
   "id": "f3dcaca8-785e-4ded-8c5b-80a1d6b1c900",
   "metadata": {},
   "outputs": [
    {
     "data": {
      "text/plain": [
       "[(-0.738, -0.0572], (0.621, 2.791], (-0.0572, 0.621], (-3.0789999999999997, -0.738], (-0.0572, 0.621], ..., (-3.0789999999999997, -0.738], (0.621, 2.791], (-0.0572, 0.621], (-3.0789999999999997, -0.738], (-3.0789999999999997, -0.738]]\n",
       "Length: 1000\n",
       "Categories (4, interval[float64, right]): [(-3.0789999999999997, -0.738] < (-0.738, -0.0572] < (-0.0572, 0.621] < (0.621, 2.791]]"
      ]
     },
     "execution_count": 67,
     "metadata": {},
     "output_type": "execute_result"
    }
   ],
   "source": [
    "data = np.random.randn(1000) # Normally distributed\n",
    "cats = pd.qcut(data, 4) # Cut into quartiles\n",
    "cats"
   ]
  },
  {
   "cell_type": "code",
   "execution_count": 69,
   "id": "84f1a41c-7e8a-4fba-b352-2308f11ca126",
   "metadata": {},
   "outputs": [
    {
     "data": {
      "text/plain": [
       "(-3.0789999999999997, -0.738]    250\n",
       "(-0.738, -0.0572]                250\n",
       "(-0.0572, 0.621]                 250\n",
       "(0.621, 2.791]                   250\n",
       "Name: count, dtype: int64"
      ]
     },
     "execution_count": 69,
     "metadata": {},
     "output_type": "execute_result"
    }
   ],
   "source": [
    "cats.value_counts(cats)"
   ]
  },
  {
   "cell_type": "markdown",
   "id": "26ed620d-e226-4591-bd8e-375d26c9c7c6",
   "metadata": {},
   "source": [
    "Similar to cut you can pass your own quantiles (numbers between 0 and 1, inclusive):\n"
   ]
  },
  {
   "cell_type": "code",
   "execution_count": 70,
   "id": "3f16449d-ca9c-409a-99ca-ad849511f1b6",
   "metadata": {},
   "outputs": [
    {
     "data": {
      "text/plain": [
       "[(-1.366, -0.0572], (1.286, 2.791], (-0.0572, 1.286], (-1.366, -0.0572], (-0.0572, 1.286], ..., (-3.0789999999999997, -1.366], (-0.0572, 1.286], (-0.0572, 1.286], (-1.366, -0.0572], (-3.0789999999999997, -1.366]]\n",
       "Length: 1000\n",
       "Categories (4, interval[float64, right]): [(-3.0789999999999997, -1.366] < (-1.366, -0.0572] < (-0.0572, 1.286] < (1.286, 2.791]]"
      ]
     },
     "execution_count": 70,
     "metadata": {},
     "output_type": "execute_result"
    }
   ],
   "source": [
    "pd.qcut(data, [0, 0.1, 0.5, 0.9, 1.])"
   ]
  },
  {
   "cell_type": "markdown",
   "id": "8c8a0906-04e1-4cfe-bcfe-ad6bd407c5df",
   "metadata": {},
   "source": [
    "__These discretization functions are especially useful for quantile and group analysis.__"
   ]
  },
  {
   "cell_type": "markdown",
   "id": "4c9ab017-736e-4631-98dd-507571243fb2",
   "metadata": {},
   "source": [
    "## Detecting and Filtering Outliers"
   ]
  },
  {
   "cell_type": "code",
   "execution_count": 71,
   "id": "8726dd84-a70a-4e80-b5fc-ec3018a42213",
   "metadata": {},
   "outputs": [
    {
     "data": {
      "text/html": [
       "<div>\n",
       "<style scoped>\n",
       "    .dataframe tbody tr th:only-of-type {\n",
       "        vertical-align: middle;\n",
       "    }\n",
       "\n",
       "    .dataframe tbody tr th {\n",
       "        vertical-align: top;\n",
       "    }\n",
       "\n",
       "    .dataframe thead th {\n",
       "        text-align: right;\n",
       "    }\n",
       "</style>\n",
       "<table border=\"1\" class=\"dataframe\">\n",
       "  <thead>\n",
       "    <tr style=\"text-align: right;\">\n",
       "      <th></th>\n",
       "      <th>0</th>\n",
       "      <th>1</th>\n",
       "      <th>2</th>\n",
       "      <th>3</th>\n",
       "    </tr>\n",
       "  </thead>\n",
       "  <tbody>\n",
       "    <tr>\n",
       "      <th>count</th>\n",
       "      <td>1000.000000</td>\n",
       "      <td>1000.000000</td>\n",
       "      <td>1000.000000</td>\n",
       "      <td>1000.000000</td>\n",
       "    </tr>\n",
       "    <tr>\n",
       "      <th>mean</th>\n",
       "      <td>-0.020634</td>\n",
       "      <td>-0.034581</td>\n",
       "      <td>-0.005099</td>\n",
       "      <td>0.024640</td>\n",
       "    </tr>\n",
       "    <tr>\n",
       "      <th>std</th>\n",
       "      <td>1.011342</td>\n",
       "      <td>0.992569</td>\n",
       "      <td>0.995622</td>\n",
       "      <td>1.013271</td>\n",
       "    </tr>\n",
       "    <tr>\n",
       "      <th>min</th>\n",
       "      <td>-2.836871</td>\n",
       "      <td>-3.804096</td>\n",
       "      <td>-2.858322</td>\n",
       "      <td>-3.379322</td>\n",
       "    </tr>\n",
       "    <tr>\n",
       "      <th>25%</th>\n",
       "      <td>-0.714497</td>\n",
       "      <td>-0.683013</td>\n",
       "      <td>-0.633063</td>\n",
       "      <td>-0.673437</td>\n",
       "    </tr>\n",
       "    <tr>\n",
       "      <th>50%</th>\n",
       "      <td>-0.024782</td>\n",
       "      <td>-0.032270</td>\n",
       "      <td>0.004909</td>\n",
       "      <td>0.024138</td>\n",
       "    </tr>\n",
       "    <tr>\n",
       "      <th>75%</th>\n",
       "      <td>0.649325</td>\n",
       "      <td>0.619053</td>\n",
       "      <td>0.615750</td>\n",
       "      <td>0.676557</td>\n",
       "    </tr>\n",
       "    <tr>\n",
       "      <th>max</th>\n",
       "      <td>3.892747</td>\n",
       "      <td>3.416569</td>\n",
       "      <td>3.058031</td>\n",
       "      <td>3.187547</td>\n",
       "    </tr>\n",
       "  </tbody>\n",
       "</table>\n",
       "</div>"
      ],
      "text/plain": [
       "                 0            1            2            3\n",
       "count  1000.000000  1000.000000  1000.000000  1000.000000\n",
       "mean     -0.020634    -0.034581    -0.005099     0.024640\n",
       "std       1.011342     0.992569     0.995622     1.013271\n",
       "min      -2.836871    -3.804096    -2.858322    -3.379322\n",
       "25%      -0.714497    -0.683013    -0.633063    -0.673437\n",
       "50%      -0.024782    -0.032270     0.004909     0.024138\n",
       "75%       0.649325     0.619053     0.615750     0.676557\n",
       "max       3.892747     3.416569     3.058031     3.187547"
      ]
     },
     "execution_count": 71,
     "metadata": {},
     "output_type": "execute_result"
    }
   ],
   "source": [
    "data = pd.DataFrame(np.random.randn(1000, 4))\n",
    "data.describe()"
   ]
  },
  {
   "cell_type": "markdown",
   "id": "94798563-05aa-430c-9219-e70f52f301b0",
   "metadata": {},
   "source": [
    "Suppose you wanted to find values in one of the columns exceeding 3 in absolute\n",
    "value:"
   ]
  },
  {
   "cell_type": "code",
   "execution_count": 72,
   "id": "24827eb7-722a-4a83-89bf-9f1bd3c38267",
   "metadata": {},
   "outputs": [
    {
     "data": {
      "text/plain": [
       "653    3.022068\n",
       "664    3.058031\n",
       "Name: 2, dtype: float64"
      ]
     },
     "execution_count": 72,
     "metadata": {},
     "output_type": "execute_result"
    }
   ],
   "source": [
    "col = data[2]\n",
    "col[np.abs(col) > 3]"
   ]
  },
  {
   "cell_type": "markdown",
   "id": "0f5e2c7d-15d7-424b-a909-5019dac7d71f",
   "metadata": {},
   "source": [
    "Values can be set based on these criteria. Here is code to cap values outside the interval –3 to 3:"
   ]
  },
  {
   "cell_type": "code",
   "execution_count": 75,
   "id": "6cd89265-538f-435c-ba6d-ef2ce1180f17",
   "metadata": {},
   "outputs": [
    {
     "data": {
      "text/html": [
       "<div>\n",
       "<style scoped>\n",
       "    .dataframe tbody tr th:only-of-type {\n",
       "        vertical-align: middle;\n",
       "    }\n",
       "\n",
       "    .dataframe tbody tr th {\n",
       "        vertical-align: top;\n",
       "    }\n",
       "\n",
       "    .dataframe thead th {\n",
       "        text-align: right;\n",
       "    }\n",
       "</style>\n",
       "<table border=\"1\" class=\"dataframe\">\n",
       "  <thead>\n",
       "    <tr style=\"text-align: right;\">\n",
       "      <th></th>\n",
       "      <th>0</th>\n",
       "      <th>1</th>\n",
       "      <th>2</th>\n",
       "      <th>3</th>\n",
       "    </tr>\n",
       "  </thead>\n",
       "  <tbody>\n",
       "    <tr>\n",
       "      <th>count</th>\n",
       "      <td>1000.000000</td>\n",
       "      <td>1000.000000</td>\n",
       "      <td>1000.000000</td>\n",
       "      <td>1000.000000</td>\n",
       "    </tr>\n",
       "    <tr>\n",
       "      <th>mean</th>\n",
       "      <td>-0.021549</td>\n",
       "      <td>-0.034194</td>\n",
       "      <td>-0.005179</td>\n",
       "      <td>0.024825</td>\n",
       "    </tr>\n",
       "    <tr>\n",
       "      <th>std</th>\n",
       "      <td>1.008208</td>\n",
       "      <td>0.988467</td>\n",
       "      <td>0.995378</td>\n",
       "      <td>1.011475</td>\n",
       "    </tr>\n",
       "    <tr>\n",
       "      <th>min</th>\n",
       "      <td>-2.836871</td>\n",
       "      <td>-3.000000</td>\n",
       "      <td>-2.858322</td>\n",
       "      <td>-3.000000</td>\n",
       "    </tr>\n",
       "    <tr>\n",
       "      <th>25%</th>\n",
       "      <td>-0.714497</td>\n",
       "      <td>-0.683013</td>\n",
       "      <td>-0.633063</td>\n",
       "      <td>-0.673437</td>\n",
       "    </tr>\n",
       "    <tr>\n",
       "      <th>50%</th>\n",
       "      <td>-0.024782</td>\n",
       "      <td>-0.032270</td>\n",
       "      <td>0.004909</td>\n",
       "      <td>0.024138</td>\n",
       "    </tr>\n",
       "    <tr>\n",
       "      <th>75%</th>\n",
       "      <td>0.649325</td>\n",
       "      <td>0.619053</td>\n",
       "      <td>0.615750</td>\n",
       "      <td>0.676557</td>\n",
       "    </tr>\n",
       "    <tr>\n",
       "      <th>max</th>\n",
       "      <td>3.000000</td>\n",
       "      <td>3.000000</td>\n",
       "      <td>3.000000</td>\n",
       "      <td>3.000000</td>\n",
       "    </tr>\n",
       "  </tbody>\n",
       "</table>\n",
       "</div>"
      ],
      "text/plain": [
       "                 0            1            2            3\n",
       "count  1000.000000  1000.000000  1000.000000  1000.000000\n",
       "mean     -0.021549    -0.034194    -0.005179     0.024825\n",
       "std       1.008208     0.988467     0.995378     1.011475\n",
       "min      -2.836871    -3.000000    -2.858322    -3.000000\n",
       "25%      -0.714497    -0.683013    -0.633063    -0.673437\n",
       "50%      -0.024782    -0.032270     0.004909     0.024138\n",
       "75%       0.649325     0.619053     0.615750     0.676557\n",
       "max       3.000000     3.000000     3.000000     3.000000"
      ]
     },
     "execution_count": 75,
     "metadata": {},
     "output_type": "execute_result"
    }
   ],
   "source": [
    "data[np.abs(data) > 3] = np.sign(data) * 3\n",
    "data.describe()"
   ]
  },
  {
   "cell_type": "markdown",
   "id": "48bb5dc4-ccfe-4061-8fd2-b9cf9ea72067",
   "metadata": {},
   "source": [
    "__The statement np.sign(data) produces 1 and –1 values based on whether the values in data are positive or negative:__\n"
   ]
  },
  {
   "cell_type": "code",
   "execution_count": 76,
   "id": "e0163ac1-4a2a-4f69-8e2b-c258013f4aa1",
   "metadata": {},
   "outputs": [
    {
     "data": {
      "text/html": [
       "<div>\n",
       "<style scoped>\n",
       "    .dataframe tbody tr th:only-of-type {\n",
       "        vertical-align: middle;\n",
       "    }\n",
       "\n",
       "    .dataframe tbody tr th {\n",
       "        vertical-align: top;\n",
       "    }\n",
       "\n",
       "    .dataframe thead th {\n",
       "        text-align: right;\n",
       "    }\n",
       "</style>\n",
       "<table border=\"1\" class=\"dataframe\">\n",
       "  <thead>\n",
       "    <tr style=\"text-align: right;\">\n",
       "      <th></th>\n",
       "      <th>0</th>\n",
       "      <th>1</th>\n",
       "      <th>2</th>\n",
       "      <th>3</th>\n",
       "    </tr>\n",
       "  </thead>\n",
       "  <tbody>\n",
       "    <tr>\n",
       "      <th>0</th>\n",
       "      <td>-1.0</td>\n",
       "      <td>-1.0</td>\n",
       "      <td>1.0</td>\n",
       "      <td>1.0</td>\n",
       "    </tr>\n",
       "    <tr>\n",
       "      <th>1</th>\n",
       "      <td>-1.0</td>\n",
       "      <td>-1.0</td>\n",
       "      <td>1.0</td>\n",
       "      <td>-1.0</td>\n",
       "    </tr>\n",
       "    <tr>\n",
       "      <th>2</th>\n",
       "      <td>-1.0</td>\n",
       "      <td>1.0</td>\n",
       "      <td>1.0</td>\n",
       "      <td>-1.0</td>\n",
       "    </tr>\n",
       "    <tr>\n",
       "      <th>3</th>\n",
       "      <td>-1.0</td>\n",
       "      <td>1.0</td>\n",
       "      <td>1.0</td>\n",
       "      <td>1.0</td>\n",
       "    </tr>\n",
       "    <tr>\n",
       "      <th>4</th>\n",
       "      <td>-1.0</td>\n",
       "      <td>1.0</td>\n",
       "      <td>1.0</td>\n",
       "      <td>-1.0</td>\n",
       "    </tr>\n",
       "  </tbody>\n",
       "</table>\n",
       "</div>"
      ],
      "text/plain": [
       "     0    1    2    3\n",
       "0 -1.0 -1.0  1.0  1.0\n",
       "1 -1.0 -1.0  1.0 -1.0\n",
       "2 -1.0  1.0  1.0 -1.0\n",
       "3 -1.0  1.0  1.0  1.0\n",
       "4 -1.0  1.0  1.0 -1.0"
      ]
     },
     "execution_count": 76,
     "metadata": {},
     "output_type": "execute_result"
    }
   ],
   "source": [
    "np.sign(data).head()"
   ]
  },
  {
   "cell_type": "markdown",
   "id": "b203ddb3-86e2-4eae-80aa-03d16d6461f6",
   "metadata": {},
   "source": [
    "## Permutation and Random Sampling"
   ]
  },
  {
   "cell_type": "markdown",
   "id": "60c3a10c-1a9c-4510-8829-91cd0d851953",
   "metadata": {},
   "source": [
    "Permuting (randomly reordering) a Series or the rows in a DataFrame is easy to do\n",
    "using the numpy.random.permutation function. Calling permutation with the length\n",
    "of the axis you want to permute produces an array of integers indicating the new\n",
    "ordering:\n"
   ]
  },
  {
   "cell_type": "code",
   "execution_count": 77,
   "id": "22448272-69f2-420b-9a0c-d0bde933ff9f",
   "metadata": {},
   "outputs": [
    {
     "data": {
      "text/plain": [
       "array([4, 2, 0, 3, 1])"
      ]
     },
     "execution_count": 77,
     "metadata": {},
     "output_type": "execute_result"
    }
   ],
   "source": [
    "df = pd.DataFrame(np.arange(5 * 4).reshape((5, 4)))\n",
    "sampler = np.random.permutation(5)\n",
    "sampler"
   ]
  },
  {
   "cell_type": "markdown",
   "id": "b47c7a10-1cc5-4e64-bad6-8b724a01baef",
   "metadata": {},
   "source": [
    "That array can then be used in iloc-based indexing or the equivalent take function:\n"
   ]
  },
  {
   "cell_type": "code",
   "execution_count": 78,
   "id": "7c600202-c7f4-4c65-aa10-8e2969906a4f",
   "metadata": {},
   "outputs": [
    {
     "data": {
      "text/html": [
       "<div>\n",
       "<style scoped>\n",
       "    .dataframe tbody tr th:only-of-type {\n",
       "        vertical-align: middle;\n",
       "    }\n",
       "\n",
       "    .dataframe tbody tr th {\n",
       "        vertical-align: top;\n",
       "    }\n",
       "\n",
       "    .dataframe thead th {\n",
       "        text-align: right;\n",
       "    }\n",
       "</style>\n",
       "<table border=\"1\" class=\"dataframe\">\n",
       "  <thead>\n",
       "    <tr style=\"text-align: right;\">\n",
       "      <th></th>\n",
       "      <th>0</th>\n",
       "      <th>1</th>\n",
       "      <th>2</th>\n",
       "      <th>3</th>\n",
       "    </tr>\n",
       "  </thead>\n",
       "  <tbody>\n",
       "    <tr>\n",
       "      <th>0</th>\n",
       "      <td>0</td>\n",
       "      <td>1</td>\n",
       "      <td>2</td>\n",
       "      <td>3</td>\n",
       "    </tr>\n",
       "    <tr>\n",
       "      <th>1</th>\n",
       "      <td>4</td>\n",
       "      <td>5</td>\n",
       "      <td>6</td>\n",
       "      <td>7</td>\n",
       "    </tr>\n",
       "    <tr>\n",
       "      <th>2</th>\n",
       "      <td>8</td>\n",
       "      <td>9</td>\n",
       "      <td>10</td>\n",
       "      <td>11</td>\n",
       "    </tr>\n",
       "    <tr>\n",
       "      <th>3</th>\n",
       "      <td>12</td>\n",
       "      <td>13</td>\n",
       "      <td>14</td>\n",
       "      <td>15</td>\n",
       "    </tr>\n",
       "    <tr>\n",
       "      <th>4</th>\n",
       "      <td>16</td>\n",
       "      <td>17</td>\n",
       "      <td>18</td>\n",
       "      <td>19</td>\n",
       "    </tr>\n",
       "  </tbody>\n",
       "</table>\n",
       "</div>"
      ],
      "text/plain": [
       "    0   1   2   3\n",
       "0   0   1   2   3\n",
       "1   4   5   6   7\n",
       "2   8   9  10  11\n",
       "3  12  13  14  15\n",
       "4  16  17  18  19"
      ]
     },
     "execution_count": 78,
     "metadata": {},
     "output_type": "execute_result"
    }
   ],
   "source": [
    "df"
   ]
  },
  {
   "cell_type": "code",
   "execution_count": 79,
   "id": "85659d74-7d6d-47f0-ac15-1584d873bb05",
   "metadata": {},
   "outputs": [
    {
     "data": {
      "text/html": [
       "<div>\n",
       "<style scoped>\n",
       "    .dataframe tbody tr th:only-of-type {\n",
       "        vertical-align: middle;\n",
       "    }\n",
       "\n",
       "    .dataframe tbody tr th {\n",
       "        vertical-align: top;\n",
       "    }\n",
       "\n",
       "    .dataframe thead th {\n",
       "        text-align: right;\n",
       "    }\n",
       "</style>\n",
       "<table border=\"1\" class=\"dataframe\">\n",
       "  <thead>\n",
       "    <tr style=\"text-align: right;\">\n",
       "      <th></th>\n",
       "      <th>0</th>\n",
       "      <th>1</th>\n",
       "      <th>2</th>\n",
       "      <th>3</th>\n",
       "    </tr>\n",
       "  </thead>\n",
       "  <tbody>\n",
       "    <tr>\n",
       "      <th>4</th>\n",
       "      <td>16</td>\n",
       "      <td>17</td>\n",
       "      <td>18</td>\n",
       "      <td>19</td>\n",
       "    </tr>\n",
       "    <tr>\n",
       "      <th>2</th>\n",
       "      <td>8</td>\n",
       "      <td>9</td>\n",
       "      <td>10</td>\n",
       "      <td>11</td>\n",
       "    </tr>\n",
       "    <tr>\n",
       "      <th>0</th>\n",
       "      <td>0</td>\n",
       "      <td>1</td>\n",
       "      <td>2</td>\n",
       "      <td>3</td>\n",
       "    </tr>\n",
       "    <tr>\n",
       "      <th>3</th>\n",
       "      <td>12</td>\n",
       "      <td>13</td>\n",
       "      <td>14</td>\n",
       "      <td>15</td>\n",
       "    </tr>\n",
       "    <tr>\n",
       "      <th>1</th>\n",
       "      <td>4</td>\n",
       "      <td>5</td>\n",
       "      <td>6</td>\n",
       "      <td>7</td>\n",
       "    </tr>\n",
       "  </tbody>\n",
       "</table>\n",
       "</div>"
      ],
      "text/plain": [
       "    0   1   2   3\n",
       "4  16  17  18  19\n",
       "2   8   9  10  11\n",
       "0   0   1   2   3\n",
       "3  12  13  14  15\n",
       "1   4   5   6   7"
      ]
     },
     "execution_count": 79,
     "metadata": {},
     "output_type": "execute_result"
    }
   ],
   "source": [
    "df.take(sampler)"
   ]
  },
  {
   "cell_type": "markdown",
   "id": "9ae9b26d-2bdd-4fd3-95e8-1ff422f09981",
   "metadata": {},
   "source": [
    "To select a random subset without replacement, you can use the sample method on\n",
    "Series and DataFrame:"
   ]
  },
  {
   "cell_type": "code",
   "execution_count": 80,
   "id": "b8367ed9-40ab-4d29-8d70-da12085ac6d7",
   "metadata": {},
   "outputs": [
    {
     "data": {
      "text/html": [
       "<div>\n",
       "<style scoped>\n",
       "    .dataframe tbody tr th:only-of-type {\n",
       "        vertical-align: middle;\n",
       "    }\n",
       "\n",
       "    .dataframe tbody tr th {\n",
       "        vertical-align: top;\n",
       "    }\n",
       "\n",
       "    .dataframe thead th {\n",
       "        text-align: right;\n",
       "    }\n",
       "</style>\n",
       "<table border=\"1\" class=\"dataframe\">\n",
       "  <thead>\n",
       "    <tr style=\"text-align: right;\">\n",
       "      <th></th>\n",
       "      <th>0</th>\n",
       "      <th>1</th>\n",
       "      <th>2</th>\n",
       "      <th>3</th>\n",
       "    </tr>\n",
       "  </thead>\n",
       "  <tbody>\n",
       "    <tr>\n",
       "      <th>3</th>\n",
       "      <td>12</td>\n",
       "      <td>13</td>\n",
       "      <td>14</td>\n",
       "      <td>15</td>\n",
       "    </tr>\n",
       "    <tr>\n",
       "      <th>1</th>\n",
       "      <td>4</td>\n",
       "      <td>5</td>\n",
       "      <td>6</td>\n",
       "      <td>7</td>\n",
       "    </tr>\n",
       "    <tr>\n",
       "      <th>4</th>\n",
       "      <td>16</td>\n",
       "      <td>17</td>\n",
       "      <td>18</td>\n",
       "      <td>19</td>\n",
       "    </tr>\n",
       "  </tbody>\n",
       "</table>\n",
       "</div>"
      ],
      "text/plain": [
       "    0   1   2   3\n",
       "3  12  13  14  15\n",
       "1   4   5   6   7\n",
       "4  16  17  18  19"
      ]
     },
     "execution_count": 80,
     "metadata": {},
     "output_type": "execute_result"
    }
   ],
   "source": [
    "df.sample(n=3)"
   ]
  },
  {
   "cell_type": "markdown",
   "id": "5463d648-bc84-414f-84a1-5b259f81633f",
   "metadata": {},
   "source": [
    "To generate a sample with replacement (to allow repeat choices), pass replace=True\n",
    "to sample:"
   ]
  },
  {
   "cell_type": "code",
   "execution_count": 81,
   "id": "e7b1931f-c035-4d0a-a7cc-de47566fb0a5",
   "metadata": {},
   "outputs": [
    {
     "data": {
      "text/plain": [
       "0    5\n",
       "4    4\n",
       "0    5\n",
       "0    5\n",
       "1    7\n",
       "4    4\n",
       "3    6\n",
       "2   -1\n",
       "2   -1\n",
       "1    7\n",
       "dtype: int64"
      ]
     },
     "execution_count": 81,
     "metadata": {},
     "output_type": "execute_result"
    }
   ],
   "source": [
    "choices = pd.Series([5, 7, -1, 6, 4])\n",
    "draws = choices.sample(n=10, replace=True)\n",
    "draws"
   ]
  },
  {
   "cell_type": "markdown",
   "id": "5b2c0ceb-1937-483c-9ff8-01bb6ba61a4f",
   "metadata": {},
   "source": [
    "## Computing Indicator/Dummy Variables"
   ]
  },
  {
   "cell_type": "markdown",
   "id": "56e80c18-5fad-46cc-b85c-d46537451940",
   "metadata": {},
   "source": [
    "Another type of transformation for statistical modeling or machine learning applications is converting a categorical variable into a “dummy” or “indicator” matrix. \n",
    "If a column in a DataFrame has k distinct values, you would derive a matrix or DataFrame with k columns containing all 1s and 0s. \n",
    "pandas has a _get_dummies_ function for doing this, though devising one yourself is not difficult"
   ]
  },
  {
   "cell_type": "code",
   "execution_count": 82,
   "id": "b1da032a-9e64-4e14-bddd-a560e69eac22",
   "metadata": {},
   "outputs": [
    {
     "data": {
      "text/html": [
       "<div>\n",
       "<style scoped>\n",
       "    .dataframe tbody tr th:only-of-type {\n",
       "        vertical-align: middle;\n",
       "    }\n",
       "\n",
       "    .dataframe tbody tr th {\n",
       "        vertical-align: top;\n",
       "    }\n",
       "\n",
       "    .dataframe thead th {\n",
       "        text-align: right;\n",
       "    }\n",
       "</style>\n",
       "<table border=\"1\" class=\"dataframe\">\n",
       "  <thead>\n",
       "    <tr style=\"text-align: right;\">\n",
       "      <th></th>\n",
       "      <th>key</th>\n",
       "      <th>data1</th>\n",
       "    </tr>\n",
       "  </thead>\n",
       "  <tbody>\n",
       "    <tr>\n",
       "      <th>0</th>\n",
       "      <td>b</td>\n",
       "      <td>0</td>\n",
       "    </tr>\n",
       "    <tr>\n",
       "      <th>1</th>\n",
       "      <td>b</td>\n",
       "      <td>1</td>\n",
       "    </tr>\n",
       "    <tr>\n",
       "      <th>2</th>\n",
       "      <td>a</td>\n",
       "      <td>2</td>\n",
       "    </tr>\n",
       "    <tr>\n",
       "      <th>3</th>\n",
       "      <td>c</td>\n",
       "      <td>3</td>\n",
       "    </tr>\n",
       "    <tr>\n",
       "      <th>4</th>\n",
       "      <td>a</td>\n",
       "      <td>4</td>\n",
       "    </tr>\n",
       "    <tr>\n",
       "      <th>5</th>\n",
       "      <td>b</td>\n",
       "      <td>5</td>\n",
       "    </tr>\n",
       "  </tbody>\n",
       "</table>\n",
       "</div>"
      ],
      "text/plain": [
       "  key  data1\n",
       "0   b      0\n",
       "1   b      1\n",
       "2   a      2\n",
       "3   c      3\n",
       "4   a      4\n",
       "5   b      5"
      ]
     },
     "execution_count": 82,
     "metadata": {},
     "output_type": "execute_result"
    }
   ],
   "source": [
    "df = pd.DataFrame({'key': ['b', 'b', 'a', 'c', 'a', 'b'],\n",
    "                   'data1': range(6)})\n",
    "df"
   ]
  },
  {
   "cell_type": "code",
   "execution_count": 83,
   "id": "fdc86352-69c4-4ade-9cfb-e5d7868070b6",
   "metadata": {},
   "outputs": [
    {
     "data": {
      "text/html": [
       "<div>\n",
       "<style scoped>\n",
       "    .dataframe tbody tr th:only-of-type {\n",
       "        vertical-align: middle;\n",
       "    }\n",
       "\n",
       "    .dataframe tbody tr th {\n",
       "        vertical-align: top;\n",
       "    }\n",
       "\n",
       "    .dataframe thead th {\n",
       "        text-align: right;\n",
       "    }\n",
       "</style>\n",
       "<table border=\"1\" class=\"dataframe\">\n",
       "  <thead>\n",
       "    <tr style=\"text-align: right;\">\n",
       "      <th></th>\n",
       "      <th>a</th>\n",
       "      <th>b</th>\n",
       "      <th>c</th>\n",
       "    </tr>\n",
       "  </thead>\n",
       "  <tbody>\n",
       "    <tr>\n",
       "      <th>0</th>\n",
       "      <td>False</td>\n",
       "      <td>True</td>\n",
       "      <td>False</td>\n",
       "    </tr>\n",
       "    <tr>\n",
       "      <th>1</th>\n",
       "      <td>False</td>\n",
       "      <td>True</td>\n",
       "      <td>False</td>\n",
       "    </tr>\n",
       "    <tr>\n",
       "      <th>2</th>\n",
       "      <td>True</td>\n",
       "      <td>False</td>\n",
       "      <td>False</td>\n",
       "    </tr>\n",
       "    <tr>\n",
       "      <th>3</th>\n",
       "      <td>False</td>\n",
       "      <td>False</td>\n",
       "      <td>True</td>\n",
       "    </tr>\n",
       "    <tr>\n",
       "      <th>4</th>\n",
       "      <td>True</td>\n",
       "      <td>False</td>\n",
       "      <td>False</td>\n",
       "    </tr>\n",
       "    <tr>\n",
       "      <th>5</th>\n",
       "      <td>False</td>\n",
       "      <td>True</td>\n",
       "      <td>False</td>\n",
       "    </tr>\n",
       "  </tbody>\n",
       "</table>\n",
       "</div>"
      ],
      "text/plain": [
       "       a      b      c\n",
       "0  False   True  False\n",
       "1  False   True  False\n",
       "2   True  False  False\n",
       "3  False  False   True\n",
       "4   True  False  False\n",
       "5  False   True  False"
      ]
     },
     "execution_count": 83,
     "metadata": {},
     "output_type": "execute_result"
    }
   ],
   "source": [
    "pd.get_dummies(df['key'])"
   ]
  },
  {
   "cell_type": "markdown",
   "id": "61c9a14b-50dd-4ca4-afcf-ffaf04824106",
   "metadata": {},
   "source": [
    "In some cases, you may want to add a prefix to the columns in the indicator DataFrame, \n",
    "which can then be merged with the other data. _get_dummies_ has a prefix argument for doing this"
   ]
  },
  {
   "cell_type": "code",
   "execution_count": 84,
   "id": "5bd58078-23ef-49f3-94b6-75c39b53c677",
   "metadata": {},
   "outputs": [
    {
     "data": {
      "text/html": [
       "<div>\n",
       "<style scoped>\n",
       "    .dataframe tbody tr th:only-of-type {\n",
       "        vertical-align: middle;\n",
       "    }\n",
       "\n",
       "    .dataframe tbody tr th {\n",
       "        vertical-align: top;\n",
       "    }\n",
       "\n",
       "    .dataframe thead th {\n",
       "        text-align: right;\n",
       "    }\n",
       "</style>\n",
       "<table border=\"1\" class=\"dataframe\">\n",
       "  <thead>\n",
       "    <tr style=\"text-align: right;\">\n",
       "      <th></th>\n",
       "      <th>data1</th>\n",
       "      <th>key_a</th>\n",
       "      <th>key_b</th>\n",
       "      <th>key_c</th>\n",
       "    </tr>\n",
       "  </thead>\n",
       "  <tbody>\n",
       "    <tr>\n",
       "      <th>0</th>\n",
       "      <td>0</td>\n",
       "      <td>False</td>\n",
       "      <td>True</td>\n",
       "      <td>False</td>\n",
       "    </tr>\n",
       "    <tr>\n",
       "      <th>1</th>\n",
       "      <td>1</td>\n",
       "      <td>False</td>\n",
       "      <td>True</td>\n",
       "      <td>False</td>\n",
       "    </tr>\n",
       "    <tr>\n",
       "      <th>2</th>\n",
       "      <td>2</td>\n",
       "      <td>True</td>\n",
       "      <td>False</td>\n",
       "      <td>False</td>\n",
       "    </tr>\n",
       "    <tr>\n",
       "      <th>3</th>\n",
       "      <td>3</td>\n",
       "      <td>False</td>\n",
       "      <td>False</td>\n",
       "      <td>True</td>\n",
       "    </tr>\n",
       "    <tr>\n",
       "      <th>4</th>\n",
       "      <td>4</td>\n",
       "      <td>True</td>\n",
       "      <td>False</td>\n",
       "      <td>False</td>\n",
       "    </tr>\n",
       "    <tr>\n",
       "      <th>5</th>\n",
       "      <td>5</td>\n",
       "      <td>False</td>\n",
       "      <td>True</td>\n",
       "      <td>False</td>\n",
       "    </tr>\n",
       "  </tbody>\n",
       "</table>\n",
       "</div>"
      ],
      "text/plain": [
       "   data1  key_a  key_b  key_c\n",
       "0      0  False   True  False\n",
       "1      1  False   True  False\n",
       "2      2   True  False  False\n",
       "3      3  False  False   True\n",
       "4      4   True  False  False\n",
       "5      5  False   True  False"
      ]
     },
     "execution_count": 84,
     "metadata": {},
     "output_type": "execute_result"
    }
   ],
   "source": [
    "dummies = pd.get_dummies(df['key'], prefix='key')\n",
    "df_with_dummy = df[['data1']].join(dummies)\n",
    "df_with_dummy "
   ]
  },
  {
   "cell_type": "markdown",
   "id": "ec3e9b91-6711-45db-8790-0d10ead97715",
   "metadata": {},
   "source": [
    "__A useful recipe for statistical applications is to combine get_dummies with a discretization function like cut:__"
   ]
  },
  {
   "cell_type": "code",
   "execution_count": 85,
   "id": "f6324883-b7b6-4fcc-b335-c71d7ba52455",
   "metadata": {},
   "outputs": [
    {
     "data": {
      "text/plain": [
       "array([0.92961609, 0.31637555, 0.18391881, 0.20456028, 0.56772503,\n",
       "       0.5955447 , 0.96451452, 0.6531771 , 0.74890664, 0.65356987])"
      ]
     },
     "execution_count": 85,
     "metadata": {},
     "output_type": "execute_result"
    }
   ],
   "source": [
    "np.random.seed(12345)\n",
    "values = np.random.rand(10)\n",
    "values"
   ]
  },
  {
   "cell_type": "code",
   "execution_count": 86,
   "id": "a66ffdc3-804d-4ca0-9073-4a6116a38460",
   "metadata": {},
   "outputs": [
    {
     "data": {
      "text/html": [
       "<div>\n",
       "<style scoped>\n",
       "    .dataframe tbody tr th:only-of-type {\n",
       "        vertical-align: middle;\n",
       "    }\n",
       "\n",
       "    .dataframe tbody tr th {\n",
       "        vertical-align: top;\n",
       "    }\n",
       "\n",
       "    .dataframe thead th {\n",
       "        text-align: right;\n",
       "    }\n",
       "</style>\n",
       "<table border=\"1\" class=\"dataframe\">\n",
       "  <thead>\n",
       "    <tr style=\"text-align: right;\">\n",
       "      <th></th>\n",
       "      <th>(0.0, 0.2]</th>\n",
       "      <th>(0.2, 0.4]</th>\n",
       "      <th>(0.4, 0.6]</th>\n",
       "      <th>(0.6, 0.8]</th>\n",
       "      <th>(0.8, 1.0]</th>\n",
       "    </tr>\n",
       "  </thead>\n",
       "  <tbody>\n",
       "    <tr>\n",
       "      <th>0</th>\n",
       "      <td>False</td>\n",
       "      <td>False</td>\n",
       "      <td>False</td>\n",
       "      <td>False</td>\n",
       "      <td>True</td>\n",
       "    </tr>\n",
       "    <tr>\n",
       "      <th>1</th>\n",
       "      <td>False</td>\n",
       "      <td>True</td>\n",
       "      <td>False</td>\n",
       "      <td>False</td>\n",
       "      <td>False</td>\n",
       "    </tr>\n",
       "    <tr>\n",
       "      <th>2</th>\n",
       "      <td>True</td>\n",
       "      <td>False</td>\n",
       "      <td>False</td>\n",
       "      <td>False</td>\n",
       "      <td>False</td>\n",
       "    </tr>\n",
       "    <tr>\n",
       "      <th>3</th>\n",
       "      <td>False</td>\n",
       "      <td>True</td>\n",
       "      <td>False</td>\n",
       "      <td>False</td>\n",
       "      <td>False</td>\n",
       "    </tr>\n",
       "    <tr>\n",
       "      <th>4</th>\n",
       "      <td>False</td>\n",
       "      <td>False</td>\n",
       "      <td>True</td>\n",
       "      <td>False</td>\n",
       "      <td>False</td>\n",
       "    </tr>\n",
       "    <tr>\n",
       "      <th>5</th>\n",
       "      <td>False</td>\n",
       "      <td>False</td>\n",
       "      <td>True</td>\n",
       "      <td>False</td>\n",
       "      <td>False</td>\n",
       "    </tr>\n",
       "    <tr>\n",
       "      <th>6</th>\n",
       "      <td>False</td>\n",
       "      <td>False</td>\n",
       "      <td>False</td>\n",
       "      <td>False</td>\n",
       "      <td>True</td>\n",
       "    </tr>\n",
       "    <tr>\n",
       "      <th>7</th>\n",
       "      <td>False</td>\n",
       "      <td>False</td>\n",
       "      <td>False</td>\n",
       "      <td>True</td>\n",
       "      <td>False</td>\n",
       "    </tr>\n",
       "    <tr>\n",
       "      <th>8</th>\n",
       "      <td>False</td>\n",
       "      <td>False</td>\n",
       "      <td>False</td>\n",
       "      <td>True</td>\n",
       "      <td>False</td>\n",
       "    </tr>\n",
       "    <tr>\n",
       "      <th>9</th>\n",
       "      <td>False</td>\n",
       "      <td>False</td>\n",
       "      <td>False</td>\n",
       "      <td>True</td>\n",
       "      <td>False</td>\n",
       "    </tr>\n",
       "  </tbody>\n",
       "</table>\n",
       "</div>"
      ],
      "text/plain": [
       "   (0.0, 0.2]  (0.2, 0.4]  (0.4, 0.6]  (0.6, 0.8]  (0.8, 1.0]\n",
       "0       False       False       False       False        True\n",
       "1       False        True       False       False       False\n",
       "2        True       False       False       False       False\n",
       "3       False        True       False       False       False\n",
       "4       False       False        True       False       False\n",
       "5       False       False        True       False       False\n",
       "6       False       False       False       False        True\n",
       "7       False       False       False        True       False\n",
       "8       False       False       False        True       False\n",
       "9       False       False       False        True       False"
      ]
     },
     "execution_count": 86,
     "metadata": {},
     "output_type": "execute_result"
    }
   ],
   "source": [
    "bins = [0, 0.2, 0.4, 0.6, 0.8, 1]\n",
    "pd.get_dummies(pd.cut(values, bins))"
   ]
  },
  {
   "cell_type": "markdown",
   "id": "dd6dd258-164b-4df1-be08-4f3a1d7b7447",
   "metadata": {},
   "source": [
    "# String Manipulation"
   ]
  },
  {
   "cell_type": "markdown",
   "id": "63b2bfcf-d46e-4b5f-97b6-de1339cb1f04",
   "metadata": {
    "jp-MarkdownHeadingCollapsed": true
   },
   "source": [
    "## String Object Methods"
   ]
  },
  {
   "cell_type": "markdown",
   "id": "7a74534e-5a54-4ee5-9d77-d358ff414224",
   "metadata": {},
   "source": [
    "In many string munging and scripting applications, built-in string methods are sufficient. \n",
    "As an example, a comma-separated string can be broken into pieces with split:"
   ]
  },
  {
   "cell_type": "code",
   "execution_count": 87,
   "id": "8ebc99f2-6c10-4b96-871b-eaedccb3af45",
   "metadata": {},
   "outputs": [
    {
     "data": {
      "text/plain": [
       "['a', 'b', ' guido']"
      ]
     },
     "execution_count": 87,
     "metadata": {},
     "output_type": "execute_result"
    }
   ],
   "source": [
    "val = 'a,b, guido'\n",
    "val.split(',')"
   ]
  },
  {
   "cell_type": "markdown",
   "id": "0306d737-5bc2-46a3-9353-a166664dad30",
   "metadata": {},
   "source": [
    "split is often combined with strip to trim whitespace (including line breaks):"
   ]
  },
  {
   "cell_type": "code",
   "execution_count": 88,
   "id": "d5ad92e0-de7d-4637-a0c6-5aa2f3e5ecfa",
   "metadata": {},
   "outputs": [
    {
     "data": {
      "text/plain": [
       "['a', 'b', 'guido']"
      ]
     },
     "execution_count": 88,
     "metadata": {},
     "output_type": "execute_result"
    }
   ],
   "source": [
    "pieces = [x.strip() for x in val.split(',')]\n",
    "pieces"
   ]
  },
  {
   "cell_type": "markdown",
   "id": "6c192326-32c9-41c9-8e4c-4745277e63e0",
   "metadata": {},
   "source": [
    "These substrings could be concatenated together with a two-colon delimiter using\r\n",
    "addition:"
   ]
  },
  {
   "cell_type": "code",
   "execution_count": 89,
   "id": "22ad6bae-5621-47b7-9abf-ef32bc13a09f",
   "metadata": {},
   "outputs": [
    {
     "data": {
      "text/plain": [
       "'a::b::guido'"
      ]
     },
     "execution_count": 89,
     "metadata": {},
     "output_type": "execute_result"
    }
   ],
   "source": [
    "first, second, third = pieces\n",
    "first + '::' + second + '::' + third"
   ]
  },
  {
   "cell_type": "markdown",
   "id": "2b648a32-d647-4076-9210-d693ebe906d8",
   "metadata": {},
   "source": [
    "But this isn’t a practical generic method. A faster and more Pythonic way is to pass a\n",
    "list or tuple to the join method on the string '::':"
   ]
  },
  {
   "cell_type": "code",
   "execution_count": 90,
   "id": "f2e406fc-c707-47ab-ab58-422e0bf5c8b2",
   "metadata": {},
   "outputs": [
    {
     "data": {
      "text/plain": [
       "'a::b::guido'"
      ]
     },
     "execution_count": 90,
     "metadata": {},
     "output_type": "execute_result"
    }
   ],
   "source": [
    "'::'.join(pieces)"
   ]
  },
  {
   "cell_type": "markdown",
   "id": "f9cbc304-1d7f-4d8c-a3ef-90cb97d53244",
   "metadata": {},
   "source": [
    "__Other methods are concerned with locating substrings. Using Python’s in keyword is\n",
    "the best way to detect a substring, though index and find can also be used__"
   ]
  },
  {
   "cell_type": "code",
   "execution_count": 91,
   "id": "c45ad5de-c4c9-4d60-9d5b-1bd1fa0004c5",
   "metadata": {},
   "outputs": [
    {
     "data": {
      "text/plain": [
       "True"
      ]
     },
     "execution_count": 91,
     "metadata": {},
     "output_type": "execute_result"
    }
   ],
   "source": [
    "'guido' in val"
   ]
  },
  {
   "cell_type": "code",
   "execution_count": 92,
   "id": "5f399ba5-9215-4217-9388-f0ccb47e2c59",
   "metadata": {},
   "outputs": [
    {
     "data": {
      "text/plain": [
       "1"
      ]
     },
     "execution_count": 92,
     "metadata": {},
     "output_type": "execute_result"
    }
   ],
   "source": [
    "val.index(',')"
   ]
  },
  {
   "cell_type": "code",
   "execution_count": 93,
   "id": "420d58db-171a-4988-a09e-0b61aa99f5db",
   "metadata": {},
   "outputs": [
    {
     "data": {
      "text/plain": [
       "-1"
      ]
     },
     "execution_count": 93,
     "metadata": {},
     "output_type": "execute_result"
    }
   ],
   "source": [
    "val.find(':')"
   ]
  },
  {
   "cell_type": "code",
   "execution_count": 94,
   "id": "04b8d35d-d949-4c41-b9d4-a10839ac4457",
   "metadata": {},
   "outputs": [
    {
     "data": {
      "text/plain": [
       "2"
      ]
     },
     "execution_count": 94,
     "metadata": {},
     "output_type": "execute_result"
    }
   ],
   "source": [
    "# count returns the number of occurrences of a particular substring:\n",
    "val.count(',')"
   ]
  },
  {
   "cell_type": "markdown",
   "id": "94d1eecb-9237-44b4-9539-eb69213e0282",
   "metadata": {},
   "source": [
    "replace will substitute occurrences of one pattern for another. It is commonly used\n",
    "to delete patterns, too, by passing an empty string:\n"
   ]
  },
  {
   "cell_type": "code",
   "execution_count": 95,
   "id": "a0d2e41a-faac-4b5e-b2e9-2535a0845b87",
   "metadata": {},
   "outputs": [
    {
     "data": {
      "text/plain": [
       "'ab guido'"
      ]
     },
     "execution_count": 95,
     "metadata": {},
     "output_type": "execute_result"
    }
   ],
   "source": [
    "val.replace(',', '')"
   ]
  },
  {
   "cell_type": "markdown",
   "id": "8608ac52-4e3c-47f6-bccb-91bf926587c5",
   "metadata": {
    "jp-MarkdownHeadingCollapsed": true
   },
   "source": [
    "## Regex"
   ]
  },
  {
   "cell_type": "code",
   "execution_count": 97,
   "id": "9ff220d2-80fd-4608-b0e5-faf77039e4fb",
   "metadata": {},
   "outputs": [
    {
     "data": {
      "text/plain": [
       "['dave@google.com', 'steve@gmail.com', 'rob@gmail.com', 'ryan@yahoo.com']"
      ]
     },
     "execution_count": 97,
     "metadata": {},
     "output_type": "execute_result"
    }
   ],
   "source": [
    "import re\n",
    "\n",
    "text = \"\"\"Dave dave@google.com\n",
    "Steve steve@gmail.com\n",
    "Rob rob@gmail.com\n",
    "Ryan ryan@yahoo.com\n",
    "\"\"\"\n",
    "\n",
    "pattern = r'[A-Z0-9._%+-]+@[A-Z0-9.-]+\\.[A-Z]{2,4}'\n",
    "\n",
    "# re.IGNORECASE makes the regex case-insensitive\n",
    "regex = re.compile(pattern, flags=re.IGNORECASE)\n",
    "regex.findall(text)"
   ]
  },
  {
   "cell_type": "markdown",
   "id": "0aebf822-ee6c-43ae-b71b-37cd23ecf734",
   "metadata": {},
   "source": [
    "__Creating a regex object with re.compile is highly recommended if you intend to\n",
    "apply the same expression to many strings; doing so will save CPU cycles.__\n",
    "\n",
    "While findall returns all matches\r\n",
    "in a string, search returns only the first match. More rigidly, match only matches at\r\n",
    "the beginning of the string. "
   ]
  },
  {
   "cell_type": "markdown",
   "id": "e055331c-e348-413e-9f3e-dad103b688ef",
   "metadata": {},
   "source": [
    "## Vectorized String Functions in pandas\r"
   ]
  },
  {
   "cell_type": "markdown",
   "id": "c7a1bbf4-5a59-4196-8936-036458d343ae",
   "metadata": {},
   "source": [
    "Cleaning up a messy dataset for analysis often requires a lot of string munging and\n",
    "regularization. To complicate matters, a column containing strings will sometimes\n",
    "have missing data:"
   ]
  },
  {
   "cell_type": "code",
   "execution_count": 98,
   "id": "2d3b685d-c9f9-4e6e-9c6e-b0ab75e19df3",
   "metadata": {},
   "outputs": [
    {
     "data": {
      "text/plain": [
       "Dave     dave@google.com\n",
       "Steve    steve@gmail.com\n",
       "Rob        rob@gmail.com\n",
       "Wes                  NaN\n",
       "dtype: object"
      ]
     },
     "execution_count": 98,
     "metadata": {},
     "output_type": "execute_result"
    }
   ],
   "source": [
    "data = {'Dave': 'dave@google.com', 'Steve': 'steve@gmail.com',\n",
    "        'Rob': 'rob@gmail.com', 'Wes': np.nan}\n",
    "data = pd.Series(data)\n",
    "data"
   ]
  },
  {
   "cell_type": "code",
   "execution_count": 99,
   "id": "bb8911ad-b2a6-4910-8422-21c6e685bdb9",
   "metadata": {},
   "outputs": [
    {
     "data": {
      "text/plain": [
       "Dave     False\n",
       "Steve    False\n",
       "Rob      False\n",
       "Wes       True\n",
       "dtype: bool"
      ]
     },
     "execution_count": 99,
     "metadata": {},
     "output_type": "execute_result"
    }
   ],
   "source": [
    "data.isnull()"
   ]
  },
  {
   "cell_type": "markdown",
   "id": "f9063482-de1e-43a5-8a49-b25292321af2",
   "metadata": {},
   "source": [
    "You can apply string and regular expression methods can be applied (passing a\n",
    "lambda or other function) to each value using data.map, but it will fail on the NA\n",
    "(null) values. To cope with this, Series has array-oriented methods for string operations that skip NA values. \n",
    "These are accessed through Series’s str attribute; for example, we could check whether each email address has 'gmail' in it with str.contains:\n"
   ]
  },
  {
   "cell_type": "code",
   "execution_count": 100,
   "id": "210b404c-3f59-48ec-bf48-19a80ef2b820",
   "metadata": {},
   "outputs": [
    {
     "data": {
      "text/plain": [
       "Dave     False\n",
       "Steve     True\n",
       "Rob       True\n",
       "Wes        NaN\n",
       "dtype: object"
      ]
     },
     "execution_count": 100,
     "metadata": {},
     "output_type": "execute_result"
    }
   ],
   "source": [
    "data.str.contains('gmail')"
   ]
  },
  {
   "cell_type": "markdown",
   "id": "06cfff86-136e-4a23-8677-9e0df3b0b9ef",
   "metadata": {},
   "source": [
    "There are a couple of ways to do vectorized element retrieval. Either use str.get or\n",
    "index into the str attribute:\n"
   ]
  },
  {
   "cell_type": "code",
   "execution_count": 102,
   "id": "a9e04277-04a8-4537-a039-468bc052b8d1",
   "metadata": {},
   "outputs": [
    {
     "data": {
      "text/plain": [
       "Dave     True\n",
       "Steve    True\n",
       "Rob      True\n",
       "Wes       NaN\n",
       "dtype: object"
      ]
     },
     "execution_count": 102,
     "metadata": {},
     "output_type": "execute_result"
    }
   ],
   "source": [
    "matches = data.str.match(pattern, flags=re.IGNORECASE)\n",
    "matches"
   ]
  },
  {
   "cell_type": "markdown",
   "id": "643cf590-fdc8-4e34-938d-cd3e2e169f8a",
   "metadata": {},
   "source": [
    "To access elements in the embedded lists, we can pass an index to either of these\n",
    "functions:"
   ]
  },
  {
   "cell_type": "code",
   "execution_count": 106,
   "id": "d95ee642-8e44-4fc9-8abd-34b2b6cf2ab4",
   "metadata": {},
   "outputs": [],
   "source": [
    "# matches.str.get(1)\n",
    "# matches.str[0]"
   ]
  },
  {
   "cell_type": "markdown",
   "id": "fc491ea6-241f-47a7-9490-475ba8339de3",
   "metadata": {},
   "source": [
    "You can similarly slice strings using this syntax:\n"
   ]
  },
  {
   "cell_type": "code",
   "execution_count": 107,
   "id": "a26bb8d4-25ce-4ac1-80ab-b79acc55158c",
   "metadata": {},
   "outputs": [
    {
     "data": {
      "text/plain": [
       "Dave     dave@\n",
       "Steve    steve\n",
       "Rob      rob@g\n",
       "Wes        NaN\n",
       "dtype: object"
      ]
     },
     "execution_count": 107,
     "metadata": {},
     "output_type": "execute_result"
    }
   ],
   "source": [
    "data.str[:5]"
   ]
  },
  {
   "cell_type": "markdown",
   "id": "32780f09-af41-45a8-9e7b-7e54ee4eaf48",
   "metadata": {},
   "source": [
    "### Vectorized string methods"
   ]
  },
  {
   "cell_type": "markdown",
   "id": "85590bff-bb51-49de-ac4a-6aa7d663fbf0",
   "metadata": {},
   "source": [
    "_cat_ Concatenate strings element-wise with optional delimiter\n",
    "\n",
    "_contains_ Return boolean array if each string contains pattern/regex\n",
    "\n",
    "_count_ Count occurrences of pattern\n",
    "\n",
    "_extract_ Use a regular expression with groups to extract one or more strings from a Series of strings; the result\n",
    "will be a DataFrame with one column per group\n",
    "\n",
    "_endswith_ Equivalent to x.endswith(pattern) for each element\n",
    "\n",
    "_startswith_ Equivalent to x.startswith(pattern) for each element\n",
    "\n",
    "_findall_ Compute list of all occurrences of pattern/regex for each string\n",
    "\n",
    "_get_ Index into each element (retrieve i-th element)\n",
    "\n",
    "_isalnum_ Equivalent to built-in str.alnum\n",
    "\n",
    "_isalpha_ Equivalent to built-in str.isalpha\n",
    "\n",
    "_isdecimal_ Equivalent to built-in str.isdecimal\n",
    "\n",
    "_isdigit_ Equivalent to built-in str.isdigit\n",
    "\n",
    "_islower_ Equivalent to built-in str.islower\n",
    "\n",
    "_isnumeric_ Equivalent to built-in str.isnumeric\n",
    "\n",
    "_isupper_ Equivalent to built-in str.isupper\n",
    "\n",
    "_join_ Join strings in each element of the Series with passed separator\n",
    "\n",
    "_len_ Compute length of each string\n",
    "\n",
    "_lower_, _upper_ Convert cases; equivalent to x.lower() or x.upper() for each element\n",
    "\n",
    "_match_ Use re.match with the passed regular expression on each element, returning matched groups as list\n",
    "\n",
    "_pad_ Add whitespace to left, right, or both sides of strings\n",
    "\n",
    "_center_ Equivalent to pad(side='both')\n",
    "\n",
    "_repeat_ Duplicate values (e.g., s.str.repeat(3) is equivalent to x * 3 for each string)\n",
    "\n",
    "_replace_ Replace occurrences of pattern/regex with some other string\n",
    "\n",
    "_slice_ Slice each string in the Series\n",
    "\n",
    "_split_ Split strings on delimiter or regular expression\n",
    "\n",
    "_strip_ Trim whitespace from both sides, including newlines\n",
    "\n",
    "_rstrip_ Trim whitespace on right side\n",
    "\n",
    "_lstrip_ Trim whitespace on left side"
   ]
  },
  {
   "cell_type": "markdown",
   "id": "c72f505d-c5ee-4bf8-b945-0ed903f2cfc4",
   "metadata": {},
   "source": [
    "# Data cleaning examples"
   ]
  },
  {
   "cell_type": "markdown",
   "id": "bd539288-ae24-4550-8079-644fb57267d8",
   "metadata": {
    "jp-MarkdownHeadingCollapsed": true
   },
   "source": [
    "# Cats"
   ]
  },
  {
   "cell_type": "markdown",
   "id": "7a7d4650-11e7-4f51-bae1-e3157d9034e5",
   "metadata": {
    "jp-MarkdownHeadingCollapsed": true
   },
   "source": [
    "### Read csv"
   ]
  },
  {
   "cell_type": "code",
   "execution_count": 140,
   "id": "b6c37100-6793-4f3b-a2ec-7c024ed8c508",
   "metadata": {},
   "outputs": [],
   "source": [
    "df = pd.read_csv('mcats.csv')"
   ]
  },
  {
   "cell_type": "code",
   "execution_count": 141,
   "id": "d615210c-7e85-4bb1-97a6-54a3793d5d1e",
   "metadata": {},
   "outputs": [
    {
     "data": {
      "text/html": [
       "<div>\n",
       "<style scoped>\n",
       "    .dataframe tbody tr th:only-of-type {\n",
       "        vertical-align: middle;\n",
       "    }\n",
       "\n",
       "    .dataframe tbody tr th {\n",
       "        vertical-align: top;\n",
       "    }\n",
       "\n",
       "    .dataframe thead th {\n",
       "        text-align: right;\n",
       "    }\n",
       "</style>\n",
       "<table border=\"1\" class=\"dataframe\">\n",
       "  <thead>\n",
       "    <tr style=\"text-align: right;\">\n",
       "      <th></th>\n",
       "      <th>ID</th>\n",
       "      <th>Breed</th>\n",
       "      <th>Location of origin</th>\n",
       "      <th>Type</th>\n",
       "      <th>Body type</th>\n",
       "      <th>Coat type and length</th>\n",
       "      <th>Coat pattern</th>\n",
       "    </tr>\n",
       "  </thead>\n",
       "  <tbody>\n",
       "    <tr>\n",
       "      <th>0</th>\n",
       "      <td>1</td>\n",
       "      <td>Abyssinian</td>\n",
       "      <td>Unspecified, but somewhere in Afro-Asia, likel...</td>\n",
       "      <td>Natural</td>\n",
       "      <td>Semi-foreign</td>\n",
       "      <td>Short</td>\n",
       "      <td>Ticked tabby</td>\n",
       "    </tr>\n",
       "    <tr>\n",
       "      <th>1</th>\n",
       "      <td>2</td>\n",
       "      <td>Aegean</td>\n",
       "      <td>Greece</td>\n",
       "      <td>Natural</td>\n",
       "      <td>Moderate</td>\n",
       "      <td>Semi-long</td>\n",
       "      <td>Multi-color</td>\n",
       "    </tr>\n",
       "    <tr>\n",
       "      <th>2</th>\n",
       "      <td>3</td>\n",
       "      <td>American Bobtail</td>\n",
       "      <td>United States</td>\n",
       "      <td>Mutation of shortened tail</td>\n",
       "      <td>Cobby</td>\n",
       "      <td>Semi-long</td>\n",
       "      <td>All</td>\n",
       "    </tr>\n",
       "    <tr>\n",
       "      <th>3</th>\n",
       "      <td>4</td>\n",
       "      <td>American Curl</td>\n",
       "      <td>United States</td>\n",
       "      <td>Mutation</td>\n",
       "      <td>Semi-foreign</td>\n",
       "      <td>Semi-long</td>\n",
       "      <td>All</td>\n",
       "    </tr>\n",
       "    <tr>\n",
       "      <th>4</th>\n",
       "      <td>5</td>\n",
       "      <td>American Ringtail</td>\n",
       "      <td>United States</td>\n",
       "      <td>Mutation</td>\n",
       "      <td>Foreign</td>\n",
       "      <td>Semi-long</td>\n",
       "      <td>All</td>\n",
       "    </tr>\n",
       "    <tr>\n",
       "      <th>...</th>\n",
       "      <td>...</td>\n",
       "      <td>...</td>\n",
       "      <td>...</td>\n",
       "      <td>...</td>\n",
       "      <td>...</td>\n",
       "      <td>...</td>\n",
       "      <td>...</td>\n",
       "    </tr>\n",
       "    <tr>\n",
       "      <th>100</th>\n",
       "      <td>101</td>\n",
       "      <td>York Chocolate</td>\n",
       "      <td>New York, United States</td>\n",
       "      <td>Natural</td>\n",
       "      <td>Moderate</td>\n",
       "      <td>Long</td>\n",
       "      <td>Solid chocolate, solid lilac and solid taupe o...</td>\n",
       "    </tr>\n",
       "    <tr>\n",
       "      <th>101</th>\n",
       "      <td>101</td>\n",
       "      <td>York Chocolate</td>\n",
       "      <td>New York, United States</td>\n",
       "      <td>Natural</td>\n",
       "      <td>Moderate</td>\n",
       "      <td>Long</td>\n",
       "      <td>Solid chocolate, solid lilac and solid taupe o...</td>\n",
       "    </tr>\n",
       "    <tr>\n",
       "      <th>102</th>\n",
       "      <td>101</td>\n",
       "      <td>York Chocolate</td>\n",
       "      <td>New York, United States</td>\n",
       "      <td>Natural</td>\n",
       "      <td>Moderate</td>\n",
       "      <td>Long</td>\n",
       "      <td>Solid chocolate, solid lilac and solid taupe o...</td>\n",
       "    </tr>\n",
       "    <tr>\n",
       "      <th>103</th>\n",
       "      <td>99</td>\n",
       "      <td>Turkish Vankedisi (white variety of Turkish Van)</td>\n",
       "      <td>Lake Van, Turkey</td>\n",
       "      <td>Natural</td>\n",
       "      <td>Svelte</td>\n",
       "      <td>Long</td>\n",
       "      <td>Solid white</td>\n",
       "    </tr>\n",
       "    <tr>\n",
       "      <th>104</th>\n",
       "      <td>99</td>\n",
       "      <td>Turkish Vankedisi (white variety of Turkish Van)</td>\n",
       "      <td>Lake Van, Turkey</td>\n",
       "      <td>Natural</td>\n",
       "      <td>Svelte</td>\n",
       "      <td>Long</td>\n",
       "      <td>Solid white</td>\n",
       "    </tr>\n",
       "  </tbody>\n",
       "</table>\n",
       "<p>105 rows × 7 columns</p>\n",
       "</div>"
      ],
      "text/plain": [
       "      ID                                             Breed  \\\n",
       "0      1                                        Abyssinian   \n",
       "1      2                                            Aegean   \n",
       "2      3                                  American Bobtail   \n",
       "3      4                                     American Curl   \n",
       "4      5                                 American Ringtail   \n",
       "..   ...                                               ...   \n",
       "100  101                                    York Chocolate   \n",
       "101  101                                    York Chocolate   \n",
       "102  101                                    York Chocolate   \n",
       "103   99  Turkish Vankedisi (white variety of Turkish Van)   \n",
       "104   99  Turkish Vankedisi (white variety of Turkish Van)   \n",
       "\n",
       "                                    Location of origin  \\\n",
       "0    Unspecified, but somewhere in Afro-Asia, likel...   \n",
       "1                                               Greece   \n",
       "2                                        United States   \n",
       "3                                        United States   \n",
       "4                                        United States   \n",
       "..                                                 ...   \n",
       "100                            New York, United States   \n",
       "101                            New York, United States   \n",
       "102                            New York, United States   \n",
       "103                                   Lake Van, Turkey   \n",
       "104                                   Lake Van, Turkey   \n",
       "\n",
       "                           Type     Body type Coat type and length  \\\n",
       "0                       Natural  Semi-foreign                Short   \n",
       "1                       Natural      Moderate            Semi-long   \n",
       "2    Mutation of shortened tail         Cobby            Semi-long   \n",
       "3                      Mutation  Semi-foreign            Semi-long   \n",
       "4                      Mutation       Foreign            Semi-long   \n",
       "..                          ...           ...                  ...   \n",
       "100                     Natural      Moderate                 Long   \n",
       "101                     Natural      Moderate                 Long   \n",
       "102                     Natural      Moderate                 Long   \n",
       "103                     Natural        Svelte                 Long   \n",
       "104                     Natural        Svelte                 Long   \n",
       "\n",
       "                                          Coat pattern  \n",
       "0                                         Ticked tabby  \n",
       "1                                          Multi-color  \n",
       "2                                                  All  \n",
       "3                                                  All  \n",
       "4                                                  All  \n",
       "..                                                 ...  \n",
       "100  Solid chocolate, solid lilac and solid taupe o...  \n",
       "101  Solid chocolate, solid lilac and solid taupe o...  \n",
       "102  Solid chocolate, solid lilac and solid taupe o...  \n",
       "103                                        Solid white  \n",
       "104                                        Solid white  \n",
       "\n",
       "[105 rows x 7 columns]"
      ]
     },
     "execution_count": 141,
     "metadata": {},
     "output_type": "execute_result"
    }
   ],
   "source": [
    "df"
   ]
  },
  {
   "cell_type": "markdown",
   "id": "422aa936-93df-463a-9de2-77e16b4746f1",
   "metadata": {},
   "source": [
    "### Drop duplicates"
   ]
  },
  {
   "cell_type": "code",
   "execution_count": 142,
   "id": "671f2d72-3bc1-4c1e-a0de-a901ab957f9d",
   "metadata": {},
   "outputs": [],
   "source": [
    "df = df.drop_duplicates()"
   ]
  },
  {
   "cell_type": "code",
   "execution_count": 143,
   "id": "1b7881b1-a6af-429f-8530-cc6ce3d1d192",
   "metadata": {},
   "outputs": [
    {
     "data": {
      "text/html": [
       "<div>\n",
       "<style scoped>\n",
       "    .dataframe tbody tr th:only-of-type {\n",
       "        vertical-align: middle;\n",
       "    }\n",
       "\n",
       "    .dataframe tbody tr th {\n",
       "        vertical-align: top;\n",
       "    }\n",
       "\n",
       "    .dataframe thead th {\n",
       "        text-align: right;\n",
       "    }\n",
       "</style>\n",
       "<table border=\"1\" class=\"dataframe\">\n",
       "  <thead>\n",
       "    <tr style=\"text-align: right;\">\n",
       "      <th></th>\n",
       "      <th>ID</th>\n",
       "      <th>Breed</th>\n",
       "      <th>Location of origin</th>\n",
       "      <th>Type</th>\n",
       "      <th>Body type</th>\n",
       "      <th>Coat type and length</th>\n",
       "      <th>Coat pattern</th>\n",
       "    </tr>\n",
       "  </thead>\n",
       "  <tbody>\n",
       "    <tr>\n",
       "      <th>91</th>\n",
       "      <td>92</td>\n",
       "      <td>Thai or Traditional, Classic, or Old-style Sia...</td>\n",
       "      <td>Developed in Europe;</td>\n",
       "      <td>Natural</td>\n",
       "      <td>Moderate</td>\n",
       "      <td>Short</td>\n",
       "      <td>Colorpoint</td>\n",
       "    </tr>\n",
       "    <tr>\n",
       "      <th>92</th>\n",
       "      <td>93</td>\n",
       "      <td>Thai Lilac, Thai Blue Point and Thai Lilac Point</td>\n",
       "      <td>Thailand</td>\n",
       "      <td>Color varieties of the Korat</td>\n",
       "      <td>Moderate</td>\n",
       "      <td>Short</td>\n",
       "      <td>Solid lilac and colorpoint (blue point and lil...</td>\n",
       "    </tr>\n",
       "    <tr>\n",
       "      <th>93</th>\n",
       "      <td>94</td>\n",
       "      <td>Tonkinese</td>\n",
       "      <td>Canada, United States</td>\n",
       "      <td>Crossbreed between the Burmese and Siamese</td>\n",
       "      <td>Oriental</td>\n",
       "      <td>Short</td>\n",
       "      <td>Colorpoint, mink, or solid</td>\n",
       "    </tr>\n",
       "    <tr>\n",
       "      <th>94</th>\n",
       "      <td>95</td>\n",
       "      <td>Toybob</td>\n",
       "      <td>Russia</td>\n",
       "      <td>Mutation</td>\n",
       "      <td>Dwarf</td>\n",
       "      <td>Short</td>\n",
       "      <td>All</td>\n",
       "    </tr>\n",
       "    <tr>\n",
       "      <th>95</th>\n",
       "      <td>96</td>\n",
       "      <td>Toyger</td>\n",
       "      <td>United States</td>\n",
       "      <td>Crossbreed/hybrid between the Bengal and short...</td>\n",
       "      <td>Moderate</td>\n",
       "      <td>Short</td>\n",
       "      <td>Mackerel tabby</td>\n",
       "    </tr>\n",
       "    <tr>\n",
       "      <th>96</th>\n",
       "      <td>97</td>\n",
       "      <td>Turkish Angora</td>\n",
       "      <td>Turkey</td>\n",
       "      <td>Natural</td>\n",
       "      <td>Semi-cobby</td>\n",
       "      <td>Semi-long</td>\n",
       "      <td>All</td>\n",
       "    </tr>\n",
       "    <tr>\n",
       "      <th>97</th>\n",
       "      <td>98</td>\n",
       "      <td>Turkish Van</td>\n",
       "      <td>Developed in United Kingdom; foundation stock ...</td>\n",
       "      <td>Natural</td>\n",
       "      <td>Semi-cobby</td>\n",
       "      <td>Semi-long</td>\n",
       "      <td>Van pattern</td>\n",
       "    </tr>\n",
       "    <tr>\n",
       "      <th>98</th>\n",
       "      <td>99</td>\n",
       "      <td>Turkish Vankedisi (white variety of Turkish Van)</td>\n",
       "      <td>Lake Van, Turkey</td>\n",
       "      <td>Natural</td>\n",
       "      <td>Svelte</td>\n",
       "      <td>Long</td>\n",
       "      <td>Solid white</td>\n",
       "    </tr>\n",
       "    <tr>\n",
       "      <th>99</th>\n",
       "      <td>100</td>\n",
       "      <td>Ukrainian Levkoy</td>\n",
       "      <td>Ukraine</td>\n",
       "      <td>Crossbreed between the Donskoy and Scottish Fold</td>\n",
       "      <td>Moderate</td>\n",
       "      <td>Hairless</td>\n",
       "      <td>Solid gray</td>\n",
       "    </tr>\n",
       "    <tr>\n",
       "      <th>100</th>\n",
       "      <td>101</td>\n",
       "      <td>York Chocolate</td>\n",
       "      <td>New York, United States</td>\n",
       "      <td>Natural</td>\n",
       "      <td>Moderate</td>\n",
       "      <td>Long</td>\n",
       "      <td>Solid chocolate, solid lilac and solid taupe o...</td>\n",
       "    </tr>\n",
       "  </tbody>\n",
       "</table>\n",
       "</div>"
      ],
      "text/plain": [
       "      ID                                              Breed  \\\n",
       "91    92  Thai or Traditional, Classic, or Old-style Sia...   \n",
       "92    93   Thai Lilac, Thai Blue Point and Thai Lilac Point   \n",
       "93    94                                          Tonkinese   \n",
       "94    95                                             Toybob   \n",
       "95    96                                             Toyger   \n",
       "96    97                                     Turkish Angora   \n",
       "97    98                                        Turkish Van   \n",
       "98    99   Turkish Vankedisi (white variety of Turkish Van)   \n",
       "99   100                                   Ukrainian Levkoy   \n",
       "100  101                                     York Chocolate   \n",
       "\n",
       "                                    Location of origin  \\\n",
       "91                                Developed in Europe;   \n",
       "92                                            Thailand   \n",
       "93                               Canada, United States   \n",
       "94                                              Russia   \n",
       "95                                       United States   \n",
       "96                                              Turkey   \n",
       "97   Developed in United Kingdom; foundation stock ...   \n",
       "98                                    Lake Van, Turkey   \n",
       "99                                             Ukraine   \n",
       "100                            New York, United States   \n",
       "\n",
       "                                                  Type   Body type  \\\n",
       "91                                             Natural    Moderate   \n",
       "92                        Color varieties of the Korat    Moderate   \n",
       "93          Crossbreed between the Burmese and Siamese    Oriental   \n",
       "94                                            Mutation       Dwarf   \n",
       "95   Crossbreed/hybrid between the Bengal and short...    Moderate   \n",
       "96                                             Natural  Semi-cobby   \n",
       "97                                             Natural  Semi-cobby   \n",
       "98                                             Natural      Svelte   \n",
       "99    Crossbreed between the Donskoy and Scottish Fold    Moderate   \n",
       "100                                            Natural    Moderate   \n",
       "\n",
       "    Coat type and length                                       Coat pattern  \n",
       "91                 Short                                         Colorpoint  \n",
       "92                 Short  Solid lilac and colorpoint (blue point and lil...  \n",
       "93                 Short                         Colorpoint, mink, or solid  \n",
       "94                 Short                                                All  \n",
       "95                 Short                                     Mackerel tabby  \n",
       "96             Semi-long                                                All  \n",
       "97             Semi-long                                        Van pattern  \n",
       "98                  Long                                        Solid white  \n",
       "99              Hairless                                         Solid gray  \n",
       "100                 Long  Solid chocolate, solid lilac and solid taupe o...  "
      ]
     },
     "execution_count": 143,
     "metadata": {},
     "output_type": "execute_result"
    }
   ],
   "source": [
    "df.tail(10)"
   ]
  },
  {
   "cell_type": "markdown",
   "id": "70ad2f20-670c-4719-b9aa-8b6125fdbda7",
   "metadata": {},
   "source": [
    "### Drop column "
   ]
  },
  {
   "cell_type": "code",
   "execution_count": 144,
   "id": "1646529e-1ef3-4a72-989b-5e387953dcab",
   "metadata": {},
   "outputs": [
    {
     "data": {
      "text/html": [
       "<div>\n",
       "<style scoped>\n",
       "    .dataframe tbody tr th:only-of-type {\n",
       "        vertical-align: middle;\n",
       "    }\n",
       "\n",
       "    .dataframe tbody tr th {\n",
       "        vertical-align: top;\n",
       "    }\n",
       "\n",
       "    .dataframe thead th {\n",
       "        text-align: right;\n",
       "    }\n",
       "</style>\n",
       "<table border=\"1\" class=\"dataframe\">\n",
       "  <thead>\n",
       "    <tr style=\"text-align: right;\">\n",
       "      <th></th>\n",
       "      <th>Breed</th>\n",
       "      <th>Location of origin</th>\n",
       "      <th>Type</th>\n",
       "      <th>Body type</th>\n",
       "      <th>Coat type and length</th>\n",
       "      <th>Coat pattern</th>\n",
       "    </tr>\n",
       "  </thead>\n",
       "  <tbody>\n",
       "    <tr>\n",
       "      <th>0</th>\n",
       "      <td>Abyssinian</td>\n",
       "      <td>Unspecified, but somewhere in Afro-Asia, likel...</td>\n",
       "      <td>Natural</td>\n",
       "      <td>Semi-foreign</td>\n",
       "      <td>Short</td>\n",
       "      <td>Ticked tabby</td>\n",
       "    </tr>\n",
       "    <tr>\n",
       "      <th>1</th>\n",
       "      <td>Aegean</td>\n",
       "      <td>Greece</td>\n",
       "      <td>Natural</td>\n",
       "      <td>Moderate</td>\n",
       "      <td>Semi-long</td>\n",
       "      <td>Multi-color</td>\n",
       "    </tr>\n",
       "    <tr>\n",
       "      <th>2</th>\n",
       "      <td>American Bobtail</td>\n",
       "      <td>United States</td>\n",
       "      <td>Mutation of shortened tail</td>\n",
       "      <td>Cobby</td>\n",
       "      <td>Semi-long</td>\n",
       "      <td>All</td>\n",
       "    </tr>\n",
       "    <tr>\n",
       "      <th>3</th>\n",
       "      <td>American Curl</td>\n",
       "      <td>United States</td>\n",
       "      <td>Mutation</td>\n",
       "      <td>Semi-foreign</td>\n",
       "      <td>Semi-long</td>\n",
       "      <td>All</td>\n",
       "    </tr>\n",
       "    <tr>\n",
       "      <th>4</th>\n",
       "      <td>American Ringtail</td>\n",
       "      <td>United States</td>\n",
       "      <td>Mutation</td>\n",
       "      <td>Foreign</td>\n",
       "      <td>Semi-long</td>\n",
       "      <td>All</td>\n",
       "    </tr>\n",
       "    <tr>\n",
       "      <th>...</th>\n",
       "      <td>...</td>\n",
       "      <td>...</td>\n",
       "      <td>...</td>\n",
       "      <td>...</td>\n",
       "      <td>...</td>\n",
       "      <td>...</td>\n",
       "    </tr>\n",
       "    <tr>\n",
       "      <th>96</th>\n",
       "      <td>Turkish Angora</td>\n",
       "      <td>Turkey</td>\n",
       "      <td>Natural</td>\n",
       "      <td>Semi-cobby</td>\n",
       "      <td>Semi-long</td>\n",
       "      <td>All</td>\n",
       "    </tr>\n",
       "    <tr>\n",
       "      <th>97</th>\n",
       "      <td>Turkish Van</td>\n",
       "      <td>Developed in United Kingdom; foundation stock ...</td>\n",
       "      <td>Natural</td>\n",
       "      <td>Semi-cobby</td>\n",
       "      <td>Semi-long</td>\n",
       "      <td>Van pattern</td>\n",
       "    </tr>\n",
       "    <tr>\n",
       "      <th>98</th>\n",
       "      <td>Turkish Vankedisi (white variety of Turkish Van)</td>\n",
       "      <td>Lake Van, Turkey</td>\n",
       "      <td>Natural</td>\n",
       "      <td>Svelte</td>\n",
       "      <td>Long</td>\n",
       "      <td>Solid white</td>\n",
       "    </tr>\n",
       "    <tr>\n",
       "      <th>99</th>\n",
       "      <td>Ukrainian Levkoy</td>\n",
       "      <td>Ukraine</td>\n",
       "      <td>Crossbreed between the Donskoy and Scottish Fold</td>\n",
       "      <td>Moderate</td>\n",
       "      <td>Hairless</td>\n",
       "      <td>Solid gray</td>\n",
       "    </tr>\n",
       "    <tr>\n",
       "      <th>100</th>\n",
       "      <td>York Chocolate</td>\n",
       "      <td>New York, United States</td>\n",
       "      <td>Natural</td>\n",
       "      <td>Moderate</td>\n",
       "      <td>Long</td>\n",
       "      <td>Solid chocolate, solid lilac and solid taupe o...</td>\n",
       "    </tr>\n",
       "  </tbody>\n",
       "</table>\n",
       "<p>101 rows × 6 columns</p>\n",
       "</div>"
      ],
      "text/plain": [
       "                                                Breed  \\\n",
       "0                                          Abyssinian   \n",
       "1                                              Aegean   \n",
       "2                                    American Bobtail   \n",
       "3                                       American Curl   \n",
       "4                                   American Ringtail   \n",
       "..                                                ...   \n",
       "96                                     Turkish Angora   \n",
       "97                                        Turkish Van   \n",
       "98   Turkish Vankedisi (white variety of Turkish Van)   \n",
       "99                                   Ukrainian Levkoy   \n",
       "100                                    York Chocolate   \n",
       "\n",
       "                                    Location of origin  \\\n",
       "0    Unspecified, but somewhere in Afro-Asia, likel...   \n",
       "1                                               Greece   \n",
       "2                                        United States   \n",
       "3                                        United States   \n",
       "4                                        United States   \n",
       "..                                                 ...   \n",
       "96                                              Turkey   \n",
       "97   Developed in United Kingdom; foundation stock ...   \n",
       "98                                    Lake Van, Turkey   \n",
       "99                                             Ukraine   \n",
       "100                            New York, United States   \n",
       "\n",
       "                                                 Type     Body type  \\\n",
       "0                                             Natural  Semi-foreign   \n",
       "1                                             Natural      Moderate   \n",
       "2                          Mutation of shortened tail         Cobby   \n",
       "3                                            Mutation  Semi-foreign   \n",
       "4                                            Mutation       Foreign   \n",
       "..                                                ...           ...   \n",
       "96                                            Natural    Semi-cobby   \n",
       "97                                            Natural    Semi-cobby   \n",
       "98                                            Natural        Svelte   \n",
       "99   Crossbreed between the Donskoy and Scottish Fold      Moderate   \n",
       "100                                           Natural      Moderate   \n",
       "\n",
       "    Coat type and length                                       Coat pattern  \n",
       "0                  Short                                       Ticked tabby  \n",
       "1              Semi-long                                        Multi-color  \n",
       "2              Semi-long                                                All  \n",
       "3              Semi-long                                                All  \n",
       "4              Semi-long                                                All  \n",
       "..                   ...                                                ...  \n",
       "96             Semi-long                                                All  \n",
       "97             Semi-long                                        Van pattern  \n",
       "98                  Long                                        Solid white  \n",
       "99              Hairless                                         Solid gray  \n",
       "100                 Long  Solid chocolate, solid lilac and solid taupe o...  \n",
       "\n",
       "[101 rows x 6 columns]"
      ]
     },
     "execution_count": 144,
     "metadata": {},
     "output_type": "execute_result"
    }
   ],
   "source": [
    "df = df.drop(columns='ID')\n",
    "df"
   ]
  },
  {
   "cell_type": "code",
   "execution_count": null,
   "id": "6d252128-9024-4ac5-9789-b1b009b8ebcd",
   "metadata": {},
   "outputs": [],
   "source": []
  }
 ],
 "metadata": {
  "kernelspec": {
   "display_name": "Python 3 (ipykernel)",
   "language": "python",
   "name": "python3"
  },
  "language_info": {
   "codemirror_mode": {
    "name": "ipython",
    "version": 3
   },
   "file_extension": ".py",
   "mimetype": "text/x-python",
   "name": "python",
   "nbconvert_exporter": "python",
   "pygments_lexer": "ipython3",
   "version": "3.11.5"
  }
 },
 "nbformat": 4,
 "nbformat_minor": 5
}
