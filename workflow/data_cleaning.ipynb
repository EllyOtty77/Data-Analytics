{
 "cells": [
  {
   "cell_type": "code",
   "execution_count": 112,
   "metadata": {},
   "outputs": [],
   "source": [
    "import pandas as pd\n",
    "import warnings\n",
    "warnings.filterwarnings(\"ignore\")"
   ]
  },
  {
   "cell_type": "markdown",
   "metadata": {},
   "source": [
    "### Load the data"
   ]
  },
  {
   "cell_type": "code",
   "execution_count": 113,
   "metadata": {},
   "outputs": [
    {
     "data": {
      "text/html": [
       "<div>\n",
       "<style scoped>\n",
       "    .dataframe tbody tr th:only-of-type {\n",
       "        vertical-align: middle;\n",
       "    }\n",
       "\n",
       "    .dataframe tbody tr th {\n",
       "        vertical-align: top;\n",
       "    }\n",
       "\n",
       "    .dataframe thead th {\n",
       "        text-align: right;\n",
       "    }\n",
       "</style>\n",
       "<table border=\"1\" class=\"dataframe\">\n",
       "  <thead>\n",
       "    <tr style=\"text-align: right;\">\n",
       "      <th></th>\n",
       "      <th>ID</th>\n",
       "      <th>Name</th>\n",
       "      <th>Age</th>\n",
       "      <th>Salary</th>\n",
       "      <th>Joining_Date</th>\n",
       "      <th>Department</th>\n",
       "      <th>Email</th>\n",
       "    </tr>\n",
       "  </thead>\n",
       "  <tbody>\n",
       "    <tr>\n",
       "      <th>0</th>\n",
       "      <td>101</td>\n",
       "      <td>Alice</td>\n",
       "      <td>25.0</td>\n",
       "      <td>50000.0</td>\n",
       "      <td>2021-07-15</td>\n",
       "      <td>HR</td>\n",
       "      <td>alice@example.com</td>\n",
       "    </tr>\n",
       "    <tr>\n",
       "      <th>1</th>\n",
       "      <td>102</td>\n",
       "      <td>BOB</td>\n",
       "      <td>NaN</td>\n",
       "      <td>60000.0</td>\n",
       "      <td>06/12/2021</td>\n",
       "      <td>ENGINEERING</td>\n",
       "      <td>BOB@EXAMPLE.COM</td>\n",
       "    </tr>\n",
       "    <tr>\n",
       "      <th>2</th>\n",
       "      <td>103</td>\n",
       "      <td>Charlie</td>\n",
       "      <td>30.0</td>\n",
       "      <td>NaN</td>\n",
       "      <td>10 May 2021</td>\n",
       "      <td>HR</td>\n",
       "      <td>charlie@example</td>\n",
       "    </tr>\n",
       "    <tr>\n",
       "      <th>3</th>\n",
       "      <td>103</td>\n",
       "      <td>Charlie</td>\n",
       "      <td>30.0</td>\n",
       "      <td>NaN</td>\n",
       "      <td>10 May 2021</td>\n",
       "      <td>HR</td>\n",
       "      <td>charlie@example</td>\n",
       "    </tr>\n",
       "    <tr>\n",
       "      <th>4</th>\n",
       "      <td>104</td>\n",
       "      <td>NaN</td>\n",
       "      <td>22.0</td>\n",
       "      <td>45000.0</td>\n",
       "      <td>15-08-2020</td>\n",
       "      <td>Sales</td>\n",
       "      <td>NaN</td>\n",
       "    </tr>\n",
       "  </tbody>\n",
       "</table>\n",
       "</div>"
      ],
      "text/plain": [
       "    ID     Name   Age   Salary Joining_Date    Department              Email\n",
       "0  101   Alice   25.0  50000.0   2021-07-15            HR  alice@example.com\n",
       "1  102      BOB   NaN  60000.0   06/12/2021  ENGINEERING     BOB@EXAMPLE.COM\n",
       "2  103  Charlie  30.0      NaN  10 May 2021            HR    charlie@example\n",
       "3  103  Charlie  30.0      NaN  10 May 2021            HR    charlie@example\n",
       "4  104      NaN  22.0  45000.0   15-08-2020         Sales                NaN"
      ]
     },
     "execution_count": 113,
     "metadata": {},
     "output_type": "execute_result"
    }
   ],
   "source": [
    "# Load CSV into DataFrame\n",
    "df = pd.read_csv(\"dirty_data.csv\")\n",
    "\n",
    "# Display the first few rows\n",
    "df.head()"
   ]
  },
  {
   "cell_type": "markdown",
   "metadata": {},
   "source": [
    "### Inspect Data Issues"
   ]
  },
  {
   "cell_type": "code",
   "execution_count": 114,
   "metadata": {},
   "outputs": [
    {
     "name": "stdout",
     "output_type": "stream",
     "text": [
      "ID              0\n",
      "Name            2\n",
      "Age             3\n",
      "Salary          4\n",
      "Joining_Date    0\n",
      "Department      0\n",
      "Email           2\n",
      "dtype: int64\n"
     ]
    }
   ],
   "source": [
    "# Check for missing values\n",
    "print(df.isnull().sum())"
   ]
  },
  {
   "cell_type": "code",
   "execution_count": 115,
   "metadata": {},
   "outputs": [
    {
     "data": {
      "text/html": [
       "<div>\n",
       "<style scoped>\n",
       "    .dataframe tbody tr th:only-of-type {\n",
       "        vertical-align: middle;\n",
       "    }\n",
       "\n",
       "    .dataframe tbody tr th {\n",
       "        vertical-align: top;\n",
       "    }\n",
       "\n",
       "    .dataframe thead th {\n",
       "        text-align: right;\n",
       "    }\n",
       "</style>\n",
       "<table border=\"1\" class=\"dataframe\">\n",
       "  <thead>\n",
       "    <tr style=\"text-align: right;\">\n",
       "      <th></th>\n",
       "      <th>ID</th>\n",
       "      <th>Name</th>\n",
       "      <th>Age</th>\n",
       "      <th>Salary</th>\n",
       "      <th>Joining_Date</th>\n",
       "      <th>Department</th>\n",
       "      <th>Email</th>\n",
       "    </tr>\n",
       "  </thead>\n",
       "  <tbody>\n",
       "    <tr>\n",
       "      <th>1</th>\n",
       "      <td>102</td>\n",
       "      <td>BOB</td>\n",
       "      <td>NaN</td>\n",
       "      <td>60000.0</td>\n",
       "      <td>06/12/2021</td>\n",
       "      <td>ENGINEERING</td>\n",
       "      <td>BOB@EXAMPLE.COM</td>\n",
       "    </tr>\n",
       "    <tr>\n",
       "      <th>2</th>\n",
       "      <td>103</td>\n",
       "      <td>Charlie</td>\n",
       "      <td>30.0</td>\n",
       "      <td>NaN</td>\n",
       "      <td>10 May 2021</td>\n",
       "      <td>HR</td>\n",
       "      <td>charlie@example</td>\n",
       "    </tr>\n",
       "    <tr>\n",
       "      <th>3</th>\n",
       "      <td>103</td>\n",
       "      <td>Charlie</td>\n",
       "      <td>30.0</td>\n",
       "      <td>NaN</td>\n",
       "      <td>10 May 2021</td>\n",
       "      <td>HR</td>\n",
       "      <td>charlie@example</td>\n",
       "    </tr>\n",
       "    <tr>\n",
       "      <th>4</th>\n",
       "      <td>104</td>\n",
       "      <td>NaN</td>\n",
       "      <td>22.0</td>\n",
       "      <td>45000.0</td>\n",
       "      <td>15-08-2020</td>\n",
       "      <td>Sales</td>\n",
       "      <td>NaN</td>\n",
       "    </tr>\n",
       "    <tr>\n",
       "      <th>10</th>\n",
       "      <td>109</td>\n",
       "      <td>Ivy</td>\n",
       "      <td>120.0</td>\n",
       "      <td>NaN</td>\n",
       "      <td>2022-10-11</td>\n",
       "      <td>legal</td>\n",
       "      <td>NaN</td>\n",
       "    </tr>\n",
       "    <tr>\n",
       "      <th>12</th>\n",
       "      <td>110</td>\n",
       "      <td>John</td>\n",
       "      <td>NaN</td>\n",
       "      <td>80000.0</td>\n",
       "      <td>2021-07-30</td>\n",
       "      <td>Engineering</td>\n",
       "      <td>john@EXAMPLE.COM</td>\n",
       "    </tr>\n",
       "    <tr>\n",
       "      <th>15</th>\n",
       "      <td>113</td>\n",
       "      <td>Mia</td>\n",
       "      <td>27.0</td>\n",
       "      <td>NaN</td>\n",
       "      <td>March 5, 2021</td>\n",
       "      <td>Product</td>\n",
       "      <td>MIA@EXAMPLE.COM</td>\n",
       "    </tr>\n",
       "    <tr>\n",
       "      <th>16</th>\n",
       "      <td>114</td>\n",
       "      <td>Nathan</td>\n",
       "      <td>NaN</td>\n",
       "      <td>1000000.0</td>\n",
       "      <td>2023-08-25</td>\n",
       "      <td>Marketing</td>\n",
       "      <td>nathan@example.com</td>\n",
       "    </tr>\n",
       "    <tr>\n",
       "      <th>21</th>\n",
       "      <td>119</td>\n",
       "      <td>NaN</td>\n",
       "      <td>22.0</td>\n",
       "      <td>30000.0</td>\n",
       "      <td>11-06-2022</td>\n",
       "      <td>Support</td>\n",
       "      <td>supPort@company.com</td>\n",
       "    </tr>\n",
       "  </tbody>\n",
       "</table>\n",
       "</div>"
      ],
      "text/plain": [
       "     ID     Name    Age     Salary   Joining_Date    Department  \\\n",
       "1   102      BOB    NaN    60000.0     06/12/2021  ENGINEERING    \n",
       "2   103  Charlie   30.0        NaN    10 May 2021            HR   \n",
       "3   103  Charlie   30.0        NaN    10 May 2021            HR   \n",
       "4   104      NaN   22.0    45000.0     15-08-2020         Sales   \n",
       "10  109      Ivy  120.0        NaN     2022-10-11         legal   \n",
       "12  110     John    NaN    80000.0     2021-07-30   Engineering   \n",
       "15  113      Mia   27.0        NaN  March 5, 2021       Product   \n",
       "16  114   Nathan    NaN  1000000.0     2023-08-25     Marketing   \n",
       "21  119      NaN   22.0    30000.0     11-06-2022       Support   \n",
       "\n",
       "                  Email  \n",
       "1       BOB@EXAMPLE.COM  \n",
       "2       charlie@example  \n",
       "3       charlie@example  \n",
       "4                   NaN  \n",
       "10                  NaN  \n",
       "12     john@EXAMPLE.COM  \n",
       "15      MIA@EXAMPLE.COM  \n",
       "16   nathan@example.com  \n",
       "21  supPort@company.com  "
      ]
     },
     "execution_count": 115,
     "metadata": {},
     "output_type": "execute_result"
    }
   ],
   "source": [
    "df[df.isnull().any(axis=1)]"
   ]
  },
  {
   "cell_type": "code",
   "execution_count": 116,
   "metadata": {},
   "outputs": [
    {
     "name": "stdout",
     "output_type": "stream",
     "text": [
      "ID                int64\n",
      "Name             object\n",
      "Age             float64\n",
      "Salary          float64\n",
      "Joining_Date     object\n",
      "Department       object\n",
      "Email            object\n",
      "dtype: object\n"
     ]
    }
   ],
   "source": [
    "# Check data types\n",
    "print(df.dtypes)"
   ]
  },
  {
   "cell_type": "code",
   "execution_count": 117,
   "metadata": {},
   "outputs": [
    {
     "name": "stdout",
     "output_type": "stream",
     "text": [
      "2\n"
     ]
    }
   ],
   "source": [
    "# Check for duplicates\n",
    "print(df.duplicated().sum())"
   ]
  },
  {
   "cell_type": "code",
   "execution_count": 118,
   "metadata": {},
   "outputs": [
    {
     "data": {
      "text/html": [
       "<div>\n",
       "<style scoped>\n",
       "    .dataframe tbody tr th:only-of-type {\n",
       "        vertical-align: middle;\n",
       "    }\n",
       "\n",
       "    .dataframe tbody tr th {\n",
       "        vertical-align: top;\n",
       "    }\n",
       "\n",
       "    .dataframe thead th {\n",
       "        text-align: right;\n",
       "    }\n",
       "</style>\n",
       "<table border=\"1\" class=\"dataframe\">\n",
       "  <thead>\n",
       "    <tr style=\"text-align: right;\">\n",
       "      <th></th>\n",
       "      <th>ID</th>\n",
       "      <th>Name</th>\n",
       "      <th>Age</th>\n",
       "      <th>Salary</th>\n",
       "      <th>Joining_Date</th>\n",
       "      <th>Department</th>\n",
       "      <th>Email</th>\n",
       "    </tr>\n",
       "  </thead>\n",
       "  <tbody>\n",
       "    <tr>\n",
       "      <th>count</th>\n",
       "      <td>22.000000</td>\n",
       "      <td>20</td>\n",
       "      <td>19.000000</td>\n",
       "      <td>18.000000</td>\n",
       "      <td>22</td>\n",
       "      <td>22</td>\n",
       "      <td>20</td>\n",
       "    </tr>\n",
       "    <tr>\n",
       "      <th>unique</th>\n",
       "      <td>NaN</td>\n",
       "      <td>17</td>\n",
       "      <td>NaN</td>\n",
       "      <td>NaN</td>\n",
       "      <td>19</td>\n",
       "      <td>14</td>\n",
       "      <td>17</td>\n",
       "    </tr>\n",
       "    <tr>\n",
       "      <th>top</th>\n",
       "      <td>NaN</td>\n",
       "      <td>Charlie</td>\n",
       "      <td>NaN</td>\n",
       "      <td>NaN</td>\n",
       "      <td>10 May 2021</td>\n",
       "      <td>HR</td>\n",
       "      <td>charlie@example</td>\n",
       "    </tr>\n",
       "    <tr>\n",
       "      <th>freq</th>\n",
       "      <td>NaN</td>\n",
       "      <td>3</td>\n",
       "      <td>NaN</td>\n",
       "      <td>NaN</td>\n",
       "      <td>3</td>\n",
       "      <td>3</td>\n",
       "      <td>3</td>\n",
       "    </tr>\n",
       "    <tr>\n",
       "      <th>mean</th>\n",
       "      <td>109.227273</td>\n",
       "      <td>NaN</td>\n",
       "      <td>43.263158</td>\n",
       "      <td>146722.222222</td>\n",
       "      <td>NaN</td>\n",
       "      <td>NaN</td>\n",
       "      <td>NaN</td>\n",
       "    </tr>\n",
       "    <tr>\n",
       "      <th>std</th>\n",
       "      <td>5.622504</td>\n",
       "      <td>NaN</td>\n",
       "      <td>36.843275</td>\n",
       "      <td>257687.180524</td>\n",
       "      <td>NaN</td>\n",
       "      <td>NaN</td>\n",
       "      <td>NaN</td>\n",
       "    </tr>\n",
       "    <tr>\n",
       "      <th>min</th>\n",
       "      <td>101.000000</td>\n",
       "      <td>NaN</td>\n",
       "      <td>22.000000</td>\n",
       "      <td>13000.000000</td>\n",
       "      <td>NaN</td>\n",
       "      <td>NaN</td>\n",
       "      <td>NaN</td>\n",
       "    </tr>\n",
       "    <tr>\n",
       "      <th>25%</th>\n",
       "      <td>104.250000</td>\n",
       "      <td>NaN</td>\n",
       "      <td>25.500000</td>\n",
       "      <td>45000.000000</td>\n",
       "      <td>NaN</td>\n",
       "      <td>NaN</td>\n",
       "      <td>NaN</td>\n",
       "    </tr>\n",
       "    <tr>\n",
       "      <th>50%</th>\n",
       "      <td>108.500000</td>\n",
       "      <td>NaN</td>\n",
       "      <td>29.000000</td>\n",
       "      <td>50000.000000</td>\n",
       "      <td>NaN</td>\n",
       "      <td>NaN</td>\n",
       "      <td>NaN</td>\n",
       "    </tr>\n",
       "    <tr>\n",
       "      <th>75%</th>\n",
       "      <td>113.750000</td>\n",
       "      <td>NaN</td>\n",
       "      <td>32.500000</td>\n",
       "      <td>58500.000000</td>\n",
       "      <td>NaN</td>\n",
       "      <td>NaN</td>\n",
       "      <td>NaN</td>\n",
       "    </tr>\n",
       "    <tr>\n",
       "      <th>max</th>\n",
       "      <td>119.000000</td>\n",
       "      <td>NaN</td>\n",
       "      <td>150.000000</td>\n",
       "      <td>1000000.000000</td>\n",
       "      <td>NaN</td>\n",
       "      <td>NaN</td>\n",
       "      <td>NaN</td>\n",
       "    </tr>\n",
       "  </tbody>\n",
       "</table>\n",
       "</div>"
      ],
      "text/plain": [
       "                ID     Name         Age          Salary Joining_Date  \\\n",
       "count    22.000000       20   19.000000       18.000000           22   \n",
       "unique         NaN       17         NaN             NaN           19   \n",
       "top            NaN  Charlie         NaN             NaN  10 May 2021   \n",
       "freq           NaN        3         NaN             NaN            3   \n",
       "mean    109.227273      NaN   43.263158   146722.222222          NaN   \n",
       "std       5.622504      NaN   36.843275   257687.180524          NaN   \n",
       "min     101.000000      NaN   22.000000    13000.000000          NaN   \n",
       "25%     104.250000      NaN   25.500000    45000.000000          NaN   \n",
       "50%     108.500000      NaN   29.000000    50000.000000          NaN   \n",
       "75%     113.750000      NaN   32.500000    58500.000000          NaN   \n",
       "max     119.000000      NaN  150.000000  1000000.000000          NaN   \n",
       "\n",
       "       Department            Email  \n",
       "count          22               20  \n",
       "unique         14               17  \n",
       "top            HR  charlie@example  \n",
       "freq            3                3  \n",
       "mean          NaN              NaN  \n",
       "std           NaN              NaN  \n",
       "min           NaN              NaN  \n",
       "25%           NaN              NaN  \n",
       "50%           NaN              NaN  \n",
       "75%           NaN              NaN  \n",
       "max           NaN              NaN  "
      ]
     },
     "execution_count": 118,
     "metadata": {},
     "output_type": "execute_result"
    }
   ],
   "source": [
    "# Display summary statistics\n",
    "df.describe(include='all')"
   ]
  },
  {
   "cell_type": "markdown",
   "metadata": {},
   "source": [
    "### Handle missing values"
   ]
  },
  {
   "cell_type": "code",
   "execution_count": 119,
   "metadata": {},
   "outputs": [],
   "source": [
    "# Fill missing Age with the mean age\n",
    "df['Age'].fillna(df['Age'].mean(), inplace=True)\n",
    "\n",
    "# Fill missing Name with \"Unknown\"\n",
    "df['Name'].fillna(\"Unknown\", inplace=True)\n",
    "\n",
    "# Fill missing Salary with median salary\n",
    "df['Salary'].fillna(df['Salary'].median(), inplace=True)\n",
    "\n",
    "# Drop rows with null emails\n",
    "df.dropna(axis=0, subset=['Email'], how='any', inplace=True)"
   ]
  },
  {
   "cell_type": "code",
   "execution_count": 120,
   "metadata": {},
   "outputs": [
    {
     "name": "stdout",
     "output_type": "stream",
     "text": [
      "ID              0\n",
      "Name            0\n",
      "Age             0\n",
      "Salary          0\n",
      "Joining_Date    0\n",
      "Department      0\n",
      "Email           0\n",
      "dtype: int64\n"
     ]
    }
   ],
   "source": [
    "print(df.isnull().sum())"
   ]
  },
  {
   "cell_type": "markdown",
   "metadata": {},
   "source": [
    "### Convert Data Types"
   ]
  },
  {
   "cell_type": "code",
   "execution_count": 121,
   "metadata": {},
   "outputs": [],
   "source": [
    "# Convert Joining_Date to datetime format\n",
    "# df['Joining_Date'] = pd.to_datetime(df['Joining_Date'], errors='coerce')\n",
    "\n",
    "# Convert Salary to integer type\n",
    "df['Salary'] = pd.to_numeric(df['Salary'], errors='coerce')\n",
    "\n",
    "# Convert Age to integer\n",
    "df['Age'] = df['Age'].astype(int)"
   ]
  },
  {
   "cell_type": "code",
   "execution_count": 122,
   "metadata": {},
   "outputs": [
    {
     "name": "stdout",
     "output_type": "stream",
     "text": [
      "ID                int64\n",
      "Name             object\n",
      "Age               int64\n",
      "Salary          float64\n",
      "Joining_Date     object\n",
      "Department       object\n",
      "Email            object\n",
      "dtype: object\n"
     ]
    }
   ],
   "source": [
    "print(df.dtypes)"
   ]
  },
  {
   "cell_type": "markdown",
   "metadata": {},
   "source": [
    "### Remove Duplicates"
   ]
  },
  {
   "cell_type": "code",
   "execution_count": 123,
   "metadata": {},
   "outputs": [
    {
     "name": "stdout",
     "output_type": "stream",
     "text": [
      "0\n"
     ]
    }
   ],
   "source": [
    "df.drop_duplicates(inplace=True)\n",
    "print(df.duplicated().sum())"
   ]
  },
  {
   "cell_type": "markdown",
   "metadata": {},
   "source": [
    "### Standardize Text Formatting"
   ]
  },
  {
   "cell_type": "code",
   "execution_count": 124,
   "metadata": {},
   "outputs": [],
   "source": [
    "# Trim spaces and convert names to title case\n",
    "df['Name'] = df['Name'].str.strip().str.title()\n",
    "\n",
    "# Convert Department to consistent lowercase format\n",
    "df['Department'] = df['Department'].str.strip().str.lower()\n",
    "\n",
    "# Convert Email to lowercase\n",
    "df['Email'] = df['Email'].str.lower()"
   ]
  },
  {
   "cell_type": "code",
   "execution_count": 125,
   "metadata": {},
   "outputs": [
    {
     "data": {
      "text/html": [
       "<div>\n",
       "<style scoped>\n",
       "    .dataframe tbody tr th:only-of-type {\n",
       "        vertical-align: middle;\n",
       "    }\n",
       "\n",
       "    .dataframe tbody tr th {\n",
       "        vertical-align: top;\n",
       "    }\n",
       "\n",
       "    .dataframe thead th {\n",
       "        text-align: right;\n",
       "    }\n",
       "</style>\n",
       "<table border=\"1\" class=\"dataframe\">\n",
       "  <thead>\n",
       "    <tr style=\"text-align: right;\">\n",
       "      <th></th>\n",
       "      <th>ID</th>\n",
       "      <th>Name</th>\n",
       "      <th>Age</th>\n",
       "      <th>Salary</th>\n",
       "      <th>Joining_Date</th>\n",
       "      <th>Department</th>\n",
       "      <th>Email</th>\n",
       "    </tr>\n",
       "  </thead>\n",
       "  <tbody>\n",
       "    <tr>\n",
       "      <th>17</th>\n",
       "      <td>115</td>\n",
       "      <td>Olivia</td>\n",
       "      <td>45</td>\n",
       "      <td>54000.0</td>\n",
       "      <td>01-14-2019</td>\n",
       "      <td>finance</td>\n",
       "      <td>olivia@example.com</td>\n",
       "    </tr>\n",
       "    <tr>\n",
       "      <th>18</th>\n",
       "      <td>116</td>\n",
       "      <td>Peter</td>\n",
       "      <td>99</td>\n",
       "      <td>348000.0</td>\n",
       "      <td>2024-02-28</td>\n",
       "      <td>it</td>\n",
       "      <td>peter@example.com</td>\n",
       "    </tr>\n",
       "    <tr>\n",
       "      <th>19</th>\n",
       "      <td>117</td>\n",
       "      <td>Quincy</td>\n",
       "      <td>31</td>\n",
       "      <td>45000.0</td>\n",
       "      <td>2021-07-04</td>\n",
       "      <td>operations</td>\n",
       "      <td>quincy@example.com</td>\n",
       "    </tr>\n",
       "    <tr>\n",
       "      <th>20</th>\n",
       "      <td>118</td>\n",
       "      <td>Riley</td>\n",
       "      <td>34</td>\n",
       "      <td>50000.0</td>\n",
       "      <td>2020-09-09</td>\n",
       "      <td>legal</td>\n",
       "      <td>riley@example.com</td>\n",
       "    </tr>\n",
       "    <tr>\n",
       "      <th>21</th>\n",
       "      <td>119</td>\n",
       "      <td>Unknown</td>\n",
       "      <td>22</td>\n",
       "      <td>30000.0</td>\n",
       "      <td>11-06-2022</td>\n",
       "      <td>support</td>\n",
       "      <td>support@company.com</td>\n",
       "    </tr>\n",
       "  </tbody>\n",
       "</table>\n",
       "</div>"
      ],
      "text/plain": [
       "     ID     Name  Age    Salary Joining_Date  Department                Email\n",
       "17  115   Olivia   45   54000.0   01-14-2019     finance   olivia@example.com\n",
       "18  116    Peter   99  348000.0   2024-02-28          it    peter@example.com\n",
       "19  117   Quincy   31   45000.0   2021-07-04  operations   quincy@example.com\n",
       "20  118    Riley   34   50000.0   2020-09-09       legal    riley@example.com\n",
       "21  119  Unknown   22   30000.0   11-06-2022     support  support@company.com"
      ]
     },
     "execution_count": 125,
     "metadata": {},
     "output_type": "execute_result"
    }
   ],
   "source": [
    "df.tail()"
   ]
  },
  {
   "cell_type": "markdown",
   "metadata": {},
   "source": [
    "### Handle Outliers"
   ]
  },
  {
   "cell_type": "code",
   "execution_count": 129,
   "metadata": {},
   "outputs": [],
   "source": [
    "# Remove rows where Salary is below 20,000 or above 200,000\n",
    "df = df[(df['Salary'] >= 20000) & (df['Salary'] <= 200000)]\n",
    "\n",
    "# Check for unrealistic ages (e.g., less than 18 or greater than 65)\n",
    "df = df[(df['Age'] >= 18) & (df['Age'] <= 65)]"
   ]
  },
  {
   "cell_type": "code",
   "execution_count": 134,
   "metadata": {},
   "outputs": [
    {
     "name": "stdout",
     "output_type": "stream",
     "text": [
      "45 22\n",
      "80000.0 27000.0\n"
     ]
    }
   ],
   "source": [
    "print(df['Age'].max(), df['Age'].min())\n",
    "print(df['Salary'].max(), df['Salary'].min())"
   ]
  },
  {
   "cell_type": "markdown",
   "metadata": {},
   "source": [
    "### Validate and Save Clean Data"
   ]
  },
  {
   "cell_type": "code",
   "execution_count": 136,
   "metadata": {},
   "outputs": [
    {
     "name": "stdout",
     "output_type": "stream",
     "text": [
      "<class 'pandas.core.frame.DataFrame'>\n",
      "Index: 13 entries, 0 to 21\n",
      "Data columns (total 7 columns):\n",
      " #   Column        Non-Null Count  Dtype  \n",
      "---  ------        --------------  -----  \n",
      " 0   ID            13 non-null     int64  \n",
      " 1   Name          13 non-null     object \n",
      " 2   Age           13 non-null     int64  \n",
      " 3   Salary        13 non-null     float64\n",
      " 4   Joining_Date  13 non-null     object \n",
      " 5   Department    13 non-null     object \n",
      " 6   Email         13 non-null     object \n",
      "dtypes: float64(1), int64(2), object(4)\n",
      "memory usage: 832.0+ bytes\n",
      "None\n"
     ]
    },
    {
     "data": {
      "text/html": [
       "<div>\n",
       "<style scoped>\n",
       "    .dataframe tbody tr th:only-of-type {\n",
       "        vertical-align: middle;\n",
       "    }\n",
       "\n",
       "    .dataframe tbody tr th {\n",
       "        vertical-align: top;\n",
       "    }\n",
       "\n",
       "    .dataframe thead th {\n",
       "        text-align: right;\n",
       "    }\n",
       "</style>\n",
       "<table border=\"1\" class=\"dataframe\">\n",
       "  <thead>\n",
       "    <tr style=\"text-align: right;\">\n",
       "      <th></th>\n",
       "      <th>ID</th>\n",
       "      <th>Name</th>\n",
       "      <th>Age</th>\n",
       "      <th>Salary</th>\n",
       "      <th>Joining_Date</th>\n",
       "      <th>Department</th>\n",
       "      <th>Email</th>\n",
       "    </tr>\n",
       "  </thead>\n",
       "  <tbody>\n",
       "    <tr>\n",
       "      <th>0</th>\n",
       "      <td>101</td>\n",
       "      <td>Alice</td>\n",
       "      <td>25</td>\n",
       "      <td>50000.0</td>\n",
       "      <td>2021-07-15</td>\n",
       "      <td>hr</td>\n",
       "      <td>alice@example.com</td>\n",
       "    </tr>\n",
       "    <tr>\n",
       "      <th>1</th>\n",
       "      <td>102</td>\n",
       "      <td>Bob</td>\n",
       "      <td>43</td>\n",
       "      <td>60000.0</td>\n",
       "      <td>06/12/2021</td>\n",
       "      <td>engineering</td>\n",
       "      <td>bob@example.com</td>\n",
       "    </tr>\n",
       "    <tr>\n",
       "      <th>2</th>\n",
       "      <td>103</td>\n",
       "      <td>Charlie</td>\n",
       "      <td>30</td>\n",
       "      <td>50000.0</td>\n",
       "      <td>10 May 2021</td>\n",
       "      <td>hr</td>\n",
       "      <td>charlie@example</td>\n",
       "    </tr>\n",
       "    <tr>\n",
       "      <th>5</th>\n",
       "      <td>105</td>\n",
       "      <td>Eve</td>\n",
       "      <td>28</td>\n",
       "      <td>52000.0</td>\n",
       "      <td>2021-09-01</td>\n",
       "      <td>marketing</td>\n",
       "      <td>eve@example.com</td>\n",
       "    </tr>\n",
       "    <tr>\n",
       "      <th>7</th>\n",
       "      <td>107</td>\n",
       "      <td>George</td>\n",
       "      <td>26</td>\n",
       "      <td>47000.0</td>\n",
       "      <td>12-25-2020</td>\n",
       "      <td>it</td>\n",
       "      <td>george @ example . com</td>\n",
       "    </tr>\n",
       "  </tbody>\n",
       "</table>\n",
       "</div>"
      ],
      "text/plain": [
       "    ID     Name  Age   Salary Joining_Date   Department  \\\n",
       "0  101    Alice   25  50000.0   2021-07-15           hr   \n",
       "1  102      Bob   43  60000.0   06/12/2021  engineering   \n",
       "2  103  Charlie   30  50000.0  10 May 2021           hr   \n",
       "5  105      Eve   28  52000.0   2021-09-01    marketing   \n",
       "7  107   George   26  47000.0   12-25-2020           it   \n",
       "\n",
       "                    Email  \n",
       "0       alice@example.com  \n",
       "1         bob@example.com  \n",
       "2         charlie@example  \n",
       "5         eve@example.com  \n",
       "7  george @ example . com  "
      ]
     },
     "execution_count": 136,
     "metadata": {},
     "output_type": "execute_result"
    }
   ],
   "source": [
    "# Check final dataset\n",
    "print(df.info())\n",
    "df.head()"
   ]
  },
  {
   "cell_type": "code",
   "execution_count": 137,
   "metadata": {},
   "outputs": [],
   "source": [
    "# Save cleaned data\n",
    "df.to_csv(\"cleaned_data.csv\", index=False)"
   ]
  }
 ],
 "metadata": {
  "kernelspec": {
   "display_name": "dataenv",
   "language": "python",
   "name": "python3"
  },
  "language_info": {
   "codemirror_mode": {
    "name": "ipython",
    "version": 3
   },
   "file_extension": ".py",
   "mimetype": "text/x-python",
   "name": "python",
   "nbconvert_exporter": "python",
   "pygments_lexer": "ipython3",
   "version": "3.13.0"
  }
 },
 "nbformat": 4,
 "nbformat_minor": 2
}
