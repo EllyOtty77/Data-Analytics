{
    "metadata": {
        "kernelspec": {
            "name": "python3",
            "display_name": "Python 3",
            "language": "python"
        },
        "language_info": {
            "name": "python",
            "version": "3.11.5",
            "mimetype": "text/x-python",
            "codemirror_mode": {
                "name": "ipython",
                "version": 3
            },
            "pygments_lexer": "ipython3",
            "nbconvert_exporter": "python",
            "file_extension": ".py"
        }
    },
    "nbformat_minor": 2,
    "nbformat": 4,
    "cells": [
        {
            "cell_type": "markdown",
            "source": [
                "This chapter focuses on tools to help combine, join, and rearrange data"
            ],
            "metadata": {
                "azdata_cell_guid": "003cfd09-b74e-4238-8bd8-094271cac7c7"
            }
        },
        {
            "cell_type": "markdown",
            "source": [
                "# Hierarchical indexing"
            ],
            "metadata": {
                "azdata_cell_guid": "2ec96e06-cdde-411b-aa96-c5c836c0a4f9"
            }
        },
        {
            "cell_type": "markdown",
            "source": [
                "Hierarchical indexing is an important feature of pandas that enables you to have multiple (two or more) index levels on an axis. \n",
                "Somewhat abstractly, it provides a way for you to work with higher dimensional data in a lower dimensional form. "
            ],
            "metadata": {
                "azdata_cell_guid": "2c95b3db-c7c3-4a98-ace3-4c0907e7a56d"
            }
        },
        {
            "cell_type": "code",
            "source": [
                "import pandas as pd\n",
                "import numpy as np"
            ],
            "metadata": {
                "azdata_cell_guid": "1eeb4e97-1513-4682-8dd0-2d98df679162",
                "language": "python"
            },
            "outputs": [],
            "execution_count": 6
        },
        {
            "cell_type": "code",
            "source": [
                "data = pd.Series(np.random.randn(9),\n",
                "                 index=[['a', 'a', 'a', 'b', 'b', 'c', 'c', 'd', 'd'],\n",
                "                        [1, 2, 3, 1, 3, 1, 2, 2, 3]])\n",
                "data"
            ],
            "metadata": {
                "azdata_cell_guid": "47c5362c-9a50-4b57-957b-d973ea8a3913",
                "language": "python"
            },
            "outputs": [
                {
                    "output_type": "execute_result",
                    "execution_count": 2,
                    "data": {
                        "text/plain": "a  1   -0.889423\n   2    1.245490\n   3    0.356754\nb  1    2.002424\n   3   -0.843689\nc  1   -0.016966\n   2   -0.339703\nd  2    1.118601\n   3    0.536543\ndtype: float64"
                    },
                    "metadata": {}
                }
            ],
            "execution_count": 2
        },
        {
            "cell_type": "markdown",
            "source": [
                "_The “gaps” in the index display mean “use the label directly above”:_"
            ],
            "metadata": {
                "azdata_cell_guid": "e4541a7c-3d70-4857-a889-f45569622f51"
            }
        },
        {
            "cell_type": "code",
            "source": [
                "data.index"
            ],
            "metadata": {
                "azdata_cell_guid": "98f72f29-11fa-4368-b726-c067bce88ce1",
                "language": "python"
            },
            "outputs": [
                {
                    "output_type": "execute_result",
                    "execution_count": 3,
                    "data": {
                        "text/plain": "MultiIndex([('a', 1),\n            ('a', 2),\n            ('a', 3),\n            ('b', 1),\n            ('b', 3),\n            ('c', 1),\n            ('c', 2),\n            ('d', 2),\n            ('d', 3)],\n           )"
                    },
                    "metadata": {}
                }
            ],
            "execution_count": 3
        },
        {
            "cell_type": "markdown",
            "source": [
                "With a hierarchically indexed object, so-called partial indexing is possible, enabling\n",
                "you to concisely select subsets of the data:"
            ],
            "metadata": {
                "azdata_cell_guid": "5d3a10b2-5975-436b-8bc3-95fdec2a3014"
            }
        },
        {
            "cell_type": "code",
            "source": [
                "data['b']"
            ],
            "metadata": {
                "azdata_cell_guid": "733f11ee-47b8-4a36-af53-a8f50134ae3f",
                "language": "python"
            },
            "outputs": [
                {
                    "output_type": "execute_result",
                    "execution_count": 4,
                    "data": {
                        "text/plain": "1    2.002424\n3   -0.843689\ndtype: float64"
                    },
                    "metadata": {}
                }
            ],
            "execution_count": 4
        },
        {
            "cell_type": "code",
            "source": [
                "data['b':'c']"
            ],
            "metadata": {
                "azdata_cell_guid": "d51758d7-ecd4-41cf-8d21-356091d29d6e",
                "language": "python"
            },
            "outputs": [
                {
                    "output_type": "execute_result",
                    "execution_count": 5,
                    "data": {
                        "text/plain": "b  1    2.002424\n   3   -0.843689\nc  1   -0.016966\n   2   -0.339703\ndtype: float64"
                    },
                    "metadata": {}
                }
            ],
            "execution_count": 5
        },
        {
            "cell_type": "code",
            "source": [
                "data.loc[['b', 'd']]"
            ],
            "metadata": {
                "azdata_cell_guid": "f7d84236-2025-4ae3-a112-0ef19fdfbde6",
                "language": "python"
            },
            "outputs": [
                {
                    "output_type": "execute_result",
                    "execution_count": 6,
                    "data": {
                        "text/plain": "b  1    2.002424\n   3   -0.843689\nd  2    1.118601\n   3    0.536543\ndtype: float64"
                    },
                    "metadata": {}
                }
            ],
            "execution_count": 6
        },
        {
            "cell_type": "markdown",
            "source": [
                "Selection is even possible from an “inner” level:"
            ],
            "metadata": {
                "azdata_cell_guid": "4e45aba4-0d46-4072-bfbb-0a387a66ae03"
            }
        },
        {
            "cell_type": "code",
            "source": [
                "data.loc[:, 2]"
            ],
            "metadata": {
                "azdata_cell_guid": "2714a604-1955-4d2f-818c-a7b17678b4e0",
                "language": "python"
            },
            "outputs": [
                {
                    "output_type": "execute_result",
                    "execution_count": 7,
                    "data": {
                        "text/plain": "a    1.245490\nc   -0.339703\nd    1.118601\ndtype: float64"
                    },
                    "metadata": {}
                }
            ],
            "execution_count": 7
        },
        {
            "cell_type": "markdown",
            "source": [
                "Hierarchical indexing plays an important role in reshaping data and group-based\n",
                "operations like forming a pivot table. For example, you could rearrange the data into\n",
                "a DataFrame using its unstack method:"
            ],
            "metadata": {
                "azdata_cell_guid": "b8952573-6923-4cef-a542-d7ad26314e5e"
            }
        },
        {
            "cell_type": "code",
            "source": [
                " data.unstack()"
            ],
            "metadata": {
                "azdata_cell_guid": "b3980998-de28-479e-809a-ec13f1f52685",
                "language": "python"
            },
            "outputs": [
                {
                    "output_type": "execute_result",
                    "execution_count": 8,
                    "data": {
                        "text/html": "<div>\n<style scoped>\n    .dataframe tbody tr th:only-of-type {\n        vertical-align: middle;\n    }\n\n    .dataframe tbody tr th {\n        vertical-align: top;\n    }\n\n    .dataframe thead th {\n        text-align: right;\n    }\n</style>\n<table border=\"1\" class=\"dataframe\">\n  <thead>\n    <tr style=\"text-align: right;\">\n      <th></th>\n      <th>1</th>\n      <th>2</th>\n      <th>3</th>\n    </tr>\n  </thead>\n  <tbody>\n    <tr>\n      <th>a</th>\n      <td>-0.889423</td>\n      <td>1.245490</td>\n      <td>0.356754</td>\n    </tr>\n    <tr>\n      <th>b</th>\n      <td>2.002424</td>\n      <td>NaN</td>\n      <td>-0.843689</td>\n    </tr>\n    <tr>\n      <th>c</th>\n      <td>-0.016966</td>\n      <td>-0.339703</td>\n      <td>NaN</td>\n    </tr>\n    <tr>\n      <th>d</th>\n      <td>NaN</td>\n      <td>1.118601</td>\n      <td>0.536543</td>\n    </tr>\n  </tbody>\n</table>\n</div>",
                        "text/plain": "          1         2         3\na -0.889423  1.245490  0.356754\nb  2.002424       NaN -0.843689\nc -0.016966 -0.339703       NaN\nd       NaN  1.118601  0.536543"
                    },
                    "metadata": {}
                }
            ],
            "execution_count": 8
        },
        {
            "cell_type": "markdown",
            "source": [
                "The inverse operation of unstack is stack:"
            ],
            "metadata": {
                "azdata_cell_guid": "dc42866d-f9fa-4319-b07c-bc52018250cb"
            }
        },
        {
            "cell_type": "code",
            "source": [
                "data.unstack().stack()"
            ],
            "metadata": {
                "azdata_cell_guid": "4d445947-1a97-447b-8557-975aff49c096",
                "language": "python"
            },
            "outputs": [
                {
                    "output_type": "execute_result",
                    "execution_count": 9,
                    "data": {
                        "text/plain": "a  1   -0.889423\n   2    1.245490\n   3    0.356754\nb  1    2.002424\n   3   -0.843689\nc  1   -0.016966\n   2   -0.339703\nd  2    1.118601\n   3    0.536543\ndtype: float64"
                    },
                    "metadata": {}
                }
            ],
            "execution_count": 9
        },
        {
            "cell_type": "markdown",
            "source": [
                "With a DataFrame, either axis can have a hierarchical index:"
            ],
            "metadata": {
                "azdata_cell_guid": "d5a8a2f2-b9c8-4264-bf91-787aafab3e3a"
            }
        },
        {
            "cell_type": "code",
            "source": [
                "frame = pd.DataFrame(np.arange(12).reshape((4, 3)),\n",
                "                     index=[['a', 'a', 'b', 'b'], [1, 2, 1, 2]],\n",
                "                     columns=[['Ohio', 'Ohio', 'Colorado'],\n",
                "                              ['Green', 'Red', 'Green']])\n",
                "frame"
            ],
            "metadata": {
                "azdata_cell_guid": "d56ae973-37b0-4bc7-92dc-b218a52bce03",
                "language": "python"
            },
            "outputs": [
                {
                    "output_type": "execute_result",
                    "execution_count": 10,
                    "data": {
                        "text/html": "<div>\n<style scoped>\n    .dataframe tbody tr th:only-of-type {\n        vertical-align: middle;\n    }\n\n    .dataframe tbody tr th {\n        vertical-align: top;\n    }\n\n    .dataframe thead tr th {\n        text-align: left;\n    }\n</style>\n<table border=\"1\" class=\"dataframe\">\n  <thead>\n    <tr>\n      <th></th>\n      <th></th>\n      <th colspan=\"2\" halign=\"left\">Ohio</th>\n      <th>Colorado</th>\n    </tr>\n    <tr>\n      <th></th>\n      <th></th>\n      <th>Green</th>\n      <th>Red</th>\n      <th>Green</th>\n    </tr>\n  </thead>\n  <tbody>\n    <tr>\n      <th rowspan=\"2\" valign=\"top\">a</th>\n      <th>1</th>\n      <td>0</td>\n      <td>1</td>\n      <td>2</td>\n    </tr>\n    <tr>\n      <th>2</th>\n      <td>3</td>\n      <td>4</td>\n      <td>5</td>\n    </tr>\n    <tr>\n      <th rowspan=\"2\" valign=\"top\">b</th>\n      <th>1</th>\n      <td>6</td>\n      <td>7</td>\n      <td>8</td>\n    </tr>\n    <tr>\n      <th>2</th>\n      <td>9</td>\n      <td>10</td>\n      <td>11</td>\n    </tr>\n  </tbody>\n</table>\n</div>",
                        "text/plain": "     Ohio     Colorado\n    Green Red    Green\na 1     0   1        2\n  2     3   4        5\nb 1     6   7        8\n  2     9  10       11"
                    },
                    "metadata": {}
                }
            ],
            "execution_count": 10
        },
        {
            "cell_type": "markdown",
            "source": [
                "The hierarchical levels can have names (as strings or any Python objects). If so, these\r\n",
                "will show up in the console output:"
            ],
            "metadata": {
                "azdata_cell_guid": "3db16fef-85d9-4d9a-a065-7a97c2609f2b"
            }
        },
        {
            "cell_type": "code",
            "source": [
                "frame.index.names = ['key1', 'key2']\n",
                "frame.columns.names = ['state', 'color']\n",
                "frame"
            ],
            "metadata": {
                "azdata_cell_guid": "8064ed04-ebb8-47c8-973f-808dc498674d",
                "language": "python"
            },
            "outputs": [
                {
                    "output_type": "execute_result",
                    "execution_count": 11,
                    "data": {
                        "text/html": "<div>\n<style scoped>\n    .dataframe tbody tr th:only-of-type {\n        vertical-align: middle;\n    }\n\n    .dataframe tbody tr th {\n        vertical-align: top;\n    }\n\n    .dataframe thead tr th {\n        text-align: left;\n    }\n\n    .dataframe thead tr:last-of-type th {\n        text-align: right;\n    }\n</style>\n<table border=\"1\" class=\"dataframe\">\n  <thead>\n    <tr>\n      <th></th>\n      <th>state</th>\n      <th colspan=\"2\" halign=\"left\">Ohio</th>\n      <th>Colorado</th>\n    </tr>\n    <tr>\n      <th></th>\n      <th>color</th>\n      <th>Green</th>\n      <th>Red</th>\n      <th>Green</th>\n    </tr>\n    <tr>\n      <th>key1</th>\n      <th>key2</th>\n      <th></th>\n      <th></th>\n      <th></th>\n    </tr>\n  </thead>\n  <tbody>\n    <tr>\n      <th rowspan=\"2\" valign=\"top\">a</th>\n      <th>1</th>\n      <td>0</td>\n      <td>1</td>\n      <td>2</td>\n    </tr>\n    <tr>\n      <th>2</th>\n      <td>3</td>\n      <td>4</td>\n      <td>5</td>\n    </tr>\n    <tr>\n      <th rowspan=\"2\" valign=\"top\">b</th>\n      <th>1</th>\n      <td>6</td>\n      <td>7</td>\n      <td>8</td>\n    </tr>\n    <tr>\n      <th>2</th>\n      <td>9</td>\n      <td>10</td>\n      <td>11</td>\n    </tr>\n  </tbody>\n</table>\n</div>",
                        "text/plain": "state      Ohio     Colorado\ncolor     Green Red    Green\nkey1 key2                   \na    1        0   1        2\n     2        3   4        5\nb    1        6   7        8\n     2        9  10       11"
                    },
                    "metadata": {}
                }
            ],
            "execution_count": 11
        },
        {
            "cell_type": "markdown",
            "source": [
                "With partial column indexing you can similarly select groups of columns:\n"
            ],
            "metadata": {
                "azdata_cell_guid": "4a7d6d5a-dbf9-4c0d-aa99-358c6b773c5b"
            }
        },
        {
            "cell_type": "code",
            "source": [
                "frame['Ohio']"
            ],
            "metadata": {
                "azdata_cell_guid": "fa46c08c-b2a9-484e-8317-a0c32028d88e",
                "language": "python"
            },
            "outputs": [
                {
                    "output_type": "execute_result",
                    "execution_count": 12,
                    "data": {
                        "text/html": "<div>\n<style scoped>\n    .dataframe tbody tr th:only-of-type {\n        vertical-align: middle;\n    }\n\n    .dataframe tbody tr th {\n        vertical-align: top;\n    }\n\n    .dataframe thead th {\n        text-align: right;\n    }\n</style>\n<table border=\"1\" class=\"dataframe\">\n  <thead>\n    <tr style=\"text-align: right;\">\n      <th></th>\n      <th>color</th>\n      <th>Green</th>\n      <th>Red</th>\n    </tr>\n    <tr>\n      <th>key1</th>\n      <th>key2</th>\n      <th></th>\n      <th></th>\n    </tr>\n  </thead>\n  <tbody>\n    <tr>\n      <th rowspan=\"2\" valign=\"top\">a</th>\n      <th>1</th>\n      <td>0</td>\n      <td>1</td>\n    </tr>\n    <tr>\n      <th>2</th>\n      <td>3</td>\n      <td>4</td>\n    </tr>\n    <tr>\n      <th rowspan=\"2\" valign=\"top\">b</th>\n      <th>1</th>\n      <td>6</td>\n      <td>7</td>\n    </tr>\n    <tr>\n      <th>2</th>\n      <td>9</td>\n      <td>10</td>\n    </tr>\n  </tbody>\n</table>\n</div>",
                        "text/plain": "color      Green  Red\nkey1 key2            \na    1         0    1\n     2         3    4\nb    1         6    7\n     2         9   10"
                    },
                    "metadata": {}
                }
            ],
            "execution_count": 12
        },
        {
            "cell_type": "markdown",
            "source": [
                "## Reordering and Sorting Levels\n"
            ],
            "metadata": {
                "azdata_cell_guid": "018b295b-d697-4ba7-ad89-af489b9a9507"
            }
        },
        {
            "cell_type": "markdown",
            "source": [
                "At times you will need to rearrange the order of the levels on an axis or sort the data\n",
                "by the values in one specific level. The _swaplevel_ takes two level numbers or names\n",
                "and returns a new object with the levels interchanged (but the data is otherwise\n",
                "unaltered):"
            ],
            "metadata": {
                "azdata_cell_guid": "15df50e5-d24d-4ceb-90e5-98e803763071"
            }
        },
        {
            "cell_type": "code",
            "source": [
                "frame.swaplevel('key1', 'key2')"
            ],
            "metadata": {
                "azdata_cell_guid": "0c3b200f-29c9-4406-ac63-d6cee01aae8a",
                "language": "python"
            },
            "outputs": [
                {
                    "output_type": "execute_result",
                    "execution_count": 13,
                    "data": {
                        "text/html": "<div>\n<style scoped>\n    .dataframe tbody tr th:only-of-type {\n        vertical-align: middle;\n    }\n\n    .dataframe tbody tr th {\n        vertical-align: top;\n    }\n\n    .dataframe thead tr th {\n        text-align: left;\n    }\n\n    .dataframe thead tr:last-of-type th {\n        text-align: right;\n    }\n</style>\n<table border=\"1\" class=\"dataframe\">\n  <thead>\n    <tr>\n      <th></th>\n      <th>state</th>\n      <th colspan=\"2\" halign=\"left\">Ohio</th>\n      <th>Colorado</th>\n    </tr>\n    <tr>\n      <th></th>\n      <th>color</th>\n      <th>Green</th>\n      <th>Red</th>\n      <th>Green</th>\n    </tr>\n    <tr>\n      <th>key2</th>\n      <th>key1</th>\n      <th></th>\n      <th></th>\n      <th></th>\n    </tr>\n  </thead>\n  <tbody>\n    <tr>\n      <th>1</th>\n      <th>a</th>\n      <td>0</td>\n      <td>1</td>\n      <td>2</td>\n    </tr>\n    <tr>\n      <th>2</th>\n      <th>a</th>\n      <td>3</td>\n      <td>4</td>\n      <td>5</td>\n    </tr>\n    <tr>\n      <th>1</th>\n      <th>b</th>\n      <td>6</td>\n      <td>7</td>\n      <td>8</td>\n    </tr>\n    <tr>\n      <th>2</th>\n      <th>b</th>\n      <td>9</td>\n      <td>10</td>\n      <td>11</td>\n    </tr>\n  </tbody>\n</table>\n</div>",
                        "text/plain": "state      Ohio     Colorado\ncolor     Green Red    Green\nkey2 key1                   \n1    a        0   1        2\n2    a        3   4        5\n1    b        6   7        8\n2    b        9  10       11"
                    },
                    "metadata": {}
                }
            ],
            "execution_count": 13
        },
        {
            "cell_type": "markdown",
            "source": [
                "_sort_index_, on the other hand, sorts the data using only the values in a single level.\n",
                "When swapping levels, it’s not uncommon to also use _sort_index_ so that the result is\n",
                "lexicographically sorted by the indicated level:"
            ],
            "metadata": {
                "azdata_cell_guid": "fd73fb95-ef5b-4eed-9105-d55989aad05d"
            }
        },
        {
            "cell_type": "code",
            "source": [
                "frame.sort_index(level=1)"
            ],
            "metadata": {
                "azdata_cell_guid": "8ec798a7-a6e7-426f-a9ee-4c824815bf19",
                "language": "python"
            },
            "outputs": [
                {
                    "output_type": "execute_result",
                    "execution_count": 14,
                    "data": {
                        "text/html": "<div>\n<style scoped>\n    .dataframe tbody tr th:only-of-type {\n        vertical-align: middle;\n    }\n\n    .dataframe tbody tr th {\n        vertical-align: top;\n    }\n\n    .dataframe thead tr th {\n        text-align: left;\n    }\n\n    .dataframe thead tr:last-of-type th {\n        text-align: right;\n    }\n</style>\n<table border=\"1\" class=\"dataframe\">\n  <thead>\n    <tr>\n      <th></th>\n      <th>state</th>\n      <th colspan=\"2\" halign=\"left\">Ohio</th>\n      <th>Colorado</th>\n    </tr>\n    <tr>\n      <th></th>\n      <th>color</th>\n      <th>Green</th>\n      <th>Red</th>\n      <th>Green</th>\n    </tr>\n    <tr>\n      <th>key1</th>\n      <th>key2</th>\n      <th></th>\n      <th></th>\n      <th></th>\n    </tr>\n  </thead>\n  <tbody>\n    <tr>\n      <th>a</th>\n      <th>1</th>\n      <td>0</td>\n      <td>1</td>\n      <td>2</td>\n    </tr>\n    <tr>\n      <th>b</th>\n      <th>1</th>\n      <td>6</td>\n      <td>7</td>\n      <td>8</td>\n    </tr>\n    <tr>\n      <th>a</th>\n      <th>2</th>\n      <td>3</td>\n      <td>4</td>\n      <td>5</td>\n    </tr>\n    <tr>\n      <th>b</th>\n      <th>2</th>\n      <td>9</td>\n      <td>10</td>\n      <td>11</td>\n    </tr>\n  </tbody>\n</table>\n</div>",
                        "text/plain": "state      Ohio     Colorado\ncolor     Green Red    Green\nkey1 key2                   \na    1        0   1        2\nb    1        6   7        8\na    2        3   4        5\nb    2        9  10       11"
                    },
                    "metadata": {}
                }
            ],
            "execution_count": 14
        },
        {
            "cell_type": "code",
            "source": [
                "frame.swaplevel(0, 1).sort_index(level=0)"
            ],
            "metadata": {
                "azdata_cell_guid": "c27440e7-dd90-4522-bb97-1d5183c2422d",
                "language": "python"
            },
            "outputs": [
                {
                    "output_type": "execute_result",
                    "execution_count": 15,
                    "data": {
                        "text/html": "<div>\n<style scoped>\n    .dataframe tbody tr th:only-of-type {\n        vertical-align: middle;\n    }\n\n    .dataframe tbody tr th {\n        vertical-align: top;\n    }\n\n    .dataframe thead tr th {\n        text-align: left;\n    }\n\n    .dataframe thead tr:last-of-type th {\n        text-align: right;\n    }\n</style>\n<table border=\"1\" class=\"dataframe\">\n  <thead>\n    <tr>\n      <th></th>\n      <th>state</th>\n      <th colspan=\"2\" halign=\"left\">Ohio</th>\n      <th>Colorado</th>\n    </tr>\n    <tr>\n      <th></th>\n      <th>color</th>\n      <th>Green</th>\n      <th>Red</th>\n      <th>Green</th>\n    </tr>\n    <tr>\n      <th>key2</th>\n      <th>key1</th>\n      <th></th>\n      <th></th>\n      <th></th>\n    </tr>\n  </thead>\n  <tbody>\n    <tr>\n      <th rowspan=\"2\" valign=\"top\">1</th>\n      <th>a</th>\n      <td>0</td>\n      <td>1</td>\n      <td>2</td>\n    </tr>\n    <tr>\n      <th>b</th>\n      <td>6</td>\n      <td>7</td>\n      <td>8</td>\n    </tr>\n    <tr>\n      <th rowspan=\"2\" valign=\"top\">2</th>\n      <th>a</th>\n      <td>3</td>\n      <td>4</td>\n      <td>5</td>\n    </tr>\n    <tr>\n      <th>b</th>\n      <td>9</td>\n      <td>10</td>\n      <td>11</td>\n    </tr>\n  </tbody>\n</table>\n</div>",
                        "text/plain": "state      Ohio     Colorado\ncolor     Green Red    Green\nkey2 key1                   \n1    a        0   1        2\n     b        6   7        8\n2    a        3   4        5\n     b        9  10       11"
                    },
                    "metadata": {}
                }
            ],
            "execution_count": 15
        },
        {
            "cell_type": "markdown",
            "source": [
                "__Data selection performance is much better on hierarchically\n",
                "indexed objects if the index is lexicographically sorted starting with\n",
                "the outermost level—that is, the result of calling\n",
                "sort_index(level=0) or sort_index().__"
            ],
            "metadata": {
                "azdata_cell_guid": "778643f7-f96a-43e2-a991-1fb8cd434dd4"
            }
        },
        {
            "cell_type": "markdown",
            "source": [
                "## Summary Statistics by Level\n"
            ],
            "metadata": {
                "azdata_cell_guid": "70746c39-e9aa-42bb-ae55-98257f54fc67"
            }
        },
        {
            "cell_type": "markdown",
            "source": [
                "Many descriptive and summary statistics on DataFrame and Series have a level\n",
                "option in which you can specify the level you want to aggregate by on a particular\n",
                "axis. "
            ],
            "metadata": {
                "azdata_cell_guid": "18ab859a-d3f3-4ce2-b9eb-73cd2adb9181"
            }
        },
        {
            "cell_type": "code",
            "source": [
                "# frame.sum(level='key2')\n",
                "# frame.sum(level='color', axis=1)"
            ],
            "metadata": {
                "azdata_cell_guid": "19c3062b-048a-4c04-9e57-7815108efc81",
                "language": "python"
            },
            "outputs": [],
            "execution_count": 16
        },
        {
            "cell_type": "markdown",
            "source": [
                "## Indexing with a DataFrame’s columns\n"
            ],
            "metadata": {
                "azdata_cell_guid": "4564f781-ae62-4b73-b9ce-ba99c73fa7f3"
            }
        },
        {
            "cell_type": "markdown",
            "source": [
                "It’s not unusual to want to use one or more columns from a DataFrame as the row\n",
                "index; alternatively, you may wish to move the row index into the DataFrame’s columns. "
            ],
            "metadata": {
                "azdata_cell_guid": "1a7e139d-e38f-40be-ac25-53a40371cd5d"
            }
        },
        {
            "cell_type": "code",
            "source": [
                "frame = pd.DataFrame({'a': range(7), 'b': range(7, 0, -1),\n",
                "                      'c': ['one', 'one', 'one', 'two', 'two','two', 'two'],\n",
                "                      'd': [0, 1, 2, 0, 1, 2, 3]})\n",
                "frame"
            ],
            "metadata": {
                "azdata_cell_guid": "95cc3087-ba04-483d-8b72-be9fa1b8e957",
                "language": "python"
            },
            "outputs": [
                {
                    "output_type": "execute_result",
                    "execution_count": 17,
                    "data": {
                        "text/html": "<div>\n<style scoped>\n    .dataframe tbody tr th:only-of-type {\n        vertical-align: middle;\n    }\n\n    .dataframe tbody tr th {\n        vertical-align: top;\n    }\n\n    .dataframe thead th {\n        text-align: right;\n    }\n</style>\n<table border=\"1\" class=\"dataframe\">\n  <thead>\n    <tr style=\"text-align: right;\">\n      <th></th>\n      <th>a</th>\n      <th>b</th>\n      <th>c</th>\n      <th>d</th>\n    </tr>\n  </thead>\n  <tbody>\n    <tr>\n      <th>0</th>\n      <td>0</td>\n      <td>7</td>\n      <td>one</td>\n      <td>0</td>\n    </tr>\n    <tr>\n      <th>1</th>\n      <td>1</td>\n      <td>6</td>\n      <td>one</td>\n      <td>1</td>\n    </tr>\n    <tr>\n      <th>2</th>\n      <td>2</td>\n      <td>5</td>\n      <td>one</td>\n      <td>2</td>\n    </tr>\n    <tr>\n      <th>3</th>\n      <td>3</td>\n      <td>4</td>\n      <td>two</td>\n      <td>0</td>\n    </tr>\n    <tr>\n      <th>4</th>\n      <td>4</td>\n      <td>3</td>\n      <td>two</td>\n      <td>1</td>\n    </tr>\n    <tr>\n      <th>5</th>\n      <td>5</td>\n      <td>2</td>\n      <td>two</td>\n      <td>2</td>\n    </tr>\n    <tr>\n      <th>6</th>\n      <td>6</td>\n      <td>1</td>\n      <td>two</td>\n      <td>3</td>\n    </tr>\n  </tbody>\n</table>\n</div>",
                        "text/plain": "   a  b    c  d\n0  0  7  one  0\n1  1  6  one  1\n2  2  5  one  2\n3  3  4  two  0\n4  4  3  two  1\n5  5  2  two  2\n6  6  1  two  3"
                    },
                    "metadata": {}
                }
            ],
            "execution_count": 17
        },
        {
            "cell_type": "markdown",
            "source": [
                "DataFrame’s _set_index_ function will create a new DataFrame using one or more of\n",
                "its columns as the index:"
            ],
            "metadata": {
                "azdata_cell_guid": "9734ccf9-5d03-40b7-a2a6-091fb475a047"
            }
        },
        {
            "cell_type": "code",
            "source": [
                "frame2 = frame.set_index(['c', 'd'])\n",
                "frame2"
            ],
            "metadata": {
                "azdata_cell_guid": "e92eaaac-4b53-4e3a-bc82-4a99bfcfccc5",
                "language": "python"
            },
            "outputs": [
                {
                    "output_type": "execute_result",
                    "execution_count": 18,
                    "data": {
                        "text/html": "<div>\n<style scoped>\n    .dataframe tbody tr th:only-of-type {\n        vertical-align: middle;\n    }\n\n    .dataframe tbody tr th {\n        vertical-align: top;\n    }\n\n    .dataframe thead th {\n        text-align: right;\n    }\n</style>\n<table border=\"1\" class=\"dataframe\">\n  <thead>\n    <tr style=\"text-align: right;\">\n      <th></th>\n      <th></th>\n      <th>a</th>\n      <th>b</th>\n    </tr>\n    <tr>\n      <th>c</th>\n      <th>d</th>\n      <th></th>\n      <th></th>\n    </tr>\n  </thead>\n  <tbody>\n    <tr>\n      <th rowspan=\"3\" valign=\"top\">one</th>\n      <th>0</th>\n      <td>0</td>\n      <td>7</td>\n    </tr>\n    <tr>\n      <th>1</th>\n      <td>1</td>\n      <td>6</td>\n    </tr>\n    <tr>\n      <th>2</th>\n      <td>2</td>\n      <td>5</td>\n    </tr>\n    <tr>\n      <th rowspan=\"4\" valign=\"top\">two</th>\n      <th>0</th>\n      <td>3</td>\n      <td>4</td>\n    </tr>\n    <tr>\n      <th>1</th>\n      <td>4</td>\n      <td>3</td>\n    </tr>\n    <tr>\n      <th>2</th>\n      <td>5</td>\n      <td>2</td>\n    </tr>\n    <tr>\n      <th>3</th>\n      <td>6</td>\n      <td>1</td>\n    </tr>\n  </tbody>\n</table>\n</div>",
                        "text/plain": "       a  b\nc   d      \none 0  0  7\n    1  1  6\n    2  2  5\ntwo 0  3  4\n    1  4  3\n    2  5  2\n    3  6  1"
                    },
                    "metadata": {}
                }
            ],
            "execution_count": 18
        },
        {
            "cell_type": "markdown",
            "source": [
                "By default the columns are removed from the DataFrame, though you can leave them\r\n",
                "in:"
            ],
            "metadata": {
                "azdata_cell_guid": "3a334dca-9ea8-4722-8d0b-1149740b8812"
            }
        },
        {
            "cell_type": "code",
            "source": [
                "frame.set_index(['c', 'd'], drop=False)"
            ],
            "metadata": {
                "azdata_cell_guid": "c96e08ee-052c-4d95-969f-595eb759aacc",
                "language": "python"
            },
            "outputs": [
                {
                    "output_type": "execute_result",
                    "execution_count": 19,
                    "data": {
                        "text/html": "<div>\n<style scoped>\n    .dataframe tbody tr th:only-of-type {\n        vertical-align: middle;\n    }\n\n    .dataframe tbody tr th {\n        vertical-align: top;\n    }\n\n    .dataframe thead th {\n        text-align: right;\n    }\n</style>\n<table border=\"1\" class=\"dataframe\">\n  <thead>\n    <tr style=\"text-align: right;\">\n      <th></th>\n      <th></th>\n      <th>a</th>\n      <th>b</th>\n      <th>c</th>\n      <th>d</th>\n    </tr>\n    <tr>\n      <th>c</th>\n      <th>d</th>\n      <th></th>\n      <th></th>\n      <th></th>\n      <th></th>\n    </tr>\n  </thead>\n  <tbody>\n    <tr>\n      <th rowspan=\"3\" valign=\"top\">one</th>\n      <th>0</th>\n      <td>0</td>\n      <td>7</td>\n      <td>one</td>\n      <td>0</td>\n    </tr>\n    <tr>\n      <th>1</th>\n      <td>1</td>\n      <td>6</td>\n      <td>one</td>\n      <td>1</td>\n    </tr>\n    <tr>\n      <th>2</th>\n      <td>2</td>\n      <td>5</td>\n      <td>one</td>\n      <td>2</td>\n    </tr>\n    <tr>\n      <th rowspan=\"4\" valign=\"top\">two</th>\n      <th>0</th>\n      <td>3</td>\n      <td>4</td>\n      <td>two</td>\n      <td>0</td>\n    </tr>\n    <tr>\n      <th>1</th>\n      <td>4</td>\n      <td>3</td>\n      <td>two</td>\n      <td>1</td>\n    </tr>\n    <tr>\n      <th>2</th>\n      <td>5</td>\n      <td>2</td>\n      <td>two</td>\n      <td>2</td>\n    </tr>\n    <tr>\n      <th>3</th>\n      <td>6</td>\n      <td>1</td>\n      <td>two</td>\n      <td>3</td>\n    </tr>\n  </tbody>\n</table>\n</div>",
                        "text/plain": "       a  b    c  d\nc   d              \none 0  0  7  one  0\n    1  1  6  one  1\n    2  2  5  one  2\ntwo 0  3  4  two  0\n    1  4  3  two  1\n    2  5  2  two  2\n    3  6  1  two  3"
                    },
                    "metadata": {}
                }
            ],
            "execution_count": 19
        },
        {
            "cell_type": "markdown",
            "source": [
                "_reset_index_, on the other hand, does the opposite of _set_index_; the hierarchical\n",
                "index levels are moved into the columns:"
            ],
            "metadata": {
                "azdata_cell_guid": "0545ace5-2cbe-4761-901d-29ea67b4d410"
            }
        },
        {
            "cell_type": "code",
            "source": [
                "frame2.reset_index()"
            ],
            "metadata": {
                "azdata_cell_guid": "40812f7a-0a41-4225-82fd-d810d61824bc",
                "language": "python"
            },
            "outputs": [
                {
                    "output_type": "execute_result",
                    "execution_count": 20,
                    "data": {
                        "text/html": "<div>\n<style scoped>\n    .dataframe tbody tr th:only-of-type {\n        vertical-align: middle;\n    }\n\n    .dataframe tbody tr th {\n        vertical-align: top;\n    }\n\n    .dataframe thead th {\n        text-align: right;\n    }\n</style>\n<table border=\"1\" class=\"dataframe\">\n  <thead>\n    <tr style=\"text-align: right;\">\n      <th></th>\n      <th>c</th>\n      <th>d</th>\n      <th>a</th>\n      <th>b</th>\n    </tr>\n  </thead>\n  <tbody>\n    <tr>\n      <th>0</th>\n      <td>one</td>\n      <td>0</td>\n      <td>0</td>\n      <td>7</td>\n    </tr>\n    <tr>\n      <th>1</th>\n      <td>one</td>\n      <td>1</td>\n      <td>1</td>\n      <td>6</td>\n    </tr>\n    <tr>\n      <th>2</th>\n      <td>one</td>\n      <td>2</td>\n      <td>2</td>\n      <td>5</td>\n    </tr>\n    <tr>\n      <th>3</th>\n      <td>two</td>\n      <td>0</td>\n      <td>3</td>\n      <td>4</td>\n    </tr>\n    <tr>\n      <th>4</th>\n      <td>two</td>\n      <td>1</td>\n      <td>4</td>\n      <td>3</td>\n    </tr>\n    <tr>\n      <th>5</th>\n      <td>two</td>\n      <td>2</td>\n      <td>5</td>\n      <td>2</td>\n    </tr>\n    <tr>\n      <th>6</th>\n      <td>two</td>\n      <td>3</td>\n      <td>6</td>\n      <td>1</td>\n    </tr>\n  </tbody>\n</table>\n</div>",
                        "text/plain": "     c  d  a  b\n0  one  0  0  7\n1  one  1  1  6\n2  one  2  2  5\n3  two  0  3  4\n4  two  1  4  3\n5  two  2  5  2\n6  two  3  6  1"
                    },
                    "metadata": {}
                }
            ],
            "execution_count": 20
        },
        {
            "cell_type": "markdown",
            "source": [
                "# Combining and Merging Datasets"
            ],
            "metadata": {
                "azdata_cell_guid": "e4276e78-08ab-435b-a63a-2483e087f4be"
            }
        },
        {
            "cell_type": "markdown",
            "source": [
                "Data contained in pandas objects can be combined together in a number of ways:\n",
                "- _pandas.merge_ connects rows in DataFrames based on one or more keys. This\n",
                "will be familiar to users of SQL or other relational databases, as it implements\n",
                "database join operations.\n",
                "- _pandas.concat_ concatenates or “stacks” together objects along an axis.\n",
                "- The _combine_first_ instance method enables splicing together overlapping data\n",
                "to fill in missing values in one object with values from another."
            ],
            "metadata": {
                "azdata_cell_guid": "1c28d972-cdec-4bcd-a270-0c7c9eeeca05"
            }
        },
        {
            "cell_type": "markdown",
            "source": [
                "## Database-Style DataFrame Joins"
            ],
            "metadata": {
                "azdata_cell_guid": "c00c39fc-2cec-4456-9aac-18552737f201"
            }
        },
        {
            "cell_type": "markdown",
            "source": [
                "Merge or join operations combine datasets by linking rows using one or more keys.\n",
                "These operations are central to relational databases (e.g., SQL-based). The merge\n",
                "function in pandas is the main entry point for using these algorithms on your data."
            ],
            "metadata": {
                "azdata_cell_guid": "5bf090e8-dec2-4722-b2ad-5f570e4da290"
            }
        },
        {
            "cell_type": "code",
            "source": [
                "df1 = pd.DataFrame({'key': ['b', 'b', 'a', 'c', 'a', 'a', 'b'],\n",
                "                    'data1': range(7)})\n",
                "df1"
            ],
            "metadata": {
                "azdata_cell_guid": "117e236e-4f83-4189-8650-16ede09bfe37",
                "language": "python"
            },
            "outputs": [
                {
                    "output_type": "execute_result",
                    "execution_count": 21,
                    "data": {
                        "text/html": "<div>\n<style scoped>\n    .dataframe tbody tr th:only-of-type {\n        vertical-align: middle;\n    }\n\n    .dataframe tbody tr th {\n        vertical-align: top;\n    }\n\n    .dataframe thead th {\n        text-align: right;\n    }\n</style>\n<table border=\"1\" class=\"dataframe\">\n  <thead>\n    <tr style=\"text-align: right;\">\n      <th></th>\n      <th>key</th>\n      <th>data1</th>\n    </tr>\n  </thead>\n  <tbody>\n    <tr>\n      <th>0</th>\n      <td>b</td>\n      <td>0</td>\n    </tr>\n    <tr>\n      <th>1</th>\n      <td>b</td>\n      <td>1</td>\n    </tr>\n    <tr>\n      <th>2</th>\n      <td>a</td>\n      <td>2</td>\n    </tr>\n    <tr>\n      <th>3</th>\n      <td>c</td>\n      <td>3</td>\n    </tr>\n    <tr>\n      <th>4</th>\n      <td>a</td>\n      <td>4</td>\n    </tr>\n    <tr>\n      <th>5</th>\n      <td>a</td>\n      <td>5</td>\n    </tr>\n    <tr>\n      <th>6</th>\n      <td>b</td>\n      <td>6</td>\n    </tr>\n  </tbody>\n</table>\n</div>",
                        "text/plain": "  key  data1\n0   b      0\n1   b      1\n2   a      2\n3   c      3\n4   a      4\n5   a      5\n6   b      6"
                    },
                    "metadata": {}
                }
            ],
            "execution_count": 21
        },
        {
            "cell_type": "code",
            "source": [
                "df2 = pd.DataFrame({'key': ['a', 'b', 'd'],\n",
                "                    'data2': range(3)})\n",
                "df2"
            ],
            "metadata": {
                "azdata_cell_guid": "afcf889b-2477-4e12-9d94-568f61c4253f",
                "language": "python"
            },
            "outputs": [
                {
                    "output_type": "execute_result",
                    "execution_count": 22,
                    "data": {
                        "text/html": "<div>\n<style scoped>\n    .dataframe tbody tr th:only-of-type {\n        vertical-align: middle;\n    }\n\n    .dataframe tbody tr th {\n        vertical-align: top;\n    }\n\n    .dataframe thead th {\n        text-align: right;\n    }\n</style>\n<table border=\"1\" class=\"dataframe\">\n  <thead>\n    <tr style=\"text-align: right;\">\n      <th></th>\n      <th>key</th>\n      <th>data2</th>\n    </tr>\n  </thead>\n  <tbody>\n    <tr>\n      <th>0</th>\n      <td>a</td>\n      <td>0</td>\n    </tr>\n    <tr>\n      <th>1</th>\n      <td>b</td>\n      <td>1</td>\n    </tr>\n    <tr>\n      <th>2</th>\n      <td>d</td>\n      <td>2</td>\n    </tr>\n  </tbody>\n</table>\n</div>",
                        "text/plain": "  key  data2\n0   a      0\n1   b      1\n2   d      2"
                    },
                    "metadata": {}
                }
            ],
            "execution_count": 22
        },
        {
            "cell_type": "markdown",
            "source": [
                "This is an example of a many-to-one join; the data in df1 has multiple rows labeled a\n",
                "and b, whereas df2 has only one row for each value in the key column. Calling merge\n",
                "with these objects we obtain:"
            ],
            "metadata": {
                "azdata_cell_guid": "2c07733d-fe39-40a8-b0b1-fb090c6f0819"
            }
        },
        {
            "cell_type": "code",
            "source": [
                "pd.merge(df1, df2)"
            ],
            "metadata": {
                "azdata_cell_guid": "f4381ec7-38be-4804-94d8-f0d7f502d39b",
                "language": "python"
            },
            "outputs": [
                {
                    "output_type": "execute_result",
                    "execution_count": 23,
                    "data": {
                        "text/html": "<div>\n<style scoped>\n    .dataframe tbody tr th:only-of-type {\n        vertical-align: middle;\n    }\n\n    .dataframe tbody tr th {\n        vertical-align: top;\n    }\n\n    .dataframe thead th {\n        text-align: right;\n    }\n</style>\n<table border=\"1\" class=\"dataframe\">\n  <thead>\n    <tr style=\"text-align: right;\">\n      <th></th>\n      <th>key</th>\n      <th>data1</th>\n      <th>data2</th>\n    </tr>\n  </thead>\n  <tbody>\n    <tr>\n      <th>0</th>\n      <td>b</td>\n      <td>0</td>\n      <td>1</td>\n    </tr>\n    <tr>\n      <th>1</th>\n      <td>b</td>\n      <td>1</td>\n      <td>1</td>\n    </tr>\n    <tr>\n      <th>2</th>\n      <td>a</td>\n      <td>2</td>\n      <td>0</td>\n    </tr>\n    <tr>\n      <th>3</th>\n      <td>a</td>\n      <td>4</td>\n      <td>0</td>\n    </tr>\n    <tr>\n      <th>4</th>\n      <td>a</td>\n      <td>5</td>\n      <td>0</td>\n    </tr>\n    <tr>\n      <th>5</th>\n      <td>b</td>\n      <td>6</td>\n      <td>1</td>\n    </tr>\n  </tbody>\n</table>\n</div>",
                        "text/plain": "  key  data1  data2\n0   b      0      1\n1   b      1      1\n2   a      2      0\n3   a      4      0\n4   a      5      0\n5   b      6      1"
                    },
                    "metadata": {}
                }
            ],
            "execution_count": 23
        },
        {
            "cell_type": "markdown",
            "source": [
                "If the column to join on is not specified, merge uses the overlapping column names as the keys. \n",
                "It’s a good practice to specify explicitly, though:"
            ],
            "metadata": {
                "azdata_cell_guid": "fe18bbe2-d9b9-4fe1-a861-79aea745f2f0"
            }
        },
        {
            "cell_type": "code",
            "source": [
                "pd.merge(df1, df2, on='key')"
            ],
            "metadata": {
                "azdata_cell_guid": "49440075-96d6-4181-b1e7-bdeca8fc4bba",
                "language": "python"
            },
            "outputs": [
                {
                    "output_type": "execute_result",
                    "execution_count": 24,
                    "data": {
                        "text/html": "<div>\n<style scoped>\n    .dataframe tbody tr th:only-of-type {\n        vertical-align: middle;\n    }\n\n    .dataframe tbody tr th {\n        vertical-align: top;\n    }\n\n    .dataframe thead th {\n        text-align: right;\n    }\n</style>\n<table border=\"1\" class=\"dataframe\">\n  <thead>\n    <tr style=\"text-align: right;\">\n      <th></th>\n      <th>key</th>\n      <th>data1</th>\n      <th>data2</th>\n    </tr>\n  </thead>\n  <tbody>\n    <tr>\n      <th>0</th>\n      <td>b</td>\n      <td>0</td>\n      <td>1</td>\n    </tr>\n    <tr>\n      <th>1</th>\n      <td>b</td>\n      <td>1</td>\n      <td>1</td>\n    </tr>\n    <tr>\n      <th>2</th>\n      <td>a</td>\n      <td>2</td>\n      <td>0</td>\n    </tr>\n    <tr>\n      <th>3</th>\n      <td>a</td>\n      <td>4</td>\n      <td>0</td>\n    </tr>\n    <tr>\n      <th>4</th>\n      <td>a</td>\n      <td>5</td>\n      <td>0</td>\n    </tr>\n    <tr>\n      <th>5</th>\n      <td>b</td>\n      <td>6</td>\n      <td>1</td>\n    </tr>\n  </tbody>\n</table>\n</div>",
                        "text/plain": "  key  data1  data2\n0   b      0      1\n1   b      1      1\n2   a      2      0\n3   a      4      0\n4   a      5      0\n5   b      6      1"
                    },
                    "metadata": {}
                }
            ],
            "execution_count": 24
        },
        {
            "cell_type": "markdown",
            "source": [
                "If the column names are different in each object, you can specify them separately:"
            ],
            "metadata": {
                "azdata_cell_guid": "3fcb15e4-7f41-402f-9f73-91e31127e30b"
            }
        },
        {
            "cell_type": "code",
            "source": [
                "df3 = pd.DataFrame({'lkey': ['b', 'b', 'a', 'c', 'a', 'a', 'b'],\n",
                "                    'data1': range(7)})\n",
                "\n",
                "df4 = pd.DataFrame({'rkey': ['a', 'b', 'd'],\n",
                "                    'data2': range(3)})\n",
                "\n",
                "pd.merge(df3, df4, left_on='lkey', right_on='rkey')"
            ],
            "metadata": {
                "azdata_cell_guid": "d6ca901e-464b-4946-ad79-78133b5ccc07",
                "language": "python"
            },
            "outputs": [
                {
                    "output_type": "execute_result",
                    "execution_count": 25,
                    "data": {
                        "text/html": "<div>\n<style scoped>\n    .dataframe tbody tr th:only-of-type {\n        vertical-align: middle;\n    }\n\n    .dataframe tbody tr th {\n        vertical-align: top;\n    }\n\n    .dataframe thead th {\n        text-align: right;\n    }\n</style>\n<table border=\"1\" class=\"dataframe\">\n  <thead>\n    <tr style=\"text-align: right;\">\n      <th></th>\n      <th>lkey</th>\n      <th>data1</th>\n      <th>rkey</th>\n      <th>data2</th>\n    </tr>\n  </thead>\n  <tbody>\n    <tr>\n      <th>0</th>\n      <td>b</td>\n      <td>0</td>\n      <td>b</td>\n      <td>1</td>\n    </tr>\n    <tr>\n      <th>1</th>\n      <td>b</td>\n      <td>1</td>\n      <td>b</td>\n      <td>1</td>\n    </tr>\n    <tr>\n      <th>2</th>\n      <td>a</td>\n      <td>2</td>\n      <td>a</td>\n      <td>0</td>\n    </tr>\n    <tr>\n      <th>3</th>\n      <td>a</td>\n      <td>4</td>\n      <td>a</td>\n      <td>0</td>\n    </tr>\n    <tr>\n      <th>4</th>\n      <td>a</td>\n      <td>5</td>\n      <td>a</td>\n      <td>0</td>\n    </tr>\n    <tr>\n      <th>5</th>\n      <td>b</td>\n      <td>6</td>\n      <td>b</td>\n      <td>1</td>\n    </tr>\n  </tbody>\n</table>\n</div>",
                        "text/plain": "  lkey  data1 rkey  data2\n0    b      0    b      1\n1    b      1    b      1\n2    a      2    a      0\n3    a      4    a      0\n4    a      5    a      0\n5    b      6    b      1"
                    },
                    "metadata": {}
                }
            ],
            "execution_count": 25
        },
        {
            "cell_type": "markdown",
            "source": [
                "By default merge does an 'inner' join; the keys in the result are the intersection, or the common set found in both tables. \n",
                "Other possible options are 'left','right', and 'outer'. \n",
                "The outer join takes the union of the keys, combining the effect of applying both left and right joins:"
            ],
            "metadata": {
                "azdata_cell_guid": "ccf2643d-750d-46b5-a3fd-c88c79b4dc4f"
            }
        },
        {
            "cell_type": "code",
            "source": [
                "pd.merge(df1, df2, how='outer')"
            ],
            "metadata": {
                "azdata_cell_guid": "19f760e7-073c-41c7-9c0c-8a3431d1b947",
                "language": "python"
            },
            "outputs": [
                {
                    "output_type": "execute_result",
                    "execution_count": 26,
                    "data": {
                        "text/html": "<div>\n<style scoped>\n    .dataframe tbody tr th:only-of-type {\n        vertical-align: middle;\n    }\n\n    .dataframe tbody tr th {\n        vertical-align: top;\n    }\n\n    .dataframe thead th {\n        text-align: right;\n    }\n</style>\n<table border=\"1\" class=\"dataframe\">\n  <thead>\n    <tr style=\"text-align: right;\">\n      <th></th>\n      <th>key</th>\n      <th>data1</th>\n      <th>data2</th>\n    </tr>\n  </thead>\n  <tbody>\n    <tr>\n      <th>0</th>\n      <td>a</td>\n      <td>2.0</td>\n      <td>0.0</td>\n    </tr>\n    <tr>\n      <th>1</th>\n      <td>a</td>\n      <td>4.0</td>\n      <td>0.0</td>\n    </tr>\n    <tr>\n      <th>2</th>\n      <td>a</td>\n      <td>5.0</td>\n      <td>0.0</td>\n    </tr>\n    <tr>\n      <th>3</th>\n      <td>b</td>\n      <td>0.0</td>\n      <td>1.0</td>\n    </tr>\n    <tr>\n      <th>4</th>\n      <td>b</td>\n      <td>1.0</td>\n      <td>1.0</td>\n    </tr>\n    <tr>\n      <th>5</th>\n      <td>b</td>\n      <td>6.0</td>\n      <td>1.0</td>\n    </tr>\n    <tr>\n      <th>6</th>\n      <td>c</td>\n      <td>3.0</td>\n      <td>NaN</td>\n    </tr>\n    <tr>\n      <th>7</th>\n      <td>d</td>\n      <td>NaN</td>\n      <td>2.0</td>\n    </tr>\n  </tbody>\n</table>\n</div>",
                        "text/plain": "  key  data1  data2\n0   a    2.0    0.0\n1   a    4.0    0.0\n2   a    5.0    0.0\n3   b    0.0    1.0\n4   b    1.0    1.0\n5   b    6.0    1.0\n6   c    3.0    NaN\n7   d    NaN    2.0"
                    },
                    "metadata": {}
                }
            ],
            "execution_count": 26
        },
        {
            "cell_type": "markdown",
            "source": [
                "#### Different join types with how argument"
            ],
            "metadata": {
                "azdata_cell_guid": "cf8ee7b4-dd6b-440f-aea3-a96244d301dd"
            }
        },
        {
            "cell_type": "markdown",
            "source": [
                "- _'inner'_ Use only the key combinations observed in both tables\n",
                "- _'left'_ Use all key combinations found in the left table\n",
                "- _'right'_ Use all key combinations found in the right table\n",
                "- _'output'_ Use all key combinations observed in both tables together"
            ],
            "metadata": {
                "azdata_cell_guid": "9d54d869-dc2b-437f-b02d-6ab2f248a52d"
            }
        },
        {
            "cell_type": "markdown",
            "source": [
                "Many-to-many merges have well-defined, though not necessarily intuitive, behavior."
            ],
            "metadata": {
                "azdata_cell_guid": "010799ca-be9e-42cd-b40d-64b3ab6f2492"
            }
        },
        {
            "cell_type": "code",
            "source": [
                "df1 = pd.DataFrame({'key': ['b', 'b', 'a', 'c', 'a', 'b'],\n",
                "                    'data1': range(6)})\n",
                "df1"
            ],
            "metadata": {
                "azdata_cell_guid": "4b205e37-aca3-4391-998f-d18a48cc85ff",
                "language": "python"
            },
            "outputs": [
                {
                    "output_type": "execute_result",
                    "execution_count": 27,
                    "data": {
                        "text/html": "<div>\n<style scoped>\n    .dataframe tbody tr th:only-of-type {\n        vertical-align: middle;\n    }\n\n    .dataframe tbody tr th {\n        vertical-align: top;\n    }\n\n    .dataframe thead th {\n        text-align: right;\n    }\n</style>\n<table border=\"1\" class=\"dataframe\">\n  <thead>\n    <tr style=\"text-align: right;\">\n      <th></th>\n      <th>key</th>\n      <th>data1</th>\n    </tr>\n  </thead>\n  <tbody>\n    <tr>\n      <th>0</th>\n      <td>b</td>\n      <td>0</td>\n    </tr>\n    <tr>\n      <th>1</th>\n      <td>b</td>\n      <td>1</td>\n    </tr>\n    <tr>\n      <th>2</th>\n      <td>a</td>\n      <td>2</td>\n    </tr>\n    <tr>\n      <th>3</th>\n      <td>c</td>\n      <td>3</td>\n    </tr>\n    <tr>\n      <th>4</th>\n      <td>a</td>\n      <td>4</td>\n    </tr>\n    <tr>\n      <th>5</th>\n      <td>b</td>\n      <td>5</td>\n    </tr>\n  </tbody>\n</table>\n</div>",
                        "text/plain": "  key  data1\n0   b      0\n1   b      1\n2   a      2\n3   c      3\n4   a      4\n5   b      5"
                    },
                    "metadata": {}
                }
            ],
            "execution_count": 27
        },
        {
            "cell_type": "code",
            "source": [
                "df2 = pd.DataFrame({'key': ['a', 'b', 'a', 'b', 'd'],\n",
                "                    'data2': range(5)})\n",
                "df2"
            ],
            "metadata": {
                "azdata_cell_guid": "67da275c-fba9-4b6e-8a16-e9ea5eadb565",
                "language": "python"
            },
            "outputs": [
                {
                    "output_type": "execute_result",
                    "execution_count": 28,
                    "data": {
                        "text/html": "<div>\n<style scoped>\n    .dataframe tbody tr th:only-of-type {\n        vertical-align: middle;\n    }\n\n    .dataframe tbody tr th {\n        vertical-align: top;\n    }\n\n    .dataframe thead th {\n        text-align: right;\n    }\n</style>\n<table border=\"1\" class=\"dataframe\">\n  <thead>\n    <tr style=\"text-align: right;\">\n      <th></th>\n      <th>key</th>\n      <th>data2</th>\n    </tr>\n  </thead>\n  <tbody>\n    <tr>\n      <th>0</th>\n      <td>a</td>\n      <td>0</td>\n    </tr>\n    <tr>\n      <th>1</th>\n      <td>b</td>\n      <td>1</td>\n    </tr>\n    <tr>\n      <th>2</th>\n      <td>a</td>\n      <td>2</td>\n    </tr>\n    <tr>\n      <th>3</th>\n      <td>b</td>\n      <td>3</td>\n    </tr>\n    <tr>\n      <th>4</th>\n      <td>d</td>\n      <td>4</td>\n    </tr>\n  </tbody>\n</table>\n</div>",
                        "text/plain": "  key  data2\n0   a      0\n1   b      1\n2   a      2\n3   b      3\n4   d      4"
                    },
                    "metadata": {}
                }
            ],
            "execution_count": 28
        },
        {
            "cell_type": "code",
            "source": [
                "pd.merge(df1, df2, on='key', how='left')"
            ],
            "metadata": {
                "azdata_cell_guid": "758c7fcb-f889-4688-bf5a-b5e5bec559bf",
                "language": "python"
            },
            "outputs": [
                {
                    "output_type": "execute_result",
                    "execution_count": 29,
                    "data": {
                        "text/html": "<div>\n<style scoped>\n    .dataframe tbody tr th:only-of-type {\n        vertical-align: middle;\n    }\n\n    .dataframe tbody tr th {\n        vertical-align: top;\n    }\n\n    .dataframe thead th {\n        text-align: right;\n    }\n</style>\n<table border=\"1\" class=\"dataframe\">\n  <thead>\n    <tr style=\"text-align: right;\">\n      <th></th>\n      <th>key</th>\n      <th>data1</th>\n      <th>data2</th>\n    </tr>\n  </thead>\n  <tbody>\n    <tr>\n      <th>0</th>\n      <td>b</td>\n      <td>0</td>\n      <td>1.0</td>\n    </tr>\n    <tr>\n      <th>1</th>\n      <td>b</td>\n      <td>0</td>\n      <td>3.0</td>\n    </tr>\n    <tr>\n      <th>2</th>\n      <td>b</td>\n      <td>1</td>\n      <td>1.0</td>\n    </tr>\n    <tr>\n      <th>3</th>\n      <td>b</td>\n      <td>1</td>\n      <td>3.0</td>\n    </tr>\n    <tr>\n      <th>4</th>\n      <td>a</td>\n      <td>2</td>\n      <td>0.0</td>\n    </tr>\n    <tr>\n      <th>5</th>\n      <td>a</td>\n      <td>2</td>\n      <td>2.0</td>\n    </tr>\n    <tr>\n      <th>6</th>\n      <td>c</td>\n      <td>3</td>\n      <td>NaN</td>\n    </tr>\n    <tr>\n      <th>7</th>\n      <td>a</td>\n      <td>4</td>\n      <td>0.0</td>\n    </tr>\n    <tr>\n      <th>8</th>\n      <td>a</td>\n      <td>4</td>\n      <td>2.0</td>\n    </tr>\n    <tr>\n      <th>9</th>\n      <td>b</td>\n      <td>5</td>\n      <td>1.0</td>\n    </tr>\n    <tr>\n      <th>10</th>\n      <td>b</td>\n      <td>5</td>\n      <td>3.0</td>\n    </tr>\n  </tbody>\n</table>\n</div>",
                        "text/plain": "   key  data1  data2\n0    b      0    1.0\n1    b      0    3.0\n2    b      1    1.0\n3    b      1    3.0\n4    a      2    0.0\n5    a      2    2.0\n6    c      3    NaN\n7    a      4    0.0\n8    a      4    2.0\n9    b      5    1.0\n10   b      5    3.0"
                    },
                    "metadata": {}
                }
            ],
            "execution_count": 29
        },
        {
            "cell_type": "markdown",
            "source": [
                "Many-to-many joins form the Cartesian product of the rows. Since there were three\n",
                "'b' rows in the left DataFrame and two in the right one, there are six 'b' rows in the\n",
                "result. The join method only affects the distinct key values appearing in the result:"
            ],
            "metadata": {
                "azdata_cell_guid": "ccec06b7-ee64-40ab-86a6-39c7c409589c"
            }
        },
        {
            "cell_type": "code",
            "source": [
                "pd.merge(df1, df2, how='inner')"
            ],
            "metadata": {
                "azdata_cell_guid": "313d646e-cfa3-4638-941a-91fa80a5a9da",
                "language": "python"
            },
            "outputs": [
                {
                    "output_type": "execute_result",
                    "execution_count": 30,
                    "data": {
                        "text/html": "<div>\n<style scoped>\n    .dataframe tbody tr th:only-of-type {\n        vertical-align: middle;\n    }\n\n    .dataframe tbody tr th {\n        vertical-align: top;\n    }\n\n    .dataframe thead th {\n        text-align: right;\n    }\n</style>\n<table border=\"1\" class=\"dataframe\">\n  <thead>\n    <tr style=\"text-align: right;\">\n      <th></th>\n      <th>key</th>\n      <th>data1</th>\n      <th>data2</th>\n    </tr>\n  </thead>\n  <tbody>\n    <tr>\n      <th>0</th>\n      <td>b</td>\n      <td>0</td>\n      <td>1</td>\n    </tr>\n    <tr>\n      <th>1</th>\n      <td>b</td>\n      <td>0</td>\n      <td>3</td>\n    </tr>\n    <tr>\n      <th>2</th>\n      <td>b</td>\n      <td>1</td>\n      <td>1</td>\n    </tr>\n    <tr>\n      <th>3</th>\n      <td>b</td>\n      <td>1</td>\n      <td>3</td>\n    </tr>\n    <tr>\n      <th>4</th>\n      <td>a</td>\n      <td>2</td>\n      <td>0</td>\n    </tr>\n    <tr>\n      <th>5</th>\n      <td>a</td>\n      <td>2</td>\n      <td>2</td>\n    </tr>\n    <tr>\n      <th>6</th>\n      <td>a</td>\n      <td>4</td>\n      <td>0</td>\n    </tr>\n    <tr>\n      <th>7</th>\n      <td>a</td>\n      <td>4</td>\n      <td>2</td>\n    </tr>\n    <tr>\n      <th>8</th>\n      <td>b</td>\n      <td>5</td>\n      <td>1</td>\n    </tr>\n    <tr>\n      <th>9</th>\n      <td>b</td>\n      <td>5</td>\n      <td>3</td>\n    </tr>\n  </tbody>\n</table>\n</div>",
                        "text/plain": "  key  data1  data2\n0   b      0      1\n1   b      0      3\n2   b      1      1\n3   b      1      3\n4   a      2      0\n5   a      2      2\n6   a      4      0\n7   a      4      2\n8   b      5      1\n9   b      5      3"
                    },
                    "metadata": {}
                }
            ],
            "execution_count": 30
        },
        {
            "cell_type": "markdown",
            "source": [
                "To merge with multiple keys, pass a list of column names:\n"
            ],
            "metadata": {
                "azdata_cell_guid": "23341a7b-cecf-4a78-af31-bb7c0c301ff5"
            }
        },
        {
            "cell_type": "code",
            "source": [
                "left = pd.DataFrame({'key1': ['foo', 'foo', 'bar'],\n",
                "                     'key2': ['one', 'two', 'one'],\n",
                "                     'lval': [1, 2, 3]})\n",
                "right = pd.DataFrame({'key1': ['foo', 'foo', 'bar', 'bar'],\n",
                "                      'key2': ['one', 'one', 'one', 'two'],\n",
                "                      'rval': [4, 5, 6, 7]})\n",
                "pd.merge(left, right, on=['key1', 'key2'], how='outer')"
            ],
            "metadata": {
                "azdata_cell_guid": "811f2bd3-55c2-420e-bf75-79305c7f028a",
                "language": "python"
            },
            "outputs": [
                {
                    "output_type": "execute_result",
                    "execution_count": 31,
                    "data": {
                        "text/html": "<div>\n<style scoped>\n    .dataframe tbody tr th:only-of-type {\n        vertical-align: middle;\n    }\n\n    .dataframe tbody tr th {\n        vertical-align: top;\n    }\n\n    .dataframe thead th {\n        text-align: right;\n    }\n</style>\n<table border=\"1\" class=\"dataframe\">\n  <thead>\n    <tr style=\"text-align: right;\">\n      <th></th>\n      <th>key1</th>\n      <th>key2</th>\n      <th>lval</th>\n      <th>rval</th>\n    </tr>\n  </thead>\n  <tbody>\n    <tr>\n      <th>0</th>\n      <td>bar</td>\n      <td>one</td>\n      <td>3.0</td>\n      <td>6.0</td>\n    </tr>\n    <tr>\n      <th>1</th>\n      <td>bar</td>\n      <td>two</td>\n      <td>NaN</td>\n      <td>7.0</td>\n    </tr>\n    <tr>\n      <th>2</th>\n      <td>foo</td>\n      <td>one</td>\n      <td>1.0</td>\n      <td>4.0</td>\n    </tr>\n    <tr>\n      <th>3</th>\n      <td>foo</td>\n      <td>one</td>\n      <td>1.0</td>\n      <td>5.0</td>\n    </tr>\n    <tr>\n      <th>4</th>\n      <td>foo</td>\n      <td>two</td>\n      <td>2.0</td>\n      <td>NaN</td>\n    </tr>\n  </tbody>\n</table>\n</div>",
                        "text/plain": "  key1 key2  lval  rval\n0  bar  one   3.0   6.0\n1  bar  two   NaN   7.0\n2  foo  one   1.0   4.0\n3  foo  one   1.0   5.0\n4  foo  two   2.0   NaN"
                    },
                    "metadata": {}
                }
            ],
            "execution_count": 31
        },
        {
            "cell_type": "markdown",
            "source": [
                "To determine which key combinations will appear in the result depending on the\n",
                "choice of merge method, think of the multiple keys as forming an array of tuples to\n",
                "be used as a single join key (even though it’s not actually implemented that way).\n"
            ],
            "metadata": {
                "azdata_cell_guid": "016cbe78-be48-4d23-846a-3374e1e903a8"
            }
        },
        {
            "cell_type": "markdown",
            "source": [
                "__When you’re joining columns-on-columns, the indexes on the\n",
                "passed DataFrame objects are discarded.__"
            ],
            "metadata": {
                "azdata_cell_guid": "a7b98eab-1e5e-4a3a-b3cd-39866fdccc91"
            }
        },
        {
            "cell_type": "markdown",
            "source": [
                "_merge_ has a __suffixes__ option for specifying strings to append\n",
                "to overlapping names in the left and right DataFrame objects:"
            ],
            "metadata": {
                "azdata_cell_guid": "7f1e04be-abbe-4282-b7c4-5a79d83b7eac"
            }
        },
        {
            "cell_type": "code",
            "source": [
                "pd.merge(left, right, on='key1')"
            ],
            "metadata": {
                "azdata_cell_guid": "558c4c33-3fda-4110-96d2-aa1379be9a5e",
                "language": "python"
            },
            "outputs": [
                {
                    "output_type": "execute_result",
                    "execution_count": 32,
                    "data": {
                        "text/html": "<div>\n<style scoped>\n    .dataframe tbody tr th:only-of-type {\n        vertical-align: middle;\n    }\n\n    .dataframe tbody tr th {\n        vertical-align: top;\n    }\n\n    .dataframe thead th {\n        text-align: right;\n    }\n</style>\n<table border=\"1\" class=\"dataframe\">\n  <thead>\n    <tr style=\"text-align: right;\">\n      <th></th>\n      <th>key1</th>\n      <th>key2_x</th>\n      <th>lval</th>\n      <th>key2_y</th>\n      <th>rval</th>\n    </tr>\n  </thead>\n  <tbody>\n    <tr>\n      <th>0</th>\n      <td>foo</td>\n      <td>one</td>\n      <td>1</td>\n      <td>one</td>\n      <td>4</td>\n    </tr>\n    <tr>\n      <th>1</th>\n      <td>foo</td>\n      <td>one</td>\n      <td>1</td>\n      <td>one</td>\n      <td>5</td>\n    </tr>\n    <tr>\n      <th>2</th>\n      <td>foo</td>\n      <td>two</td>\n      <td>2</td>\n      <td>one</td>\n      <td>4</td>\n    </tr>\n    <tr>\n      <th>3</th>\n      <td>foo</td>\n      <td>two</td>\n      <td>2</td>\n      <td>one</td>\n      <td>5</td>\n    </tr>\n    <tr>\n      <th>4</th>\n      <td>bar</td>\n      <td>one</td>\n      <td>3</td>\n      <td>one</td>\n      <td>6</td>\n    </tr>\n    <tr>\n      <th>5</th>\n      <td>bar</td>\n      <td>one</td>\n      <td>3</td>\n      <td>two</td>\n      <td>7</td>\n    </tr>\n  </tbody>\n</table>\n</div>",
                        "text/plain": "  key1 key2_x  lval key2_y  rval\n0  foo    one     1    one     4\n1  foo    one     1    one     5\n2  foo    two     2    one     4\n3  foo    two     2    one     5\n4  bar    one     3    one     6\n5  bar    one     3    two     7"
                    },
                    "metadata": {}
                }
            ],
            "execution_count": 32
        },
        {
            "cell_type": "code",
            "source": [
                "pd.merge(left, right, on='key1', suffixes=('_left', '_right'))"
            ],
            "metadata": {
                "azdata_cell_guid": "0ebb1533-9543-4884-998d-db7432ffaf2c",
                "language": "python"
            },
            "outputs": [
                {
                    "output_type": "execute_result",
                    "execution_count": 33,
                    "data": {
                        "text/html": "<div>\n<style scoped>\n    .dataframe tbody tr th:only-of-type {\n        vertical-align: middle;\n    }\n\n    .dataframe tbody tr th {\n        vertical-align: top;\n    }\n\n    .dataframe thead th {\n        text-align: right;\n    }\n</style>\n<table border=\"1\" class=\"dataframe\">\n  <thead>\n    <tr style=\"text-align: right;\">\n      <th></th>\n      <th>key1</th>\n      <th>key2_left</th>\n      <th>lval</th>\n      <th>key2_right</th>\n      <th>rval</th>\n    </tr>\n  </thead>\n  <tbody>\n    <tr>\n      <th>0</th>\n      <td>foo</td>\n      <td>one</td>\n      <td>1</td>\n      <td>one</td>\n      <td>4</td>\n    </tr>\n    <tr>\n      <th>1</th>\n      <td>foo</td>\n      <td>one</td>\n      <td>1</td>\n      <td>one</td>\n      <td>5</td>\n    </tr>\n    <tr>\n      <th>2</th>\n      <td>foo</td>\n      <td>two</td>\n      <td>2</td>\n      <td>one</td>\n      <td>4</td>\n    </tr>\n    <tr>\n      <th>3</th>\n      <td>foo</td>\n      <td>two</td>\n      <td>2</td>\n      <td>one</td>\n      <td>5</td>\n    </tr>\n    <tr>\n      <th>4</th>\n      <td>bar</td>\n      <td>one</td>\n      <td>3</td>\n      <td>one</td>\n      <td>6</td>\n    </tr>\n    <tr>\n      <th>5</th>\n      <td>bar</td>\n      <td>one</td>\n      <td>3</td>\n      <td>two</td>\n      <td>7</td>\n    </tr>\n  </tbody>\n</table>\n</div>",
                        "text/plain": "  key1 key2_left  lval key2_right  rval\n0  foo       one     1        one     4\n1  foo       one     1        one     5\n2  foo       two     2        one     4\n3  foo       two     2        one     5\n4  bar       one     3        one     6\n5  bar       one     3        two     7"
                    },
                    "metadata": {}
                }
            ],
            "execution_count": 33
        },
        {
            "cell_type": "markdown",
            "source": [
                "### merge function arguments"
            ],
            "metadata": {
                "azdata_cell_guid": "3925011f-f54a-47ca-970a-81e032a636ee"
            }
        },
        {
            "cell_type": "markdown",
            "source": [
                "- _left_ DataFrame to be merged on the left side.\n",
                "  \r",
                "- _right_ DataFrame to be merged on the right side.\n",
                "- _on_ Column names to join on. Must be found in both DataFrame objects. If not specified and no other join keys\r\n",
                "given, will use the intersection of the column names in left and right as the join keys\n",
                "a in each row\n",
                "- _left_on_ Columns in left DataFrame to use as join keysy' in r\n",
                "- _copy_ If False, avoid copying data into resulting data structure in some exceptional cases; by default always\n",
                "copies.\n",
                "- _indicator_ Adds a special column _merge that indicates the source of each row; values will be 'left_only',\n",
                "'right_only', or 'both' based on the origin of the joined data in each row.esult)."
            ],
            "metadata": {
                "azdata_cell_guid": "7eeffb37-e18b-4888-9868-b100868f8026"
            }
        },
        {
            "cell_type": "markdown",
            "source": [
                "## Merging on Index"
            ],
            "metadata": {
                "azdata_cell_guid": "1e549777-0324-48d3-b1cb-c198c7feae9a"
            }
        },
        {
            "cell_type": "markdown",
            "source": [
                "In some cases, the merge key(s) in a DataFrame will be found in its index. In this\r\n",
                "case, you can pass left_index=True or right_index=True (or both) to indicate that\r\n",
                "the index should be used as the merge key:\r"
            ],
            "metadata": {
                "azdata_cell_guid": "c271b156-a368-4a81-861d-07cdc232af48"
            }
        },
        {
            "cell_type": "code",
            "source": [
                "left1 = pd.DataFrame({'key': ['a', 'b', 'a', 'a', 'b', 'c'],\n",
                "                      'value': range(6)})\n",
                "right1 = pd.DataFrame({'group_val': [3.5, 7]}, index=['a', 'b'])"
            ],
            "metadata": {
                "azdata_cell_guid": "7c81663b-2d0e-470a-b95e-d04313569c10",
                "language": "python"
            },
            "outputs": [],
            "execution_count": 34
        },
        {
            "cell_type": "code",
            "source": [
                "left1"
            ],
            "metadata": {
                "azdata_cell_guid": "0745c617-6b6c-4e7d-bbc7-906f609af734",
                "language": "python"
            },
            "outputs": [
                {
                    "output_type": "execute_result",
                    "execution_count": 35,
                    "data": {
                        "text/html": "<div>\n<style scoped>\n    .dataframe tbody tr th:only-of-type {\n        vertical-align: middle;\n    }\n\n    .dataframe tbody tr th {\n        vertical-align: top;\n    }\n\n    .dataframe thead th {\n        text-align: right;\n    }\n</style>\n<table border=\"1\" class=\"dataframe\">\n  <thead>\n    <tr style=\"text-align: right;\">\n      <th></th>\n      <th>key</th>\n      <th>value</th>\n    </tr>\n  </thead>\n  <tbody>\n    <tr>\n      <th>0</th>\n      <td>a</td>\n      <td>0</td>\n    </tr>\n    <tr>\n      <th>1</th>\n      <td>b</td>\n      <td>1</td>\n    </tr>\n    <tr>\n      <th>2</th>\n      <td>a</td>\n      <td>2</td>\n    </tr>\n    <tr>\n      <th>3</th>\n      <td>a</td>\n      <td>3</td>\n    </tr>\n    <tr>\n      <th>4</th>\n      <td>b</td>\n      <td>4</td>\n    </tr>\n    <tr>\n      <th>5</th>\n      <td>c</td>\n      <td>5</td>\n    </tr>\n  </tbody>\n</table>\n</div>",
                        "text/plain": "  key  value\n0   a      0\n1   b      1\n2   a      2\n3   a      3\n4   b      4\n5   c      5"
                    },
                    "metadata": {}
                }
            ],
            "execution_count": 35
        },
        {
            "cell_type": "code",
            "source": [
                "right1"
            ],
            "metadata": {
                "azdata_cell_guid": "2bebf5a9-7c74-45da-b8aa-b53d6041ca6c",
                "language": "python"
            },
            "outputs": [
                {
                    "output_type": "execute_result",
                    "execution_count": 36,
                    "data": {
                        "text/html": "<div>\n<style scoped>\n    .dataframe tbody tr th:only-of-type {\n        vertical-align: middle;\n    }\n\n    .dataframe tbody tr th {\n        vertical-align: top;\n    }\n\n    .dataframe thead th {\n        text-align: right;\n    }\n</style>\n<table border=\"1\" class=\"dataframe\">\n  <thead>\n    <tr style=\"text-align: right;\">\n      <th></th>\n      <th>group_val</th>\n    </tr>\n  </thead>\n  <tbody>\n    <tr>\n      <th>a</th>\n      <td>3.5</td>\n    </tr>\n    <tr>\n      <th>b</th>\n      <td>7.0</td>\n    </tr>\n  </tbody>\n</table>\n</div>",
                        "text/plain": "   group_val\na        3.5\nb        7.0"
                    },
                    "metadata": {}
                }
            ],
            "execution_count": 36
        },
        {
            "cell_type": "code",
            "source": [
                "pd.merge(left1, right1, left_on='key', right_index=True)"
            ],
            "metadata": {
                "azdata_cell_guid": "f8ece0ca-30ab-4afd-b3ea-95bc14385e7b",
                "language": "python"
            },
            "outputs": [
                {
                    "output_type": "execute_result",
                    "execution_count": 37,
                    "data": {
                        "text/html": "<div>\n<style scoped>\n    .dataframe tbody tr th:only-of-type {\n        vertical-align: middle;\n    }\n\n    .dataframe tbody tr th {\n        vertical-align: top;\n    }\n\n    .dataframe thead th {\n        text-align: right;\n    }\n</style>\n<table border=\"1\" class=\"dataframe\">\n  <thead>\n    <tr style=\"text-align: right;\">\n      <th></th>\n      <th>key</th>\n      <th>value</th>\n      <th>group_val</th>\n    </tr>\n  </thead>\n  <tbody>\n    <tr>\n      <th>0</th>\n      <td>a</td>\n      <td>0</td>\n      <td>3.5</td>\n    </tr>\n    <tr>\n      <th>1</th>\n      <td>b</td>\n      <td>1</td>\n      <td>7.0</td>\n    </tr>\n    <tr>\n      <th>2</th>\n      <td>a</td>\n      <td>2</td>\n      <td>3.5</td>\n    </tr>\n    <tr>\n      <th>3</th>\n      <td>a</td>\n      <td>3</td>\n      <td>3.5</td>\n    </tr>\n    <tr>\n      <th>4</th>\n      <td>b</td>\n      <td>4</td>\n      <td>7.0</td>\n    </tr>\n  </tbody>\n</table>\n</div>",
                        "text/plain": "  key  value  group_val\n0   a      0        3.5\n1   b      1        7.0\n2   a      2        3.5\n3   a      3        3.5\n4   b      4        7.0"
                    },
                    "metadata": {}
                }
            ],
            "execution_count": 37
        },
        {
            "cell_type": "markdown",
            "source": [
                "Since the default merge method is to intersect the join keys, you can instead form the\n",
                "union of them with an outer join:\n"
            ],
            "metadata": {
                "azdata_cell_guid": "b0acbe8c-4909-4315-bee0-977c576726a5"
            }
        },
        {
            "cell_type": "code",
            "source": [
                "pd.merge(left1, right1, left_on='key', right_index=True, how='outer')"
            ],
            "metadata": {
                "azdata_cell_guid": "0fc011b0-4fd4-40c7-9270-b9e69a85fc35",
                "language": "python"
            },
            "outputs": [
                {
                    "output_type": "execute_result",
                    "execution_count": 38,
                    "data": {
                        "text/html": "<div>\n<style scoped>\n    .dataframe tbody tr th:only-of-type {\n        vertical-align: middle;\n    }\n\n    .dataframe tbody tr th {\n        vertical-align: top;\n    }\n\n    .dataframe thead th {\n        text-align: right;\n    }\n</style>\n<table border=\"1\" class=\"dataframe\">\n  <thead>\n    <tr style=\"text-align: right;\">\n      <th></th>\n      <th>key</th>\n      <th>value</th>\n      <th>group_val</th>\n    </tr>\n  </thead>\n  <tbody>\n    <tr>\n      <th>0</th>\n      <td>a</td>\n      <td>0</td>\n      <td>3.5</td>\n    </tr>\n    <tr>\n      <th>2</th>\n      <td>a</td>\n      <td>2</td>\n      <td>3.5</td>\n    </tr>\n    <tr>\n      <th>3</th>\n      <td>a</td>\n      <td>3</td>\n      <td>3.5</td>\n    </tr>\n    <tr>\n      <th>1</th>\n      <td>b</td>\n      <td>1</td>\n      <td>7.0</td>\n    </tr>\n    <tr>\n      <th>4</th>\n      <td>b</td>\n      <td>4</td>\n      <td>7.0</td>\n    </tr>\n    <tr>\n      <th>5</th>\n      <td>c</td>\n      <td>5</td>\n      <td>NaN</td>\n    </tr>\n  </tbody>\n</table>\n</div>",
                        "text/plain": "  key  value  group_val\n0   a      0        3.5\n2   a      2        3.5\n3   a      3        3.5\n1   b      1        7.0\n4   b      4        7.0\n5   c      5        NaN"
                    },
                    "metadata": {}
                }
            ],
            "execution_count": 38
        },
        {
            "cell_type": "markdown",
            "source": [
                "With hierarchically indexed data, things are more complicated, as joining on index is\n",
                "implicitly a multiple-key merge:"
            ],
            "metadata": {
                "azdata_cell_guid": "81bb389a-98db-4f40-b9a1-1444ebb7938c"
            }
        },
        {
            "cell_type": "code",
            "source": [
                "lefth = pd.DataFrame({'key1': ['Ohio', 'Ohio', 'Ohio',\n",
                "                               'Nevada', 'Nevada'],\n",
                "                      'key2': [2000, 2001, 2002, 2001, 2002],\n",
                "                      'data': np.arange(5.)})\n",
                "righth = pd.DataFrame(np.arange(12).reshape((6, 2)),\n",
                "                      index=[['Nevada', 'Nevada', 'Ohio', 'Ohio',\n",
                "                              'Ohio', 'Ohio'],\n",
                "                             [2001, 2000, 2000, 2000, 2001, 2002]],\n",
                "                      columns=['event1', 'event2'])"
            ],
            "metadata": {
                "azdata_cell_guid": "f650e127-cffb-44fb-9a78-65269dd20b03",
                "language": "python"
            },
            "outputs": [],
            "execution_count": 39
        },
        {
            "cell_type": "code",
            "source": [
                "lefth"
            ],
            "metadata": {
                "azdata_cell_guid": "8c61e7b5-5c51-49a6-8ba7-a8cde9741fac",
                "language": "python"
            },
            "outputs": [
                {
                    "output_type": "execute_result",
                    "execution_count": 40,
                    "data": {
                        "text/html": "<div>\n<style scoped>\n    .dataframe tbody tr th:only-of-type {\n        vertical-align: middle;\n    }\n\n    .dataframe tbody tr th {\n        vertical-align: top;\n    }\n\n    .dataframe thead th {\n        text-align: right;\n    }\n</style>\n<table border=\"1\" class=\"dataframe\">\n  <thead>\n    <tr style=\"text-align: right;\">\n      <th></th>\n      <th>key1</th>\n      <th>key2</th>\n      <th>data</th>\n    </tr>\n  </thead>\n  <tbody>\n    <tr>\n      <th>0</th>\n      <td>Ohio</td>\n      <td>2000</td>\n      <td>0.0</td>\n    </tr>\n    <tr>\n      <th>1</th>\n      <td>Ohio</td>\n      <td>2001</td>\n      <td>1.0</td>\n    </tr>\n    <tr>\n      <th>2</th>\n      <td>Ohio</td>\n      <td>2002</td>\n      <td>2.0</td>\n    </tr>\n    <tr>\n      <th>3</th>\n      <td>Nevada</td>\n      <td>2001</td>\n      <td>3.0</td>\n    </tr>\n    <tr>\n      <th>4</th>\n      <td>Nevada</td>\n      <td>2002</td>\n      <td>4.0</td>\n    </tr>\n  </tbody>\n</table>\n</div>",
                        "text/plain": "     key1  key2  data\n0    Ohio  2000   0.0\n1    Ohio  2001   1.0\n2    Ohio  2002   2.0\n3  Nevada  2001   3.0\n4  Nevada  2002   4.0"
                    },
                    "metadata": {}
                }
            ],
            "execution_count": 40
        },
        {
            "cell_type": "code",
            "source": [
                "righth"
            ],
            "metadata": {
                "azdata_cell_guid": "5b395f10-d392-44c5-91c3-2e15233542d3",
                "language": "python"
            },
            "outputs": [
                {
                    "output_type": "execute_result",
                    "execution_count": 41,
                    "data": {
                        "text/html": "<div>\n<style scoped>\n    .dataframe tbody tr th:only-of-type {\n        vertical-align: middle;\n    }\n\n    .dataframe tbody tr th {\n        vertical-align: top;\n    }\n\n    .dataframe thead th {\n        text-align: right;\n    }\n</style>\n<table border=\"1\" class=\"dataframe\">\n  <thead>\n    <tr style=\"text-align: right;\">\n      <th></th>\n      <th></th>\n      <th>event1</th>\n      <th>event2</th>\n    </tr>\n  </thead>\n  <tbody>\n    <tr>\n      <th rowspan=\"2\" valign=\"top\">Nevada</th>\n      <th>2001</th>\n      <td>0</td>\n      <td>1</td>\n    </tr>\n    <tr>\n      <th>2000</th>\n      <td>2</td>\n      <td>3</td>\n    </tr>\n    <tr>\n      <th rowspan=\"4\" valign=\"top\">Ohio</th>\n      <th>2000</th>\n      <td>4</td>\n      <td>5</td>\n    </tr>\n    <tr>\n      <th>2000</th>\n      <td>6</td>\n      <td>7</td>\n    </tr>\n    <tr>\n      <th>2001</th>\n      <td>8</td>\n      <td>9</td>\n    </tr>\n    <tr>\n      <th>2002</th>\n      <td>10</td>\n      <td>11</td>\n    </tr>\n  </tbody>\n</table>\n</div>",
                        "text/plain": "             event1  event2\nNevada 2001       0       1\n       2000       2       3\nOhio   2000       4       5\n       2000       6       7\n       2001       8       9\n       2002      10      11"
                    },
                    "metadata": {}
                }
            ],
            "execution_count": 41
        },
        {
            "cell_type": "markdown",
            "source": [
                "In this case, you have to indicate multiple columns to merge on as a list (note the\r\n",
                "handling of duplicate index values with how='outer')\r"
            ],
            "metadata": {
                "azdata_cell_guid": "706f0400-35b4-4411-8b8e-a1ff1a965942"
            }
        },
        {
            "cell_type": "code",
            "source": [
                "pd.merge(lefth, righth, left_on=['key1', 'key2'], right_index=True)"
            ],
            "metadata": {
                "azdata_cell_guid": "a3041fc6-d34d-4557-ace9-72b930270acc",
                "language": "python"
            },
            "outputs": [
                {
                    "output_type": "execute_result",
                    "execution_count": 42,
                    "data": {
                        "text/html": "<div>\n<style scoped>\n    .dataframe tbody tr th:only-of-type {\n        vertical-align: middle;\n    }\n\n    .dataframe tbody tr th {\n        vertical-align: top;\n    }\n\n    .dataframe thead th {\n        text-align: right;\n    }\n</style>\n<table border=\"1\" class=\"dataframe\">\n  <thead>\n    <tr style=\"text-align: right;\">\n      <th></th>\n      <th>key1</th>\n      <th>key2</th>\n      <th>data</th>\n      <th>event1</th>\n      <th>event2</th>\n    </tr>\n  </thead>\n  <tbody>\n    <tr>\n      <th>0</th>\n      <td>Ohio</td>\n      <td>2000</td>\n      <td>0.0</td>\n      <td>4</td>\n      <td>5</td>\n    </tr>\n    <tr>\n      <th>0</th>\n      <td>Ohio</td>\n      <td>2000</td>\n      <td>0.0</td>\n      <td>6</td>\n      <td>7</td>\n    </tr>\n    <tr>\n      <th>1</th>\n      <td>Ohio</td>\n      <td>2001</td>\n      <td>1.0</td>\n      <td>8</td>\n      <td>9</td>\n    </tr>\n    <tr>\n      <th>2</th>\n      <td>Ohio</td>\n      <td>2002</td>\n      <td>2.0</td>\n      <td>10</td>\n      <td>11</td>\n    </tr>\n    <tr>\n      <th>3</th>\n      <td>Nevada</td>\n      <td>2001</td>\n      <td>3.0</td>\n      <td>0</td>\n      <td>1</td>\n    </tr>\n  </tbody>\n</table>\n</div>",
                        "text/plain": "     key1  key2  data  event1  event2\n0    Ohio  2000   0.0       4       5\n0    Ohio  2000   0.0       6       7\n1    Ohio  2001   1.0       8       9\n2    Ohio  2002   2.0      10      11\n3  Nevada  2001   3.0       0       1"
                    },
                    "metadata": {}
                }
            ],
            "execution_count": 42
        },
        {
            "cell_type": "code",
            "source": [
                "pd.merge(lefth, righth, left_on=['key1', 'key2'],\n",
                "         right_index=True, how='outer')"
            ],
            "metadata": {
                "azdata_cell_guid": "8b22ce46-e2c4-487c-8df1-b0ca62a1c458",
                "language": "python"
            },
            "outputs": [
                {
                    "output_type": "execute_result",
                    "execution_count": 43,
                    "data": {
                        "text/html": "<div>\n<style scoped>\n    .dataframe tbody tr th:only-of-type {\n        vertical-align: middle;\n    }\n\n    .dataframe tbody tr th {\n        vertical-align: top;\n    }\n\n    .dataframe thead th {\n        text-align: right;\n    }\n</style>\n<table border=\"1\" class=\"dataframe\">\n  <thead>\n    <tr style=\"text-align: right;\">\n      <th></th>\n      <th>key1</th>\n      <th>key2</th>\n      <th>data</th>\n      <th>event1</th>\n      <th>event2</th>\n    </tr>\n  </thead>\n  <tbody>\n    <tr>\n      <th>4</th>\n      <td>Nevada</td>\n      <td>2000</td>\n      <td>NaN</td>\n      <td>2.0</td>\n      <td>3.0</td>\n    </tr>\n    <tr>\n      <th>3</th>\n      <td>Nevada</td>\n      <td>2001</td>\n      <td>3.0</td>\n      <td>0.0</td>\n      <td>1.0</td>\n    </tr>\n    <tr>\n      <th>4</th>\n      <td>Nevada</td>\n      <td>2002</td>\n      <td>4.0</td>\n      <td>NaN</td>\n      <td>NaN</td>\n    </tr>\n    <tr>\n      <th>0</th>\n      <td>Ohio</td>\n      <td>2000</td>\n      <td>0.0</td>\n      <td>4.0</td>\n      <td>5.0</td>\n    </tr>\n    <tr>\n      <th>0</th>\n      <td>Ohio</td>\n      <td>2000</td>\n      <td>0.0</td>\n      <td>6.0</td>\n      <td>7.0</td>\n    </tr>\n    <tr>\n      <th>1</th>\n      <td>Ohio</td>\n      <td>2001</td>\n      <td>1.0</td>\n      <td>8.0</td>\n      <td>9.0</td>\n    </tr>\n    <tr>\n      <th>2</th>\n      <td>Ohio</td>\n      <td>2002</td>\n      <td>2.0</td>\n      <td>10.0</td>\n      <td>11.0</td>\n    </tr>\n  </tbody>\n</table>\n</div>",
                        "text/plain": "     key1  key2  data  event1  event2\n4  Nevada  2000   NaN     2.0     3.0\n3  Nevada  2001   3.0     0.0     1.0\n4  Nevada  2002   4.0     NaN     NaN\n0    Ohio  2000   0.0     4.0     5.0\n0    Ohio  2000   0.0     6.0     7.0\n1    Ohio  2001   1.0     8.0     9.0\n2    Ohio  2002   2.0    10.0    11.0"
                    },
                    "metadata": {}
                }
            ],
            "execution_count": 43
        },
        {
            "cell_type": "markdown",
            "source": [
                "Using the indexes of both sides of the merge is also possible:\n"
            ],
            "metadata": {
                "azdata_cell_guid": "d9223065-0e21-4565-be43-d0dcfdff3196"
            }
        },
        {
            "cell_type": "code",
            "source": [
                "left2 = pd.DataFrame([[1., 2.], [3., 4.], [5., 6.]],\n",
                "                     index=['a', 'c', 'e'],\n",
                "                     columns=['Ohio', 'Nevada'])\n",
                "right2 = pd.DataFrame([[7., 8.], [9., 10.], [11., 12.], [13, 14]],\n",
                "                      index=['b', 'c', 'd', 'e'],\n",
                "                      columns=['Missouri', 'Alabama'])"
            ],
            "metadata": {
                "azdata_cell_guid": "06b6aa1b-8405-47b9-b372-292eb7663b7d",
                "language": "python"
            },
            "outputs": [],
            "execution_count": 44
        },
        {
            "cell_type": "code",
            "source": [
                "left2"
            ],
            "metadata": {
                "azdata_cell_guid": "295e9419-9abf-4774-bd59-c8632e2bd473",
                "language": "python"
            },
            "outputs": [
                {
                    "output_type": "execute_result",
                    "execution_count": 45,
                    "data": {
                        "text/html": "<div>\n<style scoped>\n    .dataframe tbody tr th:only-of-type {\n        vertical-align: middle;\n    }\n\n    .dataframe tbody tr th {\n        vertical-align: top;\n    }\n\n    .dataframe thead th {\n        text-align: right;\n    }\n</style>\n<table border=\"1\" class=\"dataframe\">\n  <thead>\n    <tr style=\"text-align: right;\">\n      <th></th>\n      <th>Ohio</th>\n      <th>Nevada</th>\n    </tr>\n  </thead>\n  <tbody>\n    <tr>\n      <th>a</th>\n      <td>1.0</td>\n      <td>2.0</td>\n    </tr>\n    <tr>\n      <th>c</th>\n      <td>3.0</td>\n      <td>4.0</td>\n    </tr>\n    <tr>\n      <th>e</th>\n      <td>5.0</td>\n      <td>6.0</td>\n    </tr>\n  </tbody>\n</table>\n</div>",
                        "text/plain": "   Ohio  Nevada\na   1.0     2.0\nc   3.0     4.0\ne   5.0     6.0"
                    },
                    "metadata": {}
                }
            ],
            "execution_count": 45
        },
        {
            "cell_type": "code",
            "source": [
                "right2"
            ],
            "metadata": {
                "azdata_cell_guid": "d34396b8-6c8d-4d2e-8464-508aecd27fab",
                "language": "python"
            },
            "outputs": [
                {
                    "output_type": "execute_result",
                    "execution_count": 46,
                    "data": {
                        "text/html": "<div>\n<style scoped>\n    .dataframe tbody tr th:only-of-type {\n        vertical-align: middle;\n    }\n\n    .dataframe tbody tr th {\n        vertical-align: top;\n    }\n\n    .dataframe thead th {\n        text-align: right;\n    }\n</style>\n<table border=\"1\" class=\"dataframe\">\n  <thead>\n    <tr style=\"text-align: right;\">\n      <th></th>\n      <th>Missouri</th>\n      <th>Alabama</th>\n    </tr>\n  </thead>\n  <tbody>\n    <tr>\n      <th>b</th>\n      <td>7.0</td>\n      <td>8.0</td>\n    </tr>\n    <tr>\n      <th>c</th>\n      <td>9.0</td>\n      <td>10.0</td>\n    </tr>\n    <tr>\n      <th>d</th>\n      <td>11.0</td>\n      <td>12.0</td>\n    </tr>\n    <tr>\n      <th>e</th>\n      <td>13.0</td>\n      <td>14.0</td>\n    </tr>\n  </tbody>\n</table>\n</div>",
                        "text/plain": "   Missouri  Alabama\nb       7.0      8.0\nc       9.0     10.0\nd      11.0     12.0\ne      13.0     14.0"
                    },
                    "metadata": {}
                }
            ],
            "execution_count": 46
        },
        {
            "cell_type": "code",
            "source": [
                "pd.merge(left2, right2, how='outer', left_index=True, right_index=True)"
            ],
            "metadata": {
                "azdata_cell_guid": "52e94b38-7f58-402d-924d-c3316d7bf00b",
                "language": "python"
            },
            "outputs": [
                {
                    "output_type": "execute_result",
                    "execution_count": 47,
                    "data": {
                        "text/html": "<div>\n<style scoped>\n    .dataframe tbody tr th:only-of-type {\n        vertical-align: middle;\n    }\n\n    .dataframe tbody tr th {\n        vertical-align: top;\n    }\n\n    .dataframe thead th {\n        text-align: right;\n    }\n</style>\n<table border=\"1\" class=\"dataframe\">\n  <thead>\n    <tr style=\"text-align: right;\">\n      <th></th>\n      <th>Ohio</th>\n      <th>Nevada</th>\n      <th>Missouri</th>\n      <th>Alabama</th>\n    </tr>\n  </thead>\n  <tbody>\n    <tr>\n      <th>a</th>\n      <td>1.0</td>\n      <td>2.0</td>\n      <td>NaN</td>\n      <td>NaN</td>\n    </tr>\n    <tr>\n      <th>b</th>\n      <td>NaN</td>\n      <td>NaN</td>\n      <td>7.0</td>\n      <td>8.0</td>\n    </tr>\n    <tr>\n      <th>c</th>\n      <td>3.0</td>\n      <td>4.0</td>\n      <td>9.0</td>\n      <td>10.0</td>\n    </tr>\n    <tr>\n      <th>d</th>\n      <td>NaN</td>\n      <td>NaN</td>\n      <td>11.0</td>\n      <td>12.0</td>\n    </tr>\n    <tr>\n      <th>e</th>\n      <td>5.0</td>\n      <td>6.0</td>\n      <td>13.0</td>\n      <td>14.0</td>\n    </tr>\n  </tbody>\n</table>\n</div>",
                        "text/plain": "   Ohio  Nevada  Missouri  Alabama\na   1.0     2.0       NaN      NaN\nb   NaN     NaN       7.0      8.0\nc   3.0     4.0       9.0     10.0\nd   NaN     NaN      11.0     12.0\ne   5.0     6.0      13.0     14.0"
                    },
                    "metadata": {}
                }
            ],
            "execution_count": 47
        },
        {
            "cell_type": "markdown",
            "source": [
                "DataFrame has a convenient join instance for merging by index. It can also be used\n",
                "to combine together many DataFrame objects having the same or similar indexes but\n",
                "non-overlapping columns. In the prior example, we could have written:"
            ],
            "metadata": {
                "azdata_cell_guid": "cda8c68c-d557-4271-af28-79275b32329a"
            }
        },
        {
            "cell_type": "code",
            "source": [
                "left2.join(right2, how='outer')"
            ],
            "metadata": {
                "azdata_cell_guid": "b9c9f890-ffd0-48c6-a28a-157f2aec18fd",
                "language": "python"
            },
            "outputs": [
                {
                    "output_type": "execute_result",
                    "execution_count": 48,
                    "data": {
                        "text/html": "<div>\n<style scoped>\n    .dataframe tbody tr th:only-of-type {\n        vertical-align: middle;\n    }\n\n    .dataframe tbody tr th {\n        vertical-align: top;\n    }\n\n    .dataframe thead th {\n        text-align: right;\n    }\n</style>\n<table border=\"1\" class=\"dataframe\">\n  <thead>\n    <tr style=\"text-align: right;\">\n      <th></th>\n      <th>Ohio</th>\n      <th>Nevada</th>\n      <th>Missouri</th>\n      <th>Alabama</th>\n    </tr>\n  </thead>\n  <tbody>\n    <tr>\n      <th>a</th>\n      <td>1.0</td>\n      <td>2.0</td>\n      <td>NaN</td>\n      <td>NaN</td>\n    </tr>\n    <tr>\n      <th>b</th>\n      <td>NaN</td>\n      <td>NaN</td>\n      <td>7.0</td>\n      <td>8.0</td>\n    </tr>\n    <tr>\n      <th>c</th>\n      <td>3.0</td>\n      <td>4.0</td>\n      <td>9.0</td>\n      <td>10.0</td>\n    </tr>\n    <tr>\n      <th>d</th>\n      <td>NaN</td>\n      <td>NaN</td>\n      <td>11.0</td>\n      <td>12.0</td>\n    </tr>\n    <tr>\n      <th>e</th>\n      <td>5.0</td>\n      <td>6.0</td>\n      <td>13.0</td>\n      <td>14.0</td>\n    </tr>\n  </tbody>\n</table>\n</div>",
                        "text/plain": "   Ohio  Nevada  Missouri  Alabama\na   1.0     2.0       NaN      NaN\nb   NaN     NaN       7.0      8.0\nc   3.0     4.0       9.0     10.0\nd   NaN     NaN      11.0     12.0\ne   5.0     6.0      13.0     14.0"
                    },
                    "metadata": {}
                }
            ],
            "execution_count": 48
        },
        {
            "cell_type": "markdown",
            "source": [
                "For simple index-on-index merges, you can pass a list of DataFrames to join as\n",
                "an alternative to using the more general concat function"
            ],
            "metadata": {
                "azdata_cell_guid": "8b2c4d6b-041c-4713-b20f-0205b9b1f35e"
            }
        },
        {
            "cell_type": "code",
            "source": [
                "another = pd.DataFrame([[7., 8.], [9., 10.], [11., 12.], [16., 17.]],\n",
                "                        index=['a', 'c', 'e', 'f'],\n",
                "                        columns=['New York', 'Oregon'])\n",
                "another"
            ],
            "metadata": {
                "azdata_cell_guid": "242f4189-68f2-4026-8ab6-8328a7d4052d",
                "language": "python"
            },
            "outputs": [
                {
                    "output_type": "execute_result",
                    "execution_count": 49,
                    "data": {
                        "text/html": "<div>\n<style scoped>\n    .dataframe tbody tr th:only-of-type {\n        vertical-align: middle;\n    }\n\n    .dataframe tbody tr th {\n        vertical-align: top;\n    }\n\n    .dataframe thead th {\n        text-align: right;\n    }\n</style>\n<table border=\"1\" class=\"dataframe\">\n  <thead>\n    <tr style=\"text-align: right;\">\n      <th></th>\n      <th>New York</th>\n      <th>Oregon</th>\n    </tr>\n  </thead>\n  <tbody>\n    <tr>\n      <th>a</th>\n      <td>7.0</td>\n      <td>8.0</td>\n    </tr>\n    <tr>\n      <th>c</th>\n      <td>9.0</td>\n      <td>10.0</td>\n    </tr>\n    <tr>\n      <th>e</th>\n      <td>11.0</td>\n      <td>12.0</td>\n    </tr>\n    <tr>\n      <th>f</th>\n      <td>16.0</td>\n      <td>17.0</td>\n    </tr>\n  </tbody>\n</table>\n</div>",
                        "text/plain": "   New York  Oregon\na       7.0     8.0\nc       9.0    10.0\ne      11.0    12.0\nf      16.0    17.0"
                    },
                    "metadata": {}
                }
            ],
            "execution_count": 49
        },
        {
            "cell_type": "code",
            "source": [
                "left2.join([right2, another])"
            ],
            "metadata": {
                "azdata_cell_guid": "bf4617b9-0350-4eda-953d-d83750bffd32",
                "language": "python"
            },
            "outputs": [
                {
                    "output_type": "execute_result",
                    "execution_count": 50,
                    "data": {
                        "text/html": "<div>\n<style scoped>\n    .dataframe tbody tr th:only-of-type {\n        vertical-align: middle;\n    }\n\n    .dataframe tbody tr th {\n        vertical-align: top;\n    }\n\n    .dataframe thead th {\n        text-align: right;\n    }\n</style>\n<table border=\"1\" class=\"dataframe\">\n  <thead>\n    <tr style=\"text-align: right;\">\n      <th></th>\n      <th>Ohio</th>\n      <th>Nevada</th>\n      <th>Missouri</th>\n      <th>Alabama</th>\n      <th>New York</th>\n      <th>Oregon</th>\n    </tr>\n  </thead>\n  <tbody>\n    <tr>\n      <th>a</th>\n      <td>1.0</td>\n      <td>2.0</td>\n      <td>NaN</td>\n      <td>NaN</td>\n      <td>7.0</td>\n      <td>8.0</td>\n    </tr>\n    <tr>\n      <th>c</th>\n      <td>3.0</td>\n      <td>4.0</td>\n      <td>9.0</td>\n      <td>10.0</td>\n      <td>9.0</td>\n      <td>10.0</td>\n    </tr>\n    <tr>\n      <th>e</th>\n      <td>5.0</td>\n      <td>6.0</td>\n      <td>13.0</td>\n      <td>14.0</td>\n      <td>11.0</td>\n      <td>12.0</td>\n    </tr>\n  </tbody>\n</table>\n</div>",
                        "text/plain": "   Ohio  Nevada  Missouri  Alabama  New York  Oregon\na   1.0     2.0       NaN      NaN       7.0     8.0\nc   3.0     4.0       9.0     10.0       9.0    10.0\ne   5.0     6.0      13.0     14.0      11.0    12.0"
                    },
                    "metadata": {}
                }
            ],
            "execution_count": 50
        },
        {
            "cell_type": "code",
            "source": [
                "left2.join([right2, another], how='outer')"
            ],
            "metadata": {
                "azdata_cell_guid": "edf5a1b8-b3ab-44e9-8413-964d237eb792",
                "language": "python"
            },
            "outputs": [
                {
                    "output_type": "execute_result",
                    "execution_count": 51,
                    "data": {
                        "text/html": "<div>\n<style scoped>\n    .dataframe tbody tr th:only-of-type {\n        vertical-align: middle;\n    }\n\n    .dataframe tbody tr th {\n        vertical-align: top;\n    }\n\n    .dataframe thead th {\n        text-align: right;\n    }\n</style>\n<table border=\"1\" class=\"dataframe\">\n  <thead>\n    <tr style=\"text-align: right;\">\n      <th></th>\n      <th>Ohio</th>\n      <th>Nevada</th>\n      <th>Missouri</th>\n      <th>Alabama</th>\n      <th>New York</th>\n      <th>Oregon</th>\n    </tr>\n  </thead>\n  <tbody>\n    <tr>\n      <th>a</th>\n      <td>1.0</td>\n      <td>2.0</td>\n      <td>NaN</td>\n      <td>NaN</td>\n      <td>7.0</td>\n      <td>8.0</td>\n    </tr>\n    <tr>\n      <th>c</th>\n      <td>3.0</td>\n      <td>4.0</td>\n      <td>9.0</td>\n      <td>10.0</td>\n      <td>9.0</td>\n      <td>10.0</td>\n    </tr>\n    <tr>\n      <th>e</th>\n      <td>5.0</td>\n      <td>6.0</td>\n      <td>13.0</td>\n      <td>14.0</td>\n      <td>11.0</td>\n      <td>12.0</td>\n    </tr>\n    <tr>\n      <th>b</th>\n      <td>NaN</td>\n      <td>NaN</td>\n      <td>7.0</td>\n      <td>8.0</td>\n      <td>NaN</td>\n      <td>NaN</td>\n    </tr>\n    <tr>\n      <th>d</th>\n      <td>NaN</td>\n      <td>NaN</td>\n      <td>11.0</td>\n      <td>12.0</td>\n      <td>NaN</td>\n      <td>NaN</td>\n    </tr>\n    <tr>\n      <th>f</th>\n      <td>NaN</td>\n      <td>NaN</td>\n      <td>NaN</td>\n      <td>NaN</td>\n      <td>16.0</td>\n      <td>17.0</td>\n    </tr>\n  </tbody>\n</table>\n</div>",
                        "text/plain": "   Ohio  Nevada  Missouri  Alabama  New York  Oregon\na   1.0     2.0       NaN      NaN       7.0     8.0\nc   3.0     4.0       9.0     10.0       9.0    10.0\ne   5.0     6.0      13.0     14.0      11.0    12.0\nb   NaN     NaN       7.0      8.0       NaN     NaN\nd   NaN     NaN      11.0     12.0       NaN     NaN\nf   NaN     NaN       NaN      NaN      16.0    17.0"
                    },
                    "metadata": {}
                }
            ],
            "execution_count": 51
        },
        {
            "cell_type": "markdown",
            "source": [
                "## Concatenating Along an Axis\r"
            ],
            "metadata": {
                "azdata_cell_guid": "db46e25c-08f7-46a6-bfb1-d20c9913cac9"
            }
        },
        {
            "cell_type": "markdown",
            "source": [
                "In the context of pandas objects such as Series and DataFrame, having labeled axes\n",
                "enable you to further generalize array concatenation. In particular, you have a number of additional things to think about:\n",
                "- If the objects are indexed differently on the other axes, should we combine the distinct elements in these axes or use only the shared values (the intersection)?\n",
                "- Do the concatenated chunks of data need to be identifiable in the resulting object?\n",
                "- Does the “concatenation axis” contain data that needs to be preserved? In many cases, the default integer labels in a DataFrame are best discarded during\n",
                "concatenation.\n"
            ],
            "metadata": {
                "azdata_cell_guid": "4a2faff3-aa32-48fa-b35d-370e6ca75631"
            }
        },
        {
            "cell_type": "markdown",
            "source": [
                "The _concat_ function in pandas provides a consistent way to address each of these\r\n",
                "concerns. "
            ],
            "metadata": {
                "azdata_cell_guid": "17e7e09e-223e-4a2d-a8e9-b6c7e6dd4e9e"
            }
        },
        {
            "cell_type": "code",
            "source": [
                "s1 = pd.Series([0, 1], index=['a', 'b'])\n",
                "s2 = pd.Series([2, 3, 4], index=['c', 'd', 'e'])\n",
                "s3 = pd.Series([5, 6], index=['f', 'g'])\n",
                "pd.concat([s1, s2, s3])"
            ],
            "metadata": {
                "azdata_cell_guid": "064e74b9-e210-425d-acbc-affd37bba7f2",
                "language": "python"
            },
            "outputs": [
                {
                    "output_type": "execute_result",
                    "execution_count": 52,
                    "data": {
                        "text/plain": "a    0\nb    1\nc    2\nd    3\ne    4\nf    5\ng    6\ndtype: int64"
                    },
                    "metadata": {}
                }
            ],
            "execution_count": 52
        },
        {
            "cell_type": "markdown",
            "source": [
                "By default concat works along axis=0, producing another Series. If you pass axis=1,\r\n",
                "the result will instead be a DataFrame (axis=1 is the columns):"
            ],
            "metadata": {
                "azdata_cell_guid": "d279ad7c-94aa-46cc-953d-8932fbeeada8"
            }
        },
        {
            "cell_type": "code",
            "source": [
                "pd.concat([s1, s2, s3], axis=1)"
            ],
            "metadata": {
                "azdata_cell_guid": "0c0ea1dc-5cd2-4e82-b038-224c21c79a7f",
                "language": "python"
            },
            "outputs": [
                {
                    "output_type": "execute_result",
                    "execution_count": 53,
                    "data": {
                        "text/html": "<div>\n<style scoped>\n    .dataframe tbody tr th:only-of-type {\n        vertical-align: middle;\n    }\n\n    .dataframe tbody tr th {\n        vertical-align: top;\n    }\n\n    .dataframe thead th {\n        text-align: right;\n    }\n</style>\n<table border=\"1\" class=\"dataframe\">\n  <thead>\n    <tr style=\"text-align: right;\">\n      <th></th>\n      <th>0</th>\n      <th>1</th>\n      <th>2</th>\n    </tr>\n  </thead>\n  <tbody>\n    <tr>\n      <th>a</th>\n      <td>0.0</td>\n      <td>NaN</td>\n      <td>NaN</td>\n    </tr>\n    <tr>\n      <th>b</th>\n      <td>1.0</td>\n      <td>NaN</td>\n      <td>NaN</td>\n    </tr>\n    <tr>\n      <th>c</th>\n      <td>NaN</td>\n      <td>2.0</td>\n      <td>NaN</td>\n    </tr>\n    <tr>\n      <th>d</th>\n      <td>NaN</td>\n      <td>3.0</td>\n      <td>NaN</td>\n    </tr>\n    <tr>\n      <th>e</th>\n      <td>NaN</td>\n      <td>4.0</td>\n      <td>NaN</td>\n    </tr>\n    <tr>\n      <th>f</th>\n      <td>NaN</td>\n      <td>NaN</td>\n      <td>5.0</td>\n    </tr>\n    <tr>\n      <th>g</th>\n      <td>NaN</td>\n      <td>NaN</td>\n      <td>6.0</td>\n    </tr>\n  </tbody>\n</table>\n</div>",
                        "text/plain": "     0    1    2\na  0.0  NaN  NaN\nb  1.0  NaN  NaN\nc  NaN  2.0  NaN\nd  NaN  3.0  NaN\ne  NaN  4.0  NaN\nf  NaN  NaN  5.0\ng  NaN  NaN  6.0"
                    },
                    "metadata": {}
                }
            ],
            "execution_count": 53
        },
        {
            "cell_type": "markdown",
            "source": [
                "In this case there is no overlap on the other axis, which as you can see is the sorted\r\n",
                "union (the 'outer' join) of the indexes. You can instead intersect them by passing\r\n",
                "join='inner':"
            ],
            "metadata": {
                "azdata_cell_guid": "61cb5aa6-2103-4459-83db-d5204f0e6ac4"
            }
        },
        {
            "cell_type": "code",
            "source": [
                "s4 = pd.concat([s1, s3])\n",
                "s4"
            ],
            "metadata": {
                "azdata_cell_guid": "11d2e14c-d8cb-4f56-98e8-8f72bbc7b540",
                "language": "python"
            },
            "outputs": [
                {
                    "output_type": "execute_result",
                    "execution_count": 54,
                    "data": {
                        "text/plain": "a    0\nb    1\nf    5\ng    6\ndtype: int64"
                    },
                    "metadata": {}
                }
            ],
            "execution_count": 54
        },
        {
            "cell_type": "code",
            "source": [
                "pd.concat([s1, s4], axis=1)"
            ],
            "metadata": {
                "azdata_cell_guid": "58762cc4-fce8-4305-9e25-01b446a9a8f8",
                "language": "python"
            },
            "outputs": [
                {
                    "output_type": "execute_result",
                    "execution_count": 55,
                    "data": {
                        "text/html": "<div>\n<style scoped>\n    .dataframe tbody tr th:only-of-type {\n        vertical-align: middle;\n    }\n\n    .dataframe tbody tr th {\n        vertical-align: top;\n    }\n\n    .dataframe thead th {\n        text-align: right;\n    }\n</style>\n<table border=\"1\" class=\"dataframe\">\n  <thead>\n    <tr style=\"text-align: right;\">\n      <th></th>\n      <th>0</th>\n      <th>1</th>\n    </tr>\n  </thead>\n  <tbody>\n    <tr>\n      <th>a</th>\n      <td>0.0</td>\n      <td>0</td>\n    </tr>\n    <tr>\n      <th>b</th>\n      <td>1.0</td>\n      <td>1</td>\n    </tr>\n    <tr>\n      <th>f</th>\n      <td>NaN</td>\n      <td>5</td>\n    </tr>\n    <tr>\n      <th>g</th>\n      <td>NaN</td>\n      <td>6</td>\n    </tr>\n  </tbody>\n</table>\n</div>",
                        "text/plain": "     0  1\na  0.0  0\nb  1.0  1\nf  NaN  5\ng  NaN  6"
                    },
                    "metadata": {}
                }
            ],
            "execution_count": 55
        },
        {
            "cell_type": "code",
            "source": [
                "# 'f' and 'g' labels disappear because of the join='inner' option\n",
                "pd.concat([s1, s4], axis=1, join='inner')"
            ],
            "metadata": {
                "azdata_cell_guid": "7e6089e4-66ea-4f3d-b0bf-4a02839582c9",
                "language": "python"
            },
            "outputs": [
                {
                    "output_type": "execute_result",
                    "execution_count": 56,
                    "data": {
                        "text/html": "<div>\n<style scoped>\n    .dataframe tbody tr th:only-of-type {\n        vertical-align: middle;\n    }\n\n    .dataframe tbody tr th {\n        vertical-align: top;\n    }\n\n    .dataframe thead th {\n        text-align: right;\n    }\n</style>\n<table border=\"1\" class=\"dataframe\">\n  <thead>\n    <tr style=\"text-align: right;\">\n      <th></th>\n      <th>0</th>\n      <th>1</th>\n    </tr>\n  </thead>\n  <tbody>\n    <tr>\n      <th>a</th>\n      <td>0</td>\n      <td>0</td>\n    </tr>\n    <tr>\n      <th>b</th>\n      <td>1</td>\n      <td>1</td>\n    </tr>\n  </tbody>\n</table>\n</div>",
                        "text/plain": "   0  1\na  0  0\nb  1  1"
                    },
                    "metadata": {}
                }
            ],
            "execution_count": 56
        },
        {
            "cell_type": "markdown",
            "source": [
                "A potential issue is that the concatenated pieces are not identifiable in the result. \n",
                "Suppose instead you wanted to create a hierarchical index on the concatenation axis. Todo this, use the keys argument:"
            ],
            "metadata": {
                "azdata_cell_guid": "8ecd7dfe-454c-40db-9ca0-098d5afa8f5b"
            }
        },
        {
            "cell_type": "code",
            "source": [
                "result = pd.concat([s1, s1, s3], keys=['one', 'two', 'three'])\n",
                "result"
            ],
            "metadata": {
                "azdata_cell_guid": "adbb2db4-838d-45b5-8c95-d859eb345618",
                "language": "python"
            },
            "outputs": [
                {
                    "output_type": "execute_result",
                    "execution_count": 57,
                    "data": {
                        "text/plain": "one    a    0\n       b    1\ntwo    a    0\n       b    1\nthree  f    5\n       g    6\ndtype: int64"
                    },
                    "metadata": {}
                }
            ],
            "execution_count": 57
        },
        {
            "cell_type": "code",
            "source": [
                "result.unstack()"
            ],
            "metadata": {
                "azdata_cell_guid": "b72d2943-82a2-430d-b465-4d7ced0d2f6a",
                "language": "python"
            },
            "outputs": [
                {
                    "output_type": "execute_result",
                    "execution_count": 58,
                    "data": {
                        "text/html": "<div>\n<style scoped>\n    .dataframe tbody tr th:only-of-type {\n        vertical-align: middle;\n    }\n\n    .dataframe tbody tr th {\n        vertical-align: top;\n    }\n\n    .dataframe thead th {\n        text-align: right;\n    }\n</style>\n<table border=\"1\" class=\"dataframe\">\n  <thead>\n    <tr style=\"text-align: right;\">\n      <th></th>\n      <th>a</th>\n      <th>b</th>\n      <th>f</th>\n      <th>g</th>\n    </tr>\n  </thead>\n  <tbody>\n    <tr>\n      <th>one</th>\n      <td>0.0</td>\n      <td>1.0</td>\n      <td>NaN</td>\n      <td>NaN</td>\n    </tr>\n    <tr>\n      <th>two</th>\n      <td>0.0</td>\n      <td>1.0</td>\n      <td>NaN</td>\n      <td>NaN</td>\n    </tr>\n    <tr>\n      <th>three</th>\n      <td>NaN</td>\n      <td>NaN</td>\n      <td>5.0</td>\n      <td>6.0</td>\n    </tr>\n  </tbody>\n</table>\n</div>",
                        "text/plain": "         a    b    f    g\none    0.0  1.0  NaN  NaN\ntwo    0.0  1.0  NaN  NaN\nthree  NaN  NaN  5.0  6.0"
                    },
                    "metadata": {}
                }
            ],
            "execution_count": 58
        },
        {
            "cell_type": "markdown",
            "source": [
                "In the case of combining Series along axis=1, the keys become the DataFrame column headers:"
            ],
            "metadata": {
                "azdata_cell_guid": "26e5c61d-53f8-4cfd-929d-cc3bb1a79a08"
            }
        },
        {
            "cell_type": "code",
            "source": [
                "pd.concat([s1, s2, s3], axis=1, keys=['one', 'two', 'three'])"
            ],
            "metadata": {
                "azdata_cell_guid": "08521649-33cf-4e5a-94f7-fdc78e77d4f7",
                "language": "python"
            },
            "outputs": [
                {
                    "output_type": "execute_result",
                    "execution_count": 59,
                    "data": {
                        "text/html": "<div>\n<style scoped>\n    .dataframe tbody tr th:only-of-type {\n        vertical-align: middle;\n    }\n\n    .dataframe tbody tr th {\n        vertical-align: top;\n    }\n\n    .dataframe thead th {\n        text-align: right;\n    }\n</style>\n<table border=\"1\" class=\"dataframe\">\n  <thead>\n    <tr style=\"text-align: right;\">\n      <th></th>\n      <th>one</th>\n      <th>two</th>\n      <th>three</th>\n    </tr>\n  </thead>\n  <tbody>\n    <tr>\n      <th>a</th>\n      <td>0.0</td>\n      <td>NaN</td>\n      <td>NaN</td>\n    </tr>\n    <tr>\n      <th>b</th>\n      <td>1.0</td>\n      <td>NaN</td>\n      <td>NaN</td>\n    </tr>\n    <tr>\n      <th>c</th>\n      <td>NaN</td>\n      <td>2.0</td>\n      <td>NaN</td>\n    </tr>\n    <tr>\n      <th>d</th>\n      <td>NaN</td>\n      <td>3.0</td>\n      <td>NaN</td>\n    </tr>\n    <tr>\n      <th>e</th>\n      <td>NaN</td>\n      <td>4.0</td>\n      <td>NaN</td>\n    </tr>\n    <tr>\n      <th>f</th>\n      <td>NaN</td>\n      <td>NaN</td>\n      <td>5.0</td>\n    </tr>\n    <tr>\n      <th>g</th>\n      <td>NaN</td>\n      <td>NaN</td>\n      <td>6.0</td>\n    </tr>\n  </tbody>\n</table>\n</div>",
                        "text/plain": "   one  two  three\na  0.0  NaN    NaN\nb  1.0  NaN    NaN\nc  NaN  2.0    NaN\nd  NaN  3.0    NaN\ne  NaN  4.0    NaN\nf  NaN  NaN    5.0\ng  NaN  NaN    6.0"
                    },
                    "metadata": {}
                }
            ],
            "execution_count": 59
        },
        {
            "cell_type": "markdown",
            "source": [
                "The same logic extends to DataFrame objects:\n"
            ],
            "metadata": {
                "azdata_cell_guid": "73b50f43-b02e-4614-b2a0-a88b133d2415"
            }
        },
        {
            "cell_type": "code",
            "source": [
                "df1 = pd.DataFrame(np.arange(6).reshape(3, 2), index=['a', 'b', 'c'],\n",
                "                   columns=['one', 'two'])\n",
                "df2 = pd.DataFrame(5 + np.arange(4).reshape(2, 2), index=['a', 'c'],\n",
                "                   columns=['three', 'four'])"
            ],
            "metadata": {
                "azdata_cell_guid": "524a2c8b-4e65-4911-95ec-ade39ef7ac3f",
                "language": "python"
            },
            "outputs": [],
            "execution_count": 60
        },
        {
            "cell_type": "code",
            "source": [
                "df1"
            ],
            "metadata": {
                "azdata_cell_guid": "3e7b2a4e-59d5-4a3e-9510-47701023a8f3",
                "language": "python"
            },
            "outputs": [
                {
                    "output_type": "execute_result",
                    "execution_count": 61,
                    "data": {
                        "text/html": "<div>\n<style scoped>\n    .dataframe tbody tr th:only-of-type {\n        vertical-align: middle;\n    }\n\n    .dataframe tbody tr th {\n        vertical-align: top;\n    }\n\n    .dataframe thead th {\n        text-align: right;\n    }\n</style>\n<table border=\"1\" class=\"dataframe\">\n  <thead>\n    <tr style=\"text-align: right;\">\n      <th></th>\n      <th>one</th>\n      <th>two</th>\n    </tr>\n  </thead>\n  <tbody>\n    <tr>\n      <th>a</th>\n      <td>0</td>\n      <td>1</td>\n    </tr>\n    <tr>\n      <th>b</th>\n      <td>2</td>\n      <td>3</td>\n    </tr>\n    <tr>\n      <th>c</th>\n      <td>4</td>\n      <td>5</td>\n    </tr>\n  </tbody>\n</table>\n</div>",
                        "text/plain": "   one  two\na    0    1\nb    2    3\nc    4    5"
                    },
                    "metadata": {}
                }
            ],
            "execution_count": 61
        },
        {
            "cell_type": "code",
            "source": [
                "df2"
            ],
            "metadata": {
                "azdata_cell_guid": "89d53cea-622e-4a85-a3fc-381bffa6c475",
                "language": "python"
            },
            "outputs": [
                {
                    "output_type": "execute_result",
                    "execution_count": 62,
                    "data": {
                        "text/html": "<div>\n<style scoped>\n    .dataframe tbody tr th:only-of-type {\n        vertical-align: middle;\n    }\n\n    .dataframe tbody tr th {\n        vertical-align: top;\n    }\n\n    .dataframe thead th {\n        text-align: right;\n    }\n</style>\n<table border=\"1\" class=\"dataframe\">\n  <thead>\n    <tr style=\"text-align: right;\">\n      <th></th>\n      <th>three</th>\n      <th>four</th>\n    </tr>\n  </thead>\n  <tbody>\n    <tr>\n      <th>a</th>\n      <td>5</td>\n      <td>6</td>\n    </tr>\n    <tr>\n      <th>c</th>\n      <td>7</td>\n      <td>8</td>\n    </tr>\n  </tbody>\n</table>\n</div>",
                        "text/plain": "   three  four\na      5     6\nc      7     8"
                    },
                    "metadata": {}
                }
            ],
            "execution_count": 62
        },
        {
            "cell_type": "code",
            "source": [
                "pd.concat([df1, df2], axis=1, keys=['level1', 'level2'])"
            ],
            "metadata": {
                "azdata_cell_guid": "902f631c-af1e-4673-b5ec-b31e774f1a95",
                "language": "python"
            },
            "outputs": [
                {
                    "output_type": "execute_result",
                    "execution_count": 63,
                    "data": {
                        "text/html": "<div>\n<style scoped>\n    .dataframe tbody tr th:only-of-type {\n        vertical-align: middle;\n    }\n\n    .dataframe tbody tr th {\n        vertical-align: top;\n    }\n\n    .dataframe thead tr th {\n        text-align: left;\n    }\n</style>\n<table border=\"1\" class=\"dataframe\">\n  <thead>\n    <tr>\n      <th></th>\n      <th colspan=\"2\" halign=\"left\">level1</th>\n      <th colspan=\"2\" halign=\"left\">level2</th>\n    </tr>\n    <tr>\n      <th></th>\n      <th>one</th>\n      <th>two</th>\n      <th>three</th>\n      <th>four</th>\n    </tr>\n  </thead>\n  <tbody>\n    <tr>\n      <th>a</th>\n      <td>0</td>\n      <td>1</td>\n      <td>5.0</td>\n      <td>6.0</td>\n    </tr>\n    <tr>\n      <th>b</th>\n      <td>2</td>\n      <td>3</td>\n      <td>NaN</td>\n      <td>NaN</td>\n    </tr>\n    <tr>\n      <th>c</th>\n      <td>4</td>\n      <td>5</td>\n      <td>7.0</td>\n      <td>8.0</td>\n    </tr>\n  </tbody>\n</table>\n</div>",
                        "text/plain": "  level1     level2     \n     one two  three four\na      0   1    5.0  6.0\nb      2   3    NaN  NaN\nc      4   5    7.0  8.0"
                    },
                    "metadata": {}
                }
            ],
            "execution_count": 63
        },
        {
            "cell_type": "markdown",
            "source": [
                "If you pass a dict of objects instead of a list, the dict’s keys will be used for the keys\n",
                "option:\n"
            ],
            "metadata": {
                "azdata_cell_guid": "c06cebc5-6901-4449-959b-377ef0819702"
            }
        },
        {
            "cell_type": "code",
            "source": [
                "pd.concat({'level1': df1, 'level2': df2}, axis=1)"
            ],
            "metadata": {
                "azdata_cell_guid": "dd2f5d23-2520-451c-8cc5-bfc1c035649d",
                "language": "python"
            },
            "outputs": [
                {
                    "output_type": "execute_result",
                    "execution_count": 64,
                    "data": {
                        "text/html": "<div>\n<style scoped>\n    .dataframe tbody tr th:only-of-type {\n        vertical-align: middle;\n    }\n\n    .dataframe tbody tr th {\n        vertical-align: top;\n    }\n\n    .dataframe thead tr th {\n        text-align: left;\n    }\n</style>\n<table border=\"1\" class=\"dataframe\">\n  <thead>\n    <tr>\n      <th></th>\n      <th colspan=\"2\" halign=\"left\">level1</th>\n      <th colspan=\"2\" halign=\"left\">level2</th>\n    </tr>\n    <tr>\n      <th></th>\n      <th>one</th>\n      <th>two</th>\n      <th>three</th>\n      <th>four</th>\n    </tr>\n  </thead>\n  <tbody>\n    <tr>\n      <th>a</th>\n      <td>0</td>\n      <td>1</td>\n      <td>5.0</td>\n      <td>6.0</td>\n    </tr>\n    <tr>\n      <th>b</th>\n      <td>2</td>\n      <td>3</td>\n      <td>NaN</td>\n      <td>NaN</td>\n    </tr>\n    <tr>\n      <th>c</th>\n      <td>4</td>\n      <td>5</td>\n      <td>7.0</td>\n      <td>8.0</td>\n    </tr>\n  </tbody>\n</table>\n</div>",
                        "text/plain": "  level1     level2     \n     one two  three four\na      0   1    5.0  6.0\nb      2   3    NaN  NaN\nc      4   5    7.0  8.0"
                    },
                    "metadata": {}
                }
            ],
            "execution_count": 64
        },
        {
            "cell_type": "markdown",
            "source": [
                "We can name the created axis levels with the names argument:"
            ],
            "metadata": {
                "azdata_cell_guid": "39816d5a-646a-4216-a6fe-4d06e7f246bd"
            }
        },
        {
            "cell_type": "code",
            "source": [
                "pd.concat([df1, df2], axis=1, keys=['level1', 'level2'],\n",
                "          names=['upper', 'lower'])"
            ],
            "metadata": {
                "azdata_cell_guid": "72919261-5b99-48e8-b286-b6dcebf0d960",
                "language": "python"
            },
            "outputs": [
                {
                    "output_type": "execute_result",
                    "execution_count": 65,
                    "data": {
                        "text/html": "<div>\n<style scoped>\n    .dataframe tbody tr th:only-of-type {\n        vertical-align: middle;\n    }\n\n    .dataframe tbody tr th {\n        vertical-align: top;\n    }\n\n    .dataframe thead tr th {\n        text-align: left;\n    }\n</style>\n<table border=\"1\" class=\"dataframe\">\n  <thead>\n    <tr>\n      <th>upper</th>\n      <th colspan=\"2\" halign=\"left\">level1</th>\n      <th colspan=\"2\" halign=\"left\">level2</th>\n    </tr>\n    <tr>\n      <th>lower</th>\n      <th>one</th>\n      <th>two</th>\n      <th>three</th>\n      <th>four</th>\n    </tr>\n  </thead>\n  <tbody>\n    <tr>\n      <th>a</th>\n      <td>0</td>\n      <td>1</td>\n      <td>5.0</td>\n      <td>6.0</td>\n    </tr>\n    <tr>\n      <th>b</th>\n      <td>2</td>\n      <td>3</td>\n      <td>NaN</td>\n      <td>NaN</td>\n    </tr>\n    <tr>\n      <th>c</th>\n      <td>4</td>\n      <td>5</td>\n      <td>7.0</td>\n      <td>8.0</td>\n    </tr>\n  </tbody>\n</table>\n</div>",
                        "text/plain": "upper level1     level2     \nlower    one two  three four\na          0   1    5.0  6.0\nb          2   3    NaN  NaN\nc          4   5    7.0  8.0"
                    },
                    "metadata": {}
                }
            ],
            "execution_count": 65
        },
        {
            "cell_type": "markdown",
            "source": [
                " DataFrames in which the row index does not contain\n",
                "any relevant data:"
            ],
            "metadata": {
                "azdata_cell_guid": "a9e61d40-c351-4982-b42e-9979544f3ea9"
            }
        },
        {
            "cell_type": "code",
            "source": [
                "df1 = pd.DataFrame(np.random.randn(3, 4), columns=['a', 'b', 'c', 'd'])\n",
                "df2 = pd.DataFrame(np.random.randn(2, 3), columns=['b', 'd', 'a'])"
            ],
            "metadata": {
                "azdata_cell_guid": "f972b3ce-df24-4947-939a-0566245a44a6",
                "language": "python"
            },
            "outputs": [],
            "execution_count": 66
        },
        {
            "cell_type": "code",
            "source": [
                "df1"
            ],
            "metadata": {
                "azdata_cell_guid": "f50ab746-be12-47fb-8d2c-37bf41209a2c",
                "language": "python"
            },
            "outputs": [
                {
                    "output_type": "execute_result",
                    "execution_count": 67,
                    "data": {
                        "text/html": "<div>\n<style scoped>\n    .dataframe tbody tr th:only-of-type {\n        vertical-align: middle;\n    }\n\n    .dataframe tbody tr th {\n        vertical-align: top;\n    }\n\n    .dataframe thead th {\n        text-align: right;\n    }\n</style>\n<table border=\"1\" class=\"dataframe\">\n  <thead>\n    <tr style=\"text-align: right;\">\n      <th></th>\n      <th>a</th>\n      <th>b</th>\n      <th>c</th>\n      <th>d</th>\n    </tr>\n  </thead>\n  <tbody>\n    <tr>\n      <th>0</th>\n      <td>-0.473766</td>\n      <td>0.002685</td>\n      <td>-1.743090</td>\n      <td>1.542872</td>\n    </tr>\n    <tr>\n      <th>1</th>\n      <td>1.514530</td>\n      <td>-0.722351</td>\n      <td>2.043923</td>\n      <td>-1.543427</td>\n    </tr>\n    <tr>\n      <th>2</th>\n      <td>0.226615</td>\n      <td>-0.334619</td>\n      <td>0.956847</td>\n      <td>0.566795</td>\n    </tr>\n  </tbody>\n</table>\n</div>",
                        "text/plain": "          a         b         c         d\n0 -0.473766  0.002685 -1.743090  1.542872\n1  1.514530 -0.722351  2.043923 -1.543427\n2  0.226615 -0.334619  0.956847  0.566795"
                    },
                    "metadata": {}
                }
            ],
            "execution_count": 67
        },
        {
            "cell_type": "code",
            "source": [
                "df2"
            ],
            "metadata": {
                "azdata_cell_guid": "494ce7a1-3e12-4670-aa37-e90caea9f9a5",
                "language": "python"
            },
            "outputs": [
                {
                    "output_type": "execute_result",
                    "execution_count": 68,
                    "data": {
                        "text/html": "<div>\n<style scoped>\n    .dataframe tbody tr th:only-of-type {\n        vertical-align: middle;\n    }\n\n    .dataframe tbody tr th {\n        vertical-align: top;\n    }\n\n    .dataframe thead th {\n        text-align: right;\n    }\n</style>\n<table border=\"1\" class=\"dataframe\">\n  <thead>\n    <tr style=\"text-align: right;\">\n      <th></th>\n      <th>b</th>\n      <th>d</th>\n      <th>a</th>\n    </tr>\n  </thead>\n  <tbody>\n    <tr>\n      <th>0</th>\n      <td>0.222134</td>\n      <td>-1.662642</td>\n      <td>1.000511</td>\n    </tr>\n    <tr>\n      <th>1</th>\n      <td>0.515493</td>\n      <td>-1.099548</td>\n      <td>-0.084971</td>\n    </tr>\n  </tbody>\n</table>\n</div>",
                        "text/plain": "          b         d         a\n0  0.222134 -1.662642  1.000511\n1  0.515493 -1.099548 -0.084971"
                    },
                    "metadata": {}
                }
            ],
            "execution_count": 68
        },
        {
            "cell_type": "markdown",
            "source": [
                "In this case, you can pass _ignore_index=True_:"
            ],
            "metadata": {
                "azdata_cell_guid": "095cbf1a-13b1-43ca-bd1b-ae7634715e81"
            }
        },
        {
            "cell_type": "code",
            "source": [
                "pd.concat([df1, df2], ignore_index=True)"
            ],
            "metadata": {
                "azdata_cell_guid": "b7a8c0db-dd42-41bc-b09d-fcf6558cbefe",
                "language": "python"
            },
            "outputs": [
                {
                    "output_type": "execute_result",
                    "execution_count": 69,
                    "data": {
                        "text/html": "<div>\n<style scoped>\n    .dataframe tbody tr th:only-of-type {\n        vertical-align: middle;\n    }\n\n    .dataframe tbody tr th {\n        vertical-align: top;\n    }\n\n    .dataframe thead th {\n        text-align: right;\n    }\n</style>\n<table border=\"1\" class=\"dataframe\">\n  <thead>\n    <tr style=\"text-align: right;\">\n      <th></th>\n      <th>a</th>\n      <th>b</th>\n      <th>c</th>\n      <th>d</th>\n    </tr>\n  </thead>\n  <tbody>\n    <tr>\n      <th>0</th>\n      <td>-0.473766</td>\n      <td>0.002685</td>\n      <td>-1.743090</td>\n      <td>1.542872</td>\n    </tr>\n    <tr>\n      <th>1</th>\n      <td>1.514530</td>\n      <td>-0.722351</td>\n      <td>2.043923</td>\n      <td>-1.543427</td>\n    </tr>\n    <tr>\n      <th>2</th>\n      <td>0.226615</td>\n      <td>-0.334619</td>\n      <td>0.956847</td>\n      <td>0.566795</td>\n    </tr>\n    <tr>\n      <th>3</th>\n      <td>1.000511</td>\n      <td>0.222134</td>\n      <td>NaN</td>\n      <td>-1.662642</td>\n    </tr>\n    <tr>\n      <th>4</th>\n      <td>-0.084971</td>\n      <td>0.515493</td>\n      <td>NaN</td>\n      <td>-1.099548</td>\n    </tr>\n  </tbody>\n</table>\n</div>",
                        "text/plain": "          a         b         c         d\n0 -0.473766  0.002685 -1.743090  1.542872\n1  1.514530 -0.722351  2.043923 -1.543427\n2  0.226615 -0.334619  0.956847  0.566795\n3  1.000511  0.222134       NaN -1.662642\n4 -0.084971  0.515493       NaN -1.099548"
                    },
                    "metadata": {}
                }
            ],
            "execution_count": 69
        },
        {
            "cell_type": "markdown",
            "source": [
                "### concat function arguments"
            ],
            "metadata": {
                "azdata_cell_guid": "253d6743-24aa-41eb-a12b-f3303d2d2fdf"
            }
        },
        {
            "cell_type": "markdown",
            "source": [
                "## Combining Data with Overlap\n"
            ],
            "metadata": {
                "azdata_cell_guid": "92d962aa-bd31-4f1e-92b4-afbe948e56cf"
            }
        },
        {
            "cell_type": "markdown",
            "source": [
                "You may have two datasets whose indexes overlap in full\r\n",
                "or part."
            ],
            "metadata": {
                "azdata_cell_guid": "0eb88ef4-2573-4f44-9025-e128609e7bb9"
            }
        },
        {
            "cell_type": "code",
            "source": [
                "a = pd.Series([np.nan, 2.5, np.nan, 3.5, 4.5, np.nan],\n",
                "              index=['f', 'e', 'd', 'c', 'b', 'a'])\n",
                "b = pd.Series(np.arange(len(a), dtype=np.float64),\n",
                "              index=['f', 'e', 'd', 'c', 'b', 'a'])\n",
                "b.iloc[-1] = np.nan"
            ],
            "metadata": {
                "azdata_cell_guid": "7cb0e55b-87c0-44f4-8bc0-e0329e7362eb",
                "language": "python"
            },
            "outputs": [],
            "execution_count": 70
        },
        {
            "cell_type": "code",
            "source": [
                "a"
            ],
            "metadata": {
                "azdata_cell_guid": "f9edf28c-495b-407d-8c50-4132ac99bb3a",
                "language": "python"
            },
            "outputs": [
                {
                    "output_type": "execute_result",
                    "execution_count": 71,
                    "data": {
                        "text/plain": "f    NaN\ne    2.5\nd    NaN\nc    3.5\nb    4.5\na    NaN\ndtype: float64"
                    },
                    "metadata": {}
                }
            ],
            "execution_count": 71
        },
        {
            "cell_type": "code",
            "source": [
                "b"
            ],
            "metadata": {
                "azdata_cell_guid": "3aa76b38-953f-4a48-9f4f-423f2f1ee76f",
                "language": "python"
            },
            "outputs": [
                {
                    "output_type": "execute_result",
                    "execution_count": 72,
                    "data": {
                        "text/plain": "f    0.0\ne    1.0\nd    2.0\nc    3.0\nb    4.0\na    NaN\ndtype: float64"
                    },
                    "metadata": {}
                }
            ],
            "execution_count": 72
        },
        {
            "cell_type": "code",
            "source": [
                "np.where(pd.isnull(a), b, a)"
            ],
            "metadata": {
                "azdata_cell_guid": "60d77d44-ccaf-4e33-8ad9-e1e1e74baee3",
                "language": "python"
            },
            "outputs": [
                {
                    "output_type": "execute_result",
                    "execution_count": 73,
                    "data": {
                        "text/plain": "array([0. , 2.5, 2. , 3.5, 4.5, nan])"
                    },
                    "metadata": {}
                }
            ],
            "execution_count": 73
        },
        {
            "cell_type": "markdown",
            "source": [
                "Series has a _combine_first_ method, which performs the equivalent of this operation\n",
                "along with pandas’s usual data alignment logic:\n"
            ],
            "metadata": {
                "azdata_cell_guid": "45c0130b-fd9f-4488-8c77-cc9ac2c3dacd"
            }
        },
        {
            "cell_type": "code",
            "source": [
                "b[:-2].combine_first(a[2:])"
            ],
            "metadata": {
                "azdata_cell_guid": "3cea48d0-be7e-4feb-89ac-8ce7a6209afb",
                "language": "python"
            },
            "outputs": [
                {
                    "output_type": "execute_result",
                    "execution_count": 74,
                    "data": {
                        "text/plain": "a    NaN\nb    4.5\nc    3.0\nd    2.0\ne    1.0\nf    0.0\ndtype: float64"
                    },
                    "metadata": {}
                }
            ],
            "execution_count": 74
        },
        {
            "cell_type": "markdown",
            "source": [
                "With DataFrames, _combine_first_ does the same thing column by column, so you\r\n",
                "can think of it as “patching” missing data in the calling object with data from the\r\n",
                "object you pas:\r"
            ],
            "metadata": {
                "azdata_cell_guid": "693f912f-7709-4992-a886-62b2bca53476"
            }
        },
        {
            "cell_type": "code",
            "source": [
                "df1 = pd.DataFrame({'a': [1., np.nan, 5., np.nan],\n",
                "                    'b': [np.nan, 2., np.nan, 6.],\n",
                "                    'c': range(2, 18, 4)})\n",
                "df2 = pd.DataFrame({'a': [5., 4., np.nan, 3., 7.],\n",
                "                    'b': [np.nan, 3., 4., 6., 8.]})"
            ],
            "metadata": {
                "azdata_cell_guid": "0759301f-e958-4ef0-8aae-1c702403db3b",
                "language": "python"
            },
            "outputs": [],
            "execution_count": 75
        },
        {
            "cell_type": "code",
            "source": [
                "df1"
            ],
            "metadata": {
                "azdata_cell_guid": "c98d41ff-7606-493a-bfe7-9fcb865d86cc",
                "language": "python"
            },
            "outputs": [
                {
                    "output_type": "execute_result",
                    "execution_count": 76,
                    "data": {
                        "text/html": "<div>\n<style scoped>\n    .dataframe tbody tr th:only-of-type {\n        vertical-align: middle;\n    }\n\n    .dataframe tbody tr th {\n        vertical-align: top;\n    }\n\n    .dataframe thead th {\n        text-align: right;\n    }\n</style>\n<table border=\"1\" class=\"dataframe\">\n  <thead>\n    <tr style=\"text-align: right;\">\n      <th></th>\n      <th>a</th>\n      <th>b</th>\n      <th>c</th>\n    </tr>\n  </thead>\n  <tbody>\n    <tr>\n      <th>0</th>\n      <td>1.0</td>\n      <td>NaN</td>\n      <td>2</td>\n    </tr>\n    <tr>\n      <th>1</th>\n      <td>NaN</td>\n      <td>2.0</td>\n      <td>6</td>\n    </tr>\n    <tr>\n      <th>2</th>\n      <td>5.0</td>\n      <td>NaN</td>\n      <td>10</td>\n    </tr>\n    <tr>\n      <th>3</th>\n      <td>NaN</td>\n      <td>6.0</td>\n      <td>14</td>\n    </tr>\n  </tbody>\n</table>\n</div>",
                        "text/plain": "     a    b   c\n0  1.0  NaN   2\n1  NaN  2.0   6\n2  5.0  NaN  10\n3  NaN  6.0  14"
                    },
                    "metadata": {}
                }
            ],
            "execution_count": 76
        },
        {
            "cell_type": "code",
            "source": [
                "df2"
            ],
            "metadata": {
                "azdata_cell_guid": "52cde2c1-3f73-4a95-b55d-93496a73f3f5",
                "language": "python"
            },
            "outputs": [
                {
                    "output_type": "execute_result",
                    "execution_count": 77,
                    "data": {
                        "text/html": "<div>\n<style scoped>\n    .dataframe tbody tr th:only-of-type {\n        vertical-align: middle;\n    }\n\n    .dataframe tbody tr th {\n        vertical-align: top;\n    }\n\n    .dataframe thead th {\n        text-align: right;\n    }\n</style>\n<table border=\"1\" class=\"dataframe\">\n  <thead>\n    <tr style=\"text-align: right;\">\n      <th></th>\n      <th>a</th>\n      <th>b</th>\n    </tr>\n  </thead>\n  <tbody>\n    <tr>\n      <th>0</th>\n      <td>5.0</td>\n      <td>NaN</td>\n    </tr>\n    <tr>\n      <th>1</th>\n      <td>4.0</td>\n      <td>3.0</td>\n    </tr>\n    <tr>\n      <th>2</th>\n      <td>NaN</td>\n      <td>4.0</td>\n    </tr>\n    <tr>\n      <th>3</th>\n      <td>3.0</td>\n      <td>6.0</td>\n    </tr>\n    <tr>\n      <th>4</th>\n      <td>7.0</td>\n      <td>8.0</td>\n    </tr>\n  </tbody>\n</table>\n</div>",
                        "text/plain": "     a    b\n0  5.0  NaN\n1  4.0  3.0\n2  NaN  4.0\n3  3.0  6.0\n4  7.0  8.0"
                    },
                    "metadata": {}
                }
            ],
            "execution_count": 77
        },
        {
            "cell_type": "code",
            "source": [
                "df1.combine_first(df2)"
            ],
            "metadata": {
                "azdata_cell_guid": "9c6f836e-add2-4a18-a1ee-10d2730c0e6e",
                "language": "python"
            },
            "outputs": [
                {
                    "output_type": "execute_result",
                    "execution_count": 78,
                    "data": {
                        "text/html": "<div>\n<style scoped>\n    .dataframe tbody tr th:only-of-type {\n        vertical-align: middle;\n    }\n\n    .dataframe tbody tr th {\n        vertical-align: top;\n    }\n\n    .dataframe thead th {\n        text-align: right;\n    }\n</style>\n<table border=\"1\" class=\"dataframe\">\n  <thead>\n    <tr style=\"text-align: right;\">\n      <th></th>\n      <th>a</th>\n      <th>b</th>\n      <th>c</th>\n    </tr>\n  </thead>\n  <tbody>\n    <tr>\n      <th>0</th>\n      <td>1.0</td>\n      <td>NaN</td>\n      <td>2.0</td>\n    </tr>\n    <tr>\n      <th>1</th>\n      <td>4.0</td>\n      <td>2.0</td>\n      <td>6.0</td>\n    </tr>\n    <tr>\n      <th>2</th>\n      <td>5.0</td>\n      <td>4.0</td>\n      <td>10.0</td>\n    </tr>\n    <tr>\n      <th>3</th>\n      <td>3.0</td>\n      <td>6.0</td>\n      <td>14.0</td>\n    </tr>\n    <tr>\n      <th>4</th>\n      <td>7.0</td>\n      <td>8.0</td>\n      <td>NaN</td>\n    </tr>\n  </tbody>\n</table>\n</div>",
                        "text/plain": "     a    b     c\n0  1.0  NaN   2.0\n1  4.0  2.0   6.0\n2  5.0  4.0  10.0\n3  3.0  6.0  14.0\n4  7.0  8.0   NaN"
                    },
                    "metadata": {}
                }
            ],
            "execution_count": 78
        },
        {
            "cell_type": "markdown",
            "source": [
                "#  Reshaping and Pivoting"
            ],
            "metadata": {
                "azdata_cell_guid": "33fddc57-ee5b-48d3-a9f2-31919666f4b4"
            }
        },
        {
            "cell_type": "markdown",
            "source": [
                "## Reshaping with Hierarchical Indexing\n"
            ],
            "metadata": {
                "azdata_cell_guid": "e24a8722-4e88-4918-a2b3-7a43d3a13a22"
            }
        },
        {
            "cell_type": "markdown",
            "source": [
                "Hierarchical indexing provides a consistent way to rearrange data in a DataFrame.\n",
                "There are two primary actions:\n",
                "- ___stack___\n",
                "This “rotates” or pivots from the columns in the data to the rows\n",
                "- ___unstack___\n",
                "This pivots from the rows into the columns"
            ],
            "metadata": {
                "azdata_cell_guid": "8ea83dff-b569-4d78-abc5-ba5b2e26e7c2"
            }
        },
        {
            "cell_type": "code",
            "source": [
                "data = pd.DataFrame(np.arange(6).reshape((2, 3)),\n",
                "                    index=pd.Index(['Ohio', 'Colorado'], name='state'),\n",
                "                    columns=pd.Index(['one', 'two', 'three'],\n",
                "                                     name='number'))\n",
                "data"
            ],
            "metadata": {
                "azdata_cell_guid": "406e66d3-0044-449e-af3e-c6a9a3a31c1b",
                "language": "python"
            },
            "outputs": [
                {
                    "output_type": "execute_result",
                    "execution_count": 79,
                    "data": {
                        "text/html": "<div>\n<style scoped>\n    .dataframe tbody tr th:only-of-type {\n        vertical-align: middle;\n    }\n\n    .dataframe tbody tr th {\n        vertical-align: top;\n    }\n\n    .dataframe thead th {\n        text-align: right;\n    }\n</style>\n<table border=\"1\" class=\"dataframe\">\n  <thead>\n    <tr style=\"text-align: right;\">\n      <th>number</th>\n      <th>one</th>\n      <th>two</th>\n      <th>three</th>\n    </tr>\n    <tr>\n      <th>state</th>\n      <th></th>\n      <th></th>\n      <th></th>\n    </tr>\n  </thead>\n  <tbody>\n    <tr>\n      <th>Ohio</th>\n      <td>0</td>\n      <td>1</td>\n      <td>2</td>\n    </tr>\n    <tr>\n      <th>Colorado</th>\n      <td>3</td>\n      <td>4</td>\n      <td>5</td>\n    </tr>\n  </tbody>\n</table>\n</div>",
                        "text/plain": "number    one  two  three\nstate                    \nOhio        0    1      2\nColorado    3    4      5"
                    },
                    "metadata": {}
                }
            ],
            "execution_count": 79
        },
        {
            "cell_type": "markdown",
            "source": [
                "Using the stack method on this data pivots the columns into the rows, producing a\n",
                "Series:"
            ],
            "metadata": {
                "azdata_cell_guid": "be85076c-40a3-4160-98db-14e8b1119a02"
            }
        },
        {
            "cell_type": "code",
            "source": [
                "result = data.stack()\n",
                "result"
            ],
            "metadata": {
                "azdata_cell_guid": "6f0bc75f-6bc3-4bcf-b830-116cf731c65a",
                "language": "python"
            },
            "outputs": [
                {
                    "output_type": "execute_result",
                    "execution_count": 80,
                    "data": {
                        "text/plain": "state     number\nOhio      one       0\n          two       1\n          three     2\nColorado  one       3\n          two       4\n          three     5\ndtype: int32"
                    },
                    "metadata": {}
                }
            ],
            "execution_count": 80
        },
        {
            "cell_type": "markdown",
            "source": [
                "From a hierarchically indexed Series, you can rearrange the data back into a Data‐\n",
                "Frame with unstack:\n"
            ],
            "metadata": {
                "azdata_cell_guid": "287991f5-d01d-499f-a86a-2f4b865dca94"
            }
        },
        {
            "cell_type": "code",
            "source": [
                "result.unstack()"
            ],
            "metadata": {
                "azdata_cell_guid": "77690fff-04a6-4117-8718-f73e23d3c2d7",
                "language": "python"
            },
            "outputs": [
                {
                    "output_type": "execute_result",
                    "execution_count": 81,
                    "data": {
                        "text/html": "<div>\n<style scoped>\n    .dataframe tbody tr th:only-of-type {\n        vertical-align: middle;\n    }\n\n    .dataframe tbody tr th {\n        vertical-align: top;\n    }\n\n    .dataframe thead th {\n        text-align: right;\n    }\n</style>\n<table border=\"1\" class=\"dataframe\">\n  <thead>\n    <tr style=\"text-align: right;\">\n      <th>number</th>\n      <th>one</th>\n      <th>two</th>\n      <th>three</th>\n    </tr>\n    <tr>\n      <th>state</th>\n      <th></th>\n      <th></th>\n      <th></th>\n    </tr>\n  </thead>\n  <tbody>\n    <tr>\n      <th>Ohio</th>\n      <td>0</td>\n      <td>1</td>\n      <td>2</td>\n    </tr>\n    <tr>\n      <th>Colorado</th>\n      <td>3</td>\n      <td>4</td>\n      <td>5</td>\n    </tr>\n  </tbody>\n</table>\n</div>",
                        "text/plain": "number    one  two  three\nstate                    \nOhio        0    1      2\nColorado    3    4      5"
                    },
                    "metadata": {}
                }
            ],
            "execution_count": 81
        },
        {
            "cell_type": "markdown",
            "source": [
                "By default the innermost level is unstacked (same with stack). You can unstack a different level by passing a level number or name:"
            ],
            "metadata": {
                "azdata_cell_guid": "96da7793-b7e9-48a8-8efa-ad660fb2b4d6"
            }
        },
        {
            "cell_type": "code",
            "source": [
                "result.unstack(0)"
            ],
            "metadata": {
                "azdata_cell_guid": "9b4cd11a-f99c-4ac9-a7dc-7d1363fc25f7",
                "language": "python"
            },
            "outputs": [
                {
                    "output_type": "execute_result",
                    "execution_count": 82,
                    "data": {
                        "text/html": "<div>\n<style scoped>\n    .dataframe tbody tr th:only-of-type {\n        vertical-align: middle;\n    }\n\n    .dataframe tbody tr th {\n        vertical-align: top;\n    }\n\n    .dataframe thead th {\n        text-align: right;\n    }\n</style>\n<table border=\"1\" class=\"dataframe\">\n  <thead>\n    <tr style=\"text-align: right;\">\n      <th>state</th>\n      <th>Ohio</th>\n      <th>Colorado</th>\n    </tr>\n    <tr>\n      <th>number</th>\n      <th></th>\n      <th></th>\n    </tr>\n  </thead>\n  <tbody>\n    <tr>\n      <th>one</th>\n      <td>0</td>\n      <td>3</td>\n    </tr>\n    <tr>\n      <th>two</th>\n      <td>1</td>\n      <td>4</td>\n    </tr>\n    <tr>\n      <th>three</th>\n      <td>2</td>\n      <td>5</td>\n    </tr>\n  </tbody>\n</table>\n</div>",
                        "text/plain": "state   Ohio  Colorado\nnumber                \none        0         3\ntwo        1         4\nthree      2         5"
                    },
                    "metadata": {}
                }
            ],
            "execution_count": 82
        },
        {
            "cell_type": "code",
            "source": [
                "result.unstack('state')"
            ],
            "metadata": {
                "azdata_cell_guid": "cd9fd539-91d2-40bc-a67b-df9b35af0a62",
                "language": "python"
            },
            "outputs": [
                {
                    "output_type": "execute_result",
                    "execution_count": 83,
                    "data": {
                        "text/html": "<div>\n<style scoped>\n    .dataframe tbody tr th:only-of-type {\n        vertical-align: middle;\n    }\n\n    .dataframe tbody tr th {\n        vertical-align: top;\n    }\n\n    .dataframe thead th {\n        text-align: right;\n    }\n</style>\n<table border=\"1\" class=\"dataframe\">\n  <thead>\n    <tr style=\"text-align: right;\">\n      <th>state</th>\n      <th>Ohio</th>\n      <th>Colorado</th>\n    </tr>\n    <tr>\n      <th>number</th>\n      <th></th>\n      <th></th>\n    </tr>\n  </thead>\n  <tbody>\n    <tr>\n      <th>one</th>\n      <td>0</td>\n      <td>3</td>\n    </tr>\n    <tr>\n      <th>two</th>\n      <td>1</td>\n      <td>4</td>\n    </tr>\n    <tr>\n      <th>three</th>\n      <td>2</td>\n      <td>5</td>\n    </tr>\n  </tbody>\n</table>\n</div>",
                        "text/plain": "state   Ohio  Colorado\nnumber                \none        0         3\ntwo        1         4\nthree      2         5"
                    },
                    "metadata": {}
                }
            ],
            "execution_count": 83
        },
        {
            "cell_type": "markdown",
            "source": [
                "Unstacking might introduce missing data if all of the values in the level aren’t found \n",
                "in each of the subgroups:"
            ],
            "metadata": {
                "azdata_cell_guid": "d9bb2453-4444-4139-be91-c82a6a9f2153"
            }
        },
        {
            "cell_type": "code",
            "source": [
                "s1 = pd.Series([0, 1, 2, 3], index=['a', 'b', 'c', 'd'])\n",
                "s2 = pd.Series([4, 5, 6], index=['c', 'd', 'e'])\n",
                "data2 = pd.concat([s1, s2], keys=['one', 'two'])\n",
                "data2"
            ],
            "metadata": {
                "azdata_cell_guid": "17925e8c-a73d-4431-800d-a80b21da33a1",
                "language": "python"
            },
            "outputs": [
                {
                    "output_type": "execute_result",
                    "execution_count": 84,
                    "data": {
                        "text/plain": "one  a    0\n     b    1\n     c    2\n     d    3\ntwo  c    4\n     d    5\n     e    6\ndtype: int64"
                    },
                    "metadata": {}
                }
            ],
            "execution_count": 84
        },
        {
            "cell_type": "code",
            "source": [
                "data2.unstack()"
            ],
            "metadata": {
                "azdata_cell_guid": "2a052f69-f490-4a21-a882-37c15a53c99d",
                "language": "python"
            },
            "outputs": [
                {
                    "output_type": "execute_result",
                    "execution_count": 85,
                    "data": {
                        "text/html": "<div>\n<style scoped>\n    .dataframe tbody tr th:only-of-type {\n        vertical-align: middle;\n    }\n\n    .dataframe tbody tr th {\n        vertical-align: top;\n    }\n\n    .dataframe thead th {\n        text-align: right;\n    }\n</style>\n<table border=\"1\" class=\"dataframe\">\n  <thead>\n    <tr style=\"text-align: right;\">\n      <th></th>\n      <th>a</th>\n      <th>b</th>\n      <th>c</th>\n      <th>d</th>\n      <th>e</th>\n    </tr>\n  </thead>\n  <tbody>\n    <tr>\n      <th>one</th>\n      <td>0.0</td>\n      <td>1.0</td>\n      <td>2.0</td>\n      <td>3.0</td>\n      <td>NaN</td>\n    </tr>\n    <tr>\n      <th>two</th>\n      <td>NaN</td>\n      <td>NaN</td>\n      <td>4.0</td>\n      <td>5.0</td>\n      <td>6.0</td>\n    </tr>\n  </tbody>\n</table>\n</div>",
                        "text/plain": "       a    b    c    d    e\none  0.0  1.0  2.0  3.0  NaN\ntwo  NaN  NaN  4.0  5.0  6.0"
                    },
                    "metadata": {}
                }
            ],
            "execution_count": 85
        },
        {
            "cell_type": "markdown",
            "source": [
                "Stacking filters out missing data by default, so the operation is more easily invertible:"
            ],
            "metadata": {
                "azdata_cell_guid": "d8dc0769-1e02-48ce-8a05-9e9ed63cb2c5"
            }
        },
        {
            "cell_type": "code",
            "source": [
                " data2.unstack().stack()"
            ],
            "metadata": {
                "azdata_cell_guid": "3aa5d59a-deb5-46dc-80da-cd70322cb853",
                "language": "python"
            },
            "outputs": [
                {
                    "output_type": "execute_result",
                    "execution_count": 86,
                    "data": {
                        "text/plain": "one  a    0.0\n     b    1.0\n     c    2.0\n     d    3.0\ntwo  c    4.0\n     d    5.0\n     e    6.0\ndtype: float64"
                    },
                    "metadata": {}
                }
            ],
            "execution_count": 86
        },
        {
            "cell_type": "code",
            "source": [
                "data2.unstack().stack(future_stack=True)"
            ],
            "metadata": {
                "azdata_cell_guid": "3cdb8c48-4ef1-4589-a473-f70c15028564",
                "language": "python"
            },
            "outputs": [
                {
                    "output_type": "execute_result",
                    "execution_count": 87,
                    "data": {
                        "text/plain": "one  a    0.0\n     b    1.0\n     c    2.0\n     d    3.0\n     e    NaN\ntwo  a    NaN\n     b    NaN\n     c    4.0\n     d    5.0\n     e    6.0\ndtype: float64"
                    },
                    "metadata": {}
                }
            ],
            "execution_count": 87
        },
        {
            "cell_type": "markdown",
            "source": [
                "When you unstack in a DataFrame, the level unstacked becomes the lowest level in\r\n",
                "the result\r"
            ],
            "metadata": {
                "azdata_cell_guid": "98afa87c-3663-4c87-871d-17a699451a58"
            }
        },
        {
            "cell_type": "code",
            "source": [
                "df = pd.DataFrame({'left': result, 'right': result + 5},\n",
                "                  columns=pd.Index(['left', 'right'], name='side'))\n",
                "df"
            ],
            "metadata": {
                "azdata_cell_guid": "d86da959-1143-4b02-91ee-728bc3b8356d",
                "language": "python"
            },
            "outputs": [
                {
                    "output_type": "execute_result",
                    "execution_count": 88,
                    "data": {
                        "text/html": "<div>\n<style scoped>\n    .dataframe tbody tr th:only-of-type {\n        vertical-align: middle;\n    }\n\n    .dataframe tbody tr th {\n        vertical-align: top;\n    }\n\n    .dataframe thead th {\n        text-align: right;\n    }\n</style>\n<table border=\"1\" class=\"dataframe\">\n  <thead>\n    <tr style=\"text-align: right;\">\n      <th></th>\n      <th>side</th>\n      <th>left</th>\n      <th>right</th>\n    </tr>\n    <tr>\n      <th>state</th>\n      <th>number</th>\n      <th></th>\n      <th></th>\n    </tr>\n  </thead>\n  <tbody>\n    <tr>\n      <th rowspan=\"3\" valign=\"top\">Ohio</th>\n      <th>one</th>\n      <td>0</td>\n      <td>5</td>\n    </tr>\n    <tr>\n      <th>two</th>\n      <td>1</td>\n      <td>6</td>\n    </tr>\n    <tr>\n      <th>three</th>\n      <td>2</td>\n      <td>7</td>\n    </tr>\n    <tr>\n      <th rowspan=\"3\" valign=\"top\">Colorado</th>\n      <th>one</th>\n      <td>3</td>\n      <td>8</td>\n    </tr>\n    <tr>\n      <th>two</th>\n      <td>4</td>\n      <td>9</td>\n    </tr>\n    <tr>\n      <th>three</th>\n      <td>5</td>\n      <td>10</td>\n    </tr>\n  </tbody>\n</table>\n</div>",
                        "text/plain": "side             left  right\nstate    number             \nOhio     one        0      5\n         two        1      6\n         three      2      7\nColorado one        3      8\n         two        4      9\n         three      5     10"
                    },
                    "metadata": {}
                }
            ],
            "execution_count": 88
        },
        {
            "cell_type": "code",
            "source": [
                "df.unstack('state')"
            ],
            "metadata": {
                "azdata_cell_guid": "965d87d3-a5b8-43be-90a0-9a5cf887c482",
                "language": "python"
            },
            "outputs": [
                {
                    "output_type": "execute_result",
                    "execution_count": 89,
                    "data": {
                        "text/html": "<div>\n<style scoped>\n    .dataframe tbody tr th:only-of-type {\n        vertical-align: middle;\n    }\n\n    .dataframe tbody tr th {\n        vertical-align: top;\n    }\n\n    .dataframe thead tr th {\n        text-align: left;\n    }\n\n    .dataframe thead tr:last-of-type th {\n        text-align: right;\n    }\n</style>\n<table border=\"1\" class=\"dataframe\">\n  <thead>\n    <tr>\n      <th>side</th>\n      <th colspan=\"2\" halign=\"left\">left</th>\n      <th colspan=\"2\" halign=\"left\">right</th>\n    </tr>\n    <tr>\n      <th>state</th>\n      <th>Ohio</th>\n      <th>Colorado</th>\n      <th>Ohio</th>\n      <th>Colorado</th>\n    </tr>\n    <tr>\n      <th>number</th>\n      <th></th>\n      <th></th>\n      <th></th>\n      <th></th>\n    </tr>\n  </thead>\n  <tbody>\n    <tr>\n      <th>one</th>\n      <td>0</td>\n      <td>3</td>\n      <td>5</td>\n      <td>8</td>\n    </tr>\n    <tr>\n      <th>two</th>\n      <td>1</td>\n      <td>4</td>\n      <td>6</td>\n      <td>9</td>\n    </tr>\n    <tr>\n      <th>three</th>\n      <td>2</td>\n      <td>5</td>\n      <td>7</td>\n      <td>10</td>\n    </tr>\n  </tbody>\n</table>\n</div>",
                        "text/plain": "side   left          right         \nstate  Ohio Colorado  Ohio Colorado\nnumber                             \none       0        3     5        8\ntwo       1        4     6        9\nthree     2        5     7       10"
                    },
                    "metadata": {}
                }
            ],
            "execution_count": 89
        },
        {
            "cell_type": "markdown",
            "source": [
                "When calling stack, we can indicate the name of the axis to stack:\n"
            ],
            "metadata": {
                "azdata_cell_guid": "4950182f-9ace-486e-a747-419ecb61b88b"
            }
        },
        {
            "cell_type": "code",
            "source": [
                "df.unstack('state').stack('side')"
            ],
            "metadata": {
                "azdata_cell_guid": "e978cd53-8581-4ee6-9736-c7590b1e8f55",
                "language": "python"
            },
            "outputs": [
                {
                    "output_type": "stream",
                    "name": "stderr",
                    "text": "C:\\Users\\Eliud\\AppData\\Local\\Temp\\ipykernel_11236\\3997798123.py:1: FutureWarning: The previous implementation of stack is deprecated and will be removed in a future version of pandas. See the What's New notes for pandas 2.1.0 for details. Specify future_stack=True to adopt the new implementation and silence this warning.\n  df.unstack('state').stack('side')\n"
                },
                {
                    "output_type": "execute_result",
                    "execution_count": 90,
                    "data": {
                        "text/html": "<div>\n<style scoped>\n    .dataframe tbody tr th:only-of-type {\n        vertical-align: middle;\n    }\n\n    .dataframe tbody tr th {\n        vertical-align: top;\n    }\n\n    .dataframe thead th {\n        text-align: right;\n    }\n</style>\n<table border=\"1\" class=\"dataframe\">\n  <thead>\n    <tr style=\"text-align: right;\">\n      <th></th>\n      <th>state</th>\n      <th>Ohio</th>\n      <th>Colorado</th>\n    </tr>\n    <tr>\n      <th>number</th>\n      <th>side</th>\n      <th></th>\n      <th></th>\n    </tr>\n  </thead>\n  <tbody>\n    <tr>\n      <th rowspan=\"2\" valign=\"top\">one</th>\n      <th>left</th>\n      <td>0</td>\n      <td>3</td>\n    </tr>\n    <tr>\n      <th>right</th>\n      <td>5</td>\n      <td>8</td>\n    </tr>\n    <tr>\n      <th rowspan=\"2\" valign=\"top\">two</th>\n      <th>left</th>\n      <td>1</td>\n      <td>4</td>\n    </tr>\n    <tr>\n      <th>right</th>\n      <td>6</td>\n      <td>9</td>\n    </tr>\n    <tr>\n      <th rowspan=\"2\" valign=\"top\">three</th>\n      <th>left</th>\n      <td>2</td>\n      <td>5</td>\n    </tr>\n    <tr>\n      <th>right</th>\n      <td>7</td>\n      <td>10</td>\n    </tr>\n  </tbody>\n</table>\n</div>",
                        "text/plain": "state         Ohio  Colorado\nnumber side                 \none    left      0         3\n       right     5         8\ntwo    left      1         4\n       right     6         9\nthree  left      2         5\n       right     7        10"
                    },
                    "metadata": {}
                }
            ],
            "execution_count": 90
        },
        {
            "cell_type": "markdown",
            "source": [
                "# <span style=\"color: var(--vscode-foreground);\"><b>Aggregation</b>&nbsp;</span>"
            ],
            "metadata": {
                "azdata_cell_guid": "4997f198-b9bb-4278-9167-36e3e6fa1f92"
            },
            "attachments": {}
        },
        {
            "cell_type": "code",
            "source": [
                "import pandas as pd\r\n",
                "\r\n",
                "data = {\r\n",
                "    'Category': ['A', 'A', 'B', 'B', 'C', 'C'],\r\n",
                "    'Values': [10, 20, 30, 40, 50, 60]\r\n",
                "}\r\n",
                "\r\n",
                "df = pd.DataFrame(data)\r\n",
                "df"
            ],
            "metadata": {
                "azdata_cell_guid": "efd574c1-f9fb-4a6e-95a8-c43fe948d935",
                "language": "python"
            },
            "outputs": [
                {
                    "data": {
                        "text/plain": "  Category  Values\n0        A      10\n1        A      20\n2        B      30\n3        B      40\n4        C      50\n5        C      60",
                        "text/html": "<div>\n<style scoped>\n    .dataframe tbody tr th:only-of-type {\n        vertical-align: middle;\n    }\n\n    .dataframe tbody tr th {\n        vertical-align: top;\n    }\n\n    .dataframe thead th {\n        text-align: right;\n    }\n</style>\n<table border=\"1\" class=\"dataframe\">\n  <thead>\n    <tr style=\"text-align: right;\">\n      <th></th>\n      <th>Category</th>\n      <th>Values</th>\n    </tr>\n  </thead>\n  <tbody>\n    <tr>\n      <th>0</th>\n      <td>A</td>\n      <td>10</td>\n    </tr>\n    <tr>\n      <th>1</th>\n      <td>A</td>\n      <td>20</td>\n    </tr>\n    <tr>\n      <th>2</th>\n      <td>B</td>\n      <td>30</td>\n    </tr>\n    <tr>\n      <th>3</th>\n      <td>B</td>\n      <td>40</td>\n    </tr>\n    <tr>\n      <th>4</th>\n      <td>C</td>\n      <td>50</td>\n    </tr>\n    <tr>\n      <th>5</th>\n      <td>C</td>\n      <td>60</td>\n    </tr>\n  </tbody>\n</table>\n</div>"
                    },
                    "metadata": {},
                    "execution_count": 1,
                    "output_type": "execute_result"
                }
            ],
            "execution_count": 1
        },
        {
            "cell_type": "markdown",
            "source": [
                "## <span style=\"color: var(--vscode-foreground);\">Basic Aggregation</span>"
            ],
            "metadata": {
                "azdata_cell_guid": "7f94378f-d823-402f-9bbb-440704c721f3"
            },
            "attachments": {}
        },
        {
            "cell_type": "code",
            "source": [
                "print(\"Sum:\\n\", df['Values'].sum())\r\n",
                "print(\"Mean:\\n\", df['Values'].mean())\r\n",
                "print(\"Median:\\n\", df['Values'].median())\r\n",
                "print(\"Standard Deviation:\\n\", df['Values'].std())\r\n",
                "print(\"Variance:\\n\", df['Values'].var())\r\n",
                "print(\"Minimum:\\n\", df['Values'].min())\r\n",
                "print(\"Maximum:\\n\", df['Values'].max())"
            ],
            "metadata": {
                "azdata_cell_guid": "ff79cff4-8ca5-419a-96ee-0efdf81e4288",
                "language": "python"
            },
            "outputs": [
                {
                    "name": "stdout",
                    "text": "Sum:\n 210\nMean:\n 35.0\nMedian:\n 35.0\nStandard Deviation:\n 18.708286933869708\nVariance:\n 350.0\nMinimum:\n 10\nMaximum:\n 60\n",
                    "output_type": "stream"
                }
            ],
            "execution_count": 2
        },
        {
            "cell_type": "markdown",
            "source": [
                "## <span style=\"color: var(--vscode-foreground);\">GroupBy Operations</span>\n",
                "\n",
                "<span style=\"color: var(--vscode-foreground);\">Grouping data and then performing aggregation on the groups is a powerful technique for summarizing data.</span>"
            ],
            "metadata": {
                "azdata_cell_guid": "c928859d-7e17-4e2c-b197-ecfa6b3ea843"
            },
            "attachments": {}
        },
        {
            "cell_type": "code",
            "source": [
                "grouped = df.groupby('Category')\r\n",
                "\r\n",
                "print(\"Group Sum:\\n\", grouped.sum())\r\n",
                "print(\"Group Mean:\\n\", grouped.mean())\r\n",
                "print(\"Group Count:\\n\", grouped.count())"
            ],
            "metadata": {
                "azdata_cell_guid": "6eda937e-a594-469a-a0cc-7d6ed2fcb361",
                "language": "python"
            },
            "outputs": [
                {
                    "name": "stdout",
                    "text": "Group Sum:\n           Values\nCategory        \nA             30\nB             70\nC            110\nGroup Mean:\n           Values\nCategory        \nA           15.0\nB           35.0\nC           55.0\nGroup Count:\n           Values\nCategory        \nA              2\nB              2\nC              2\n",
                    "output_type": "stream"
                }
            ],
            "execution_count": 3
        },
        {
            "cell_type": "markdown",
            "source": [
                "## <span style=\"color: var(--vscode-foreground);\">Multiple Aggregations</span>\n",
                "\n",
                "<span style=\"color: var(--vscode-foreground);\">You can apply multiple aggregation functions at once using the <code>agg</code> method.</span>"
            ],
            "metadata": {
                "azdata_cell_guid": "39392606-3e1c-4431-a6ae-2b0e14221d73"
            },
            "attachments": {}
        },
        {
            "cell_type": "code",
            "source": [
                "print(\"Multiple Aggregations:\\n\", grouped['Values'].agg(['sum', 'mean', 'count']))"
            ],
            "metadata": {
                "azdata_cell_guid": "5c67521c-71d0-49c0-9cd8-3279dd482707",
                "language": "python"
            },
            "outputs": [
                {
                    "name": "stdout",
                    "text": "Multiple Aggregations:\n           sum  mean  count\nCategory                  \nA          30  15.0      2\nB          70  35.0      2\nC         110  55.0      2\n",
                    "output_type": "stream"
                }
            ],
            "execution_count": 4
        },
        {
            "cell_type": "markdown",
            "source": [
                "## Pivot Tables\n",
                "\n",
                "<span style=\"color: var(--vscode-foreground);\">Pivot tables are used to reshape and summarize data, allowing multi-dimensional aggregation</span>"
            ],
            "metadata": {
                "azdata_cell_guid": "13bc4446-11f7-4ba7-a1df-fb26b01166df"
            },
            "attachments": {}
        },
        {
            "cell_type": "code",
            "source": [
                "pivot = df.pivot_table(values='Values', index='Category', aggfunc=np.mean)\r\n",
                "print(\"Pivot Table:\\n\", pivot)"
            ],
            "metadata": {
                "azdata_cell_guid": "afed745c-5d0d-483a-b79e-c4478430f625",
                "language": "python"
            },
            "outputs": [
                {
                    "name": "stdout",
                    "text": "Pivot Table:\n           Values\nCategory        \nA           15.0\nB           35.0\nC           55.0\n",
                    "output_type": "stream"
                },
                {
                    "name": "stderr",
                    "text": "<ipython-input-7-309970ace23b>:1: FutureWarning: The provided callable <function mean at 0x000001FE1EEFC540> is currently using DataFrameGroupBy.mean. In a future version of pandas, the provided callable will be used directly. To keep current behavior pass 'mean' instead.\n  pivot = df.pivot_table(values='Values', index='Category', aggfunc=np.mean)\n",
                    "output_type": "stream"
                }
            ],
            "execution_count": 7
        },
        {
            "cell_type": "markdown",
            "source": [
                "## <span style=\"color: var(--vscode-foreground);\">Custom Aggregation Functions</span>\n",
                "\n",
                "<span style=\"color: var(--vscode-foreground);\">You can create custom aggregation functions and apply them to your data.</span>"
            ],
            "metadata": {
                "azdata_cell_guid": "c4ae4d40-eb25-4d95-81fe-42b305af0945"
            },
            "attachments": {}
        },
        {
            "cell_type": "code",
            "source": [
                "def range_func(x):\r\n",
                "    return x.max() - x.min()\r\n",
                "\r\n",
                "print(\"Custom Aggregation (Range):\\n\", grouped['Values'].agg(range_func))"
            ],
            "metadata": {
                "azdata_cell_guid": "dac5e705-3e8a-46bf-8042-c379e6214c10",
                "language": "python"
            },
            "outputs": [
                {
                    "name": "stdout",
                    "text": "Custom Aggregation (Range):\n Category\nA    10\nB    10\nC    10\nName: Values, dtype: int64\n",
                    "output_type": "stream"
                }
            ],
            "execution_count": 8
        },
        {
            "cell_type": "markdown",
            "source": [
                "## <span style=\"color: var(--vscode-foreground);\">Time Series Aggregation</span>"
            ],
            "metadata": {
                "azdata_cell_guid": "a9b87d77-1198-42e1-beea-b7c97fa08c2d"
            },
            "attachments": {}
        },
        {
            "cell_type": "code",
            "source": [
                "date_rng = pd.date_range(start='2023-01-01', end='2023-01-10', freq='D')\r\n",
                "df_time = pd.DataFrame(date_rng, columns=['Date'])\r\n",
                "df_time['Data'] = np.random.randint(0, 100, size=(len(date_rng)))\r\n",
                "\r\n",
                "print(\"Time Series Data:\\n\", df_time)"
            ],
            "metadata": {
                "azdata_cell_guid": "5a020fdf-cbd2-4f5b-ae32-a975b60ffea2",
                "language": "python"
            },
            "outputs": [
                {
                    "name": "stdout",
                    "text": "Time Series Data:\n         Date  Data\n0 2023-01-01    84\n1 2023-01-02    42\n2 2023-01-03    15\n3 2023-01-04    14\n4 2023-01-05    85\n5 2023-01-06    17\n6 2023-01-07    63\n7 2023-01-08    55\n8 2023-01-09    12\n9 2023-01-10    26\n",
                    "output_type": "stream"
                }
            ],
            "execution_count": 9
        },
        {
            "cell_type": "code",
            "source": [
                "# Set the date column as index\r\n",
                "df_time.set_index('Date', inplace=True)\r\n",
                "\r\n",
                "# Resample and aggregate\r\n",
                "print(\"Resampled Data (Sum by Week):\\n\", df_time.resample('W').sum())"
            ],
            "metadata": {
                "azdata_cell_guid": "f1b8bf31-cea5-4a16-a084-0d4f96d4723c",
                "language": "python"
            },
            "outputs": [
                {
                    "name": "stdout",
                    "text": "Resampled Data (Sum by Week):\n             Data\nDate            \n2023-01-01    84\n2023-01-08   291\n2023-01-15    38\n",
                    "output_type": "stream"
                }
            ],
            "execution_count": 10
        },
        {
            "cell_type": "markdown",
            "source": [
                "## <span style=\"color: var(--vscode-foreground);\">Sales Data Aggregation Project<br></span>"
            ],
            "metadata": {
                "azdata_cell_guid": "3205b67b-1be8-4b1c-9718-b7f51df3b623"
            },
            "attachments": {}
        },
        {
            "cell_type": "code",
            "source": [
                "sales_data = {\r\n",
                "    'Date': pd.date_range(start='2023-01-01', periods=12, freq='M'),\r\n",
                "    'Product': ['A', 'B', 'C', 'A', 'B', 'C', 'A', 'B', 'C', 'A', 'B', 'C'],\r\n",
                "    'Sales': [100, 150, 200, 130, 170, 210, 90, 140, 180, 160, 190, 220]\r\n",
                "}\r\n",
                "\r\n",
                "df_sales = pd.DataFrame(sales_data)\r\n",
                "print(\"Sales Data:\\n\", df_sales)\r\n",
                "df_sales.info()"
            ],
            "metadata": {
                "azdata_cell_guid": "a55434dc-827c-4d62-a5b1-f26f9ac2e211",
                "language": "python"
            },
            "outputs": [
                {
                    "name": "stdout",
                    "text": "Sales Data:\n          Date Product  Sales\n0  2023-01-31       A    100\n1  2023-02-28       B    150\n2  2023-03-31       C    200\n3  2023-04-30       A    130\n4  2023-05-31       B    170\n5  2023-06-30       C    210\n6  2023-07-31       A     90\n7  2023-08-31       B    140\n8  2023-09-30       C    180\n9  2023-10-31       A    160\n10 2023-11-30       B    190\n11 2023-12-31       C    220\n<class 'pandas.core.frame.DataFrame'>\nRangeIndex: 12 entries, 0 to 11\nData columns (total 3 columns):\n #   Column   Non-Null Count  Dtype         \n---  ------   --------------  -----         \n 0   Date     12 non-null     datetime64[ns]\n 1   Product  12 non-null     object        \n 2   Sales    12 non-null     int64         \ndtypes: datetime64[ns](1), int64(1), object(1)\nmemory usage: 420.0+ bytes\n",
                    "output_type": "stream"
                }
            ],
            "execution_count": 14
        },
        {
            "cell_type": "code",
            "source": [
                "# Time Series Aggregation\r\n",
                "df_sales.set_index('Date', inplace=True)\r\n",
                "print(\"Resampled Sales Data (Quarterly):\\n\", df_sales.resample('Q').sum())"
            ],
            "metadata": {
                "azdata_cell_guid": "2afe9194-cf5e-4c78-b876-29497f9f3832",
                "language": "python"
            },
            "outputs": [
                {
                    "name": "stdout",
                    "text": "Resampled Sales Data (Quarterly):\n            Product  Sales\nDate                     \n2023-03-31     ABC    450\n2023-06-30     ABC    510\n2023-09-30     ABC    410\n2023-12-31     ABC    570\n",
                    "output_type": "stream"
                }
            ],
            "execution_count": 15
        },
        {
            "cell_type": "code",
            "source": [
                "# Group by Product and aggregate\r\n",
                "grouped_sales = df_sales.groupby('Product').agg({'Sales': ['sum', 'mean', 'count']})\r\n",
                "print(\"Grouped Sales Data:\\n\", grouped_sales)"
            ],
            "metadata": {
                "azdata_cell_guid": "28c1722f-ef23-40b9-a7b9-35a1562ba19e",
                "language": "python"
            },
            "outputs": [
                {
                    "name": "stdout",
                    "text": "Grouped Sales Data:\n         Sales             \n          sum   mean count\nProduct                   \nA         480  120.0     4\nB         650  162.5     4\nC         810  202.5     4\n",
                    "output_type": "stream"
                }
            ],
            "execution_count": 16
        },
        {
            "cell_type": "code",
            "source": [
                "# Pivot Table for Monthly Sales\r\n",
                "pivot_sales = df_sales.pivot_table(values='Sales', index='Date', columns='Product', aggfunc=np.sum)\r\n",
                "print(\"Pivot Table (Monthly Sales):\\n\", pivot_sales)"
            ],
            "metadata": {
                "azdata_cell_guid": "94ef6b6e-42f3-46ed-985b-239f3a4e7a9c",
                "language": "python"
            },
            "outputs": [
                {
                    "name": "stdout",
                    "text": "Pivot Table (Monthly Sales):\n Product         A      B      C\nDate                           \n2023-01-31  100.0    NaN    NaN\n2023-02-28    NaN  150.0    NaN\n2023-03-31    NaN    NaN  200.0\n2023-04-30  130.0    NaN    NaN\n2023-05-31    NaN  170.0    NaN\n2023-06-30    NaN    NaN  210.0\n2023-07-31   90.0    NaN    NaN\n2023-08-31    NaN  140.0    NaN\n2023-09-30    NaN    NaN  180.0\n2023-10-31  160.0    NaN    NaN\n2023-11-30    NaN  190.0    NaN\n2023-12-31    NaN    NaN  220.0\n",
                    "output_type": "stream"
                },
                {
                    "name": "stderr",
                    "text": "<ipython-input-17-cbd75043c612>:2: FutureWarning: The provided callable <function sum at 0x000001FE1EEEAE80> is currently using DataFrameGroupBy.sum. In a future version of pandas, the provided callable will be used directly. To keep current behavior pass 'sum' instead.\n  pivot_sales = df_sales.pivot_table(values='Sales', index='Date', columns='Product', aggfunc=np.sum)\n",
                    "output_type": "stream"
                }
            ],
            "execution_count": 17
        }
    ]
}