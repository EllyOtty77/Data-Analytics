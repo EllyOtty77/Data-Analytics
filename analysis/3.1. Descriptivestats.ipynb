{
 "cells": [
  {
   "cell_type": "markdown",
   "id": "4ca807c6-48d8-4e23-9069-e3356b099f9f",
   "metadata": {},
   "source": [
    "# Basic stats"
   ]
  },
  {
   "cell_type": "code",
   "execution_count": 1,
   "id": "226a0e31-6a3b-4517-800f-18108959bdf2",
   "metadata": {},
   "outputs": [],
   "source": [
    "import pandas as pd\n",
    "import numpy as np"
   ]
  },
  {
   "cell_type": "code",
   "execution_count": 2,
   "id": "6f09090a-c51a-47e8-815c-830535c6b5e8",
   "metadata": {},
   "outputs": [
    {
     "data": {
      "text/html": [
       "<div>\n",
       "<style scoped>\n",
       "    .dataframe tbody tr th:only-of-type {\n",
       "        vertical-align: middle;\n",
       "    }\n",
       "\n",
       "    .dataframe tbody tr th {\n",
       "        vertical-align: top;\n",
       "    }\n",
       "\n",
       "    .dataframe thead th {\n",
       "        text-align: right;\n",
       "    }\n",
       "</style>\n",
       "<table border=\"1\" class=\"dataframe\">\n",
       "  <thead>\n",
       "    <tr style=\"text-align: right;\">\n",
       "      <th></th>\n",
       "      <th>one</th>\n",
       "      <th>two</th>\n",
       "    </tr>\n",
       "  </thead>\n",
       "  <tbody>\n",
       "    <tr>\n",
       "      <th>a</th>\n",
       "      <td>1.40</td>\n",
       "      <td>NaN</td>\n",
       "    </tr>\n",
       "    <tr>\n",
       "      <th>b</th>\n",
       "      <td>7.10</td>\n",
       "      <td>-4.5</td>\n",
       "    </tr>\n",
       "    <tr>\n",
       "      <th>c</th>\n",
       "      <td>NaN</td>\n",
       "      <td>NaN</td>\n",
       "    </tr>\n",
       "    <tr>\n",
       "      <th>d</th>\n",
       "      <td>0.75</td>\n",
       "      <td>-1.3</td>\n",
       "    </tr>\n",
       "  </tbody>\n",
       "</table>\n",
       "</div>"
      ],
      "text/plain": [
       "    one  two\n",
       "a  1.40  NaN\n",
       "b  7.10 -4.5\n",
       "c   NaN  NaN\n",
       "d  0.75 -1.3"
      ]
     },
     "execution_count": 2,
     "metadata": {},
     "output_type": "execute_result"
    }
   ],
   "source": [
    "df = pd.DataFrame([[1.4, np.nan], [7.1, -4.5],\n",
    "                   [np.nan, np.nan], [0.75, -1.3]],\n",
    "                  index=['a', 'b', 'c', 'd'],\n",
    "                  columns=['one', 'two'])\n",
    "df"
   ]
  },
  {
   "cell_type": "markdown",
   "id": "6e060a52-d9c7-419c-b9db-e328d03b0996",
   "metadata": {
    "jp-MarkdownHeadingCollapsed": true
   },
   "source": [
    "## Sum"
   ]
  },
  {
   "cell_type": "markdown",
   "id": "10ffb0ad-b006-456c-9851-45058d354551",
   "metadata": {},
   "source": [
    "Calling DataFrame’s sum method returns a Series containing column sums:\n"
   ]
  },
  {
   "cell_type": "code",
   "execution_count": 3,
   "id": "d34e130d-a867-4980-94fe-e2c73c46bbf4",
   "metadata": {},
   "outputs": [
    {
     "data": {
      "text/plain": [
       "one    9.25\n",
       "two   -5.80\n",
       "dtype: float64"
      ]
     },
     "execution_count": 3,
     "metadata": {},
     "output_type": "execute_result"
    }
   ],
   "source": [
    "df.sum()"
   ]
  },
  {
   "cell_type": "markdown",
   "id": "c8d1bcfd-5191-4036-bb5e-6921df6e6546",
   "metadata": {},
   "source": [
    "Passing axis='columns' or axis=1 sums across the columns instead:"
   ]
  },
  {
   "cell_type": "code",
   "execution_count": 4,
   "id": "14a670d3-186f-4aed-8464-a7b4ebf99e63",
   "metadata": {},
   "outputs": [
    {
     "data": {
      "text/plain": [
       "a    1.40\n",
       "b    2.60\n",
       "c    0.00\n",
       "d   -0.55\n",
       "dtype: float64"
      ]
     },
     "execution_count": 4,
     "metadata": {},
     "output_type": "execute_result"
    }
   ],
   "source": [
    "df.sum(axis='columns')"
   ]
  },
  {
   "cell_type": "markdown",
   "id": "5738bb97-1fbb-40bf-be27-7c727ba77cfd",
   "metadata": {
    "jp-MarkdownHeadingCollapsed": true
   },
   "source": [
    "## Mean "
   ]
  },
  {
   "cell_type": "markdown",
   "id": "ed92f12c-6de8-4d02-bb07-67fc00b8a480",
   "metadata": {},
   "source": [
    "The mean is the average of a set of values. The operation is simple to do: sum\n",
    "the values and divide by the number of values. The mean is useful because it\n",
    "shows where the “center of gravity” exists for an observed set of values."
   ]
  },
  {
   "cell_type": "code",
   "execution_count": 5,
   "id": "9dd18763-86fb-4685-b89e-d00e7995e4b7",
   "metadata": {},
   "outputs": [],
   "source": [
    "sample = [1, 3, 2, 5, 7, 0, 2, 3, 2]\n",
    "sm = pd.Series(sample)"
   ]
  },
  {
   "cell_type": "code",
   "execution_count": 6,
   "id": "3c8b8621-2013-4500-81d0-38286c8f6fb4",
   "metadata": {},
   "outputs": [
    {
     "data": {
      "text/plain": [
       "2.7777777777777777"
      ]
     },
     "execution_count": 6,
     "metadata": {},
     "output_type": "execute_result"
    }
   ],
   "source": [
    "sm.mean()"
   ]
  },
  {
   "cell_type": "markdown",
   "id": "529617d8-2fd2-4dfb-b702-4aa817af4f55",
   "metadata": {},
   "source": [
    "NA values are excluded unless the entire slice (row or column in this case) is NA.\r\n",
    "This can be disabled with the skipna option:\r"
   ]
  },
  {
   "cell_type": "code",
   "execution_count": 7,
   "id": "5122010f-a971-4ddb-ac79-58b11d4d2ad8",
   "metadata": {},
   "outputs": [
    {
     "data": {
      "text/plain": [
       "a      NaN\n",
       "b    1.300\n",
       "c      NaN\n",
       "d   -0.275\n",
       "dtype: float64"
      ]
     },
     "execution_count": 7,
     "metadata": {},
     "output_type": "execute_result"
    }
   ],
   "source": [
    "df.mean(axis='columns', skipna=False)"
   ]
  },
  {
   "cell_type": "markdown",
   "id": "1401f50e-0f69-45e9-a359-9f0e205eb5d3",
   "metadata": {
    "jp-MarkdownHeadingCollapsed": true
   },
   "source": [
    "## Median "
   ]
  },
  {
   "cell_type": "markdown",
   "id": "ac8f79ac-4f12-4471-953c-396d68084d1b",
   "metadata": {},
   "source": [
    "The median is the middle-most value in a set of ordered values. \n",
    "You sequentially order the values, and the median will be the center-most value.\n",
    "The median can be a helpful alternative to the mean when data is skewed by\r\n",
    "outliers, or values that are extremely large and small compared to the rest of the\r\n",
    "value H"
   ]
  },
  {
   "cell_type": "code",
   "execution_count": 8,
   "id": "fd21aa66-a9f0-4e35-92f4-637e6d79263a",
   "metadata": {},
   "outputs": [
    {
     "data": {
      "text/plain": [
       "2.0"
      ]
     },
     "execution_count": 8,
     "metadata": {},
     "output_type": "execute_result"
    }
   ],
   "source": [
    "sm.median()"
   ]
  },
  {
   "cell_type": "markdown",
   "id": "16e0729b-11c3-49cc-b63a-2f0b2e274146",
   "metadata": {},
   "source": [
    "## Mode"
   ]
  },
  {
   "cell_type": "markdown",
   "id": "615487f4-3c30-473f-84c2-b4035d3d98ee",
   "metadata": {},
   "source": [
    "The mode is the most frequently occurring set of values. It primarily becomes\n",
    "useful when your data is repetitive and you want to find which values occur the\n",
    "most frequently.\n",
    "When no value occurs more than once, there is no mode. When two values occur\n",
    "with an equal amount of frequency, then the dataset is considered bimodal."
   ]
  },
  {
   "cell_type": "code",
   "execution_count": 9,
   "id": "eb37a859-d32d-48b3-9098-c1e3dbffa3c1",
   "metadata": {},
   "outputs": [
    {
     "data": {
      "text/plain": [
       "0    2\n",
       "dtype: int64"
      ]
     },
     "execution_count": 9,
     "metadata": {},
     "output_type": "execute_result"
    }
   ],
   "source": [
    "sm.mode()"
   ]
  },
  {
   "cell_type": "markdown",
   "id": "74283219-64e3-49d4-b113-4ac31c1c6b4a",
   "metadata": {},
   "source": [
    "## Variance "
   ]
  },
  {
   "cell_type": "markdown",
   "id": "31fe7f8c-97a0-4350-8891-5690f9c364a1",
   "metadata": {},
   "source": [
    "In describing data, we are often interested in measuring the differences between\n",
    "the mean and every data point. This gives us a sense of how “spread out” the\n",
    "data is"
   ]
  },
  {
   "cell_type": "markdown",
   "id": "b3e9ab3e-e439-4835-86f8-797a5ecb7678",
   "metadata": {},
   "source": [
    "We square these differences before summing them then average the squared differences. This will give us the variance, a measure of\n",
    "how spread out our data is."
   ]
  },
  {
   "cell_type": "code",
   "execution_count": 10,
   "id": "43931fb8-2180-46e0-800e-556be9897956",
   "metadata": {},
   "outputs": [
    {
     "ename": "KeyError",
     "evalue": "'Age'",
     "output_type": "error",
     "traceback": [
      "\u001b[1;31m---------------------------------------------------------------------------\u001b[0m",
      "\u001b[1;31mKeyError\u001b[0m                                  Traceback (most recent call last)",
      "File \u001b[1;32m~\\Documents\\GitHub\\mydata_analytics\\venv\\Lib\\site-packages\\pandas\\core\\indexes\\base.py:3805\u001b[0m, in \u001b[0;36mIndex.get_loc\u001b[1;34m(self, key)\u001b[0m\n\u001b[0;32m   3804\u001b[0m \u001b[38;5;28;01mtry\u001b[39;00m:\n\u001b[1;32m-> 3805\u001b[0m     \u001b[38;5;28;01mreturn\u001b[39;00m \u001b[38;5;28;43mself\u001b[39;49m\u001b[38;5;241;43m.\u001b[39;49m\u001b[43m_engine\u001b[49m\u001b[38;5;241;43m.\u001b[39;49m\u001b[43mget_loc\u001b[49m\u001b[43m(\u001b[49m\u001b[43mcasted_key\u001b[49m\u001b[43m)\u001b[49m\n\u001b[0;32m   3806\u001b[0m \u001b[38;5;28;01mexcept\u001b[39;00m \u001b[38;5;167;01mKeyError\u001b[39;00m \u001b[38;5;28;01mas\u001b[39;00m err:\n",
      "File \u001b[1;32mindex.pyx:167\u001b[0m, in \u001b[0;36mpandas._libs.index.IndexEngine.get_loc\u001b[1;34m()\u001b[0m\n",
      "File \u001b[1;32mindex.pyx:196\u001b[0m, in \u001b[0;36mpandas._libs.index.IndexEngine.get_loc\u001b[1;34m()\u001b[0m\n",
      "File \u001b[1;32mpandas\\\\_libs\\\\hashtable_class_helper.pxi:7081\u001b[0m, in \u001b[0;36mpandas._libs.hashtable.PyObjectHashTable.get_item\u001b[1;34m()\u001b[0m\n",
      "File \u001b[1;32mpandas\\\\_libs\\\\hashtable_class_helper.pxi:7089\u001b[0m, in \u001b[0;36mpandas._libs.hashtable.PyObjectHashTable.get_item\u001b[1;34m()\u001b[0m\n",
      "\u001b[1;31mKeyError\u001b[0m: 'Age'",
      "\nThe above exception was the direct cause of the following exception:\n",
      "\u001b[1;31mKeyError\u001b[0m                                  Traceback (most recent call last)",
      "Cell \u001b[1;32mIn[10], line 2\u001b[0m\n\u001b[0;32m      1\u001b[0m \u001b[38;5;66;03m# Sample variance of values\u001b[39;00m\n\u001b[1;32m----> 2\u001b[0m \u001b[43mdf\u001b[49m\u001b[43m[\u001b[49m\u001b[38;5;124;43m'\u001b[39;49m\u001b[38;5;124;43mAge\u001b[39;49m\u001b[38;5;124;43m'\u001b[39;49m\u001b[43m]\u001b[49m\u001b[38;5;241m.\u001b[39mvar()\n",
      "File \u001b[1;32m~\\Documents\\GitHub\\mydata_analytics\\venv\\Lib\\site-packages\\pandas\\core\\frame.py:4102\u001b[0m, in \u001b[0;36mDataFrame.__getitem__\u001b[1;34m(self, key)\u001b[0m\n\u001b[0;32m   4100\u001b[0m \u001b[38;5;28;01mif\u001b[39;00m \u001b[38;5;28mself\u001b[39m\u001b[38;5;241m.\u001b[39mcolumns\u001b[38;5;241m.\u001b[39mnlevels \u001b[38;5;241m>\u001b[39m \u001b[38;5;241m1\u001b[39m:\n\u001b[0;32m   4101\u001b[0m     \u001b[38;5;28;01mreturn\u001b[39;00m \u001b[38;5;28mself\u001b[39m\u001b[38;5;241m.\u001b[39m_getitem_multilevel(key)\n\u001b[1;32m-> 4102\u001b[0m indexer \u001b[38;5;241m=\u001b[39m \u001b[38;5;28;43mself\u001b[39;49m\u001b[38;5;241;43m.\u001b[39;49m\u001b[43mcolumns\u001b[49m\u001b[38;5;241;43m.\u001b[39;49m\u001b[43mget_loc\u001b[49m\u001b[43m(\u001b[49m\u001b[43mkey\u001b[49m\u001b[43m)\u001b[49m\n\u001b[0;32m   4103\u001b[0m \u001b[38;5;28;01mif\u001b[39;00m is_integer(indexer):\n\u001b[0;32m   4104\u001b[0m     indexer \u001b[38;5;241m=\u001b[39m [indexer]\n",
      "File \u001b[1;32m~\\Documents\\GitHub\\mydata_analytics\\venv\\Lib\\site-packages\\pandas\\core\\indexes\\base.py:3812\u001b[0m, in \u001b[0;36mIndex.get_loc\u001b[1;34m(self, key)\u001b[0m\n\u001b[0;32m   3807\u001b[0m     \u001b[38;5;28;01mif\u001b[39;00m \u001b[38;5;28misinstance\u001b[39m(casted_key, \u001b[38;5;28mslice\u001b[39m) \u001b[38;5;129;01mor\u001b[39;00m (\n\u001b[0;32m   3808\u001b[0m         \u001b[38;5;28misinstance\u001b[39m(casted_key, abc\u001b[38;5;241m.\u001b[39mIterable)\n\u001b[0;32m   3809\u001b[0m         \u001b[38;5;129;01mand\u001b[39;00m \u001b[38;5;28many\u001b[39m(\u001b[38;5;28misinstance\u001b[39m(x, \u001b[38;5;28mslice\u001b[39m) \u001b[38;5;28;01mfor\u001b[39;00m x \u001b[38;5;129;01min\u001b[39;00m casted_key)\n\u001b[0;32m   3810\u001b[0m     ):\n\u001b[0;32m   3811\u001b[0m         \u001b[38;5;28;01mraise\u001b[39;00m InvalidIndexError(key)\n\u001b[1;32m-> 3812\u001b[0m     \u001b[38;5;28;01mraise\u001b[39;00m \u001b[38;5;167;01mKeyError\u001b[39;00m(key) \u001b[38;5;28;01mfrom\u001b[39;00m \u001b[38;5;21;01merr\u001b[39;00m\n\u001b[0;32m   3813\u001b[0m \u001b[38;5;28;01mexcept\u001b[39;00m \u001b[38;5;167;01mTypeError\u001b[39;00m:\n\u001b[0;32m   3814\u001b[0m     \u001b[38;5;66;03m# If we have a listlike key, _check_indexing_error will raise\u001b[39;00m\n\u001b[0;32m   3815\u001b[0m     \u001b[38;5;66;03m#  InvalidIndexError. Otherwise we fall through and re-raise\u001b[39;00m\n\u001b[0;32m   3816\u001b[0m     \u001b[38;5;66;03m#  the TypeError.\u001b[39;00m\n\u001b[0;32m   3817\u001b[0m     \u001b[38;5;28mself\u001b[39m\u001b[38;5;241m.\u001b[39m_check_indexing_error(key)\n",
      "\u001b[1;31mKeyError\u001b[0m: 'Age'"
     ]
    }
   ],
   "source": [
    "# Sample variance of values\n",
    "df['Age'].var()"
   ]
  },
  {
   "cell_type": "markdown",
   "id": "cc15cada-61a5-4596-9627-472658fb5adb",
   "metadata": {},
   "source": [
    "## Standard deviation"
   ]
  },
  {
   "cell_type": "markdown",
   "id": "96379d23-36e2-48a3-a4ec-c1990c876fb2",
   "metadata": {},
   "source": [
    "The opposite of a square is a square root, so let’s take the square root of the\n",
    "variance which gives us the standard deviation"
   ]
  },
  {
   "cell_type": "code",
   "execution_count": null,
   "id": "6dddcbd8-8779-44dd-a961-982b2f011a03",
   "metadata": {},
   "outputs": [],
   "source": [
    "# Sample standard deviation of values\n",
    "df['Age'].std()"
   ]
  },
  {
   "cell_type": "markdown",
   "id": "95aaefe4-0f32-4a99-81e9-7ea5776194f9",
   "metadata": {},
   "source": [
    "## Other methods"
   ]
  },
  {
   "cell_type": "markdown",
   "id": "48014c05-4d20-4ccc-8a5f-d43eec172cfc",
   "metadata": {},
   "source": [
    "Some methods, like idxmin and idxmax, return indirect statistics like the index value\n",
    "where the minimum or maximum values are attained:"
   ]
  },
  {
   "cell_type": "code",
   "execution_count": null,
   "id": "f8f89fab-1d80-48ab-98ac-4b00561be56c",
   "metadata": {},
   "outputs": [],
   "source": [
    "df.idxmax()"
   ]
  },
  {
   "cell_type": "markdown",
   "id": "612fbb33-5ee5-486d-b829-28e247a63b46",
   "metadata": {},
   "source": [
    "Other methods are accumulations:"
   ]
  },
  {
   "cell_type": "code",
   "execution_count": null,
   "id": "db075b26-e8ff-454e-9c61-5cd34c634c8b",
   "metadata": {},
   "outputs": [],
   "source": [
    "# Cumulative sum of values\n",
    "df.cumsum()"
   ]
  },
  {
   "cell_type": "markdown",
   "id": "6e55bb7e-f118-46a5-b64e-0e57374ed015",
   "metadata": {},
   "source": [
    "Another type of method is neither a reduction nor an accumulation. describe is one\n",
    "such example, producing multiple summary statistics in one shot:"
   ]
  },
  {
   "cell_type": "code",
   "execution_count": null,
   "id": "e079360d-22b7-4a04-9ecc-c780c255e011",
   "metadata": {},
   "outputs": [],
   "source": [
    "df.describe()"
   ]
  },
  {
   "cell_type": "markdown",
   "id": "4a1729b1-6fc8-41a1-af06-0a2b6bd81c64",
   "metadata": {},
   "source": [
    "On non-numeric data, describe produces alternative summary statistics:"
   ]
  },
  {
   "cell_type": "code",
   "execution_count": null,
   "id": "74c0f109-5a34-49ea-b85f-1838a2d29317",
   "metadata": {},
   "outputs": [],
   "source": [
    "obj = pd.Series(['a', 'a', 'b', 'c'] * 4)"
   ]
  },
  {
   "cell_type": "code",
   "execution_count": null,
   "id": "3017bdf1-ef28-4f91-82dc-30e2ba2e9fcf",
   "metadata": {},
   "outputs": [],
   "source": [
    "obj.describe()"
   ]
  },
  {
   "cell_type": "markdown",
   "id": "d40717bd-06fd-4db2-bd61-1c56417204c2",
   "metadata": {},
   "source": [
    "## Other Descriptive and summary statistics"
   ]
  },
  {
   "cell_type": "code",
   "execution_count": null,
   "id": "dc5f804c-0c58-4cd6-b8c1-9f0e0437c3bd",
   "metadata": {},
   "outputs": [],
   "source": [
    "data = {\n",
    "    'Name': ['Alice', 'Bob', 'Charlie', 'David', 'Edward'],\n",
    "    'Age': [24, 27, 22, 32, 29],\n",
    "    'Pay': [200, 600, 150, 1200, 800],\n",
    "    'City': ['New York', 'Los Angeles', 'Chicago', 'Houston', 'Phoenix']\n",
    "}\n",
    "df = pd.DataFrame(data)"
   ]
  },
  {
   "cell_type": "code",
   "execution_count": null,
   "id": "94e12702-4d3f-48ff-8344-388ade9417cb",
   "metadata": {},
   "outputs": [],
   "source": [
    "# Product of all values\n",
    "df['Age'].prod()"
   ]
  },
  {
   "cell_type": "code",
   "execution_count": null,
   "id": "100cfe8c-2cd0-406e-9ee0-c54676826a19",
   "metadata": {},
   "outputs": [],
   "source": [
    "# Sample skewness (third moment) of values\n",
    "df['Age'].skew() "
   ]
  },
  {
   "cell_type": "code",
   "execution_count": null,
   "id": "0920eca1-792d-4ce0-8c94-bebff8dd2268",
   "metadata": {},
   "outputs": [],
   "source": [
    "# Sample kurtosis (fourth moment) of values \n",
    "df['Age'].kurt() "
   ]
  },
  {
   "cell_type": "code",
   "execution_count": null,
   "id": "5aca5bd8-ce8b-4750-95c5-459b0e748b2d",
   "metadata": {},
   "outputs": [],
   "source": [
    "# Cumulative maximum\n",
    "df['Age'].cummax() "
   ]
  },
  {
   "cell_type": "code",
   "execution_count": null,
   "id": "85680950-0eaf-4bc2-8d3a-76a9b87b2650",
   "metadata": {},
   "outputs": [],
   "source": [
    "# Cumulative minimum\n",
    "df['Age'].cummin()"
   ]
  },
  {
   "cell_type": "code",
   "execution_count": null,
   "id": "012bae74-217d-4c29-9c28-20ad1b59122a",
   "metadata": {},
   "outputs": [],
   "source": [
    "# Compute percent changes\n",
    "df['Age'].pct_change()"
   ]
  },
  {
   "cell_type": "code",
   "execution_count": null,
   "id": "dabcc9c3-486e-4839-8ec1-b802ad4abe09",
   "metadata": {},
   "outputs": [],
   "source": [
    "# Compute first arithmetic difference (useful for time series)\n",
    "df['Age'].diff()"
   ]
  },
  {
   "cell_type": "code",
   "execution_count": null,
   "id": "13c18368-8ec9-4a12-a2e6-a9c1fcd6240d",
   "metadata": {},
   "outputs": [],
   "source": [
    "# Cumulative product of values\n",
    "df['Age'].cumprod() "
   ]
  },
  {
   "cell_type": "markdown",
   "id": "9e3841af-cc89-4e4c-ab75-0080c4fa8ec4",
   "metadata": {},
   "source": [
    "# Correlation and Covariance"
   ]
  },
  {
   "cell_type": "markdown",
   "id": "6f229eea-1f66-4b7b-b6eb-0d791fded407",
   "metadata": {},
   "source": [
    "The corr method of Series computes the correlation of the overlapping, non-NA,\n",
    "aligned-by-index values in two Series. Relatedly, cov computes the covariance:"
   ]
  },
  {
   "cell_type": "code",
   "execution_count": null,
   "id": "a5680043-dc6b-441d-88e2-a24d57759c90",
   "metadata": {},
   "outputs": [],
   "source": [
    "df['Age'].corr(df['Pay'])"
   ]
  },
  {
   "cell_type": "code",
   "execution_count": null,
   "id": "9eee7480-20a0-48e5-bc2f-6043975d0e99",
   "metadata": {},
   "outputs": [],
   "source": [
    "df['Age'].cov(df['Pay'])"
   ]
  },
  {
   "cell_type": "markdown",
   "id": "b82e1715-0a82-4c87-aad0-5918e1e6f2eb",
   "metadata": {},
   "source": [
    "DataFrame’s corr and cov methods, on the other hand, return a full correlation or\n",
    "covariance matrix as a DataFrame, respectively:"
   ]
  },
  {
   "cell_type": "code",
   "execution_count": null,
   "id": "d45650f8-0c9f-4c4f-a8ed-32d229abd53c",
   "metadata": {},
   "outputs": [],
   "source": [
    "data = {'Age': [24, 27, 22, 32, 29],\n",
    "        'Pay': [200, 600, 150, 1200, 800],}\n",
    "df = pd.DataFrame(data)"
   ]
  },
  {
   "cell_type": "code",
   "execution_count": null,
   "id": "65a661da-956c-4cec-b9c0-5e283d370c7c",
   "metadata": {},
   "outputs": [],
   "source": [
    "df.corr()"
   ]
  },
  {
   "cell_type": "code",
   "execution_count": null,
   "id": "c0440d0a-9cd7-4999-ad41-7f5c9cd5c435",
   "metadata": {},
   "outputs": [],
   "source": [
    "df.cov"
   ]
  },
  {
   "cell_type": "markdown",
   "id": "5b92ea21-d9ea-4261-a0b6-2c37134e6a1d",
   "metadata": {},
   "source": [
    "Using DataFrame’s corrwith method, you can compute pairwise correlations\n",
    "between a DataFrame’s columns or rows with another Series or DataFrame. Passing a\n",
    "Series returns a Series with the correlation value computed for each column:"
   ]
  },
  {
   "cell_type": "code",
   "execution_count": null,
   "id": "e0973f43-ff32-40ff-be6d-8ad2332fc21b",
   "metadata": {},
   "outputs": [],
   "source": [
    "df.corrwith(df['Age'])"
   ]
  },
  {
   "cell_type": "markdown",
   "id": "557d7e24-ff8a-40f9-ad66-d5585f8c50a0",
   "metadata": {},
   "source": [
    "Passing axis='columns' does things row-by-row instead. In all cases, the data points\n",
    "are aligned by label before the correlation is computed."
   ]
  },
  {
   "cell_type": "markdown",
   "id": "70365636-63b1-4f68-8558-6ba68a508cb2",
   "metadata": {},
   "source": [
    "# Unique Values, Value Counts, and Membership"
   ]
  },
  {
   "cell_type": "code",
   "execution_count": null,
   "id": "1c503005-d023-4b04-b92d-665ebce3a7ca",
   "metadata": {},
   "outputs": [],
   "source": [
    "obj = pd.Series(['c', 'a', 'd', 'a', 'a', 'b', 'b', 'c', 'c'])"
   ]
  },
  {
   "cell_type": "code",
   "execution_count": null,
   "id": "12d0e5a3-fb0a-48fe-abab-db0df2e472ce",
   "metadata": {},
   "outputs": [],
   "source": [
    "# gives you an array of the unique values in a Series:\n",
    "uniques = obj.unique()\n",
    "uniques"
   ]
  },
  {
   "cell_type": "code",
   "execution_count": null,
   "id": "3a28b4c7-250e-4ca3-b729-6bc714dc3567",
   "metadata": {},
   "outputs": [],
   "source": [
    "# The unique values are not necessarily returned in sorted order, but could be sorted\n",
    "# after the fact if needed\n",
    "uniques.sort()\n",
    "uniques"
   ]
  },
  {
   "cell_type": "code",
   "execution_count": null,
   "id": "46c9efc0-2c77-44bb-b80c-1926983bd720",
   "metadata": {},
   "outputs": [],
   "source": [
    "# value_counts computes a Series containing value frequencies:\n",
    "obj.value_counts()"
   ]
  },
  {
   "cell_type": "markdown",
   "id": "df2fc102-68b1-44ba-8819-36428a9cc72b",
   "metadata": {},
   "source": [
    "isin performs a vectorized set membership check and can be useful in filtering a\r\n",
    "dataset down to a subset of values in a Series or column in a DataFrame:"
   ]
  },
  {
   "cell_type": "code",
   "execution_count": null,
   "id": "e58405da-0077-4878-ad44-072f1c043fe9",
   "metadata": {},
   "outputs": [],
   "source": [
    "mask = obj.isin(['b', 'c'])\n",
    "mask"
   ]
  },
  {
   "cell_type": "code",
   "execution_count": null,
   "id": "1a072aae-be0b-4e17-8900-409ad8504d57",
   "metadata": {},
   "outputs": [],
   "source": [
    "obj[mask]"
   ]
  },
  {
   "cell_type": "code",
   "execution_count": null,
   "id": "f52a81b7-ef24-4185-bf3a-c7f2ad1dad39",
   "metadata": {},
   "outputs": [],
   "source": [
    "# gives you an index array from an array of possibly non-distinct values into another array of distinct values\n",
    "to_match = pd.Series(['c', 'a', 'b', 'b', 'c', 'a'])\n",
    "unique_vals = pd.Series(['c', 'b', 'a'])\n",
    "pd.Index(unique_vals).get_indexer(to_match)"
   ]
  },
  {
   "cell_type": "markdown",
   "id": "0a0aafc9-2b43-41d9-a808-8cc69017d00d",
   "metadata": {},
   "source": [
    "In some cases, you may want to compute a histogram on multiple related columns in\r\n",
    "a DataFrame. Here’s an example:\r"
   ]
  },
  {
   "cell_type": "code",
   "execution_count": null,
   "id": "32d105ae-23ed-40e1-979e-88d9ac99caa4",
   "metadata": {},
   "outputs": [],
   "source": [
    "data = pd.DataFrame({'Qu1': [1, 3, 4, 3, 4],\n",
    "                     'Qu2': [2, 3, 1, 2, 3],\n",
    "                     'Qu3': [1, 5, 2, 4, 4]})\n",
    "data"
   ]
  },
  {
   "cell_type": "code",
   "execution_count": null,
   "id": "4387e341-1899-4e42-a8c1-41909e682972",
   "metadata": {},
   "outputs": [],
   "source": [
    "# Passing pandas.value_counts to this DataFrame’s apply function gives\n",
    "result = data.apply(pd.value_counts).fillna(0)\n",
    "result"
   ]
  }
 ],
 "metadata": {
  "kernelspec": {
   "display_name": "Python 3 (ipykernel)",
   "language": "python",
   "name": "python3"
  },
  "language_info": {
   "codemirror_mode": {
    "name": "ipython",
    "version": 3
   },
   "file_extension": ".py",
   "mimetype": "text/x-python",
   "name": "python",
   "nbconvert_exporter": "python",
   "pygments_lexer": "ipython3",
   "version": "3.11.5"
  }
 },
 "nbformat": 4,
 "nbformat_minor": 5
}
