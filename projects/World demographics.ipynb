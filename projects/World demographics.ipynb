{
    "metadata": {
        "kernelspec": {
            "name": "python3",
            "display_name": "Python 3",
            "language": "python"
        },
        "language_info": {
            "name": "python",
            "version": "3.11.5",
            "mimetype": "text/x-python",
            "codemirror_mode": {
                "name": "ipython",
                "version": 3
            },
            "pygments_lexer": "ipython3",
            "nbconvert_exporter": "python",
            "file_extension": ".py"
        }
    },
    "nbformat_minor": 2,
    "nbformat": 4,
    "cells": [
        {
            "cell_type": "markdown",
            "source": [
                "## Load dataset"
            ],
            "metadata": {
                "jp-MarkdownHeadingCollapsed": true,
                "azdata_cell_guid": "2cfb7d13-996f-4756-b073-a346bc04296d"
            }
        },
        {
            "cell_type": "code",
            "source": [
                "import pandas as pd\n",
                "import re\n",
                "import matplotlib.pyplot as plt"
            ],
            "metadata": {
                "azdata_cell_guid": "2ffa2c4e-8619-4755-8183-cf939d784516",
                "language": "python"
            },
            "outputs": [],
            "execution_count": 24
        },
        {
            "cell_type": "code",
            "source": [
                "df = pd.read_csv('world data 23.csv')\n",
                "df.info()"
            ],
            "metadata": {
                "scrolled": true,
                "azdata_cell_guid": "f6e1e5d8-ec98-4f3c-b230-024d4d110c4f",
                "language": "python"
            },
            "outputs": [
                {
                    "name": "stdout",
                    "text": "<class 'pandas.core.frame.DataFrame'>\nRangeIndex: 195 entries, 0 to 194\nData columns (total 35 columns):\n #   Column                                     Non-Null Count  Dtype  \n---  ------                                     --------------  -----  \n 0   Country                                    195 non-null    object \n 1   Density\n(P/Km2)                            195 non-null    object \n 2   Abbreviation                               188 non-null    object \n 3   Agricultural Land( %)                      188 non-null    object \n 4   Land Area(Km2)                             194 non-null    object \n 5   Armed Forces size                          171 non-null    object \n 6   Birth Rate                                 189 non-null    float64\n 7   Calling Code                               194 non-null    float64\n 8   Capital/Major City                         192 non-null    object \n 9   Co2-Emissions                              188 non-null    object \n 10  CPI                                        178 non-null    object \n 11  CPI Change (%)                             179 non-null    object \n 12  Currency-Code                              180 non-null    object \n 13  Fertility Rate                             188 non-null    float64\n 14  Forested Area (%)                          188 non-null    object \n 15  Gasoline Price                             175 non-null    object \n 16  GDP                                        193 non-null    object \n 17  Gross primary education enrollment (%)     188 non-null    object \n 18  Gross tertiary education enrollment (%)    183 non-null    object \n 19  Infant mortality                           189 non-null    float64\n 20  Largest city                               189 non-null    object \n 21  Life expectancy                            187 non-null    float64\n 22  Maternal mortality ratio                   181 non-null    float64\n 23  Minimum wage                               150 non-null    object \n 24  Official language                          190 non-null    object \n 25  Out of pocket health expenditure           188 non-null    object \n 26  Physicians per thousand                    188 non-null    float64\n 27  Population                                 194 non-null    object \n 28  Population: Labor force participation (%)  176 non-null    object \n 29  Tax revenue (%)                            169 non-null    object \n 30  Total tax rate                             183 non-null    object \n 31  Unemployment rate                          176 non-null    object \n 32  Urban_population                           190 non-null    object \n 33  Latitude                                   194 non-null    float64\n 34  Longitude                                  194 non-null    float64\ndtypes: float64(9), object(26)\nmemory usage: 53.4+ KB\n",
                    "output_type": "stream"
                }
            ],
            "execution_count": 5
        },
        {
            "cell_type": "markdown",
            "source": [
                "## Agriculture"
            ],
            "metadata": {
                "jp-MarkdownHeadingCollapsed": true,
                "azdata_cell_guid": "66935eab-6715-4e6d-8712-a50a85e33257"
            }
        },
        {
            "cell_type": "code",
            "source": [
                "ctr = df['Country']\n",
                "agr = df['Agricultural Land( %)']\n",
                "ld = df['Land Area(Km2)']\n",
                "mdf = pd.concat([ctr, agr, ld], axis=1)"
            ],
            "metadata": {
                "azdata_cell_guid": "58997649-f81e-4b2e-a923-5471403ab021",
                "language": "python"
            },
            "outputs": [],
            "execution_count": 157
        },
        {
            "cell_type": "code",
            "source": [
                "# Check for nulls\n",
                "# mdf.notna()\n",
                "miss = mdf.isna().sum()\n",
                "\n",
                "# Calculate percentage of missing values\n",
                "miss_pct = miss/len(mdf) * 100\n",
                "miss_pct"
            ],
            "metadata": {
                "azdata_cell_guid": "ab04af26-49d3-46b3-92c6-dcd35621e3bf",
                "language": "python"
            },
            "outputs": [
                {
                    "output_type": "execute_result",
                    "execution_count": 158,
                    "data": {
                        "text/plain": "Country                  0.000000\nAgricultural Land( %)    3.589744\nLand Area(Km2)           0.512821\ndtype: float64"
                    },
                    "metadata": {}
                }
            ],
            "execution_count": 158
        },
        {
            "cell_type": "code",
            "source": [
                "# Dropping rows with nulls\n",
                "data = mdf.dropna()\n",
                "data = data.reset_index(drop=True)\n",
                "data.info()"
            ],
            "metadata": {
                "azdata_cell_guid": "2fbab4d8-d3e8-42ee-9b3e-f2680d7a846d",
                "language": "python"
            },
            "outputs": [
                {
                    "output_type": "stream",
                    "name": "stdout",
                    "text": "<class 'pandas.core.frame.DataFrame'>\nRangeIndex: 188 entries, 0 to 187\nData columns (total 3 columns):\n #   Column                 Non-Null Count  Dtype \n---  ------                 --------------  ----- \n 0   Country                188 non-null    object\n 1   Agricultural Land( %)  188 non-null    object\n 2   Land Area(Km2)         188 non-null    object\ndtypes: object(3)\nmemory usage: 4.5+ KB\n"
                }
            ],
            "execution_count": 159
        },
        {
            "cell_type": "code",
            "source": [
                "# Clean column to remove extra characters\n",
                "data['Agricultural Land( %)'] = data['Agricultural Land( %)'].str.strip('%')\n",
                "data['Land Area(Km2)'] = data['Land Area(Km2)'].str.replace(',', '')"
            ],
            "metadata": {
                "azdata_cell_guid": "4b1d0cba-cc97-486c-8222-9ef3c15ed5f3",
                "language": "python"
            },
            "outputs": [],
            "execution_count": 160
        },
        {
            "cell_type": "code",
            "source": [
                "# Convert data types\n",
                "data['Agricultural Land( %)'] = pd.to_numeric(data['Agricultural Land( %)'])\n",
                "data['Land Area(Km2)'] = pd.to_numeric(data['Land Area(Km2)'])"
            ],
            "metadata": {
                "azdata_cell_guid": "6de26fa6-e360-4c63-b49b-30391ffc2083",
                "language": "python"
            },
            "outputs": [],
            "execution_count": 161
        },
        {
            "cell_type": "code",
            "source": [
                "# Largest countries\n",
                "data = data.sort_values(by='Land Area(Km2)', ascending=False)\n",
                "data = data.reset_index(drop=True)\n",
                "data.head(10)"
            ],
            "metadata": {
                "azdata_cell_guid": "58d766d6-578b-434e-972c-7581def62dbc",
                "language": "python"
            },
            "outputs": [
                {
                    "output_type": "execute_result",
                    "execution_count": 162,
                    "data": {
                        "text/html": "<div>\n<style scoped>\n    .dataframe tbody tr th:only-of-type {\n        vertical-align: middle;\n    }\n\n    .dataframe tbody tr th {\n        vertical-align: top;\n    }\n\n    .dataframe thead th {\n        text-align: right;\n    }\n</style>\n<table border=\"1\" class=\"dataframe\">\n  <thead>\n    <tr style=\"text-align: right;\">\n      <th></th>\n      <th>Country</th>\n      <th>Agricultural Land( %)</th>\n      <th>Land Area(Km2)</th>\n    </tr>\n  </thead>\n  <tbody>\n    <tr>\n      <th>0</th>\n      <td>Russia</td>\n      <td>13.3</td>\n      <td>17098240</td>\n    </tr>\n    <tr>\n      <th>1</th>\n      <td>Canada</td>\n      <td>6.9</td>\n      <td>9984670</td>\n    </tr>\n    <tr>\n      <th>2</th>\n      <td>United States</td>\n      <td>44.4</td>\n      <td>9833517</td>\n    </tr>\n    <tr>\n      <th>3</th>\n      <td>China</td>\n      <td>56.2</td>\n      <td>9596960</td>\n    </tr>\n    <tr>\n      <th>4</th>\n      <td>Brazil</td>\n      <td>33.9</td>\n      <td>8515770</td>\n    </tr>\n    <tr>\n      <th>5</th>\n      <td>Australia</td>\n      <td>48.2</td>\n      <td>7741220</td>\n    </tr>\n    <tr>\n      <th>6</th>\n      <td>India</td>\n      <td>60.4</td>\n      <td>3287263</td>\n    </tr>\n    <tr>\n      <th>7</th>\n      <td>Argentina</td>\n      <td>54.3</td>\n      <td>2780400</td>\n    </tr>\n    <tr>\n      <th>8</th>\n      <td>Kazakhstan</td>\n      <td>80.4</td>\n      <td>2724900</td>\n    </tr>\n    <tr>\n      <th>9</th>\n      <td>Algeria</td>\n      <td>17.4</td>\n      <td>2381741</td>\n    </tr>\n  </tbody>\n</table>\n</div>",
                        "text/plain": "         Country  Agricultural Land( %)  Land Area(Km2)\n0         Russia                   13.3        17098240\n1         Canada                    6.9         9984670\n2  United States                   44.4         9833517\n3          China                   56.2         9596960\n4         Brazil                   33.9         8515770\n5      Australia                   48.2         7741220\n6          India                   60.4         3287263\n7      Argentina                   54.3         2780400\n8     Kazakhstan                   80.4         2724900\n9        Algeria                   17.4         2381741"
                    },
                    "metadata": {}
                }
            ],
            "execution_count": 162
        },
        {
            "cell_type": "code",
            "source": [
                "# Calculating area of land put to agricultural use\n",
                "data['Agrispace'] = (data['Agricultural Land( %)'] * data['Land Area(Km2)'])/100"
            ],
            "metadata": {
                "azdata_cell_guid": "f850bfc8-1efe-486b-88d6-80ffb9ef0b32",
                "language": "python"
            },
            "outputs": [],
            "execution_count": 163
        },
        {
            "cell_type": "code",
            "source": [
                "# Countries with largest agricultural space\n",
                "data = data.sort_values(by='Agrispace', ascending=False)\n",
                "data = data.reset_index(drop=True)\n",
                "data.head(20)"
            ],
            "metadata": {
                "azdata_cell_guid": "28e1189f-369c-45b6-9321-684d324d40d0",
                "language": "python"
            },
            "outputs": [
                {
                    "output_type": "execute_result",
                    "execution_count": 166,
                    "data": {
                        "text/html": "<div>\n<style scoped>\n    .dataframe tbody tr th:only-of-type {\n        vertical-align: middle;\n    }\n\n    .dataframe tbody tr th {\n        vertical-align: top;\n    }\n\n    .dataframe thead th {\n        text-align: right;\n    }\n</style>\n<table border=\"1\" class=\"dataframe\">\n  <thead>\n    <tr style=\"text-align: right;\">\n      <th></th>\n      <th>Country</th>\n      <th>Agricultural Land( %)</th>\n      <th>Land Area(Km2)</th>\n      <th>Agrispace</th>\n    </tr>\n  </thead>\n  <tbody>\n    <tr>\n      <th>0</th>\n      <td>China</td>\n      <td>56.2</td>\n      <td>9596960</td>\n      <td>5393491.520</td>\n    </tr>\n    <tr>\n      <th>1</th>\n      <td>United States</td>\n      <td>44.4</td>\n      <td>9833517</td>\n      <td>4366081.548</td>\n    </tr>\n    <tr>\n      <th>2</th>\n      <td>Australia</td>\n      <td>48.2</td>\n      <td>7741220</td>\n      <td>3731268.040</td>\n    </tr>\n    <tr>\n      <th>3</th>\n      <td>Brazil</td>\n      <td>33.9</td>\n      <td>8515770</td>\n      <td>2886846.030</td>\n    </tr>\n    <tr>\n      <th>4</th>\n      <td>Russia</td>\n      <td>13.3</td>\n      <td>17098240</td>\n      <td>2274065.920</td>\n    </tr>\n    <tr>\n      <th>5</th>\n      <td>Kazakhstan</td>\n      <td>80.4</td>\n      <td>2724900</td>\n      <td>2190819.600</td>\n    </tr>\n    <tr>\n      <th>6</th>\n      <td>India</td>\n      <td>60.4</td>\n      <td>3287263</td>\n      <td>1985506.852</td>\n    </tr>\n    <tr>\n      <th>7</th>\n      <td>Saudi Arabia</td>\n      <td>80.8</td>\n      <td>2149690</td>\n      <td>1736949.520</td>\n    </tr>\n    <tr>\n      <th>8</th>\n      <td>Argentina</td>\n      <td>54.3</td>\n      <td>2780400</td>\n      <td>1509757.200</td>\n    </tr>\n    <tr>\n      <th>9</th>\n      <td>Mongolia</td>\n      <td>71.5</td>\n      <td>1564116</td>\n      <td>1118342.940</td>\n    </tr>\n    <tr>\n      <th>10</th>\n      <td>Mexico</td>\n      <td>54.6</td>\n      <td>1964375</td>\n      <td>1072548.750</td>\n    </tr>\n    <tr>\n      <th>11</th>\n      <td>South Africa</td>\n      <td>79.8</td>\n      <td>1219090</td>\n      <td>972833.820</td>\n    </tr>\n    <tr>\n      <th>12</th>\n      <td>Nigeria</td>\n      <td>77.7</td>\n      <td>923768</td>\n      <td>717767.736</td>\n    </tr>\n    <tr>\n      <th>13</th>\n      <td>Canada</td>\n      <td>6.9</td>\n      <td>9984670</td>\n      <td>688942.230</td>\n    </tr>\n    <tr>\n      <th>14</th>\n      <td>Indonesia</td>\n      <td>31.5</td>\n      <td>1904569</td>\n      <td>599939.235</td>\n    </tr>\n    <tr>\n      <th>15</th>\n      <td>Angola</td>\n      <td>47.5</td>\n      <td>1246700</td>\n      <td>592182.500</td>\n    </tr>\n    <tr>\n      <th>16</th>\n      <td>Sudan</td>\n      <td>28.7</td>\n      <td>1861484</td>\n      <td>534245.908</td>\n    </tr>\n    <tr>\n      <th>17</th>\n      <td>Chad</td>\n      <td>39.7</td>\n      <td>1284000</td>\n      <td>509748.000</td>\n    </tr>\n    <tr>\n      <th>18</th>\n      <td>Mozambique</td>\n      <td>63.5</td>\n      <td>799380</td>\n      <td>507606.300</td>\n    </tr>\n    <tr>\n      <th>19</th>\n      <td>Iran</td>\n      <td>28.2</td>\n      <td>1648195</td>\n      <td>464790.990</td>\n    </tr>\n  </tbody>\n</table>\n</div>",
                        "text/plain": "          Country  Agricultural Land( %)  Land Area(Km2)    Agrispace\n0           China                   56.2         9596960  5393491.520\n1   United States                   44.4         9833517  4366081.548\n2       Australia                   48.2         7741220  3731268.040\n3          Brazil                   33.9         8515770  2886846.030\n4          Russia                   13.3        17098240  2274065.920\n5      Kazakhstan                   80.4         2724900  2190819.600\n6           India                   60.4         3287263  1985506.852\n7    Saudi Arabia                   80.8         2149690  1736949.520\n8       Argentina                   54.3         2780400  1509757.200\n9        Mongolia                   71.5         1564116  1118342.940\n10         Mexico                   54.6         1964375  1072548.750\n11   South Africa                   79.8         1219090   972833.820\n12        Nigeria                   77.7          923768   717767.736\n13         Canada                    6.9         9984670   688942.230\n14      Indonesia                   31.5         1904569   599939.235\n15         Angola                   47.5         1246700   592182.500\n16          Sudan                   28.7         1861484   534245.908\n17           Chad                   39.7         1284000   509748.000\n18     Mozambique                   63.5          799380   507606.300\n19           Iran                   28.2         1648195   464790.990"
                    },
                    "metadata": {}
                }
            ],
            "execution_count": 166
        },
        {
            "cell_type": "code",
            "source": [
                "# Countries with high percentages of agricultural land\n",
                "data = data.sort_values(by='Agricultural Land( %)', ascending=False)\n",
                "data = data.reset_index(drop=True)\n",
                "data.head(20)"
            ],
            "metadata": {
                "azdata_cell_guid": "268e03b5-adcc-404d-b222-0fd123122e8f",
                "language": "python"
            },
            "outputs": [
                {
                    "output_type": "execute_result",
                    "execution_count": 167,
                    "data": {
                        "text/html": "<div>\n<style scoped>\n    .dataframe tbody tr th:only-of-type {\n        vertical-align: middle;\n    }\n\n    .dataframe tbody tr th {\n        vertical-align: top;\n    }\n\n    .dataframe thead th {\n        text-align: right;\n    }\n</style>\n<table border=\"1\" class=\"dataframe\">\n  <thead>\n    <tr style=\"text-align: right;\">\n      <th></th>\n      <th>Country</th>\n      <th>Agricultural Land( %)</th>\n      <th>Land Area(Km2)</th>\n      <th>Agrispace</th>\n    </tr>\n  </thead>\n  <tbody>\n    <tr>\n      <th>0</th>\n      <td>Uruguay</td>\n      <td>82.6</td>\n      <td>176215</td>\n      <td>145553.590</td>\n    </tr>\n    <tr>\n      <th>1</th>\n      <td>Saudi Arabia</td>\n      <td>80.8</td>\n      <td>2149690</td>\n      <td>1736949.520</td>\n    </tr>\n    <tr>\n      <th>2</th>\n      <td>Kazakhstan</td>\n      <td>80.4</td>\n      <td>2724900</td>\n      <td>2190819.600</td>\n    </tr>\n    <tr>\n      <th>3</th>\n      <td>South Africa</td>\n      <td>79.8</td>\n      <td>1219090</td>\n      <td>972833.820</td>\n    </tr>\n    <tr>\n      <th>4</th>\n      <td>Burundi</td>\n      <td>79.2</td>\n      <td>27830</td>\n      <td>22041.360</td>\n    </tr>\n    <tr>\n      <th>5</th>\n      <td>Nigeria</td>\n      <td>77.7</td>\n      <td>923768</td>\n      <td>717767.736</td>\n    </tr>\n    <tr>\n      <th>6</th>\n      <td>Lesotho</td>\n      <td>77.6</td>\n      <td>30355</td>\n      <td>23555.480</td>\n    </tr>\n    <tr>\n      <th>7</th>\n      <td>El Salvador</td>\n      <td>76.4</td>\n      <td>21041</td>\n      <td>16075.324</td>\n    </tr>\n    <tr>\n      <th>8</th>\n      <td>Syria</td>\n      <td>75.8</td>\n      <td>185180</td>\n      <td>140366.440</td>\n    </tr>\n    <tr>\n      <th>9</th>\n      <td>Eritrea</td>\n      <td>75.2</td>\n      <td>117600</td>\n      <td>88435.200</td>\n    </tr>\n    <tr>\n      <th>10</th>\n      <td>Moldova</td>\n      <td>74.2</td>\n      <td>33851</td>\n      <td>25117.442</td>\n    </tr>\n    <tr>\n      <th>11</th>\n      <td>Rwanda</td>\n      <td>73.4</td>\n      <td>26338</td>\n      <td>19332.092</td>\n    </tr>\n    <tr>\n      <th>12</th>\n      <td>Djibouti</td>\n      <td>73.4</td>\n      <td>23200</td>\n      <td>17028.800</td>\n    </tr>\n    <tr>\n      <th>13</th>\n      <td>Turkmenistan</td>\n      <td>72.0</td>\n      <td>488100</td>\n      <td>351432.000</td>\n    </tr>\n    <tr>\n      <th>14</th>\n      <td>Uganda</td>\n      <td>71.9</td>\n      <td>241038</td>\n      <td>173306.322</td>\n    </tr>\n    <tr>\n      <th>15</th>\n      <td>Ukraine</td>\n      <td>71.7</td>\n      <td>603550</td>\n      <td>432745.350</td>\n    </tr>\n    <tr>\n      <th>16</th>\n      <td>United Kingdom</td>\n      <td>71.7</td>\n      <td>243610</td>\n      <td>174668.370</td>\n    </tr>\n    <tr>\n      <th>17</th>\n      <td>Comoros</td>\n      <td>71.5</td>\n      <td>2235</td>\n      <td>1598.025</td>\n    </tr>\n    <tr>\n      <th>18</th>\n      <td>Mongolia</td>\n      <td>71.5</td>\n      <td>1564116</td>\n      <td>1118342.940</td>\n    </tr>\n    <tr>\n      <th>19</th>\n      <td>Madagascar</td>\n      <td>71.2</td>\n      <td>587041</td>\n      <td>417973.192</td>\n    </tr>\n  </tbody>\n</table>\n</div>",
                        "text/plain": "           Country  Agricultural Land( %)  Land Area(Km2)    Agrispace\n0          Uruguay                   82.6          176215   145553.590\n1     Saudi Arabia                   80.8         2149690  1736949.520\n2       Kazakhstan                   80.4         2724900  2190819.600\n3     South Africa                   79.8         1219090   972833.820\n4          Burundi                   79.2           27830    22041.360\n5          Nigeria                   77.7          923768   717767.736\n6          Lesotho                   77.6           30355    23555.480\n7      El Salvador                   76.4           21041    16075.324\n8            Syria                   75.8          185180   140366.440\n9          Eritrea                   75.2          117600    88435.200\n10         Moldova                   74.2           33851    25117.442\n11          Rwanda                   73.4           26338    19332.092\n12        Djibouti                   73.4           23200    17028.800\n13    Turkmenistan                   72.0          488100   351432.000\n14          Uganda                   71.9          241038   173306.322\n15         Ukraine                   71.7          603550   432745.350\n16  United Kingdom                   71.7          243610   174668.370\n17         Comoros                   71.5            2235     1598.025\n18        Mongolia                   71.5         1564116  1118342.940\n19      Madagascar                   71.2          587041   417973.192"
                    },
                    "metadata": {}
                }
            ],
            "execution_count": 167
        },
        {
            "cell_type": "markdown",
            "source": [
                "## Tax"
            ],
            "metadata": {
                "jp-MarkdownHeadingCollapsed": true,
                "azdata_cell_guid": "6eada024-dc64-43c7-bb84-0257b3832aae"
            }
        },
        {
            "cell_type": "code",
            "source": [
                "# Prepare tax dataframe\n",
                "ctr = df['Country'] \n",
                "rev = df['Tax revenue (%)'].str.strip('%')\n",
                "rate = df['Total tax rate'].str.strip('%')\n",
                "taxdf = pd.concat([ctr, rev, rate], axis=1)"
            ],
            "metadata": {
                "azdata_cell_guid": "604add92-50cc-412e-b63e-911354caa7e2",
                "language": "python"
            },
            "outputs": [],
            "execution_count": 200
        },
        {
            "cell_type": "code",
            "source": [
                "taxdf.info()"
            ],
            "metadata": {
                "azdata_cell_guid": "c87e6e12-4803-442f-b47d-e9a0b8fb6810",
                "language": "python"
            },
            "outputs": [
                {
                    "output_type": "stream",
                    "name": "stdout",
                    "text": "<class 'pandas.core.frame.DataFrame'>\nRangeIndex: 195 entries, 0 to 194\nData columns (total 3 columns):\n #   Column           Non-Null Count  Dtype \n---  ------           --------------  ----- \n 0   Country          195 non-null    object\n 1   Tax revenue (%)  169 non-null    object\n 2   Total tax rate   183 non-null    object\ndtypes: object(3)\nmemory usage: 4.7+ KB\n"
                }
            ],
            "execution_count": 201
        },
        {
            "cell_type": "code",
            "source": [
                "# Calculate percentage of missing values\n",
                "miss = taxdf.isna().sum()\n",
                "miss_pct = miss/len(taxdf) * 100\n",
                "miss_pct"
            ],
            "metadata": {
                "azdata_cell_guid": "3762c097-dff4-45c9-ac76-efe8bd8a31e4",
                "language": "python"
            },
            "outputs": [
                {
                    "output_type": "execute_result",
                    "execution_count": 202,
                    "data": {
                        "text/plain": "Country             0.000000\nTax revenue (%)    13.333333\nTotal tax rate      6.153846\ndtype: float64"
                    },
                    "metadata": {}
                }
            ],
            "execution_count": 202
        },
        {
            "cell_type": "code",
            "source": [
                "# Drop nulls\n",
                "taxdf = taxdf.dropna()\n",
                "taxdf = taxdf.reset_index(drop=True)\n",
                "\n",
                "# Convert columns to numeric\n",
                "taxdf['Tax revenue (%)'] = pd.to_numeric(taxdf['Tax revenue (%)'])\n",
                "taxdf['Total tax rate'] = pd.to_numeric(taxdf['Total tax rate'])\n",
                "\n",
                "taxdf.info()"
            ],
            "metadata": {
                "azdata_cell_guid": "9d922934-3556-4b1c-8038-2d03aea99771",
                "language": "python"
            },
            "outputs": [
                {
                    "output_type": "stream",
                    "name": "stdout",
                    "text": "<class 'pandas.core.frame.DataFrame'>\nRangeIndex: 167 entries, 0 to 166\nData columns (total 3 columns):\n #   Column           Non-Null Count  Dtype  \n---  ------           --------------  -----  \n 0   Country          167 non-null    object \n 1   Tax revenue (%)  167 non-null    float64\n 2   Total tax rate   167 non-null    float64\ndtypes: float64(2), object(1)\nmemory usage: 4.0+ KB\n"
                }
            ],
            "execution_count": 203
        },
        {
            "cell_type": "code",
            "source": [
                "# Highest tax rates\n",
                "taxdf = taxdf.sort_values(by='Total tax rate', ascending=False)\n",
                "taxdf = taxdf.reset_index(drop=True)\n",
                "taxdf.head(20)"
            ],
            "metadata": {
                "azdata_cell_guid": "749d0c8c-959a-4cc1-9ff7-179f360aa578",
                "language": "python"
            },
            "outputs": [
                {
                    "output_type": "execute_result",
                    "execution_count": 204,
                    "data": {
                        "text/html": "<div>\n<style scoped>\n    .dataframe tbody tr th:only-of-type {\n        vertical-align: middle;\n    }\n\n    .dataframe tbody tr th {\n        vertical-align: top;\n    }\n\n    .dataframe thead th {\n        text-align: right;\n    }\n</style>\n<table border=\"1\" class=\"dataframe\">\n  <thead>\n    <tr style=\"text-align: right;\">\n      <th></th>\n      <th>Country</th>\n      <th>Tax revenue (%)</th>\n      <th>Total tax rate</th>\n    </tr>\n  </thead>\n  <tbody>\n    <tr>\n      <th>0</th>\n      <td>Argentina</td>\n      <td>10.1</td>\n      <td>106.3</td>\n    </tr>\n    <tr>\n      <th>1</th>\n      <td>Bolivia</td>\n      <td>17.0</td>\n      <td>83.7</td>\n    </tr>\n    <tr>\n      <th>2</th>\n      <td>Equatorial Guinea</td>\n      <td>6.1</td>\n      <td>79.4</td>\n    </tr>\n    <tr>\n      <th>3</th>\n      <td>Palau</td>\n      <td>21.3</td>\n      <td>76.6</td>\n    </tr>\n    <tr>\n      <th>4</th>\n      <td>Central African Republic</td>\n      <td>8.6</td>\n      <td>73.3</td>\n    </tr>\n    <tr>\n      <th>5</th>\n      <td>Afghanistan</td>\n      <td>9.3</td>\n      <td>71.4</td>\n    </tr>\n    <tr>\n      <th>6</th>\n      <td>Colombia</td>\n      <td>14.4</td>\n      <td>71.2</td>\n    </tr>\n    <tr>\n      <th>7</th>\n      <td>Guinea</td>\n      <td>10.8</td>\n      <td>69.3</td>\n    </tr>\n    <tr>\n      <th>8</th>\n      <td>Tajikistan</td>\n      <td>9.8</td>\n      <td>67.3</td>\n    </tr>\n    <tr>\n      <th>9</th>\n      <td>Algeria</td>\n      <td>37.2</td>\n      <td>66.1</td>\n    </tr>\n    <tr>\n      <th>10</th>\n      <td>Marshall Islands</td>\n      <td>17.8</td>\n      <td>65.9</td>\n    </tr>\n    <tr>\n      <th>11</th>\n      <td>Brazil</td>\n      <td>14.2</td>\n      <td>65.1</td>\n    </tr>\n    <tr>\n      <th>12</th>\n      <td>France</td>\n      <td>24.2</td>\n      <td>60.7</td>\n    </tr>\n    <tr>\n      <th>13</th>\n      <td>Tunisia</td>\n      <td>21.1</td>\n      <td>60.7</td>\n    </tr>\n    <tr>\n      <th>14</th>\n      <td>Nicaragua</td>\n      <td>15.6</td>\n      <td>60.6</td>\n    </tr>\n    <tr>\n      <th>15</th>\n      <td>Federated States of Micronesia</td>\n      <td>25.2</td>\n      <td>60.5</td>\n    </tr>\n    <tr>\n      <th>16</th>\n      <td>China</td>\n      <td>9.4</td>\n      <td>59.2</td>\n    </tr>\n    <tr>\n      <th>17</th>\n      <td>Italy</td>\n      <td>24.3</td>\n      <td>59.1</td>\n    </tr>\n    <tr>\n      <th>18</th>\n      <td>Costa Rica</td>\n      <td>13.6</td>\n      <td>58.3</td>\n    </tr>\n    <tr>\n      <th>19</th>\n      <td>Cameroon</td>\n      <td>12.8</td>\n      <td>57.7</td>\n    </tr>\n  </tbody>\n</table>\n</div>",
                        "text/plain": "                           Country  Tax revenue (%)  Total tax rate\n0                        Argentina             10.1           106.3\n1                          Bolivia             17.0            83.7\n2                Equatorial Guinea              6.1            79.4\n3                            Palau             21.3            76.6\n4         Central African Republic              8.6            73.3\n5                      Afghanistan              9.3            71.4\n6                         Colombia             14.4            71.2\n7                           Guinea             10.8            69.3\n8                       Tajikistan              9.8            67.3\n9                          Algeria             37.2            66.1\n10                Marshall Islands             17.8            65.9\n11                          Brazil             14.2            65.1\n12                          France             24.2            60.7\n13                         Tunisia             21.1            60.7\n14                       Nicaragua             15.6            60.6\n15  Federated States of Micronesia             25.2            60.5\n16                           China              9.4            59.2\n17                           Italy             24.3            59.1\n18                      Costa Rica             13.6            58.3\n19                        Cameroon             12.8            57.7"
                    },
                    "metadata": {}
                }
            ],
            "execution_count": 204
        },
        {
            "cell_type": "code",
            "source": [
                "# Highest tax revenues \n",
                "taxdf = taxdf.sort_values(by='Tax revenue (%)', ascending=False)\n",
                "taxdf = taxdf.reset_index(drop=True)\n",
                "taxdf.head(20)"
            ],
            "metadata": {
                "azdata_cell_guid": "e7e15777-4835-47df-94a4-89617d14a5b6",
                "language": "python"
            },
            "outputs": [
                {
                    "output_type": "execute_result",
                    "execution_count": 205,
                    "data": {
                        "text/html": "<div>\n<style scoped>\n    .dataframe tbody tr th:only-of-type {\n        vertical-align: middle;\n    }\n\n    .dataframe tbody tr th {\n        vertical-align: top;\n    }\n\n    .dataframe thead th {\n        text-align: right;\n    }\n</style>\n<table border=\"1\" class=\"dataframe\">\n  <thead>\n    <tr style=\"text-align: right;\">\n      <th></th>\n      <th>Country</th>\n      <th>Tax revenue (%)</th>\n      <th>Total tax rate</th>\n    </tr>\n  </thead>\n  <tbody>\n    <tr>\n      <th>0</th>\n      <td>Algeria</td>\n      <td>37.2</td>\n      <td>66.1</td>\n    </tr>\n    <tr>\n      <th>1</th>\n      <td>Seychelles</td>\n      <td>34.1</td>\n      <td>30.1</td>\n    </tr>\n    <tr>\n      <th>2</th>\n      <td>Denmark</td>\n      <td>32.4</td>\n      <td>23.8</td>\n    </tr>\n    <tr>\n      <th>3</th>\n      <td>Lesotho</td>\n      <td>31.6</td>\n      <td>13.6</td>\n    </tr>\n    <tr>\n      <th>4</th>\n      <td>Solomon Islands</td>\n      <td>29.5</td>\n      <td>32.0</td>\n    </tr>\n    <tr>\n      <th>5</th>\n      <td>New Zealand</td>\n      <td>29.0</td>\n      <td>34.6</td>\n    </tr>\n    <tr>\n      <th>6</th>\n      <td>Sweden</td>\n      <td>27.9</td>\n      <td>49.1</td>\n    </tr>\n    <tr>\n      <th>7</th>\n      <td>South Africa</td>\n      <td>27.5</td>\n      <td>29.2</td>\n    </tr>\n    <tr>\n      <th>8</th>\n      <td>Barbados</td>\n      <td>27.5</td>\n      <td>35.6</td>\n    </tr>\n    <tr>\n      <th>9</th>\n      <td>Namibia</td>\n      <td>27.1</td>\n      <td>20.7</td>\n    </tr>\n    <tr>\n      <th>10</th>\n      <td>Jamaica</td>\n      <td>26.8</td>\n      <td>35.1</td>\n    </tr>\n    <tr>\n      <th>11</th>\n      <td>Luxembourg</td>\n      <td>26.5</td>\n      <td>20.4</td>\n    </tr>\n    <tr>\n      <th>12</th>\n      <td>Belize</td>\n      <td>26.3</td>\n      <td>31.1</td>\n    </tr>\n    <tr>\n      <th>13</th>\n      <td>Malta</td>\n      <td>26.2</td>\n      <td>44.0</td>\n    </tr>\n    <tr>\n      <th>14</th>\n      <td>Greece</td>\n      <td>26.2</td>\n      <td>51.9</td>\n    </tr>\n    <tr>\n      <th>15</th>\n      <td>United Kingdom</td>\n      <td>25.5</td>\n      <td>30.6</td>\n    </tr>\n    <tr>\n      <th>16</th>\n      <td>Samoa</td>\n      <td>25.5</td>\n      <td>19.3</td>\n    </tr>\n    <tr>\n      <th>17</th>\n      <td>Austria</td>\n      <td>25.4</td>\n      <td>51.4</td>\n    </tr>\n    <tr>\n      <th>18</th>\n      <td>Saint Vincent and the Grenadines</td>\n      <td>25.4</td>\n      <td>37.0</td>\n    </tr>\n    <tr>\n      <th>19</th>\n      <td>Federated States of Micronesia</td>\n      <td>25.2</td>\n      <td>60.5</td>\n    </tr>\n  </tbody>\n</table>\n</div>",
                        "text/plain": "                             Country  Tax revenue (%)  Total tax rate\n0                            Algeria             37.2            66.1\n1                         Seychelles             34.1            30.1\n2                            Denmark             32.4            23.8\n3                            Lesotho             31.6            13.6\n4                    Solomon Islands             29.5            32.0\n5                        New Zealand             29.0            34.6\n6                             Sweden             27.9            49.1\n7                       South Africa             27.5            29.2\n8                           Barbados             27.5            35.6\n9                            Namibia             27.1            20.7\n10                           Jamaica             26.8            35.1\n11                        Luxembourg             26.5            20.4\n12                            Belize             26.3            31.1\n13                             Malta             26.2            44.0\n14                            Greece             26.2            51.9\n15                    United Kingdom             25.5            30.6\n16                             Samoa             25.5            19.3\n17                           Austria             25.4            51.4\n18  Saint Vincent and the Grenadines             25.4            37.0\n19    Federated States of Micronesia             25.2            60.5"
                    },
                    "metadata": {}
                }
            ],
            "execution_count": 205
        },
        {
            "cell_type": "code",
            "source": [
                "# Tax rate to revenue ratio\n",
                "taxdf['Tax return'] = taxdf['Tax revenue (%)']/taxdf['Total tax rate']\n",
                "taxdf = taxdf.sort_values(by='Tax return', ascending=False)\n",
                "taxdf = taxdf.reset_index(drop=True)\n",
                "taxdf.head(20)"
            ],
            "metadata": {
                "azdata_cell_guid": "97f4240a-9bdc-43a2-93a9-f31638ad044b",
                "language": "python"
            },
            "outputs": [
                {
                    "traceback": [
                        "\u001b[1;31m---------------------------------------------------------------------------\u001b[0m",
                        "\u001b[1;31mNameError\u001b[0m                                 Traceback (most recent call last)",
                        "Cell \u001b[1;32mIn[3], line 2\u001b[0m\n\u001b[0;32m      1\u001b[0m \u001b[38;5;66;03m# Tax rate to revenue ratio\u001b[39;00m\n\u001b[1;32m----> 2\u001b[0m taxdf[\u001b[38;5;124m'\u001b[39m\u001b[38;5;124mTax return\u001b[39m\u001b[38;5;124m'\u001b[39m] \u001b[38;5;241m=\u001b[39m \u001b[43mtaxdf\u001b[49m[\u001b[38;5;124m'\u001b[39m\u001b[38;5;124mTax revenue (\u001b[39m\u001b[38;5;124m%\u001b[39m\u001b[38;5;124m)\u001b[39m\u001b[38;5;124m'\u001b[39m]\u001b[38;5;241m/\u001b[39mtaxdf[\u001b[38;5;124m'\u001b[39m\u001b[38;5;124mTotal tax rate\u001b[39m\u001b[38;5;124m'\u001b[39m]\n\u001b[0;32m      3\u001b[0m taxdf \u001b[38;5;241m=\u001b[39m taxdf\u001b[38;5;241m.\u001b[39msort_values(by\u001b[38;5;241m=\u001b[39m\u001b[38;5;124m'\u001b[39m\u001b[38;5;124mTax return\u001b[39m\u001b[38;5;124m'\u001b[39m, ascending\u001b[38;5;241m=\u001b[39m\u001b[38;5;28;01mFalse\u001b[39;00m)\n\u001b[0;32m      4\u001b[0m taxdf \u001b[38;5;241m=\u001b[39m taxdf\u001b[38;5;241m.\u001b[39mreset_index(drop\u001b[38;5;241m=\u001b[39m\u001b[38;5;28;01mTrue\u001b[39;00m)\n",
                        "\u001b[1;31mNameError\u001b[0m: name 'taxdf' is not defined"
                    ],
                    "ename": "NameError",
                    "evalue": "name 'taxdf' is not defined",
                    "output_type": "error"
                }
            ],
            "execution_count": 3
        },
        {
            "cell_type": "markdown",
            "source": [
                "## Economy "
            ],
            "metadata": {
                "azdata_cell_guid": "13770a1f-40ec-4b27-89c3-d546ab5496c5"
            }
        },
        {
            "cell_type": "code",
            "source": [
                "# Prepare tax dataframe\n",
                "ctr = df['Country'] \n",
                "gdp = df['GDP'].str.strip('$').str.replace(',', '')\n",
                "wage = df['Minimum wage'].str.strip('$')\n",
                "gdf = pd.concat([ctr, gdp, wage], axis=1)"
            ],
            "metadata": {
                "azdata_cell_guid": "9392b1f3-d9ba-4d4a-b991-34bb462fb07c",
                "language": "python"
            },
            "outputs": [],
            "execution_count": 7
        },
        {
            "cell_type": "code",
            "source": [
                "gdf.info()"
            ],
            "metadata": {
                "azdata_cell_guid": "cf6ed653-7568-434e-b52b-19702bcb6476",
                "language": "python"
            },
            "outputs": [
                {
                    "name": "stdout",
                    "text": "<class 'pandas.core.frame.DataFrame'>\nRangeIndex: 195 entries, 0 to 194\nData columns (total 3 columns):\n #   Column        Non-Null Count  Dtype \n---  ------        --------------  ----- \n 0   Country       195 non-null    object\n 1   GDP           193 non-null    object\n 2   Minimum wage  150 non-null    object\ndtypes: object(3)\nmemory usage: 4.7+ KB\n",
                    "output_type": "stream"
                }
            ],
            "execution_count": 8
        },
        {
            "cell_type": "code",
            "source": [
                "# Convert columns to numeric\n",
                "gdf['GDP'] = pd.to_numeric(gdf['GDP'])\n",
                "gdf['Minimum wage'] = pd.to_numeric(gdf['Minimum wage'])\n",
                "\n",
                "# Rename column \n",
                "gdf.rename(columns={'Minimum wage': 'Minimum wage($)'}, inplace=True)\n",
                "\n",
                "\n",
                "# Drop nulls\n",
                "gdf = gdf.dropna()\n",
                "gdf = gdf.reset_index(drop=True)\n",
                "\n",
                "gdf.info()"
            ],
            "metadata": {
                "azdata_cell_guid": "a7c9828d-39bb-4082-87f7-8beda96474b2",
                "language": "python"
            },
            "outputs": [
                {
                    "name": "stdout",
                    "text": "<class 'pandas.core.frame.DataFrame'>\nRangeIndex: 150 entries, 0 to 149\nData columns (total 3 columns):\n #   Column           Non-Null Count  Dtype  \n---  ------           --------------  -----  \n 0   Country          150 non-null    object \n 1   GDP              150 non-null    float64\n 2   Minimum wage($)  150 non-null    float64\ndtypes: float64(2), object(1)\nmemory usage: 3.6+ KB\n",
                    "output_type": "stream"
                }
            ],
            "execution_count": 9
        },
        {
            "cell_type": "code",
            "source": [
                "# Highest GDP\n",
                "gdf = gdf.sort_values(by='GDP', ascending=False)\n",
                "gdf = gdf.reset_index(drop=True)\n",
                "gdf.head(20)"
            ],
            "metadata": {
                "azdata_cell_guid": "76e6c804-df5a-4a30-923c-811384fc8261",
                "language": "python"
            },
            "outputs": [
                {
                    "data": {
                        "text/plain": "           Country           GDP  Minimum wage($)\n0    United States  2.142770e+13             7.25\n1            China  1.991000e+13             0.87\n2            Japan  5.081770e+12             6.77\n3          Germany  3.845630e+12             9.99\n4   United Kingdom  2.827113e+12            10.13\n5           France  2.715518e+12            11.16\n6            India  2.611000e+12             0.30\n7      South Korea  2.029000e+12             6.49\n8           Brazil  1.839758e+12             1.53\n9           Canada  1.736426e+12             9.51\n10          Russia  1.699877e+12             0.53\n11           Spain  1.394116e+12             5.60\n12       Australia  1.392681e+12            13.59\n13          Mexico  1.258287e+12             0.49\n14       Indonesia  1.119191e+12             0.48\n15     Netherlands  9.090704e+11            10.29\n16    Saudi Arabia  7.929668e+11             3.85\n17          Turkey  7.544117e+11             3.45\n18          Poland  5.921644e+11             2.93\n19        Thailand  5.436500e+11             1.06",
                        "text/html": "<div>\n<style scoped>\n    .dataframe tbody tr th:only-of-type {\n        vertical-align: middle;\n    }\n\n    .dataframe tbody tr th {\n        vertical-align: top;\n    }\n\n    .dataframe thead th {\n        text-align: right;\n    }\n</style>\n<table border=\"1\" class=\"dataframe\">\n  <thead>\n    <tr style=\"text-align: right;\">\n      <th></th>\n      <th>Country</th>\n      <th>GDP</th>\n      <th>Minimum wage($)</th>\n    </tr>\n  </thead>\n  <tbody>\n    <tr>\n      <th>0</th>\n      <td>United States</td>\n      <td>2.142770e+13</td>\n      <td>7.25</td>\n    </tr>\n    <tr>\n      <th>1</th>\n      <td>China</td>\n      <td>1.991000e+13</td>\n      <td>0.87</td>\n    </tr>\n    <tr>\n      <th>2</th>\n      <td>Japan</td>\n      <td>5.081770e+12</td>\n      <td>6.77</td>\n    </tr>\n    <tr>\n      <th>3</th>\n      <td>Germany</td>\n      <td>3.845630e+12</td>\n      <td>9.99</td>\n    </tr>\n    <tr>\n      <th>4</th>\n      <td>United Kingdom</td>\n      <td>2.827113e+12</td>\n      <td>10.13</td>\n    </tr>\n    <tr>\n      <th>5</th>\n      <td>France</td>\n      <td>2.715518e+12</td>\n      <td>11.16</td>\n    </tr>\n    <tr>\n      <th>6</th>\n      <td>India</td>\n      <td>2.611000e+12</td>\n      <td>0.30</td>\n    </tr>\n    <tr>\n      <th>7</th>\n      <td>South Korea</td>\n      <td>2.029000e+12</td>\n      <td>6.49</td>\n    </tr>\n    <tr>\n      <th>8</th>\n      <td>Brazil</td>\n      <td>1.839758e+12</td>\n      <td>1.53</td>\n    </tr>\n    <tr>\n      <th>9</th>\n      <td>Canada</td>\n      <td>1.736426e+12</td>\n      <td>9.51</td>\n    </tr>\n    <tr>\n      <th>10</th>\n      <td>Russia</td>\n      <td>1.699877e+12</td>\n      <td>0.53</td>\n    </tr>\n    <tr>\n      <th>11</th>\n      <td>Spain</td>\n      <td>1.394116e+12</td>\n      <td>5.60</td>\n    </tr>\n    <tr>\n      <th>12</th>\n      <td>Australia</td>\n      <td>1.392681e+12</td>\n      <td>13.59</td>\n    </tr>\n    <tr>\n      <th>13</th>\n      <td>Mexico</td>\n      <td>1.258287e+12</td>\n      <td>0.49</td>\n    </tr>\n    <tr>\n      <th>14</th>\n      <td>Indonesia</td>\n      <td>1.119191e+12</td>\n      <td>0.48</td>\n    </tr>\n    <tr>\n      <th>15</th>\n      <td>Netherlands</td>\n      <td>9.090704e+11</td>\n      <td>10.29</td>\n    </tr>\n    <tr>\n      <th>16</th>\n      <td>Saudi Arabia</td>\n      <td>7.929668e+11</td>\n      <td>3.85</td>\n    </tr>\n    <tr>\n      <th>17</th>\n      <td>Turkey</td>\n      <td>7.544117e+11</td>\n      <td>3.45</td>\n    </tr>\n    <tr>\n      <th>18</th>\n      <td>Poland</td>\n      <td>5.921644e+11</td>\n      <td>2.93</td>\n    </tr>\n    <tr>\n      <th>19</th>\n      <td>Thailand</td>\n      <td>5.436500e+11</td>\n      <td>1.06</td>\n    </tr>\n  </tbody>\n</table>\n</div>"
                    },
                    "metadata": {},
                    "execution_count": 40,
                    "output_type": "execute_result"
                }
            ],
            "execution_count": 40
        },
        {
            "cell_type": "code",
            "source": [
                "# Highest wages\n",
                "wdf = gdf.sort_values(by='Minimum wage($)', ascending=False)\n",
                "wdf = wdf.reset_index(drop=True)\n",
                "wdf.head(20)"
            ],
            "metadata": {
                "azdata_cell_guid": "deed5932-daaa-48f4-ad22-a1d93dd4a87b",
                "language": "python"
            },
            "outputs": [
                {
                    "data": {
                        "text/plain": "                Country           GDP  Minimum wage($)\n0             Australia  1.392681e+12            13.59\n1            Luxembourg  7.110492e+10            13.05\n2                Monaco  7.184844e+09            11.72\n3           New Zealand  2.069288e+11            11.49\n4                France  2.715518e+12            11.16\n5   Republic of Ireland  3.886987e+11            10.79\n6               Belgium  5.296067e+11            10.31\n7           Netherlands  9.090704e+11            10.29\n8        United Kingdom  2.827113e+12            10.13\n9               Germany  3.845630e+12             9.99\n10               Canada  1.736426e+12             9.51\n11               Israel  3.950987e+11             7.58\n12        United States  2.142770e+13             7.25\n13                Japan  5.081770e+12             6.77\n14              Andorra  3.154058e+09             6.63\n15          South Korea  2.029000e+12             6.49\n16                Spain  1.394116e+12             5.60\n17          The Bahamas  1.282700e+10             5.25\n18             Slovenia  5.374216e+10             5.25\n19                Malta  1.478616e+10             5.07",
                        "text/html": "<div>\n<style scoped>\n    .dataframe tbody tr th:only-of-type {\n        vertical-align: middle;\n    }\n\n    .dataframe tbody tr th {\n        vertical-align: top;\n    }\n\n    .dataframe thead th {\n        text-align: right;\n    }\n</style>\n<table border=\"1\" class=\"dataframe\">\n  <thead>\n    <tr style=\"text-align: right;\">\n      <th></th>\n      <th>Country</th>\n      <th>GDP</th>\n      <th>Minimum wage($)</th>\n    </tr>\n  </thead>\n  <tbody>\n    <tr>\n      <th>0</th>\n      <td>Australia</td>\n      <td>1.392681e+12</td>\n      <td>13.59</td>\n    </tr>\n    <tr>\n      <th>1</th>\n      <td>Luxembourg</td>\n      <td>7.110492e+10</td>\n      <td>13.05</td>\n    </tr>\n    <tr>\n      <th>2</th>\n      <td>Monaco</td>\n      <td>7.184844e+09</td>\n      <td>11.72</td>\n    </tr>\n    <tr>\n      <th>3</th>\n      <td>New Zealand</td>\n      <td>2.069288e+11</td>\n      <td>11.49</td>\n    </tr>\n    <tr>\n      <th>4</th>\n      <td>France</td>\n      <td>2.715518e+12</td>\n      <td>11.16</td>\n    </tr>\n    <tr>\n      <th>5</th>\n      <td>Republic of Ireland</td>\n      <td>3.886987e+11</td>\n      <td>10.79</td>\n    </tr>\n    <tr>\n      <th>6</th>\n      <td>Belgium</td>\n      <td>5.296067e+11</td>\n      <td>10.31</td>\n    </tr>\n    <tr>\n      <th>7</th>\n      <td>Netherlands</td>\n      <td>9.090704e+11</td>\n      <td>10.29</td>\n    </tr>\n    <tr>\n      <th>8</th>\n      <td>United Kingdom</td>\n      <td>2.827113e+12</td>\n      <td>10.13</td>\n    </tr>\n    <tr>\n      <th>9</th>\n      <td>Germany</td>\n      <td>3.845630e+12</td>\n      <td>9.99</td>\n    </tr>\n    <tr>\n      <th>10</th>\n      <td>Canada</td>\n      <td>1.736426e+12</td>\n      <td>9.51</td>\n    </tr>\n    <tr>\n      <th>11</th>\n      <td>Israel</td>\n      <td>3.950987e+11</td>\n      <td>7.58</td>\n    </tr>\n    <tr>\n      <th>12</th>\n      <td>United States</td>\n      <td>2.142770e+13</td>\n      <td>7.25</td>\n    </tr>\n    <tr>\n      <th>13</th>\n      <td>Japan</td>\n      <td>5.081770e+12</td>\n      <td>6.77</td>\n    </tr>\n    <tr>\n      <th>14</th>\n      <td>Andorra</td>\n      <td>3.154058e+09</td>\n      <td>6.63</td>\n    </tr>\n    <tr>\n      <th>15</th>\n      <td>South Korea</td>\n      <td>2.029000e+12</td>\n      <td>6.49</td>\n    </tr>\n    <tr>\n      <th>16</th>\n      <td>Spain</td>\n      <td>1.394116e+12</td>\n      <td>5.60</td>\n    </tr>\n    <tr>\n      <th>17</th>\n      <td>The Bahamas</td>\n      <td>1.282700e+10</td>\n      <td>5.25</td>\n    </tr>\n    <tr>\n      <th>18</th>\n      <td>Slovenia</td>\n      <td>5.374216e+10</td>\n      <td>5.25</td>\n    </tr>\n    <tr>\n      <th>19</th>\n      <td>Malta</td>\n      <td>1.478616e+10</td>\n      <td>5.07</td>\n    </tr>\n  </tbody>\n</table>\n</div>"
                    },
                    "metadata": {},
                    "execution_count": 41,
                    "output_type": "execute_result"
                }
            ],
            "execution_count": 41
        },
        {
            "cell_type": "markdown",
            "source": [
                "### Visualization"
            ],
            "metadata": {
                "language": "python",
                "azdata_cell_guid": "087eb968-b511-48ab-9265-db76779c2c61"
            },
            "attachments": {}
        },
        {
            "cell_type": "code",
            "source": [
                "data = gdf.head(20)\r\n",
                "data = data[['Country', 'GDP']]\r\n",
                "fig, ax = plt.subplots(figsize=(20, 6))\r\n",
                "\r\n",
                "ax.scatter(x = data['Country'], y = data['GDP'])\r\n",
                "plt.show()"
            ],
            "metadata": {
                "azdata_cell_guid": "a2eabcec-3804-4f52-a41a-0339a569f3fd",
                "language": "python"
            },
            "outputs": [
                {
                    "data": {
                        "text/plain": "<Figure size 1440x432 with 1 Axes>",
                        "image/png": "[encoded data removed]"
                    },
                    "metadata": {
                        "needs_background": "light"
                    },
                    "output_type": "display_data"
                }
            ],
            "execution_count": 42
        },
        {
            "cell_type": "code",
            "source": [
                "data.plot.bar(x='Country', y='GDP')"
            ],
            "metadata": {
                "azdata_cell_guid": "423cbb74-28af-495e-9c5a-2ba32d757cb7",
                "language": "python"
            },
            "outputs": [
                {
                    "data": {
                        "text/plain": "<Figure size 432x288 with 1 Axes>",
                        "image/png": "[encoded data removed]"
                    },
                    "metadata": {
                        "needs_background": "light"
                    },
                    "output_type": "display_data"
                },
                {
                    "data": {
                        "text/plain": "<Axes: xlabel='Country'>"
                    },
                    "metadata": {},
                    "execution_count": 43,
                    "output_type": "execute_result"
                }
            ],
            "execution_count": 43
        }
    ]
}