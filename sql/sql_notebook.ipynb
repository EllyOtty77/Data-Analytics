{
 "cells": [
  {
   "cell_type": "code",
   "execution_count": null,
   "metadata": {
    "vscode": {
     "languageId": "sql"
    }
   },
   "outputs": [],
   "source": [
    "-- Create employees table\n",
    "CREATE TABLE employees (\n",
    "    id INTEGER PRIMARY KEY,\n",
    "    first_name TEXT NOT NULL,\n",
    "    last_name TEXT NOT NULL,\n",
    "    age INTEGER,\n",
    "    position TEXT,\n",
    "    salary REAL,\n",
    "    hire_date TEXT\n",
    ");\n"
   ]
  },
  {
   "cell_type": "code",
   "execution_count": null,
   "metadata": {
    "vscode": {
     "languageId": "sql"
    }
   },
   "outputs": [],
   "source": [
    "-- Insert values into the table\n",
    "INSERT INTO employees (first_name, last_name, age, position, salary, hire_date) \n",
    "VALUES \n",
    "    ('John', 'Doe', 28, 'Software Engineer', 75000, '2020-01-15'),\n",
    "    ('Jane', 'Smith', 34, 'Project Manager', 90000, '2018-07-23'),\n",
    "    ('Emily', 'Jones', 29, 'Data Analyst', 65000, '2019-11-30'),\n",
    "    ('Michael', 'Brown', 40, 'CTO', 150000, '2015-06-01'),\n",
    "    ('Sarah', 'Davis', 31, 'Product Manager', 85000, '2017-09-17');\n"
   ]
  },
  {
   "cell_type": "code",
   "execution_count": null,
   "metadata": {
    "vscode": {
     "languageId": "sql"
    }
   },
   "outputs": [],
   "source": [
    "-- Select from employees table\n",
    "SELECT * FROM employees;"
   ]
  },
  {
   "cell_type": "code",
   "execution_count": null,
   "metadata": {
    "vscode": {
     "languageId": "sql"
    }
   },
   "outputs": [],
   "source": [
    "-- Update records\n",
    "UPDATE employees SET salary = 80000 WHERE first_name = 'John' AND last_name = 'Doe';"
   ]
  },
  {
   "cell_type": "code",
   "execution_count": null,
   "metadata": {
    "vscode": {
     "languageId": "sql"
    }
   },
   "outputs": [],
   "source": [
    "-- Delete record\n",
    "DELETE FROM employees WHERE first_name = 'Emily' AND last_name = 'Jones';"
   ]
  },
  {
   "cell_type": "code",
   "execution_count": null,
   "metadata": {
    "vscode": {
     "languageId": "sql"
    }
   },
   "outputs": [],
   "source": [
    "-- Filter employees with a specific position\n",
    "SELECT * FROM employees WHERE position = 'Software Engineer';"
   ]
  },
  {
   "cell_type": "code",
   "execution_count": null,
   "metadata": {
    "vscode": {
     "languageId": "sql"
    }
   },
   "outputs": [],
   "source": [
    "-- The average salary of employees\n",
    "SELECT AVG(salary) AS average_salary FROM employees;"
   ]
  },
  {
   "cell_type": "code",
   "execution_count": null,
   "metadata": {
    "vscode": {
     "languageId": "sql"
    }
   },
   "outputs": [],
   "source": [
    "-- Count the number of employees\n",
    "SELECT COUNT(*) AS employee_count FROM employees;"
   ]
  },
  {
   "cell_type": "code",
   "execution_count": null,
   "metadata": {
    "vscode": {
     "languageId": "sql"
    }
   },
   "outputs": [],
   "source": [
    "-- Using and statements\n",
    "SELECT first_name, last_name, age, salary\n",
    "FROM employees\n",
    "WHERE age <30  AND salary > 50000;"
   ]
  },
  {
   "cell_type": "code",
   "execution_count": null,
   "metadata": {
    "vscode": {
     "languageId": "sql"
    }
   },
   "outputs": [],
   "source": [
    "-- Using or operator\n",
    "SELECT first_name, last_name, age, salary\n",
    "FROM employees\n",
    "WHERE age <30 | salary <z` 50000;"
   ]
  },
  {
   "cell_type": "code",
   "execution_count": null,
   "metadata": {
    "vscode": {
     "languageId": "sql"
    }
   },
   "outputs": [],
   "source": [
    "-- add column to table\n",
    "ALTER TABLE employees ADD COLUMN married BOOLEAN;"
   ]
  },
  {
   "cell_type": "code",
   "execution_count": null,
   "metadata": {
    "vscode": {
     "languageId": "sql"
    }
   },
   "outputs": [],
   "source": [
    "-- rename table\n",
    "ALTER TABLE employees RENAME TO employees_new;"
   ]
  },
  {
   "cell_type": "code",
   "execution_count": null,
   "metadata": {
    "vscode": {
     "languageId": "sql"
    }
   },
   "outputs": [],
   "source": [
    "-- using the BETWEEN operator\n",
    "SELECT * FROM employees_new \n",
    "WHERE salary BETWEEN 80000 AND 90000"
   ]
  },
  {
   "cell_type": "code",
   "execution_count": null,
   "metadata": {
    "vscode": {
     "languageId": "sql"
    }
   },
   "outputs": [],
   "source": []
  }
 ],
 "metadata": {
  "language_info": {
   "name": "python"
  }
 },
 "nbformat": 4,
 "nbformat_minor": 2
}
