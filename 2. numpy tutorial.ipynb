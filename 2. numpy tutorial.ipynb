{
    "metadata": {
        "kernelspec": {
            "name": "python3",
            "display_name": "Python 3",
            "language": "python"
        },
        "language_info": {
            "name": "python",
            "version": "3.11.5",
            "mimetype": "text/x-python",
            "codemirror_mode": {
                "name": "ipython",
                "version": 3
            },
            "pygments_lexer": "ipython3",
            "nbconvert_exporter": "python",
            "file_extension": ".py"
        }
    },
    "nbformat_minor": 2,
    "nbformat": 4,
    "cells": [
        {
            "cell_type": "markdown",
            "source": [
                "# The NumPy ndarray:"
            ],
            "metadata": {
                "azdata_cell_guid": "3209dfe9-a752-424c-9c74-fac72d084b63"
            }
        },
        {
            "cell_type": "markdown",
            "source": [
                "One of the key features of NumPy is its N-dimensional array object, or ndarray,\n",
                "which is a fast, flexible container for large datasets in Python. Arrays enable you to\n",
                "perform mathematical operations on whole blocks of data using similar syntax to the\n",
                "equivalent operations between scalar elements.\n"
            ],
            "metadata": {
                "azdata_cell_guid": "f70893fe-0ba7-4dba-9580-f39088c1e58c"
            }
        },
        {
            "cell_type": "code",
            "source": [
                "import numpy as np\n",
                "data = np.random.randn(2, 3)\n",
                "data"
            ],
            "metadata": {
                "azdata_cell_guid": "e5988cc9-3624-4ca9-972e-35008eaa5017",
                "language": "python"
            },
            "outputs": [
                {
                    "data": {
                        "text/plain": "array([[ 1.70711424, -0.00780693,  1.41368554],\n       [ 1.78780451,  1.13125281, -0.00795743]])"
                    },
                    "metadata": {},
                    "execution_count": 1,
                    "output_type": "execute_result"
                }
            ],
            "execution_count": 1
        },
        {
            "cell_type": "markdown",
            "source": [
                "Mathematical operations with data:"
            ],
            "metadata": {
                "azdata_cell_guid": "b0dfd131-3b17-49d9-b899-b3d7a060ac2d"
            }
        },
        {
            "cell_type": "code",
            "source": [
                "data * 10"
            ],
            "metadata": {
                "azdata_cell_guid": "0572299e-e57e-437e-ab59-758b5d250f8e",
                "language": "python"
            },
            "outputs": [
                {
                    "data": {
                        "text/plain": "array([[17.07114242, -0.07806926, 14.13685543],\n       [17.87804513, 11.31252814, -0.0795743 ]])"
                    },
                    "metadata": {},
                    "execution_count": 2,
                    "output_type": "execute_result"
                }
            ],
            "execution_count": 2
        },
        {
            "cell_type": "code",
            "source": [
                "data + data"
            ],
            "metadata": {
                "azdata_cell_guid": "891b740a-25cb-4f48-a241-ccd95991eef8",
                "language": "python"
            },
            "outputs": [
                {
                    "data": {
                        "text/plain": "array([[ 3.41422848, -0.01561385,  2.82737109],\n       [ 3.57560903,  2.26250563, -0.01591486]])"
                    },
                    "metadata": {},
                    "execution_count": 3,
                    "output_type": "execute_result"
                }
            ],
            "execution_count": 3
        },
        {
            "cell_type": "markdown",
            "source": [
                "An ndarray is a generic multidimensional container for homogeneous data; that is, all\r\n",
                "of the elements must be the same type. Every array has a shape, a tuple indicating the\r\n",
                "size of each dimension, and a dtype, an object describing the data type of the array:"
            ],
            "metadata": {
                "azdata_cell_guid": "7f00fbf5-4a5f-4841-86e2-4f0ed0fbc17d"
            }
        },
        {
            "cell_type": "code",
            "source": [
                "data.shape"
            ],
            "metadata": {
                "azdata_cell_guid": "c9c5a285-b159-4e3d-bd8d-c698c3de919e",
                "language": "python"
            },
            "outputs": [
                {
                    "data": {
                        "text/plain": "(2, 3)"
                    },
                    "metadata": {},
                    "execution_count": 4,
                    "output_type": "execute_result"
                }
            ],
            "execution_count": 4
        },
        {
            "cell_type": "code",
            "source": [
                "data.dtype"
            ],
            "metadata": {
                "azdata_cell_guid": "85baac70-b912-4276-8b25-11e5edafb62d",
                "language": "python"
            },
            "outputs": [
                {
                    "data": {
                        "text/plain": "dtype('float64')"
                    },
                    "metadata": {},
                    "execution_count": 5,
                    "output_type": "execute_result"
                }
            ],
            "execution_count": 5
        },
        {
            "cell_type": "markdown",
            "source": [
                "## Creating ndarrays"
            ],
            "metadata": {
                "azdata_cell_guid": "c7d52b89-fe9a-464c-a48e-6577fb50d4a4"
            }
        },
        {
            "cell_type": "code",
            "source": [
                "data1 = [6, 7.5, 8, 0, 1]\n",
                "arr1 = np.array(data1)\n",
                "arr1"
            ],
            "metadata": {
                "azdata_cell_guid": "eaf9a3b0-1aab-4dcb-8324-494d6121ae78",
                "language": "python"
            },
            "outputs": [
                {
                    "data": {
                        "text/plain": "array([6. , 7.5, 8. , 0. , 1. ])"
                    },
                    "metadata": {},
                    "execution_count": 6,
                    "output_type": "execute_result"
                }
            ],
            "execution_count": 6
        },
        {
            "cell_type": "markdown",
            "source": [
                "Nested sequences, like a list of equal-length lists, will be converted into a multidimensional array:"
            ],
            "metadata": {
                "azdata_cell_guid": "5ae86815-08ac-4265-9039-1eea2879d5f2"
            }
        },
        {
            "cell_type": "code",
            "source": [
                "data2 = [[1, 2, 3, 4], [5, 6, 7, 8]]\n",
                "arr2 = np.array(data2)\n",
                "arr2"
            ],
            "metadata": {
                "azdata_cell_guid": "d0255143-dbf3-4865-999a-1f17abc37cca",
                "language": "python"
            },
            "outputs": [
                {
                    "data": {
                        "text/plain": "array([[1, 2, 3, 4],\n       [5, 6, 7, 8]])"
                    },
                    "metadata": {},
                    "execution_count": 7,
                    "output_type": "execute_result"
                }
            ],
            "execution_count": 7
        },
        {
            "cell_type": "markdown",
            "source": [
                "Since data2 was a list of lists, the NumPy array arr2 has two dimensions with shape\n",
                "inferred from the data. We can confirm this by inspecting the ndim and shape\n",
                "attributes:"
            ],
            "metadata": {
                "azdata_cell_guid": "5690a483-d418-428d-a69a-a0c32ef361c9"
            }
        },
        {
            "cell_type": "code",
            "source": [
                "arr2.ndim"
            ],
            "metadata": {
                "azdata_cell_guid": "c09c52e0-5153-4789-9670-771da1632b65",
                "language": "python"
            },
            "outputs": [
                {
                    "data": {
                        "text/plain": "2"
                    },
                    "metadata": {},
                    "execution_count": 8,
                    "output_type": "execute_result"
                }
            ],
            "execution_count": 8
        },
        {
            "cell_type": "code",
            "source": [
                "arr2.shape"
            ],
            "metadata": {
                "azdata_cell_guid": "888c4fa6-6a2a-498e-98b8-472d35e438cb",
                "language": "python"
            },
            "outputs": [
                {
                    "data": {
                        "text/plain": "(2, 4)"
                    },
                    "metadata": {},
                    "execution_count": 9,
                    "output_type": "execute_result"
                }
            ],
            "execution_count": 9
        },
        {
            "cell_type": "markdown",
            "source": [
                "In addition to np.array, there are a number of other functions for creating new\n",
                "arrays. As examples, zeros and ones create arrays of 0s or 1s, respectively, with a\n",
                "given length or shape. empty creates an array without initializing its values to any particular value. \n",
                "To create a higher dimensional array with these methods, pass a tuple\n",
                "for the shape:"
            ],
            "metadata": {
                "azdata_cell_guid": "05a2dbfc-1149-4ef1-a2c9-732bf94484a9"
            }
        },
        {
            "cell_type": "code",
            "source": [
                "np.zeros(10)"
            ],
            "metadata": {
                "azdata_cell_guid": "15122b4a-c661-4a59-b21c-ca40292b19da",
                "language": "python"
            },
            "outputs": [
                {
                    "data": {
                        "text/plain": "array([0., 0., 0., 0., 0., 0., 0., 0., 0., 0.])"
                    },
                    "metadata": {},
                    "execution_count": 10,
                    "output_type": "execute_result"
                }
            ],
            "execution_count": 10
        },
        {
            "cell_type": "code",
            "source": [
                "np.zeros((3, 6))"
            ],
            "metadata": {
                "azdata_cell_guid": "a038b227-544a-48be-b312-b036f078b101",
                "language": "python"
            },
            "outputs": [
                {
                    "data": {
                        "text/plain": "array([[0., 0., 0., 0., 0., 0.],\n       [0., 0., 0., 0., 0., 0.],\n       [0., 0., 0., 0., 0., 0.]])"
                    },
                    "metadata": {},
                    "execution_count": 11,
                    "output_type": "execute_result"
                }
            ],
            "execution_count": 11
        },
        {
            "cell_type": "code",
            "source": [
                "np.empty((2, 3, 2))"
            ],
            "metadata": {
                "azdata_cell_guid": "9c6c99f0-1af4-4989-a502-b89d4114b4a8",
                "language": "python"
            },
            "outputs": [
                {
                    "data": {
                        "text/plain": "array([[[1.03826195e-311, 2.47032823e-322],\n        [0.00000000e+000, 0.00000000e+000],\n        [1.11260619e-306, 1.33664410e+160]],\n\n       [[5.00420339e-090, 3.27484594e+179],\n        [6.54513258e-043, 1.59922997e+160],\n        [3.99910963e+252, 4.04509213e-057]]])"
                    },
                    "metadata": {},
                    "execution_count": 12,
                    "output_type": "execute_result"
                }
            ],
            "execution_count": 12
        },
        {
            "cell_type": "markdown",
            "source": [
                "__It’s not safe to assume that np.empty will return an array of all\n",
                "zeros. In some cases, it may return uninitialized “garbage” values.__"
            ],
            "metadata": {
                "azdata_cell_guid": "a703bf63-7678-485b-8dcc-d2528c8449b4"
            }
        },
        {
            "cell_type": "markdown",
            "source": [
                "arange is an array-valued version of the built-in Python range function:"
            ],
            "metadata": {
                "azdata_cell_guid": "e8930309-79cf-4c69-8d36-8defae704c9f"
            }
        },
        {
            "cell_type": "code",
            "source": [
                "np.arange(15)"
            ],
            "metadata": {
                "azdata_cell_guid": "c32229fa-9e2b-450f-9537-fe9dcc11515f",
                "language": "python"
            },
            "outputs": [
                {
                    "data": {
                        "text/plain": "array([ 0,  1,  2,  3,  4,  5,  6,  7,  8,  9, 10, 11, 12, 13, 14])"
                    },
                    "metadata": {},
                    "execution_count": 13,
                    "output_type": "execute_result"
                }
            ],
            "execution_count": 13
        },
        {
            "cell_type": "markdown",
            "source": [
                "You can explicitly convert or cast an array from one dtype to another using ndarray’s\n",
                "astype method:"
            ],
            "metadata": {
                "azdata_cell_guid": "a24bacf8-a9df-433d-9d2f-80c33e2e3bff"
            }
        },
        {
            "cell_type": "code",
            "source": [
                "arr = np.array([1, 2, 3, 4, 5])\n",
                "arr.dtype"
            ],
            "metadata": {
                "azdata_cell_guid": "36433c0a-dfca-4787-9f0b-6ac8890ecad0",
                "language": "python"
            },
            "outputs": [
                {
                    "data": {
                        "text/plain": "dtype('int32')"
                    },
                    "metadata": {},
                    "execution_count": 14,
                    "output_type": "execute_result"
                }
            ],
            "execution_count": 14
        },
        {
            "cell_type": "code",
            "source": [
                "float_arr = arr.astype(np.float64)\n",
                "float_arr.dtype"
            ],
            "metadata": {
                "azdata_cell_guid": "2be46528-3c66-4804-82fc-02257796a0be",
                "language": "python"
            },
            "outputs": [
                {
                    "data": {
                        "text/plain": "dtype('float64')"
                    },
                    "metadata": {},
                    "execution_count": 15,
                    "output_type": "execute_result"
                }
            ],
            "execution_count": 15
        },
        {
            "cell_type": "markdown",
            "source": [
                "Floating-point numbers to integer dtype, the decimal part will be truncated:"
            ],
            "metadata": {
                "azdata_cell_guid": "810ed5f4-c314-420f-97ef-41269dfa0361"
            }
        },
        {
            "cell_type": "code",
            "source": [
                "arr = np.array([3.7, -1.2, -2.6, 0.5, 12.9, 10.1])\n",
                "arr"
            ],
            "metadata": {
                "azdata_cell_guid": "ef86e95c-a1af-440c-9d5b-238eb9bf3ae9",
                "language": "python"
            },
            "outputs": [
                {
                    "data": {
                        "text/plain": "array([ 3.7, -1.2, -2.6,  0.5, 12.9, 10.1])"
                    },
                    "metadata": {},
                    "execution_count": 16,
                    "output_type": "execute_result"
                }
            ],
            "execution_count": 16
        },
        {
            "cell_type": "code",
            "source": [
                "arr.astype(np.int32)"
            ],
            "metadata": {
                "azdata_cell_guid": "fdf7f1a1-d4bf-4325-9c01-b5b0ddb15076",
                "language": "python"
            },
            "outputs": [
                {
                    "data": {
                        "text/plain": "array([ 3, -1, -2,  0, 12, 10])"
                    },
                    "metadata": {},
                    "execution_count": 17,
                    "output_type": "execute_result"
                }
            ],
            "execution_count": 17
        },
        {
            "cell_type": "markdown",
            "source": [
                "If you have an array of strings representing numbers, you can use astype to convert\r\n",
                "them to numeric form:\r"
            ],
            "metadata": {
                "azdata_cell_guid": "2e546375-1d71-481e-80bf-4f50ddac5acf"
            }
        },
        {
            "cell_type": "code",
            "source": [
                "numeric_strings = np.array(['1.25', '-9.6', '42'], dtype=np.string_)\n",
                "numeric_strings.astype(float)"
            ],
            "metadata": {
                "azdata_cell_guid": "f3c8a8e1-bc1c-4aca-9e9e-57847bcbea7c",
                "language": "python"
            },
            "outputs": [
                {
                    "data": {
                        "text/plain": "array([ 1.25, -9.6 , 42.  ])"
                    },
                    "metadata": {},
                    "execution_count": 18,
                    "output_type": "execute_result"
                }
            ],
            "execution_count": 18
        },
        {
            "cell_type": "markdown",
            "source": [
                "__Calling astype always creates a new array (a copy of the data), even\n",
                "if the new dtype is the same as the old dtype.__"
            ],
            "metadata": {
                "azdata_cell_guid": "8cf2ebe4-7ce1-4e6e-9d8d-6a83538a1b70"
            }
        },
        {
            "cell_type": "markdown",
            "source": [
                "## Arithmetic with NumPy Arrays"
            ],
            "metadata": {
                "azdata_cell_guid": "0a4b6292-9f45-45c0-9344-0b62b411888b"
            }
        },
        {
            "cell_type": "markdown",
            "source": [
                "Any arithmetic\n",
                "operations between equal-size arrays applies the operation element-wise:\n"
            ],
            "metadata": {
                "azdata_cell_guid": "fe57e14c-8b89-48b9-b488-33262497c83a"
            }
        },
        {
            "cell_type": "code",
            "source": [
                "arr = np.array([[1., 2., 3.], [4., 5., 6.]])\n",
                "arr"
            ],
            "metadata": {
                "azdata_cell_guid": "1a357768-6272-43af-8b0c-9abb4c41b807",
                "language": "python"
            },
            "outputs": [
                {
                    "data": {
                        "text/plain": "array([[1., 2., 3.],\n       [4., 5., 6.]])"
                    },
                    "metadata": {},
                    "execution_count": 19,
                    "output_type": "execute_result"
                }
            ],
            "execution_count": 19
        },
        {
            "cell_type": "code",
            "source": [
                "arr * arr"
            ],
            "metadata": {
                "azdata_cell_guid": "3a19e4e1-989e-4e41-88cc-2b3a90e311d2",
                "language": "python"
            },
            "outputs": [
                {
                    "data": {
                        "text/plain": "array([[ 1.,  4.,  9.],\n       [16., 25., 36.]])"
                    },
                    "metadata": {},
                    "execution_count": 20,
                    "output_type": "execute_result"
                }
            ],
            "execution_count": 20
        },
        {
            "cell_type": "code",
            "source": [
                "arr - arr"
            ],
            "metadata": {
                "azdata_cell_guid": "af7aea10-0375-49b1-b33c-e611bd05c7cf",
                "language": "python"
            },
            "outputs": [
                {
                    "data": {
                        "text/plain": "array([[0., 0., 0.],\n       [0., 0., 0.]])"
                    },
                    "metadata": {},
                    "execution_count": 21,
                    "output_type": "execute_result"
                }
            ],
            "execution_count": 21
        },
        {
            "cell_type": "markdown",
            "source": [
                "Arithmetic operations with scalars propagate the scalar argument to each element in\n",
                "the array:"
            ],
            "metadata": {
                "azdata_cell_guid": "14650810-bfda-4f39-b8a3-b3b899a5db58"
            }
        },
        {
            "cell_type": "code",
            "source": [
                "1/arr"
            ],
            "metadata": {
                "azdata_cell_guid": "e6533967-c783-42c5-8437-73be4e1b87c7",
                "language": "python"
            },
            "outputs": [
                {
                    "data": {
                        "text/plain": "array([[1.        , 0.5       , 0.33333333],\n       [0.25      , 0.2       , 0.16666667]])"
                    },
                    "metadata": {},
                    "execution_count": 22,
                    "output_type": "execute_result"
                }
            ],
            "execution_count": 22
        },
        {
            "cell_type": "code",
            "source": [
                "arr ** 0.5"
            ],
            "metadata": {
                "azdata_cell_guid": "8961f0ce-c88b-4f04-b396-6373251213a7",
                "language": "python"
            },
            "outputs": [
                {
                    "data": {
                        "text/plain": "array([[1.        , 1.41421356, 1.73205081],\n       [2.        , 2.23606798, 2.44948974]])"
                    },
                    "metadata": {},
                    "execution_count": 23,
                    "output_type": "execute_result"
                }
            ],
            "execution_count": 23
        },
        {
            "cell_type": "code",
            "source": [
                "arr ** 2"
            ],
            "metadata": {
                "azdata_cell_guid": "cefeec36-bc23-45e2-b1e4-33c87583b915",
                "language": "python"
            },
            "outputs": [
                {
                    "data": {
                        "text/plain": "array([[ 1.,  4.,  9.],\n       [16., 25., 36.]])"
                    },
                    "metadata": {},
                    "execution_count": 24,
                    "output_type": "execute_result"
                }
            ],
            "execution_count": 24
        },
        {
            "cell_type": "markdown",
            "source": [
                "Comparisons between arrays of the same size yield boolean arrays:"
            ],
            "metadata": {
                "azdata_cell_guid": "d14c1fc9-ad0a-4eec-9160-5f542093d81b"
            }
        },
        {
            "cell_type": "code",
            "source": [
                "arr2 = np.array([[0., 4., 1.], [7., 2., 12.]])\n",
                "arr2"
            ],
            "metadata": {
                "azdata_cell_guid": "f0e877fd-2f68-4418-b7ee-bed805c6f945",
                "language": "python"
            },
            "outputs": [
                {
                    "data": {
                        "text/plain": "array([[ 0.,  4.,  1.],\n       [ 7.,  2., 12.]])"
                    },
                    "metadata": {},
                    "execution_count": 25,
                    "output_type": "execute_result"
                }
            ],
            "execution_count": 25
        },
        {
            "cell_type": "code",
            "source": [
                "arr2 > arr"
            ],
            "metadata": {
                "azdata_cell_guid": "81b396aa-9e15-418e-a415-502046d0ff41",
                "language": "python"
            },
            "outputs": [
                {
                    "data": {
                        "text/plain": "array([[False,  True, False],\n       [ True, False,  True]])"
                    },
                    "metadata": {},
                    "execution_count": 26,
                    "output_type": "execute_result"
                }
            ],
            "execution_count": 26
        },
        {
            "cell_type": "markdown",
            "source": [
                "## Basic Indexing and Slicing"
            ],
            "metadata": {
                "azdata_cell_guid": "04af85e4-dcf6-4c0f-8c85-bd77312b3a6c"
            }
        },
        {
            "cell_type": "markdown",
            "source": [
                "One-dimensional arrays are simple; on\n",
                "the surface they act similarly to Python lists:\n"
            ],
            "metadata": {
                "azdata_cell_guid": "39f18e30-fa5c-4c57-a913-4df26e4cf575"
            }
        },
        {
            "cell_type": "code",
            "source": [
                "arr = np.arange(10)\n",
                "arr"
            ],
            "metadata": {
                "azdata_cell_guid": "b3dd3173-b2d7-46f2-85d9-a88f64880b4f",
                "language": "python"
            },
            "outputs": [
                {
                    "data": {
                        "text/plain": "array([0, 1, 2, 3, 4, 5, 6, 7, 8, 9])"
                    },
                    "metadata": {},
                    "execution_count": 27,
                    "output_type": "execute_result"
                }
            ],
            "execution_count": 27
        },
        {
            "cell_type": "code",
            "source": [
                "arr[5]"
            ],
            "metadata": {
                "azdata_cell_guid": "46f0bddf-c006-4c5f-b40c-364edacf9f18",
                "language": "python"
            },
            "outputs": [
                {
                    "data": {
                        "text/plain": "5"
                    },
                    "metadata": {},
                    "execution_count": 28,
                    "output_type": "execute_result"
                }
            ],
            "execution_count": 28
        },
        {
            "cell_type": "code",
            "source": [
                "arr[5:8]"
            ],
            "metadata": {
                "azdata_cell_guid": "7e77d3b4-47bc-4805-9f08-77ff7e2961ea",
                "language": "python"
            },
            "outputs": [
                {
                    "data": {
                        "text/plain": "array([5, 6, 7])"
                    },
                    "metadata": {},
                    "execution_count": 29,
                    "output_type": "execute_result"
                }
            ],
            "execution_count": 29
        },
        {
            "cell_type": "code",
            "source": [
                "arr[5:8] = 12\n",
                "arr"
            ],
            "metadata": {
                "azdata_cell_guid": "7ebcf45d-2cb1-4bb7-9441-7e2167a6d96c",
                "language": "python"
            },
            "outputs": [
                {
                    "data": {
                        "text/plain": "array([ 0,  1,  2,  3,  4, 12, 12, 12,  8,  9])"
                    },
                    "metadata": {},
                    "execution_count": 30,
                    "output_type": "execute_result"
                }
            ],
            "execution_count": 30
        },
        {
            "cell_type": "markdown",
            "source": [
                "If you assign a scalar value to a slice, as in arr[5:8] = 12, the value is\n",
                "propagated (or broadcasted henceforth) to the entire selection. An important first distinction from Python’s built-in lists is that array slices are views on the original array.\n",
                "This means that the data is not copied, and any modifications to the view will be\n",
                "reflected in the source array."
            ],
            "metadata": {
                "azdata_cell_guid": "f12e3334-f4e0-4b63-ba19-27e600d708be"
            }
        },
        {
            "cell_type": "code",
            "source": [
                "arr_slice = arr[5:8]\n",
                "arr_slice"
            ],
            "metadata": {
                "azdata_cell_guid": "aaab6458-1567-4c00-9943-74581af2b65c",
                "language": "python"
            },
            "outputs": [
                {
                    "data": {
                        "text/plain": "array([12, 12, 12])"
                    },
                    "metadata": {},
                    "execution_count": 31,
                    "output_type": "execute_result"
                }
            ],
            "execution_count": 31
        },
        {
            "cell_type": "markdown",
            "source": [
                "Now, when I change values in arr_slice, the mutations are reflected in the original\n",
                "array arr:"
            ],
            "metadata": {
                "azdata_cell_guid": "f06dbd6c-0a42-406b-8b8b-5a10c696567c"
            }
        },
        {
            "cell_type": "code",
            "source": [
                "arr_slice[1] = 12345\n",
                "arr"
            ],
            "metadata": {
                "azdata_cell_guid": "08b7ad13-0534-4dea-bfa2-70792872d1dc",
                "language": "python"
            },
            "outputs": [
                {
                    "data": {
                        "text/plain": "array([    0,     1,     2,     3,     4,    12, 12345,    12,     8,\n           9])"
                    },
                    "metadata": {},
                    "execution_count": 32,
                    "output_type": "execute_result"
                }
            ],
            "execution_count": 32
        },
        {
            "cell_type": "markdown",
            "source": [
                "The “bare” slice [:] will assign to all values in an array:\n"
            ],
            "metadata": {
                "azdata_cell_guid": "efe4bf07-7fb9-4e47-a7d9-77f4c0bc633e"
            }
        },
        {
            "cell_type": "code",
            "source": [
                "arr_slice[:] = 64\n",
                "arr"
            ],
            "metadata": {
                "azdata_cell_guid": "a5e60ddc-073c-403f-b8da-c73991331c7b",
                "language": "python"
            },
            "outputs": [
                {
                    "data": {
                        "text/plain": "array([ 0,  1,  2,  3,  4, 64, 64, 64,  8,  9])"
                    },
                    "metadata": {},
                    "execution_count": 33,
                    "output_type": "execute_result"
                }
            ],
            "execution_count": 33
        },
        {
            "cell_type": "markdown",
            "source": [
                "__If you want a copy of a slice of an ndarray instead of a view, you\n",
                "will need to explicitly copy the array—for example,\n",
                "arr[5:8].copy().__"
            ],
            "metadata": {
                "azdata_cell_guid": "df418dea-654b-41ee-9738-beeded671297"
            }
        },
        {
            "cell_type": "markdown",
            "source": [
                "With higher dimensional arrays, you have many more options. In a two-dimensional\n",
                "array, the elements at each index are no longer scalars but rather one-dimensional\n",
                "arrays:"
            ],
            "metadata": {
                "azdata_cell_guid": "5e8614ac-46e1-4357-a5ca-fbefba05ac52"
            }
        },
        {
            "cell_type": "code",
            "source": [
                "arr2d = np.array([[1, 2, 3], [4, 5, 6], [7, 8, 9]])\n",
                "arr2d[2]"
            ],
            "metadata": {
                "azdata_cell_guid": "7fdc6e3a-1adc-4c52-b787-142f01e41b73",
                "language": "python"
            },
            "outputs": [
                {
                    "data": {
                        "text/plain": "array([7, 8, 9])"
                    },
                    "metadata": {},
                    "execution_count": 34,
                    "output_type": "execute_result"
                }
            ],
            "execution_count": 34
        },
        {
            "cell_type": "markdown",
            "source": [
                "Individual elements can be accessed recursively. But that is a bit too much\n",
                "work, so you can pass a comma-separated list of indices to select individual elements.\n",
                "So these are equivalent:"
            ],
            "metadata": {
                "azdata_cell_guid": "24f564a3-9d65-4a5f-a7dd-4374ca611db1"
            }
        },
        {
            "cell_type": "code",
            "source": [
                "arr2d[0][2]"
            ],
            "metadata": {
                "azdata_cell_guid": "2ccaf55f-9668-484c-9e31-347915721b77",
                "language": "python"
            },
            "outputs": [
                {
                    "data": {
                        "text/plain": "3"
                    },
                    "metadata": {},
                    "execution_count": 35,
                    "output_type": "execute_result"
                }
            ],
            "execution_count": 35
        },
        {
            "cell_type": "code",
            "source": [
                "arr2d[0, 2]"
            ],
            "metadata": {
                "azdata_cell_guid": "9551dc86-9a33-4322-8edb-dc66347bf199",
                "language": "python"
            },
            "outputs": [
                {
                    "data": {
                        "text/plain": "3"
                    },
                    "metadata": {},
                    "execution_count": 36,
                    "output_type": "execute_result"
                }
            ],
            "execution_count": 36
        },
        {
            "cell_type": "markdown",
            "source": [
                "### Indexing with slices"
            ],
            "metadata": {
                "azdata_cell_guid": "4bfa19c0-a1e1-4b23-b9fa-3745fe86acb0"
            }
        },
        {
            "cell_type": "code",
            "source": [
                "arr"
            ],
            "metadata": {
                "azdata_cell_guid": "8313311a-c5dd-4877-a29f-c308a31bccde",
                "language": "python"
            },
            "outputs": [
                {
                    "data": {
                        "text/plain": "array([ 0,  1,  2,  3,  4, 64, 64, 64,  8,  9])"
                    },
                    "metadata": {},
                    "execution_count": 37,
                    "output_type": "execute_result"
                }
            ],
            "execution_count": 37
        },
        {
            "cell_type": "code",
            "source": [
                "arr[1:6]"
            ],
            "metadata": {
                "azdata_cell_guid": "9a548e7d-be11-404f-b418-8747224c8b12",
                "language": "python"
            },
            "outputs": [
                {
                    "data": {
                        "text/plain": "array([ 1,  2,  3,  4, 64])"
                    },
                    "metadata": {},
                    "execution_count": 38,
                    "output_type": "execute_result"
                }
            ],
            "execution_count": 38
        },
        {
            "cell_type": "code",
            "source": [
                "arr2d"
            ],
            "metadata": {
                "azdata_cell_guid": "826bf9f6-c3f5-4abb-98c8-5cc07231413a",
                "language": "python"
            },
            "outputs": [
                {
                    "data": {
                        "text/plain": "array([[1, 2, 3],\n       [4, 5, 6],\n       [7, 8, 9]])"
                    },
                    "metadata": {},
                    "execution_count": 39,
                    "output_type": "execute_result"
                }
            ],
            "execution_count": 39
        },
        {
            "cell_type": "code",
            "source": [
                "# select the first two rows of arr2d\n",
                "arr2d[:2]"
            ],
            "metadata": {
                "azdata_cell_guid": "38ad6c81-680e-4a94-a951-06a3723db676",
                "language": "python"
            },
            "outputs": [
                {
                    "data": {
                        "text/plain": "array([[1, 2, 3],\n       [4, 5, 6]])"
                    },
                    "metadata": {},
                    "execution_count": 40,
                    "output_type": "execute_result"
                }
            ],
            "execution_count": 40
        },
        {
            "cell_type": "markdown",
            "source": [
                "You can pass multiple slices just like you can pass multiple indexes:\r"
            ],
            "metadata": {
                "azdata_cell_guid": "f4508306-9b6c-4b2c-b78a-61267f06e626"
            }
        },
        {
            "cell_type": "code",
            "source": [
                "arr2d[:2, 1:]"
            ],
            "metadata": {
                "azdata_cell_guid": "45cb8246-a48f-49a8-9b4a-16fae070e941",
                "language": "python"
            },
            "outputs": [
                {
                    "data": {
                        "text/plain": "array([[2, 3],\n       [5, 6]])"
                    },
                    "metadata": {},
                    "execution_count": 41,
                    "output_type": "execute_result"
                }
            ],
            "execution_count": 41
        },
        {
            "cell_type": "markdown",
            "source": [
                "A colon by itself means to take the entire axis, so you can slice only higher dimensional axes by doing:"
            ],
            "metadata": {
                "azdata_cell_guid": "a2e4b024-367f-48b3-ad46-136b32ed6ae9"
            }
        },
        {
            "cell_type": "code",
            "source": [
                "arr2d[:, :1]"
            ],
            "metadata": {
                "azdata_cell_guid": "45c96f59-d149-463c-a467-0e7627c89516",
                "language": "python"
            },
            "outputs": [
                {
                    "data": {
                        "text/plain": "array([[1],\n       [4],\n       [7]])"
                    },
                    "metadata": {},
                    "execution_count": 42,
                    "output_type": "execute_result"
                }
            ],
            "execution_count": 42
        },
        {
            "cell_type": "markdown",
            "source": [
                "assigning to a slice expression assigns to the whole selection:"
            ],
            "metadata": {
                "azdata_cell_guid": "4de84028-b2e5-4249-b165-6c4e7a1030a2"
            }
        },
        {
            "cell_type": "code",
            "source": [
                "arr2d[:2, 1:] = 0\n",
                "arr2d"
            ],
            "metadata": {
                "azdata_cell_guid": "53fc7fa4-b3c1-4448-9b77-b950942ef0bd",
                "language": "python"
            },
            "outputs": [
                {
                    "data": {
                        "text/plain": "array([[1, 0, 0],\n       [4, 0, 0],\n       [7, 8, 9]])"
                    },
                    "metadata": {},
                    "execution_count": 43,
                    "output_type": "execute_result"
                }
            ],
            "execution_count": 43
        },
        {
            "cell_type": "markdown",
            "source": [
                "### Boolean Indexing"
            ],
            "metadata": {
                "azdata_cell_guid": "8c5c0132-f3dc-418f-8367-6f0afa2b4605"
            }
        },
        {
            "cell_type": "code",
            "source": [
                "names = np.array(['Bob', 'Joe', 'Will', 'Bob', 'Will', 'Joe', 'Joe'])\n",
                "data = np.random.randn(7, 4)"
            ],
            "metadata": {
                "azdata_cell_guid": "09470ec3-4f18-44d3-b402-f8af5dafeb79",
                "language": "python"
            },
            "outputs": [],
            "execution_count": 44
        },
        {
            "cell_type": "code",
            "source": [
                "names"
            ],
            "metadata": {
                "azdata_cell_guid": "d81497c5-be96-48d6-9486-e528e4035476",
                "language": "python"
            },
            "outputs": [
                {
                    "data": {
                        "text/plain": "array(['Bob', 'Joe', 'Will', 'Bob', 'Will', 'Joe', 'Joe'], dtype='<U4')"
                    },
                    "metadata": {},
                    "execution_count": 45,
                    "output_type": "execute_result"
                }
            ],
            "execution_count": 45
        },
        {
            "cell_type": "code",
            "source": [
                "data"
            ],
            "metadata": {
                "azdata_cell_guid": "627887bd-a3f5-4aa4-8f9e-a1f99eab1213",
                "language": "python"
            },
            "outputs": [
                {
                    "data": {
                        "text/plain": "array([[ 0.3157424 ,  0.48432906,  1.58276321, -0.83536298],\n       [ 0.59054629, -0.62682942,  0.05776601,  0.01598715],\n       [-0.04461529,  0.36645246,  0.97852935, -0.11568767],\n       [ 1.53157082,  0.11114096,  1.2506333 ,  0.25644025],\n       [-0.81825988, -1.67306661, -0.48577036, -1.82430723],\n       [-0.44330955, -1.01933055, -0.09803769, -0.98990702],\n       [ 0.36562507, -1.2419268 ,  0.15738086, -0.62665508]])"
                    },
                    "metadata": {},
                    "execution_count": 46,
                    "output_type": "execute_result"
                }
            ],
            "execution_count": 46
        },
        {
            "cell_type": "code",
            "source": [
                "names == 'Bob'"
            ],
            "metadata": {
                "azdata_cell_guid": "7156f8d6-eb0d-4354-b82f-0ac36e33645a",
                "language": "python"
            },
            "outputs": [
                {
                    "data": {
                        "text/plain": "array([ True, False, False,  True, False, False, False])"
                    },
                    "metadata": {},
                    "execution_count": 47,
                    "output_type": "execute_result"
                }
            ],
            "execution_count": 47
        },
        {
            "cell_type": "code",
            "source": [
                "data[names == 'Bob']"
            ],
            "metadata": {
                "azdata_cell_guid": "76e04f95-d952-4e8b-ae76-dd7396a45de8",
                "language": "python"
            },
            "outputs": [
                {
                    "data": {
                        "text/plain": "array([[ 0.3157424 ,  0.48432906,  1.58276321, -0.83536298],\n       [ 1.53157082,  0.11114096,  1.2506333 ,  0.25644025]])"
                    },
                    "metadata": {},
                    "execution_count": 48,
                    "output_type": "execute_result"
                }
            ],
            "execution_count": 48
        },
        {
            "cell_type": "markdown",
            "source": [
                "__The boolean array must be of the same length as the array axis it’s indexing.__"
            ],
            "metadata": {
                "azdata_cell_guid": "4b84b164-cd94-43a2-94bc-335e20a18ab6"
            }
        },
        {
            "cell_type": "code",
            "source": [
                "data[names == 'Bob', 2:]"
            ],
            "metadata": {
                "azdata_cell_guid": "c40a8e6d-ecdd-4ccb-8465-ca2ba458b554",
                "language": "python"
            },
            "outputs": [
                {
                    "data": {
                        "text/plain": "array([[ 1.58276321, -0.83536298],\n       [ 1.2506333 ,  0.25644025]])"
                    },
                    "metadata": {},
                    "execution_count": 49,
                    "output_type": "execute_result"
                }
            ],
            "execution_count": 49
        },
        {
            "cell_type": "code",
            "source": [
                "data[names == 'Bob', 3]"
            ],
            "metadata": {
                "azdata_cell_guid": "c50e4d91-d9b1-4c82-a492-fd2cc91b621f",
                "language": "python"
            },
            "outputs": [
                {
                    "data": {
                        "text/plain": "array([-0.83536298,  0.25644025])"
                    },
                    "metadata": {},
                    "execution_count": 50,
                    "output_type": "execute_result"
                }
            ],
            "execution_count": 50
        },
        {
            "cell_type": "markdown",
            "source": [
                "To select everything but 'Bob', you can either use != or negate the condition using ~:\n"
            ],
            "metadata": {
                "azdata_cell_guid": "2555531f-a822-4257-af1b-941ab63498e5"
            }
        },
        {
            "cell_type": "code",
            "source": [
                "names != 'Bob'"
            ],
            "metadata": {
                "azdata_cell_guid": "45c924b3-a2fa-41a2-a5b7-88ce4ecfd79f",
                "language": "python"
            },
            "outputs": [
                {
                    "data": {
                        "text/plain": "array([False,  True,  True, False,  True,  True,  True])"
                    },
                    "metadata": {},
                    "execution_count": 51,
                    "output_type": "execute_result"
                }
            ],
            "execution_count": 51
        },
        {
            "cell_type": "code",
            "source": [
                "data[~(names == 'Bob')]"
            ],
            "metadata": {
                "azdata_cell_guid": "bfde6411-fd89-4860-abd2-befa9413f4ed",
                "language": "python"
            },
            "outputs": [
                {
                    "data": {
                        "text/plain": "array([[ 0.59054629, -0.62682942,  0.05776601,  0.01598715],\n       [-0.04461529,  0.36645246,  0.97852935, -0.11568767],\n       [-0.81825988, -1.67306661, -0.48577036, -1.82430723],\n       [-0.44330955, -1.01933055, -0.09803769, -0.98990702],\n       [ 0.36562507, -1.2419268 ,  0.15738086, -0.62665508]])"
                    },
                    "metadata": {},
                    "execution_count": 52,
                    "output_type": "execute_result"
                }
            ],
            "execution_count": 52
        },
        {
            "cell_type": "markdown",
            "source": [
                "The ~ operator can be useful when you want to invert a general condition:\r"
            ],
            "metadata": {
                "azdata_cell_guid": "7cdc1d8a-da4c-4cf1-aa77-7a16a38be595"
            }
        },
        {
            "cell_type": "code",
            "source": [
                "cond = names == 'Bob'\n",
                "data[~cond]"
            ],
            "metadata": {
                "azdata_cell_guid": "8cb81618-7f75-4668-b8da-46b198bf28e9",
                "language": "python"
            },
            "outputs": [
                {
                    "data": {
                        "text/plain": "array([[ 0.59054629, -0.62682942,  0.05776601,  0.01598715],\n       [-0.04461529,  0.36645246,  0.97852935, -0.11568767],\n       [-0.81825988, -1.67306661, -0.48577036, -1.82430723],\n       [-0.44330955, -1.01933055, -0.09803769, -0.98990702],\n       [ 0.36562507, -1.2419268 ,  0.15738086, -0.62665508]])"
                    },
                    "metadata": {},
                    "execution_count": 53,
                    "output_type": "execute_result"
                }
            ],
            "execution_count": 53
        },
        {
            "cell_type": "markdown",
            "source": [
                "Selecting two of the three names to combine multiple boolean conditions, use\n",
                "boolean arithmetic operators like & (and) and | (or):"
            ],
            "metadata": {
                "azdata_cell_guid": "5ced396e-d966-4bd0-96ac-b2ef3e545498"
            }
        },
        {
            "cell_type": "code",
            "source": [
                "mask = (names == 'Bob') | (names == 'Will')\n",
                "mask"
            ],
            "metadata": {
                "azdata_cell_guid": "deeab330-ec44-4f5c-abcc-0e17fe4a77db",
                "language": "python"
            },
            "outputs": [
                {
                    "data": {
                        "text/plain": "array([ True, False,  True,  True,  True, False, False])"
                    },
                    "metadata": {},
                    "execution_count": 54,
                    "output_type": "execute_result"
                }
            ],
            "execution_count": 54
        },
        {
            "cell_type": "markdown",
            "source": [
                "_The Python keywords and and or do not work with boolean arrays.\n",
                "Use __&__ (and) and __|__ (or) instead._"
            ],
            "metadata": {
                "azdata_cell_guid": "5dec3949-f877-44f3-9f1d-f124f36d6b9f"
            }
        },
        {
            "cell_type": "markdown",
            "source": [
                "Selecting data from an array by boolean indexing always creates a copy of the data,\n",
                "even if the returned array is unchanged.\n"
            ],
            "metadata": {
                "azdata_cell_guid": "f3c40d49-eb61-45f1-b354-19000736cd6d"
            }
        },
        {
            "cell_type": "markdown",
            "source": [
                "Setting values with boolean arrays works in a common-sense way. To set all of the\n",
                "negative values in data to 0 we need only do:"
            ],
            "metadata": {
                "azdata_cell_guid": "d958cb1c-e6af-4e9f-9695-1420e763efb8"
            }
        },
        {
            "cell_type": "code",
            "source": [
                "data[data < 0] = 0\n",
                "data"
            ],
            "metadata": {
                "azdata_cell_guid": "4bf156a8-fe85-4196-9231-18eac5bae941",
                "language": "python"
            },
            "outputs": [
                {
                    "data": {
                        "text/plain": "array([[0.3157424 , 0.48432906, 1.58276321, 0.        ],\n       [0.59054629, 0.        , 0.05776601, 0.01598715],\n       [0.        , 0.36645246, 0.97852935, 0.        ],\n       [1.53157082, 0.11114096, 1.2506333 , 0.25644025],\n       [0.        , 0.        , 0.        , 0.        ],\n       [0.        , 0.        , 0.        , 0.        ],\n       [0.36562507, 0.        , 0.15738086, 0.        ]])"
                    },
                    "metadata": {},
                    "execution_count": 55,
                    "output_type": "execute_result"
                }
            ],
            "execution_count": 55
        },
        {
            "cell_type": "markdown",
            "source": [
                "Setting whole rows or columns using a one-dimensional boolean array is also easy:\r"
            ],
            "metadata": {
                "azdata_cell_guid": "f9f3d7a2-fdd9-4a2c-8775-752ffce879a2"
            }
        },
        {
            "cell_type": "code",
            "source": [
                "data[names != 'Joe'] = 7\n",
                "data"
            ],
            "metadata": {
                "azdata_cell_guid": "36499916-6252-41ac-afde-a43e8770e1bd",
                "language": "python"
            },
            "outputs": [
                {
                    "data": {
                        "text/plain": "array([[7.        , 7.        , 7.        , 7.        ],\n       [0.59054629, 0.        , 0.05776601, 0.01598715],\n       [7.        , 7.        , 7.        , 7.        ],\n       [7.        , 7.        , 7.        , 7.        ],\n       [7.        , 7.        , 7.        , 7.        ],\n       [0.        , 0.        , 0.        , 0.        ],\n       [0.36562507, 0.        , 0.15738086, 0.        ]])"
                    },
                    "metadata": {},
                    "execution_count": 56,
                    "output_type": "execute_result"
                }
            ],
            "execution_count": 56
        },
        {
            "cell_type": "markdown",
            "source": [
                "### Fancy Indexing\n"
            ],
            "metadata": {
                "azdata_cell_guid": "9e7f82cf-487e-4612-8fb3-3c25392c1199"
            }
        },
        {
            "cell_type": "code",
            "source": [
                "arr = np.empty((8, 4))\n",
                "for i in range(8):\n",
                "    arr[i] = i\n",
                "arr"
            ],
            "metadata": {
                "azdata_cell_guid": "9da90275-7880-44d1-a9bc-f4b15a7c52ba",
                "language": "python"
            },
            "outputs": [
                {
                    "data": {
                        "text/plain": "array([[0., 0., 0., 0.],\n       [1., 1., 1., 1.],\n       [2., 2., 2., 2.],\n       [3., 3., 3., 3.],\n       [4., 4., 4., 4.],\n       [5., 5., 5., 5.],\n       [6., 6., 6., 6.],\n       [7., 7., 7., 7.]])"
                    },
                    "metadata": {},
                    "execution_count": 57,
                    "output_type": "execute_result"
                }
            ],
            "execution_count": 57
        },
        {
            "cell_type": "markdown",
            "source": [
                "To select out a subset of the rows in a particular order, you can simply pass a list or\n",
                "ndarray of integers specifying the desired order:"
            ],
            "metadata": {
                "azdata_cell_guid": "e3c00d52-f11a-4ed3-a738-4478fd69a27b"
            }
        },
        {
            "cell_type": "code",
            "source": [
                "arr[[4, 3, 0, 6]]"
            ],
            "metadata": {
                "azdata_cell_guid": "c7708aee-4a61-4042-a1a7-336df574fa9a",
                "language": "python"
            },
            "outputs": [
                {
                    "data": {
                        "text/plain": "array([[4., 4., 4., 4.],\n       [3., 3., 3., 3.],\n       [0., 0., 0., 0.],\n       [6., 6., 6., 6.]])"
                    },
                    "metadata": {},
                    "execution_count": 58,
                    "output_type": "execute_result"
                }
            ],
            "execution_count": 58
        },
        {
            "cell_type": "markdown",
            "source": [
                "Using negative indices selects rows from\n",
                "the end:"
            ],
            "metadata": {
                "azdata_cell_guid": "460ce0bd-c1d7-420b-bda9-75c7ef4816e4"
            }
        },
        {
            "cell_type": "code",
            "source": [
                "arr[[-3, -5, -7]]"
            ],
            "metadata": {
                "azdata_cell_guid": "c2e9ae61-b0f7-4928-a7c8-5b0a935267e9",
                "language": "python"
            },
            "outputs": [
                {
                    "data": {
                        "text/plain": "array([[5., 5., 5., 5.],\n       [3., 3., 3., 3.],\n       [1., 1., 1., 1.]])"
                    },
                    "metadata": {},
                    "execution_count": 59,
                    "output_type": "execute_result"
                }
            ],
            "execution_count": 59
        },
        {
            "cell_type": "markdown",
            "source": [
                "Passing multiple index arrays does something slightly different; it selects a onedimensional array of elements corresponding to each tuple of indices:"
            ],
            "metadata": {
                "azdata_cell_guid": "07a98a54-4556-4638-b0cd-dafd50efd4e4"
            }
        },
        {
            "cell_type": "code",
            "source": [
                "arr = np.arange(32).reshape((8, 4))\n",
                "arr"
            ],
            "metadata": {
                "azdata_cell_guid": "39dd46e9-ee70-4ee3-8b22-f03738591da1",
                "language": "python"
            },
            "outputs": [
                {
                    "data": {
                        "text/plain": "array([[ 0,  1,  2,  3],\n       [ 4,  5,  6,  7],\n       [ 8,  9, 10, 11],\n       [12, 13, 14, 15],\n       [16, 17, 18, 19],\n       [20, 21, 22, 23],\n       [24, 25, 26, 27],\n       [28, 29, 30, 31]])"
                    },
                    "metadata": {},
                    "execution_count": 75,
                    "output_type": "execute_result"
                }
            ],
            "execution_count": 75
        },
        {
            "cell_type": "code",
            "source": [
                "arr[[1, 5, 7, 2], [0, 3, 1, 2]]"
            ],
            "metadata": {
                "azdata_cell_guid": "2ffae5e8-e8e8-4783-bca0-09dff2f3e94b",
                "language": "python"
            },
            "outputs": [
                {
                    "data": {
                        "text/plain": "array([ 4, 23, 29, 10])"
                    },
                    "metadata": {},
                    "execution_count": 61,
                    "output_type": "execute_result"
                }
            ],
            "execution_count": 61
        },
        {
            "cell_type": "markdown",
            "source": [
                "## **Array Manipulation**"
            ],
            "metadata": {
                "azdata_cell_guid": "8c726b4b-fe54-4328-95d6-c061e20502e4"
            },
            "attachments": {}
        },
        {
            "cell_type": "markdown",
            "source": [
                "### **Shape**"
            ],
            "metadata": {
                "language": "python",
                "azdata_cell_guid": "7a8ca388-9820-462a-820e-eda3e9ca1f8e"
            },
            "attachments": {}
        },
        {
            "cell_type": "code",
            "source": [
                "#Flatten the array\r\n",
                "arr.ravel()"
            ],
            "metadata": {
                "language": "python",
                "azdata_cell_guid": "42eaa64b-0023-4add-8cd9-e478512d7454"
            },
            "outputs": [
                {
                    "data": {
                        "text/plain": "array([ 0,  1,  2,  3,  4,  5,  6,  7,  8,  9, 10, 11, 12, 13, 14, 15, 16,\n       17, 18, 19, 20, 21, 22, 23, 24, 25, 26, 27, 28, 29, 30, 31])"
                    },
                    "metadata": {},
                    "execution_count": 83,
                    "output_type": "execute_result"
                }
            ],
            "execution_count": 83
        },
        {
            "cell_type": "code",
            "source": [
                "#Reshape\r\n",
                "arr.reshape(4, 8)"
            ],
            "metadata": {
                "language": "python",
                "azdata_cell_guid": "a65c43d7-0cae-498c-88b5-726191054bc0"
            },
            "outputs": [
                {
                    "data": {
                        "text/plain": "array([[ 0,  1,  2,  3,  4,  5,  6,  7],\n       [ 8,  9, 10, 11, 12, 13, 14, 15],\n       [16, 17, 18, 19, 20, 21, 22, 23],\n       [24, 25, 26, 27, 28, 29, 30, 31]])"
                    },
                    "metadata": {},
                    "execution_count": 84,
                    "output_type": "execute_result"
                }
            ],
            "execution_count": 84
        },
        {
            "cell_type": "markdown",
            "source": [
                "### <span style=\"color: var(--vscode-foreground);\"><b>Concatenation</b></span>"
            ],
            "metadata": {
                "language": "python",
                "azdata_cell_guid": "073859ba-924f-40df-8f49-b28f0eea6fea"
            },
            "attachments": {}
        },
        {
            "cell_type": "code",
            "source": [
                "arr1 = np.array([1, 2, 3])\r\n",
                "arr2 = np.array([4, 5, 6])\r\n",
                "\r\n",
                "print(np.concatenate((arr1, arr2)))  # Output: [1 2 3 4 5 6]"
            ],
            "metadata": {
                "language": "python",
                "azdata_cell_guid": "102faf03-1bf2-41fd-a7ac-2a9d1b651b32"
            },
            "outputs": [
                {
                    "name": "stdout",
                    "text": "[1 2 3 4 5 6]\n",
                    "output_type": "stream"
                }
            ],
            "execution_count": null
        },
        {
            "cell_type": "markdown",
            "source": [
                "### <span style=\"color: var(--vscode-foreground);\"><b>Stacking Arrays</b></span>"
            ],
            "metadata": {
                "azdata_cell_guid": "6ab82853-6773-49af-8450-888562c95e80"
            },
            "attachments": {}
        },
        {
            "cell_type": "code",
            "source": [
                "arr1 = np.array([[1, 2], [3, 4]])\r\n",
                "arr2 = np.array([[5, 6], [7, 8]])\r\n",
                "\r\n",
                "# Vertical stacking\r\n",
                "print(np.vstack((arr1, arr2)))  "
            ],
            "metadata": {
                "azdata_cell_guid": "0af2fe04-ccc2-4483-8eed-42c5dd24d1e5",
                "language": "python"
            },
            "outputs": [
                {
                    "name": "stdout",
                    "text": "[[1 2]\n [3 4]\n [5 6]\n [7 8]]\n",
                    "output_type": "stream"
                }
            ],
            "execution_count": 91
        },
        {
            "cell_type": "code",
            "source": [
                "# Horizontal stacking\r\n",
                "print(np.hstack((arr1, arr2)))  "
            ],
            "metadata": {
                "language": "python",
                "azdata_cell_guid": "0d8ffd6c-7192-486a-bc3d-8b6e2cafa500"
            },
            "outputs": [
                {
                    "name": "stdout",
                    "text": "[[1 2 5 6]\n [3 4 7 8]]\n",
                    "output_type": "stream"
                }
            ],
            "execution_count": 92
        },
        {
            "cell_type": "markdown",
            "source": [
                "### <span style=\"color: var(--vscode-foreground);\"><b>Splitting Arrays</b></span>"
            ],
            "metadata": {
                "azdata_cell_guid": "f90ab538-476e-4d4e-aab9-1e24315ebabf"
            },
            "attachments": {}
        },
        {
            "cell_type": "code",
            "source": [
                "arr = np.array([1, 2, 3, 4, 5, 6])\r\n",
                "\r\n",
                "# Split into 3 equal parts\r\n",
                "print(np.array_split(arr, 3))\r\n",
                "\r\n",
                "# 2D array split\r\n",
                "arr2 = np.array([[1, 2, 3], [4, 5, 6]])\r\n",
                "print(np.hsplit(arr2, 3))   "
            ],
            "metadata": {
                "azdata_cell_guid": "ba531f44-a50c-435b-8381-366d0b9229dd",
                "language": "python"
            },
            "outputs": [
                {
                    "name": "stdout",
                    "text": "[array([1, 2]), array([3, 4]), array([5, 6])]\n[array([[1],\n       [4]]), array([[2],\n       [5]]), array([[3],\n       [6]])]\n",
                    "output_type": "stream"
                }
            ],
            "execution_count": 89
        },
        {
            "cell_type": "markdown",
            "source": [
                "### **Transposing Arrays and Swapping Axes**"
            ],
            "metadata": {
                "azdata_cell_guid": "a64b75a5-f966-4870-bd76-ed062beee9aa"
            },
            "attachments": {}
        },
        {
            "cell_type": "markdown",
            "source": [
                "Transposing is a special form of reshaping that similarly returns a view on the underlying data without copying anything. \n",
                "Arrays have the transpose method and also the\n",
                "special T attribute:"
            ],
            "metadata": {
                "azdata_cell_guid": "6cf82e90-0de1-4b25-bd33-34594f15e939"
            }
        },
        {
            "cell_type": "code",
            "source": [
                "arr = np.arange(15).reshape((3, 5))\n",
                "arr"
            ],
            "metadata": {
                "azdata_cell_guid": "53e9fa37-bf65-4d08-9865-911123bbbc60",
                "language": "python"
            },
            "outputs": [
                {
                    "data": {
                        "text/plain": "array([[ 0,  1,  2,  3,  4],\n       [ 5,  6,  7,  8,  9],\n       [10, 11, 12, 13, 14]])"
                    },
                    "metadata": {},
                    "execution_count": 62,
                    "output_type": "execute_result"
                }
            ],
            "execution_count": 62
        },
        {
            "cell_type": "code",
            "source": [
                "arr.T"
            ],
            "metadata": {
                "azdata_cell_guid": "aec9a3ea-5749-4cbe-91b8-7c82594358c3",
                "language": "python"
            },
            "outputs": [
                {
                    "data": {
                        "text/plain": "array([[ 0,  5, 10],\n       [ 1,  6, 11],\n       [ 2,  7, 12],\n       [ 3,  8, 13],\n       [ 4,  9, 14]])"
                    },
                    "metadata": {},
                    "execution_count": 63,
                    "output_type": "execute_result"
                }
            ],
            "execution_count": 63
        },
        {
            "cell_type": "markdown",
            "source": [
                "Computing the inner matrix product using np.dot:"
            ],
            "metadata": {
                "azdata_cell_guid": "736201f8-8118-4ea2-bf36-ac1b2351f25b"
            }
        },
        {
            "cell_type": "code",
            "source": [
                "arr = np.random.randn(6, 3)\n",
                "arr"
            ],
            "metadata": {
                "azdata_cell_guid": "27e287b3-9ec0-47fe-b8f7-5e145b46dea1",
                "language": "python"
            },
            "outputs": [
                {
                    "data": {
                        "text/plain": "array([[ 0.89149983, -0.1730681 ,  0.69016842],\n       [-1.33947885, -1.04573436, -1.11770286],\n       [-0.86124593, -0.26178767, -0.6775262 ],\n       [-0.62449125, -0.32288311, -0.57821005],\n       [ 0.51104472,  0.45066708,  1.58840419],\n       [ 0.19345132, -0.56883514,  1.59172422]])"
                    },
                    "metadata": {},
                    "execution_count": 64,
                    "output_type": "execute_result"
                }
            ],
            "execution_count": 64
        },
        {
            "cell_type": "code",
            "source": [
                "np.dot(arr.T, arr)"
            ],
            "metadata": {
                "azdata_cell_guid": "0a9af316-198b-43d2-8f73-3ab7e6e8a5b1",
                "language": "python"
            },
            "outputs": [
                {
                    "data": {
                        "text/plain": "array([[4.01929955, 1.79381924, 4.17669492],\n       [1.79381924, 1.82297344, 1.22384921],\n       [4.17669492, 1.22384921, 7.57557461]])"
                    },
                    "metadata": {},
                    "execution_count": 65,
                    "output_type": "execute_result"
                }
            ],
            "execution_count": 65
        },
        {
            "cell_type": "markdown",
            "source": [
                "For higher dimensional arrays, transpose will accept a tuple of axis numbers to per‐\r\n",
                "mute the axes (for extra mind bending):\r"
            ],
            "metadata": {
                "azdata_cell_guid": "61a08c64-2f62-43dd-a10c-7727144481e7"
            }
        },
        {
            "cell_type": "code",
            "source": [
                "arr = np.arange(16).reshape((2, 2, 4))\n",
                "arr"
            ],
            "metadata": {
                "azdata_cell_guid": "bc126499-1b6e-4a1f-bc5c-00f220f0c87c",
                "language": "python"
            },
            "outputs": [
                {
                    "data": {
                        "text/plain": "array([[[ 0,  1,  2,  3],\n        [ 4,  5,  6,  7]],\n\n       [[ 8,  9, 10, 11],\n        [12, 13, 14, 15]]])"
                    },
                    "metadata": {},
                    "execution_count": 66,
                    "output_type": "execute_result"
                }
            ],
            "execution_count": 66
        },
        {
            "cell_type": "code",
            "source": [
                "arr.transpose((1, 0, 2))"
            ],
            "metadata": {
                "azdata_cell_guid": "562d1f04-51b6-4855-a295-36e7f0213ef0",
                "language": "python"
            },
            "outputs": [
                {
                    "data": {
                        "text/plain": "array([[[ 0,  1,  2,  3],\n        [ 8,  9, 10, 11]],\n\n       [[ 4,  5,  6,  7],\n        [12, 13, 14, 15]]])"
                    },
                    "metadata": {},
                    "execution_count": 67,
                    "output_type": "execute_result"
                }
            ],
            "execution_count": 67
        },
        {
            "cell_type": "markdown",
            "source": [
                "_Here, the axes have been reordered with the second axis first, the first axis second,\n",
                "and the last axis unchanged._"
            ],
            "metadata": {
                "azdata_cell_guid": "98f13f61-31ae-485b-a7bd-eb9a6453a019"
            }
        },
        {
            "cell_type": "markdown",
            "source": [
                "ndarray has the method\n",
                "swapaxes, which takes a pair of axis numbers and switches the indicated axes to rearrange the data:\n"
            ],
            "metadata": {
                "azdata_cell_guid": "1621cb98-3066-4eaa-8534-c5e8dcee85a0"
            }
        },
        {
            "cell_type": "code",
            "source": [
                "arr"
            ],
            "metadata": {
                "azdata_cell_guid": "2ba0e92b-fd0d-4efb-a690-63abec8a1312",
                "language": "python"
            },
            "outputs": [
                {
                    "data": {
                        "text/plain": "array([[[ 0,  1,  2,  3],\n        [ 4,  5,  6,  7]],\n\n       [[ 8,  9, 10, 11],\n        [12, 13, 14, 15]]])"
                    },
                    "metadata": {},
                    "execution_count": 68,
                    "output_type": "execute_result"
                }
            ],
            "execution_count": 68
        },
        {
            "cell_type": "code",
            "source": [
                "arr.swapaxes(1, 2)"
            ],
            "metadata": {
                "azdata_cell_guid": "a02b0532-7fd0-47ef-9feb-d6966ae9739f",
                "language": "python"
            },
            "outputs": [
                {
                    "data": {
                        "text/plain": "array([[[ 0,  4],\n        [ 1,  5],\n        [ 2,  6],\n        [ 3,  7]],\n\n       [[ 8, 12],\n        [ 9, 13],\n        [10, 14],\n        [11, 15]]])"
                    },
                    "metadata": {},
                    "execution_count": 69,
                    "output_type": "execute_result"
                }
            ],
            "execution_count": 69
        },
        {
            "cell_type": "markdown",
            "source": [
                "## **Universal Functions**"
            ],
            "metadata": {
                "azdata_cell_guid": "736f2f1d-58ad-4a27-823d-fcdacb7940ee"
            },
            "attachments": {}
        },
        {
            "cell_type": "code",
            "source": [
                "# NumPy provides universal functions which operate element-wise on arrays.\r\n",
                "\r\n",
                "arr = np.array([1, 2, 3, 4, 5])\r\n",
                "\r\n",
                "print(np.sqrt(arr))  # Output: [1.         1.41421356 1.73205081 2.         2.23606798]\r\n",
                "print(np.exp(arr))   # Output: [  2.71828183   7.3890561   20.08553692  54.59815003 148.4131591 ]\r\n",
                "print(np.sin(arr))   # Output: [ 0.84147098  0.90929743  0.14112001 -0.7568025  -0.95892427]\r\n",
                ""
            ],
            "metadata": {
                "azdata_cell_guid": "71e9a085-3d83-4ac6-b97b-cc3051426a9d",
                "language": "python"
            },
            "outputs": [
                {
                    "name": "stdout",
                    "text": "[1.         1.41421356 1.73205081 2.         2.23606798]\n[  2.71828183   7.3890561   20.08553692  54.59815003 148.4131591 ]\n[ 0.84147098  0.90929743  0.14112001 -0.7568025  -0.95892427]\n",
                    "output_type": "stream"
                }
            ],
            "execution_count": 71
        },
        {
            "cell_type": "markdown",
            "source": [
                "## **Aggregate Functions**"
            ],
            "metadata": {
                "azdata_cell_guid": "ee915429-4c09-4391-bf98-f5cfe06ac18e"
            },
            "attachments": {}
        },
        {
            "cell_type": "code",
            "source": [
                "arr = np.array([[1, 2, 3], [4, 5, 6]])\r\n",
                "\r\n",
                "print(np.sum(arr))          # Output: 21\r\n",
                "print(np.mean(arr))         # Output: 3.5\r\n",
                "print(np.min(arr))          # Output: 1\r\n",
                "print(np.max(arr))          # Output: 6\r\n",
                "print(np.std(arr))          # Output: 1.707825127659933\r\n",
                "print(np.sum(arr, axis=0))  # Output: [5 7 9]\r\n",
                "print(np.sum(arr, axis=1))  # Output: [ 6 15]"
            ],
            "metadata": {
                "azdata_cell_guid": "735fbae7-086b-47a6-b710-2f41ed515057",
                "language": "python"
            },
            "outputs": [
                {
                    "name": "stdout",
                    "text": "21\n3.5\n1\n6\n1.707825127659933\n[5 7 9]\n[ 6 15]\n",
                    "output_type": "stream"
                }
            ],
            "execution_count": 88
        },
        {
            "cell_type": "markdown",
            "source": [
                "## **Linear Algebra**"
            ],
            "metadata": {
                "azdata_cell_guid": "e9fdf3ba-3038-4357-8277-d8ba7a69e40f"
            },
            "attachments": {}
        },
        {
            "cell_type": "code",
            "source": [
                "from numpy.linalg import inv, det\r\n",
                "\r\n",
                "# Matrix inversion\r\n",
                "matrix = np.array([[1, 2], [3, 4]])\r\n",
                "print(inv(matrix))\r\n",
                "\r\n",
                "# Determinant\r\n",
                "print(det(matrix)) "
            ],
            "metadata": {
                "azdata_cell_guid": "6837aec7-4554-44a7-8c79-5ac31b86a502",
                "language": "python"
            },
            "outputs": [
                {
                    "name": "stdout",
                    "text": "[[-2.   1. ]\n [ 1.5 -0.5]]\n-2.0000000000000004\n",
                    "output_type": "stream"
                }
            ],
            "execution_count": 93
        },
        {
            "cell_type": "markdown",
            "source": [
                "## **Random**"
            ],
            "metadata": {
                "azdata_cell_guid": "56a4087b-19af-4f43-99cb-933a1c98d998"
            },
            "attachments": {}
        },
        {
            "cell_type": "code",
            "source": [
                "# Generate random numbers\r\n",
                "print(np.random.rand(3, 3))  # 3x3 matrix with random values between 0 and 1"
            ],
            "metadata": {
                "azdata_cell_guid": "a5514528-8801-4ce9-8883-066ef8956252",
                "language": "python"
            },
            "outputs": [
                {
                    "name": "stdout",
                    "text": "[[0.3673713  0.83235371 0.35515607]\n [0.95219651 0.56363207 0.49368345]\n [0.24095285 0.99542876 0.30385172]]\n",
                    "output_type": "stream"
                }
            ],
            "execution_count": 96
        },
        {
            "cell_type": "code",
            "source": [
                "# Random integers\r\n",
                "print(np.random.randint(0, 10, (3, 3)))  # 3x3 matrix with random integers between 0 and 10"
            ],
            "metadata": {
                "language": "python",
                "azdata_cell_guid": "200f6ab1-0a9a-4477-8f11-038852621c5a"
            },
            "outputs": [
                {
                    "name": "stdout",
                    "text": "[[8 8 6]\n [7 3 3]\n [9 7 4]]\n",
                    "output_type": "stream"
                }
            ],
            "execution_count": 97
        },
        {
            "cell_type": "code",
            "source": [
                "# Normal distribution\r\n",
                "print(np.random.normal(0, 1, (3, 3)))  # 3x3 matrix with normally distributed values (mean=0, std=1)"
            ],
            "metadata": {
                "language": "python",
                "azdata_cell_guid": "ece6b48a-26a1-4138-9cf7-fa21ead594af"
            },
            "outputs": [
                {
                    "name": "stdout",
                    "text": "[[-0.76308174  0.53944209  1.77192912]\n [-0.50041475 -0.63977491 -1.61595337]\n [ 1.10750481  1.04624606 -1.37154815]]\n",
                    "output_type": "stream"
                }
            ],
            "execution_count": 98
        },
        {
            "cell_type": "markdown",
            "source": [
                "## **Files**"
            ],
            "metadata": {
                "azdata_cell_guid": "694c0640-f865-46fe-b4fa-509159c8b153"
            },
            "attachments": {}
        },
        {
            "cell_type": "code",
            "source": [
                "arr = np.array([1, 2, 3, 4, 5])\r\n",
                "\r\n",
                "# Save to a file\r\n",
                "np.save('my_array.npy', arr)"
            ],
            "metadata": {
                "azdata_cell_guid": "7cc3d0f3-ac09-4bee-b08b-5a226f300abe",
                "language": "python"
            },
            "outputs": [],
            "execution_count": 99
        },
        {
            "cell_type": "code",
            "source": [
                "# Load from a file\r\n",
                "loaded_arr = np.load('my_array.npy')\r\n",
                "print(loaded_arr) "
            ],
            "metadata": {
                "language": "python",
                "azdata_cell_guid": "62374921-2030-4904-9858-10920e05ea62"
            },
            "outputs": [
                {
                    "name": "stdout",
                    "text": "[1 2 3 4 5]\n",
                    "output_type": "stream"
                }
            ],
            "execution_count": 100
        }
    ]
}