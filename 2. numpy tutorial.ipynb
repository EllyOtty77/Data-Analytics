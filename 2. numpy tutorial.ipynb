{
 "cells": [
  {
   "cell_type": "markdown",
   "id": "c540a246-1862-4c08-af2c-8eb4f63c85ea",
   "metadata": {},
   "source": [
    "# The NumPy ndarray:"
   ]
  },
  {
   "cell_type": "markdown",
   "id": "fd7e08a2-538d-40ad-8395-d53cf5f4f100",
   "metadata": {},
   "source": [
    "One of the key features of NumPy is its N-dimensional array object, or ndarray,\n",
    "which is a fast, flexible container for large datasets in Python. Arrays enable you to\n",
    "perform mathematical operations on whole blocks of data using similar syntax to the\n",
    "equivalent operations between scalar elements.\n"
   ]
  },
  {
   "cell_type": "code",
   "execution_count": 1,
   "id": "eb35cebe-6fed-4aa6-b6e0-88e80690d331",
   "metadata": {},
   "outputs": [
    {
     "data": {
      "text/plain": [
       "array([[ 0.57970995,  0.96560127, -0.46138148],\n",
       "       [ 0.02451126,  0.6514051 ,  0.21259157]])"
      ]
     },
     "execution_count": 1,
     "metadata": {},
     "output_type": "execute_result"
    }
   ],
   "source": [
    "import numpy as np\n",
    "data = np.random.randn(2, 3)\n",
    "data"
   ]
  },
  {
   "cell_type": "markdown",
   "id": "bd260036-8e67-4fa6-814b-8e55437d4f82",
   "metadata": {},
   "source": [
    "Mathematical operations with data:"
   ]
  },
  {
   "cell_type": "code",
   "execution_count": 2,
   "id": "974c8868-ddbc-4e76-8ea0-45a8e90e64e2",
   "metadata": {},
   "outputs": [
    {
     "data": {
      "text/plain": [
       "array([[ 5.79709949,  9.65601266, -4.61381476],\n",
       "       [ 0.24511262,  6.514051  ,  2.12591574]])"
      ]
     },
     "execution_count": 2,
     "metadata": {},
     "output_type": "execute_result"
    }
   ],
   "source": [
    "data * 10"
   ]
  },
  {
   "cell_type": "code",
   "execution_count": 3,
   "id": "bf9e839a-0b13-4be0-98a5-b92e89d451df",
   "metadata": {},
   "outputs": [
    {
     "data": {
      "text/plain": [
       "array([[ 1.1594199 ,  1.93120253, -0.92276295],\n",
       "       [ 0.04902252,  1.3028102 ,  0.42518315]])"
      ]
     },
     "execution_count": 3,
     "metadata": {},
     "output_type": "execute_result"
    }
   ],
   "source": [
    "data + data"
   ]
  },
  {
   "cell_type": "markdown",
   "id": "dc519c37-e7d3-4664-9db8-dcc8c95c49c1",
   "metadata": {},
   "source": [
    "An ndarray is a generic multidimensional container for homogeneous data; that is, all\r\n",
    "of the elements must be the same type. Every array has a shape, a tuple indicating the\r\n",
    "size of each dimension, and a dtype, an object describing the data type of the array:"
   ]
  },
  {
   "cell_type": "code",
   "execution_count": 4,
   "id": "95481f15-5b3e-4cd6-8fb0-fa12d9b39914",
   "metadata": {},
   "outputs": [
    {
     "data": {
      "text/plain": [
       "(2, 3)"
      ]
     },
     "execution_count": 4,
     "metadata": {},
     "output_type": "execute_result"
    }
   ],
   "source": [
    "data.shape"
   ]
  },
  {
   "cell_type": "code",
   "execution_count": 5,
   "id": "6e605cde-5076-4dd0-8a81-a6d9bf3455f3",
   "metadata": {},
   "outputs": [
    {
     "data": {
      "text/plain": [
       "dtype('float64')"
      ]
     },
     "execution_count": 5,
     "metadata": {},
     "output_type": "execute_result"
    }
   ],
   "source": [
    "data.dtype"
   ]
  },
  {
   "cell_type": "markdown",
   "id": "abe8dbcd-8e99-4a81-8fa9-16e604f3be33",
   "metadata": {},
   "source": [
    "## Creating ndarrays"
   ]
  },
  {
   "cell_type": "code",
   "execution_count": 6,
   "id": "d7b3b57c-2361-4000-88b1-55d93171eddf",
   "metadata": {},
   "outputs": [
    {
     "data": {
      "text/plain": [
       "array([6. , 7.5, 8. , 0. , 1. ])"
      ]
     },
     "execution_count": 6,
     "metadata": {},
     "output_type": "execute_result"
    }
   ],
   "source": [
    "data1 = [6, 7.5, 8, 0, 1]\n",
    "arr1 = np.array(data1)\n",
    "arr1"
   ]
  },
  {
   "cell_type": "markdown",
   "id": "055dbf20-0274-4dd8-8ce8-6039cb1b4399",
   "metadata": {},
   "source": [
    "Nested sequences, like a list of equal-length lists, will be converted into a multidimensional array:"
   ]
  },
  {
   "cell_type": "code",
   "execution_count": 7,
   "id": "ac9df5df-7384-4a3b-9f74-791fa8d4aaee",
   "metadata": {},
   "outputs": [
    {
     "data": {
      "text/plain": [
       "array([[1, 2, 3, 4],\n",
       "       [5, 6, 7, 8]])"
      ]
     },
     "execution_count": 7,
     "metadata": {},
     "output_type": "execute_result"
    }
   ],
   "source": [
    "data2 = [[1, 2, 3, 4], [5, 6, 7, 8]]\n",
    "arr2 = np.array(data2)\n",
    "arr2"
   ]
  },
  {
   "cell_type": "markdown",
   "id": "64a0c6b3-a605-40fd-9a6f-78c693332fbe",
   "metadata": {},
   "source": [
    "Since data2 was a list of lists, the NumPy array arr2 has two dimensions with shape\n",
    "inferred from the data. We can confirm this by inspecting the ndim and shape\n",
    "attributes:"
   ]
  },
  {
   "cell_type": "code",
   "execution_count": 8,
   "id": "79703303-932c-4c11-84ef-c39715314f06",
   "metadata": {},
   "outputs": [
    {
     "data": {
      "text/plain": [
       "2"
      ]
     },
     "execution_count": 8,
     "metadata": {},
     "output_type": "execute_result"
    }
   ],
   "source": [
    "arr2.ndim"
   ]
  },
  {
   "cell_type": "code",
   "execution_count": 9,
   "id": "7c701163-f5a0-45b8-9e93-016a503697e6",
   "metadata": {},
   "outputs": [
    {
     "data": {
      "text/plain": [
       "(2, 4)"
      ]
     },
     "execution_count": 9,
     "metadata": {},
     "output_type": "execute_result"
    }
   ],
   "source": [
    "arr2.shape"
   ]
  },
  {
   "cell_type": "markdown",
   "id": "c72e5a97-00ed-42db-a4f4-54eca15413f2",
   "metadata": {},
   "source": [
    "In addition to np.array, there are a number of other functions for creating new\n",
    "arrays. As examples, zeros and ones create arrays of 0s or 1s, respectively, with a\n",
    "given length or shape. empty creates an array without initializing its values to any particular value. \n",
    "To create a higher dimensional array with these methods, pass a tuple\n",
    "for the shape:"
   ]
  },
  {
   "cell_type": "code",
   "execution_count": 10,
   "id": "f572b277-a4b8-44d9-b0d7-533ebcb8b0e7",
   "metadata": {},
   "outputs": [
    {
     "data": {
      "text/plain": [
       "array([0., 0., 0., 0., 0., 0., 0., 0., 0., 0.])"
      ]
     },
     "execution_count": 10,
     "metadata": {},
     "output_type": "execute_result"
    }
   ],
   "source": [
    "np.zeros(10)"
   ]
  },
  {
   "cell_type": "code",
   "execution_count": 11,
   "id": "459c044e-7da2-4122-bc45-5d9956dc515d",
   "metadata": {},
   "outputs": [
    {
     "data": {
      "text/plain": [
       "array([[0., 0., 0., 0., 0., 0.],\n",
       "       [0., 0., 0., 0., 0., 0.],\n",
       "       [0., 0., 0., 0., 0., 0.]])"
      ]
     },
     "execution_count": 11,
     "metadata": {},
     "output_type": "execute_result"
    }
   ],
   "source": [
    "np.zeros((3, 6))"
   ]
  },
  {
   "cell_type": "code",
   "execution_count": 12,
   "id": "f4bfd5a9-438d-44a0-8c03-0802cb98f00c",
   "metadata": {},
   "outputs": [
    {
     "data": {
      "text/plain": [
       "array([[[1.01855798e-312, 1.10343781e-312],\n",
       "        [1.01855798e-312, 9.54898106e-313],\n",
       "        [1.06099790e-312, 1.01855798e-312]],\n",
       "\n",
       "       [[1.23075756e-312, 1.08221785e-312],\n",
       "        [1.12465777e-312, 9.76118064e-313],\n",
       "        [1.14587773e-312, 1.90979621e-312]]])"
      ]
     },
     "execution_count": 12,
     "metadata": {},
     "output_type": "execute_result"
    }
   ],
   "source": [
    "np.empty((2, 3, 2))"
   ]
  },
  {
   "cell_type": "markdown",
   "id": "96013969-cda8-461e-8af8-6aa0ef810a6d",
   "metadata": {},
   "source": [
    "__It’s not safe to assume that np.empty will return an array of all\n",
    "zeros. In some cases, it may return uninitialized “garbage” values.__"
   ]
  },
  {
   "cell_type": "markdown",
   "id": "f98744e9-e1dc-4ea1-a814-b1b945197df3",
   "metadata": {},
   "source": [
    "arange is an array-valued version of the built-in Python range function:"
   ]
  },
  {
   "cell_type": "code",
   "execution_count": 13,
   "id": "605b317c-2989-4a3b-9aaa-8b540f5e642e",
   "metadata": {},
   "outputs": [
    {
     "data": {
      "text/plain": [
       "array([ 0,  1,  2,  3,  4,  5,  6,  7,  8,  9, 10, 11, 12, 13, 14])"
      ]
     },
     "execution_count": 13,
     "metadata": {},
     "output_type": "execute_result"
    }
   ],
   "source": [
    "np.arange(15)"
   ]
  },
  {
   "cell_type": "markdown",
   "id": "89d1c85a-7c96-46e5-80e9-4441315674cc",
   "metadata": {},
   "source": [
    "You can explicitly convert or cast an array from one dtype to another using ndarray’s\n",
    "astype method:"
   ]
  },
  {
   "cell_type": "code",
   "execution_count": 14,
   "id": "9dcbeca8-f7d3-421a-9564-800b610cfa2c",
   "metadata": {},
   "outputs": [
    {
     "data": {
      "text/plain": [
       "dtype('int32')"
      ]
     },
     "execution_count": 14,
     "metadata": {},
     "output_type": "execute_result"
    }
   ],
   "source": [
    "arr = np.array([1, 2, 3, 4, 5])\n",
    "arr.dtype"
   ]
  },
  {
   "cell_type": "code",
   "execution_count": 15,
   "id": "86b68e05-1ec9-441b-9fa3-3740e0a8c9e7",
   "metadata": {},
   "outputs": [
    {
     "data": {
      "text/plain": [
       "dtype('float64')"
      ]
     },
     "execution_count": 15,
     "metadata": {},
     "output_type": "execute_result"
    }
   ],
   "source": [
    "float_arr = arr.astype(np.float64)\n",
    "float_arr.dtype"
   ]
  },
  {
   "cell_type": "markdown",
   "id": "f40b2aa5-f447-4ae7-80c9-492c0c4a560b",
   "metadata": {},
   "source": [
    "Floating-point numbers to integer dtype, the decimal part will be truncated:"
   ]
  },
  {
   "cell_type": "code",
   "execution_count": 16,
   "id": "96951ccc-12a1-45c4-8d9b-c2f24d5fbfa1",
   "metadata": {},
   "outputs": [
    {
     "data": {
      "text/plain": [
       "array([ 3.7, -1.2, -2.6,  0.5, 12.9, 10.1])"
      ]
     },
     "execution_count": 16,
     "metadata": {},
     "output_type": "execute_result"
    }
   ],
   "source": [
    "arr = np.array([3.7, -1.2, -2.6, 0.5, 12.9, 10.1])\n",
    "arr"
   ]
  },
  {
   "cell_type": "code",
   "execution_count": 17,
   "id": "8ac3326c-183d-4c4e-9771-f317d8f7f111",
   "metadata": {},
   "outputs": [
    {
     "data": {
      "text/plain": [
       "array([ 3, -1, -2,  0, 12, 10])"
      ]
     },
     "execution_count": 17,
     "metadata": {},
     "output_type": "execute_result"
    }
   ],
   "source": [
    "arr.astype(np.int32)"
   ]
  },
  {
   "cell_type": "markdown",
   "id": "7e57b164-44ba-4924-95c4-a2bf6ea51bba",
   "metadata": {},
   "source": [
    "If you have an array of strings representing numbers, you can use astype to convert\r\n",
    "them to numeric form:\r"
   ]
  },
  {
   "cell_type": "code",
   "execution_count": 18,
   "id": "8a26df9c-255c-4313-98b1-afa57653f34d",
   "metadata": {},
   "outputs": [
    {
     "data": {
      "text/plain": [
       "array([ 1.25, -9.6 , 42.  ])"
      ]
     },
     "execution_count": 18,
     "metadata": {},
     "output_type": "execute_result"
    }
   ],
   "source": [
    "numeric_strings = np.array(['1.25', '-9.6', '42'], dtype=np.string_)\n",
    "numeric_strings.astype(float)"
   ]
  },
  {
   "cell_type": "markdown",
   "id": "422a3039-de23-4172-9312-e676ca6b41a0",
   "metadata": {},
   "source": [
    "__Calling astype always creates a new array (a copy of the data), even\n",
    "if the new dtype is the same as the old dtype.__"
   ]
  },
  {
   "cell_type": "markdown",
   "id": "9bd01729-3efc-436d-ae93-b5e39cf5ed48",
   "metadata": {},
   "source": [
    "## Arithmetic with NumPy Arrays"
   ]
  },
  {
   "cell_type": "markdown",
   "id": "60d3845d-890f-47ca-9edf-9e80a4033684",
   "metadata": {},
   "source": [
    "Any arithmetic\n",
    "operations between equal-size arrays applies the operation element-wise:\n"
   ]
  },
  {
   "cell_type": "code",
   "execution_count": 19,
   "id": "e40a1add-9c00-4d92-b3f4-179953735f7c",
   "metadata": {},
   "outputs": [
    {
     "data": {
      "text/plain": [
       "array([[1., 2., 3.],\n",
       "       [4., 5., 6.]])"
      ]
     },
     "execution_count": 19,
     "metadata": {},
     "output_type": "execute_result"
    }
   ],
   "source": [
    "arr = np.array([[1., 2., 3.], [4., 5., 6.]])\n",
    "arr"
   ]
  },
  {
   "cell_type": "code",
   "execution_count": 20,
   "id": "78fecdfe-4abe-42eb-9b89-7b39a5d67fe7",
   "metadata": {},
   "outputs": [
    {
     "data": {
      "text/plain": [
       "array([[ 1.,  4.,  9.],\n",
       "       [16., 25., 36.]])"
      ]
     },
     "execution_count": 20,
     "metadata": {},
     "output_type": "execute_result"
    }
   ],
   "source": [
    "arr * arr"
   ]
  },
  {
   "cell_type": "code",
   "execution_count": 21,
   "id": "aef5e8f1-69d1-4edb-a3fe-fd43c581adec",
   "metadata": {},
   "outputs": [
    {
     "data": {
      "text/plain": [
       "array([[0., 0., 0.],\n",
       "       [0., 0., 0.]])"
      ]
     },
     "execution_count": 21,
     "metadata": {},
     "output_type": "execute_result"
    }
   ],
   "source": [
    "arr - arr"
   ]
  },
  {
   "cell_type": "markdown",
   "id": "c6e98648-76c7-480f-ae3d-2b059b4697b5",
   "metadata": {},
   "source": [
    "Arithmetic operations with scalars propagate the scalar argument to each element in\n",
    "the array:"
   ]
  },
  {
   "cell_type": "code",
   "execution_count": 22,
   "id": "10f362b3-4254-4233-8d23-5d45412525a1",
   "metadata": {},
   "outputs": [
    {
     "data": {
      "text/plain": [
       "array([[1.        , 0.5       , 0.33333333],\n",
       "       [0.25      , 0.2       , 0.16666667]])"
      ]
     },
     "execution_count": 22,
     "metadata": {},
     "output_type": "execute_result"
    }
   ],
   "source": [
    "1/arr"
   ]
  },
  {
   "cell_type": "code",
   "execution_count": 23,
   "id": "4bef5824-2bee-4a0f-a511-2e41c72d6f00",
   "metadata": {},
   "outputs": [
    {
     "data": {
      "text/plain": [
       "array([[1.        , 1.41421356, 1.73205081],\n",
       "       [2.        , 2.23606798, 2.44948974]])"
      ]
     },
     "execution_count": 23,
     "metadata": {},
     "output_type": "execute_result"
    }
   ],
   "source": [
    "arr ** 0.5"
   ]
  },
  {
   "cell_type": "code",
   "execution_count": 24,
   "id": "ef291d12-59c1-44db-a541-c11da2b0513a",
   "metadata": {},
   "outputs": [
    {
     "data": {
      "text/plain": [
       "array([[ 1.,  4.,  9.],\n",
       "       [16., 25., 36.]])"
      ]
     },
     "execution_count": 24,
     "metadata": {},
     "output_type": "execute_result"
    }
   ],
   "source": [
    "arr ** 2"
   ]
  },
  {
   "cell_type": "markdown",
   "id": "d46d87b7-1944-4771-a446-75824f993f1e",
   "metadata": {},
   "source": [
    "Comparisons between arrays of the same size yield boolean arrays:"
   ]
  },
  {
   "cell_type": "code",
   "execution_count": 25,
   "id": "aa22ebab-ef06-495a-ac67-fe2b3d27dcd9",
   "metadata": {},
   "outputs": [
    {
     "data": {
      "text/plain": [
       "array([[ 0.,  4.,  1.],\n",
       "       [ 7.,  2., 12.]])"
      ]
     },
     "execution_count": 25,
     "metadata": {},
     "output_type": "execute_result"
    }
   ],
   "source": [
    "arr2 = np.array([[0., 4., 1.], [7., 2., 12.]])\n",
    "arr2"
   ]
  },
  {
   "cell_type": "code",
   "execution_count": 26,
   "id": "3526c215-797b-443d-b78e-6d32a799e1f1",
   "metadata": {},
   "outputs": [
    {
     "data": {
      "text/plain": [
       "array([[False,  True, False],\n",
       "       [ True, False,  True]])"
      ]
     },
     "execution_count": 26,
     "metadata": {},
     "output_type": "execute_result"
    }
   ],
   "source": [
    "arr2 > arr"
   ]
  },
  {
   "cell_type": "markdown",
   "id": "9f2f159a-e44a-4d5f-be7d-4c058f8cc370",
   "metadata": {},
   "source": [
    "## Basic Indexing and Slicing"
   ]
  },
  {
   "cell_type": "markdown",
   "id": "054e8b2a-0373-49cf-b5ca-3bd2a1d4565d",
   "metadata": {},
   "source": [
    "One-dimensional arrays are simple; on\n",
    "the surface they act similarly to Python lists:\n"
   ]
  },
  {
   "cell_type": "code",
   "execution_count": 27,
   "id": "5776f359-a658-4784-b6df-a70c6258c04f",
   "metadata": {},
   "outputs": [
    {
     "data": {
      "text/plain": [
       "array([0, 1, 2, 3, 4, 5, 6, 7, 8, 9])"
      ]
     },
     "execution_count": 27,
     "metadata": {},
     "output_type": "execute_result"
    }
   ],
   "source": [
    "arr = np.arange(10)\n",
    "arr"
   ]
  },
  {
   "cell_type": "code",
   "execution_count": 28,
   "id": "5700318b-3906-4685-ad5c-a9514974e343",
   "metadata": {},
   "outputs": [
    {
     "data": {
      "text/plain": [
       "5"
      ]
     },
     "execution_count": 28,
     "metadata": {},
     "output_type": "execute_result"
    }
   ],
   "source": [
    "arr[5]"
   ]
  },
  {
   "cell_type": "code",
   "execution_count": 29,
   "id": "08b26b34-6363-41bc-bfb8-d0a765b0b821",
   "metadata": {},
   "outputs": [
    {
     "data": {
      "text/plain": [
       "array([5, 6, 7])"
      ]
     },
     "execution_count": 29,
     "metadata": {},
     "output_type": "execute_result"
    }
   ],
   "source": [
    "arr[5:8]"
   ]
  },
  {
   "cell_type": "code",
   "execution_count": 30,
   "id": "6e9fcad4-b648-48cc-8221-5d06ae2afdcd",
   "metadata": {},
   "outputs": [
    {
     "data": {
      "text/plain": [
       "array([ 0,  1,  2,  3,  4, 12, 12, 12,  8,  9])"
      ]
     },
     "execution_count": 30,
     "metadata": {},
     "output_type": "execute_result"
    }
   ],
   "source": [
    "arr[5:8] = 12\n",
    "arr"
   ]
  },
  {
   "cell_type": "markdown",
   "id": "906ab0fd-8458-45ff-a9fd-10da2dcd25e9",
   "metadata": {},
   "source": [
    "If you assign a scalar value to a slice, as in arr[5:8] = 12, the value is\n",
    "propagated (or broadcasted henceforth) to the entire selection. An important first distinction from Python’s built-in lists is that array slices are views on the original array.\n",
    "This means that the data is not copied, and any modifications to the view will be\n",
    "reflected in the source array."
   ]
  },
  {
   "cell_type": "code",
   "execution_count": 31,
   "id": "598b98f7-f0ee-4634-88bb-f9096c1f0712",
   "metadata": {},
   "outputs": [
    {
     "data": {
      "text/plain": [
       "array([12, 12, 12])"
      ]
     },
     "execution_count": 31,
     "metadata": {},
     "output_type": "execute_result"
    }
   ],
   "source": [
    "arr_slice = arr[5:8]\n",
    "arr_slice"
   ]
  },
  {
   "cell_type": "markdown",
   "id": "78f04c23-8d46-44a5-a95d-a94b293dbea4",
   "metadata": {},
   "source": [
    "Now, when I change values in arr_slice, the mutations are reflected in the original\n",
    "array arr:"
   ]
  },
  {
   "cell_type": "code",
   "execution_count": 32,
   "id": "abacec57-5152-4167-9a08-052b28530c66",
   "metadata": {},
   "outputs": [
    {
     "data": {
      "text/plain": [
       "array([    0,     1,     2,     3,     4,    12, 12345,    12,     8,\n",
       "           9])"
      ]
     },
     "execution_count": 32,
     "metadata": {},
     "output_type": "execute_result"
    }
   ],
   "source": [
    "arr_slice[1] = 12345\n",
    "arr"
   ]
  },
  {
   "cell_type": "markdown",
   "id": "6f35d808-38a0-489b-81fd-5410e4e19041",
   "metadata": {},
   "source": [
    "The “bare” slice [:] will assign to all values in an array:\n"
   ]
  },
  {
   "cell_type": "code",
   "execution_count": 33,
   "id": "453f676d-0d3c-482b-949e-cd616803fb77",
   "metadata": {},
   "outputs": [
    {
     "data": {
      "text/plain": [
       "array([ 0,  1,  2,  3,  4, 64, 64, 64,  8,  9])"
      ]
     },
     "execution_count": 33,
     "metadata": {},
     "output_type": "execute_result"
    }
   ],
   "source": [
    "arr_slice[:] = 64\n",
    "arr"
   ]
  },
  {
   "cell_type": "markdown",
   "id": "9f6fc815-962d-42c5-b312-fc89442ceb0b",
   "metadata": {},
   "source": [
    "__If you want a copy of a slice of an ndarray instead of a view, you\n",
    "will need to explicitly copy the array—for example,\n",
    "arr[5:8].copy().__"
   ]
  },
  {
   "cell_type": "markdown",
   "id": "747d2906-699a-42db-948b-3477644038ec",
   "metadata": {},
   "source": [
    "With higher dimensional arrays, you have many more options. In a two-dimensional\n",
    "array, the elements at each index are no longer scalars but rather one-dimensional\n",
    "arrays:"
   ]
  },
  {
   "cell_type": "code",
   "execution_count": 35,
   "id": "b079d61f-3929-43ff-8a46-aefd7b6e39e8",
   "metadata": {},
   "outputs": [
    {
     "data": {
      "text/plain": [
       "array([7, 8, 9])"
      ]
     },
     "execution_count": 35,
     "metadata": {},
     "output_type": "execute_result"
    }
   ],
   "source": [
    "arr2d = np.array([[1, 2, 3], [4, 5, 6], [7, 8, 9]])\n",
    "arr2d[2]"
   ]
  },
  {
   "cell_type": "markdown",
   "id": "dbd2a3c1-b33b-4466-bb30-cc42e5f19ed1",
   "metadata": {},
   "source": [
    "Individual elements can be accessed recursively. But that is a bit too much\n",
    "work, so you can pass a comma-separated list of indices to select individual elements.\n",
    "So these are equivalent:"
   ]
  },
  {
   "cell_type": "code",
   "execution_count": 36,
   "id": "ea024b82-6db9-4906-b69f-24793deb056d",
   "metadata": {},
   "outputs": [
    {
     "data": {
      "text/plain": [
       "3"
      ]
     },
     "execution_count": 36,
     "metadata": {},
     "output_type": "execute_result"
    }
   ],
   "source": [
    "arr2d[0][2]"
   ]
  },
  {
   "cell_type": "code",
   "execution_count": 37,
   "id": "077b3b0d-e6e0-471c-979b-34b12b96453b",
   "metadata": {},
   "outputs": [
    {
     "data": {
      "text/plain": [
       "3"
      ]
     },
     "execution_count": 37,
     "metadata": {},
     "output_type": "execute_result"
    }
   ],
   "source": [
    "arr2d[0, 2]"
   ]
  },
  {
   "cell_type": "markdown",
   "id": "7d3b98d6-2c92-4583-864a-005513b3523e",
   "metadata": {},
   "source": [
    "### Indexing with slices"
   ]
  },
  {
   "cell_type": "code",
   "execution_count": 38,
   "id": "7d430008-9526-4768-835d-341d50f67e35",
   "metadata": {},
   "outputs": [
    {
     "data": {
      "text/plain": [
       "array([ 0,  1,  2,  3,  4, 64, 64, 64,  8,  9])"
      ]
     },
     "execution_count": 38,
     "metadata": {},
     "output_type": "execute_result"
    }
   ],
   "source": [
    "arr"
   ]
  },
  {
   "cell_type": "code",
   "execution_count": 39,
   "id": "670475be-8cbb-4623-8000-702899f80187",
   "metadata": {},
   "outputs": [
    {
     "data": {
      "text/plain": [
       "array([ 1,  2,  3,  4, 64])"
      ]
     },
     "execution_count": 39,
     "metadata": {},
     "output_type": "execute_result"
    }
   ],
   "source": [
    "arr[1:6]"
   ]
  },
  {
   "cell_type": "code",
   "execution_count": 40,
   "id": "3dbc50c4-42ec-471f-8914-8c321f6184fe",
   "metadata": {},
   "outputs": [
    {
     "data": {
      "text/plain": [
       "array([[1, 2, 3],\n",
       "       [4, 5, 6],\n",
       "       [7, 8, 9]])"
      ]
     },
     "execution_count": 40,
     "metadata": {},
     "output_type": "execute_result"
    }
   ],
   "source": [
    "arr2d"
   ]
  },
  {
   "cell_type": "code",
   "execution_count": 41,
   "id": "9a97fdd4-b79a-4dbf-8493-c88c555e7151",
   "metadata": {},
   "outputs": [
    {
     "data": {
      "text/plain": [
       "array([[1, 2, 3],\n",
       "       [4, 5, 6]])"
      ]
     },
     "execution_count": 41,
     "metadata": {},
     "output_type": "execute_result"
    }
   ],
   "source": [
    "# select the first two rows of arr2d\n",
    "arr2d[:2]"
   ]
  },
  {
   "cell_type": "markdown",
   "id": "3a521bb2-97f2-4d82-9a94-f974eff553dd",
   "metadata": {},
   "source": [
    "You can pass multiple slices just like you can pass multiple indexes:\r"
   ]
  },
  {
   "cell_type": "code",
   "execution_count": 42,
   "id": "572d161a-8082-450d-8526-07156c900554",
   "metadata": {},
   "outputs": [
    {
     "data": {
      "text/plain": [
       "array([[2, 3],\n",
       "       [5, 6]])"
      ]
     },
     "execution_count": 42,
     "metadata": {},
     "output_type": "execute_result"
    }
   ],
   "source": [
    "arr2d[:2, 1:]"
   ]
  },
  {
   "cell_type": "markdown",
   "id": "ee2e8a15-57bc-4425-a695-05947d956ded",
   "metadata": {},
   "source": [
    "A colon by itself means to take the entire axis, so you can slice only higher dimensional axes by doing:"
   ]
  },
  {
   "cell_type": "code",
   "execution_count": 43,
   "id": "5584c662-ff68-424d-9c79-abf88b15c53c",
   "metadata": {},
   "outputs": [
    {
     "data": {
      "text/plain": [
       "array([[1],\n",
       "       [4],\n",
       "       [7]])"
      ]
     },
     "execution_count": 43,
     "metadata": {},
     "output_type": "execute_result"
    }
   ],
   "source": [
    "arr2d[:, :1]"
   ]
  },
  {
   "cell_type": "markdown",
   "id": "440d7f15-4f23-4554-be19-6b910b0398f1",
   "metadata": {},
   "source": [
    "assigning to a slice expression assigns to the whole selection:"
   ]
  },
  {
   "cell_type": "code",
   "execution_count": 44,
   "id": "a075ab23-511b-4c4e-acdf-35e1117e4eb2",
   "metadata": {},
   "outputs": [
    {
     "data": {
      "text/plain": [
       "array([[1, 0, 0],\n",
       "       [4, 0, 0],\n",
       "       [7, 8, 9]])"
      ]
     },
     "execution_count": 44,
     "metadata": {},
     "output_type": "execute_result"
    }
   ],
   "source": [
    "arr2d[:2, 1:] = 0\n",
    "arr2d"
   ]
  },
  {
   "cell_type": "markdown",
   "id": "eb93c6c6-3012-4766-8ac2-3c87b1c9c89d",
   "metadata": {},
   "source": [
    "### Boolean Indexing"
   ]
  },
  {
   "cell_type": "code",
   "execution_count": 45,
   "id": "43a87d6c-9750-44f7-a808-a1f143852fe9",
   "metadata": {},
   "outputs": [],
   "source": [
    "names = np.array(['Bob', 'Joe', 'Will', 'Bob', 'Will', 'Joe', 'Joe'])\n",
    "data = np.random.randn(7, 4)"
   ]
  },
  {
   "cell_type": "code",
   "execution_count": 46,
   "id": "1f772f39-141b-4d07-a7b1-52ad72207fca",
   "metadata": {},
   "outputs": [
    {
     "data": {
      "text/plain": [
       "array(['Bob', 'Joe', 'Will', 'Bob', 'Will', 'Joe', 'Joe'], dtype='<U4')"
      ]
     },
     "execution_count": 46,
     "metadata": {},
     "output_type": "execute_result"
    }
   ],
   "source": [
    "names"
   ]
  },
  {
   "cell_type": "code",
   "execution_count": 47,
   "id": "7ceea091-738e-4500-9b2f-4a7af755d45d",
   "metadata": {},
   "outputs": [
    {
     "data": {
      "text/plain": [
       "array([[ 0.57587871, -0.96054844, -1.80112814, -0.52330554],\n",
       "       [-1.53592071, -1.09186493,  1.17565671, -0.46708226],\n",
       "       [ 0.10106781,  0.12712255, -1.06316659, -0.54279639],\n",
       "       [ 1.49183943,  0.54156035, -0.56698271,  0.57058497],\n",
       "       [-2.00228314,  0.18957217, -0.60499269,  0.68012445],\n",
       "       [ 2.18616023,  1.47389489,  1.12811454, -1.13350162],\n",
       "       [-0.95563486,  0.76947963,  0.06908691,  1.54412095]])"
      ]
     },
     "execution_count": 47,
     "metadata": {},
     "output_type": "execute_result"
    }
   ],
   "source": [
    "data"
   ]
  },
  {
   "cell_type": "code",
   "execution_count": 48,
   "id": "57f9a291-19a5-47d5-9594-a3fe36f43839",
   "metadata": {},
   "outputs": [
    {
     "data": {
      "text/plain": [
       "array([ True, False, False,  True, False, False, False])"
      ]
     },
     "execution_count": 48,
     "metadata": {},
     "output_type": "execute_result"
    }
   ],
   "source": [
    "names == 'Bob'"
   ]
  },
  {
   "cell_type": "code",
   "execution_count": 49,
   "id": "5e93bce5-1522-4c89-a135-e4d821e4e758",
   "metadata": {},
   "outputs": [
    {
     "data": {
      "text/plain": [
       "array([[ 0.57587871, -0.96054844, -1.80112814, -0.52330554],\n",
       "       [ 1.49183943,  0.54156035, -0.56698271,  0.57058497]])"
      ]
     },
     "execution_count": 49,
     "metadata": {},
     "output_type": "execute_result"
    }
   ],
   "source": [
    "data[names == 'Bob']"
   ]
  },
  {
   "cell_type": "markdown",
   "id": "1b44aa96-cdb5-478a-9268-0c2dd53709ef",
   "metadata": {},
   "source": [
    "__The boolean array must be of the same length as the array axis it’s indexing.__"
   ]
  },
  {
   "cell_type": "code",
   "execution_count": 50,
   "id": "8fcc8ee6-1d63-4619-b9ae-ab5834ecb70b",
   "metadata": {},
   "outputs": [
    {
     "data": {
      "text/plain": [
       "array([[-1.80112814, -0.52330554],\n",
       "       [-0.56698271,  0.57058497]])"
      ]
     },
     "execution_count": 50,
     "metadata": {},
     "output_type": "execute_result"
    }
   ],
   "source": [
    "data[names == 'Bob', 2:]"
   ]
  },
  {
   "cell_type": "code",
   "execution_count": 51,
   "id": "e361551d-929f-4141-b51e-ec51befe989e",
   "metadata": {},
   "outputs": [
    {
     "data": {
      "text/plain": [
       "array([-0.52330554,  0.57058497])"
      ]
     },
     "execution_count": 51,
     "metadata": {},
     "output_type": "execute_result"
    }
   ],
   "source": [
    "data[names == 'Bob', 3]"
   ]
  },
  {
   "cell_type": "markdown",
   "id": "ebe49645-15fd-485a-8d1d-d337a2e71b35",
   "metadata": {},
   "source": [
    "To select everything but 'Bob', you can either use != or negate the condition using ~:\n"
   ]
  },
  {
   "cell_type": "code",
   "execution_count": 52,
   "id": "965a813d-525e-416a-a7e7-5ed61129f044",
   "metadata": {},
   "outputs": [
    {
     "data": {
      "text/plain": [
       "array([False,  True,  True, False,  True,  True,  True])"
      ]
     },
     "execution_count": 52,
     "metadata": {},
     "output_type": "execute_result"
    }
   ],
   "source": [
    "names != 'Bob'"
   ]
  },
  {
   "cell_type": "code",
   "execution_count": 53,
   "id": "c51d61ac-6539-45a1-881f-d5d2c0fec248",
   "metadata": {},
   "outputs": [
    {
     "data": {
      "text/plain": [
       "array([[-1.53592071, -1.09186493,  1.17565671, -0.46708226],\n",
       "       [ 0.10106781,  0.12712255, -1.06316659, -0.54279639],\n",
       "       [-2.00228314,  0.18957217, -0.60499269,  0.68012445],\n",
       "       [ 2.18616023,  1.47389489,  1.12811454, -1.13350162],\n",
       "       [-0.95563486,  0.76947963,  0.06908691,  1.54412095]])"
      ]
     },
     "execution_count": 53,
     "metadata": {},
     "output_type": "execute_result"
    }
   ],
   "source": [
    "data[~(names == 'Bob')]"
   ]
  },
  {
   "cell_type": "markdown",
   "id": "01602acf-596b-4592-92f5-fe713a6291c4",
   "metadata": {},
   "source": [
    "The ~ operator can be useful when you want to invert a general condition:\r"
   ]
  },
  {
   "cell_type": "code",
   "execution_count": 54,
   "id": "2e724fa5-461f-428f-8fcc-e32d6844a3ff",
   "metadata": {},
   "outputs": [
    {
     "data": {
      "text/plain": [
       "array([[-1.53592071, -1.09186493,  1.17565671, -0.46708226],\n",
       "       [ 0.10106781,  0.12712255, -1.06316659, -0.54279639],\n",
       "       [-2.00228314,  0.18957217, -0.60499269,  0.68012445],\n",
       "       [ 2.18616023,  1.47389489,  1.12811454, -1.13350162],\n",
       "       [-0.95563486,  0.76947963,  0.06908691,  1.54412095]])"
      ]
     },
     "execution_count": 54,
     "metadata": {},
     "output_type": "execute_result"
    }
   ],
   "source": [
    "cond = names == 'Bob'\n",
    "data[~cond]"
   ]
  },
  {
   "cell_type": "markdown",
   "id": "63def1c7-a69a-4e7f-9c87-00e88a34c535",
   "metadata": {},
   "source": [
    "Selecting two of the three names to combine multiple boolean conditions, use\n",
    "boolean arithmetic operators like & (and) and | (or):"
   ]
  },
  {
   "cell_type": "code",
   "execution_count": 55,
   "id": "b50eca06-7ceb-4f51-aff2-9ee34ee582bb",
   "metadata": {},
   "outputs": [
    {
     "data": {
      "text/plain": [
       "array([ True, False,  True,  True,  True, False, False])"
      ]
     },
     "execution_count": 55,
     "metadata": {},
     "output_type": "execute_result"
    }
   ],
   "source": [
    "mask = (names == 'Bob') | (names == 'Will')\n",
    "mask"
   ]
  },
  {
   "cell_type": "markdown",
   "id": "832f329f-cfae-445d-b01f-ccff2c20f49b",
   "metadata": {},
   "source": [
    "_The Python keywords and and or do not work with boolean arrays.\n",
    "Use __&__ (and) and __|__ (or) instead._"
   ]
  },
  {
   "cell_type": "markdown",
   "id": "5feb25e8-19af-4f75-bb46-035c0042d9ed",
   "metadata": {},
   "source": [
    "Selecting data from an array by boolean indexing always creates a copy of the data,\n",
    "even if the returned array is unchanged.\n"
   ]
  },
  {
   "cell_type": "markdown",
   "id": "f38edc7e-c8ad-424f-8074-571c30982e5c",
   "metadata": {},
   "source": [
    "Setting values with boolean arrays works in a common-sense way. To set all of the\n",
    "negative values in data to 0 we need only do:"
   ]
  },
  {
   "cell_type": "code",
   "execution_count": 56,
   "id": "d3f8baf3-c3ad-4b5d-8a40-d95c097f9514",
   "metadata": {},
   "outputs": [
    {
     "data": {
      "text/plain": [
       "array([[0.57587871, 0.        , 0.        , 0.        ],\n",
       "       [0.        , 0.        , 1.17565671, 0.        ],\n",
       "       [0.10106781, 0.12712255, 0.        , 0.        ],\n",
       "       [1.49183943, 0.54156035, 0.        , 0.57058497],\n",
       "       [0.        , 0.18957217, 0.        , 0.68012445],\n",
       "       [2.18616023, 1.47389489, 1.12811454, 0.        ],\n",
       "       [0.        , 0.76947963, 0.06908691, 1.54412095]])"
      ]
     },
     "execution_count": 56,
     "metadata": {},
     "output_type": "execute_result"
    }
   ],
   "source": [
    "data[data < 0] = 0\n",
    "data"
   ]
  },
  {
   "cell_type": "markdown",
   "id": "1d0a853e-a3c6-4207-b98e-69dee2321aee",
   "metadata": {},
   "source": [
    "Setting whole rows or columns using a one-dimensional boolean array is also easy:\r"
   ]
  },
  {
   "cell_type": "code",
   "execution_count": 57,
   "id": "ee505828-de25-46e1-9a04-1d308c8b6e32",
   "metadata": {},
   "outputs": [
    {
     "data": {
      "text/plain": [
       "array([[7.        , 7.        , 7.        , 7.        ],\n",
       "       [0.        , 0.        , 1.17565671, 0.        ],\n",
       "       [7.        , 7.        , 7.        , 7.        ],\n",
       "       [7.        , 7.        , 7.        , 7.        ],\n",
       "       [7.        , 7.        , 7.        , 7.        ],\n",
       "       [2.18616023, 1.47389489, 1.12811454, 0.        ],\n",
       "       [0.        , 0.76947963, 0.06908691, 1.54412095]])"
      ]
     },
     "execution_count": 57,
     "metadata": {},
     "output_type": "execute_result"
    }
   ],
   "source": [
    "data[names != 'Joe'] = 7\n",
    "data"
   ]
  },
  {
   "cell_type": "markdown",
   "id": "251024f4-a952-4450-9cf9-cca050dff80a",
   "metadata": {},
   "source": [
    "### Fancy Indexing\n"
   ]
  },
  {
   "cell_type": "code",
   "execution_count": 58,
   "id": "cda89cfa-6e84-4f3d-8fd0-502434968165",
   "metadata": {},
   "outputs": [
    {
     "data": {
      "text/plain": [
       "array([[0., 0., 0., 0.],\n",
       "       [1., 1., 1., 1.],\n",
       "       [2., 2., 2., 2.],\n",
       "       [3., 3., 3., 3.],\n",
       "       [4., 4., 4., 4.],\n",
       "       [5., 5., 5., 5.],\n",
       "       [6., 6., 6., 6.],\n",
       "       [7., 7., 7., 7.]])"
      ]
     },
     "execution_count": 58,
     "metadata": {},
     "output_type": "execute_result"
    }
   ],
   "source": [
    "arr = np.empty((8, 4))\n",
    "for i in range(8):\n",
    "    arr[i] = i\n",
    "arr"
   ]
  },
  {
   "cell_type": "markdown",
   "id": "561f8a1a-1f25-4f5e-b8c9-fc48c64bf2cd",
   "metadata": {},
   "source": [
    "To select out a subset of the rows in a particular order, you can simply pass a list or\n",
    "ndarray of integers specifying the desired order:"
   ]
  },
  {
   "cell_type": "code",
   "execution_count": 59,
   "id": "21e7b2e3-42a3-43d8-8450-3ebc9a3a47f4",
   "metadata": {},
   "outputs": [
    {
     "data": {
      "text/plain": [
       "array([[4., 4., 4., 4.],\n",
       "       [3., 3., 3., 3.],\n",
       "       [0., 0., 0., 0.],\n",
       "       [6., 6., 6., 6.]])"
      ]
     },
     "execution_count": 59,
     "metadata": {},
     "output_type": "execute_result"
    }
   ],
   "source": [
    "arr[[4, 3, 0, 6]]"
   ]
  },
  {
   "cell_type": "markdown",
   "id": "f71a9f8e-4343-4248-ab38-d8bdec5ba9be",
   "metadata": {},
   "source": [
    "Using negative indices selects rows from\n",
    "the end:"
   ]
  },
  {
   "cell_type": "code",
   "execution_count": 60,
   "id": "21300366-165f-4276-a89a-8638403e5969",
   "metadata": {},
   "outputs": [
    {
     "data": {
      "text/plain": [
       "array([[5., 5., 5., 5.],\n",
       "       [3., 3., 3., 3.],\n",
       "       [1., 1., 1., 1.]])"
      ]
     },
     "execution_count": 60,
     "metadata": {},
     "output_type": "execute_result"
    }
   ],
   "source": [
    "arr[[-3, -5, -7]]"
   ]
  },
  {
   "cell_type": "markdown",
   "id": "be69bc6f-c74a-481d-aaf4-aebb56540659",
   "metadata": {},
   "source": [
    "Passing multiple index arrays does something slightly different; it selects a onedimensional array of elements corresponding to each tuple of indices:"
   ]
  },
  {
   "cell_type": "code",
   "execution_count": 61,
   "id": "eed28cea-0f75-4ab0-89d7-941559c235a7",
   "metadata": {},
   "outputs": [
    {
     "data": {
      "text/plain": [
       "array([[ 0,  1,  2,  3],\n",
       "       [ 4,  5,  6,  7],\n",
       "       [ 8,  9, 10, 11],\n",
       "       [12, 13, 14, 15],\n",
       "       [16, 17, 18, 19],\n",
       "       [20, 21, 22, 23],\n",
       "       [24, 25, 26, 27],\n",
       "       [28, 29, 30, 31]])"
      ]
     },
     "execution_count": 61,
     "metadata": {},
     "output_type": "execute_result"
    }
   ],
   "source": [
    "arr = np.arange(32).reshape((8, 4))\n",
    "arr"
   ]
  },
  {
   "cell_type": "code",
   "execution_count": 62,
   "id": "361c2c5d-de0f-4933-8ad0-96a4b470b4ae",
   "metadata": {},
   "outputs": [
    {
     "data": {
      "text/plain": [
       "array([ 4, 23, 29, 10])"
      ]
     },
     "execution_count": 62,
     "metadata": {},
     "output_type": "execute_result"
    }
   ],
   "source": [
    "arr[[1, 5, 7, 2], [0, 3, 1, 2]]"
   ]
  },
  {
   "cell_type": "markdown",
   "id": "80c5307d-c78e-49cc-8d55-1652ba212b2c",
   "metadata": {},
   "source": [
    "## Transposing Arrays and Swapping Axes"
   ]
  },
  {
   "cell_type": "markdown",
   "id": "c8ec2487-a13b-4d73-b5e6-8f851ee555cb",
   "metadata": {},
   "source": [
    "Transposing is a special form of reshaping that similarly returns a view on the underlying data without copying anything. \n",
    "Arrays have the transpose method and also the\n",
    "special T attribute:"
   ]
  },
  {
   "cell_type": "code",
   "execution_count": 63,
   "id": "eef84e6a-ed1d-4519-9dc7-2b9fff052c93",
   "metadata": {},
   "outputs": [
    {
     "data": {
      "text/plain": [
       "array([[ 0,  1,  2,  3,  4],\n",
       "       [ 5,  6,  7,  8,  9],\n",
       "       [10, 11, 12, 13, 14]])"
      ]
     },
     "execution_count": 63,
     "metadata": {},
     "output_type": "execute_result"
    }
   ],
   "source": [
    "arr = np.arange(15).reshape((3, 5))\n",
    "arr"
   ]
  },
  {
   "cell_type": "code",
   "execution_count": 64,
   "id": "339e03aa-d0ec-47cb-b7c9-4d2ad11db86b",
   "metadata": {},
   "outputs": [
    {
     "data": {
      "text/plain": [
       "array([[ 0,  5, 10],\n",
       "       [ 1,  6, 11],\n",
       "       [ 2,  7, 12],\n",
       "       [ 3,  8, 13],\n",
       "       [ 4,  9, 14]])"
      ]
     },
     "execution_count": 64,
     "metadata": {},
     "output_type": "execute_result"
    }
   ],
   "source": [
    "arr.T"
   ]
  },
  {
   "cell_type": "markdown",
   "id": "3218d76f-5765-4ea2-abc4-a2e2525157a0",
   "metadata": {},
   "source": [
    "Computing the inner matrix product using np.dot:"
   ]
  },
  {
   "cell_type": "code",
   "execution_count": 65,
   "id": "47a5d122-f68a-409f-9efb-46cac96bc40a",
   "metadata": {},
   "outputs": [
    {
     "data": {
      "text/plain": [
       "array([[-0.63836273, -0.93063095,  0.15818949],\n",
       "       [ 0.51526449, -0.39477328,  1.332353  ],\n",
       "       [ 0.4341722 , -1.20435669,  0.09904081],\n",
       "       [-0.1232145 ,  0.72476486, -0.24307986],\n",
       "       [ 1.0715036 , -0.28111401, -2.31792807],\n",
       "       [ 0.84542993,  0.67887873, -0.95425324]])"
      ]
     },
     "execution_count": 65,
     "metadata": {},
     "output_type": "execute_result"
    }
   ],
   "source": [
    "arr = np.random.randn(6, 3)\n",
    "arr"
   ]
  },
  {
   "cell_type": "code",
   "execution_count": 66,
   "id": "6afed3e8-c333-4ba6-b1f9-9a5f3f503afb",
   "metadata": {},
   "outputs": [
    {
     "data": {
      "text/plain": [
       "array([[ 2.7395635 ,  0.05119746, -2.63193886],\n",
       "       [ 0.05119746,  3.53758047, -0.96486979],\n",
       "       [-2.63193886, -0.96486979,  8.15247513]])"
      ]
     },
     "execution_count": 66,
     "metadata": {},
     "output_type": "execute_result"
    }
   ],
   "source": [
    "np.dot(arr.T, arr)"
   ]
  },
  {
   "cell_type": "markdown",
   "id": "1b68997d-e878-4f28-88a7-157f4a8056f6",
   "metadata": {},
   "source": [
    "For higher dimensional arrays, transpose will accept a tuple of axis numbers to per‐\r\n",
    "mute the axes (for extra mind bending):\r"
   ]
  },
  {
   "cell_type": "code",
   "execution_count": 67,
   "id": "84ce868a-f2e1-41e4-b1ba-9132f59a16e3",
   "metadata": {},
   "outputs": [
    {
     "data": {
      "text/plain": [
       "array([[[ 0,  1,  2,  3],\n",
       "        [ 4,  5,  6,  7]],\n",
       "\n",
       "       [[ 8,  9, 10, 11],\n",
       "        [12, 13, 14, 15]]])"
      ]
     },
     "execution_count": 67,
     "metadata": {},
     "output_type": "execute_result"
    }
   ],
   "source": [
    "arr = np.arange(16).reshape((2, 2, 4))\n",
    "arr"
   ]
  },
  {
   "cell_type": "code",
   "execution_count": 68,
   "id": "68ca7ebe-a7b3-45d0-9b58-58ee1919572d",
   "metadata": {},
   "outputs": [
    {
     "data": {
      "text/plain": [
       "array([[[ 0,  1,  2,  3],\n",
       "        [ 8,  9, 10, 11]],\n",
       "\n",
       "       [[ 4,  5,  6,  7],\n",
       "        [12, 13, 14, 15]]])"
      ]
     },
     "execution_count": 68,
     "metadata": {},
     "output_type": "execute_result"
    }
   ],
   "source": [
    "arr.transpose((1, 0, 2))"
   ]
  },
  {
   "cell_type": "markdown",
   "id": "ccdc9c1c-3364-401d-b850-01bf06d96998",
   "metadata": {},
   "source": [
    "_Here, the axes have been reordered with the second axis first, the first axis second,\n",
    "and the last axis unchanged._"
   ]
  },
  {
   "cell_type": "markdown",
   "id": "47dfc426-55bf-4ae0-bd4e-3e72afedc415",
   "metadata": {},
   "source": [
    "ndarray has the method\n",
    "swapaxes, which takes a pair of axis numbers and switches the indicated axes to rearrange the data:\n"
   ]
  },
  {
   "cell_type": "code",
   "execution_count": 69,
   "id": "24e1219b-dba8-4305-b527-c2b00faf9848",
   "metadata": {},
   "outputs": [
    {
     "data": {
      "text/plain": [
       "array([[[ 0,  1,  2,  3],\n",
       "        [ 4,  5,  6,  7]],\n",
       "\n",
       "       [[ 8,  9, 10, 11],\n",
       "        [12, 13, 14, 15]]])"
      ]
     },
     "execution_count": 69,
     "metadata": {},
     "output_type": "execute_result"
    }
   ],
   "source": [
    "arr"
   ]
  },
  {
   "cell_type": "code",
   "execution_count": 70,
   "id": "cd1331ab-9b1b-492c-bcd7-98c305410b88",
   "metadata": {},
   "outputs": [
    {
     "data": {
      "text/plain": [
       "array([[[ 0,  4],\n",
       "        [ 1,  5],\n",
       "        [ 2,  6],\n",
       "        [ 3,  7]],\n",
       "\n",
       "       [[ 8, 12],\n",
       "        [ 9, 13],\n",
       "        [10, 14],\n",
       "        [11, 15]]])"
      ]
     },
     "execution_count": 70,
     "metadata": {},
     "output_type": "execute_result"
    }
   ],
   "source": [
    "arr.swapaxes(1, 2)"
   ]
  },
  {
   "cell_type": "code",
   "execution_count": null,
   "id": "58bdad25-aa30-4abb-a1fd-af6665c22af3",
   "metadata": {},
   "outputs": [],
   "source": []
  }
 ],
 "metadata": {
  "kernelspec": {
   "display_name": "Python 3 (ipykernel)",
   "language": "python",
   "name": "python3"
  },
  "language_info": {
   "codemirror_mode": {
    "name": "ipython",
    "version": 3
   },
   "file_extension": ".py",
   "mimetype": "text/x-python",
   "name": "python",
   "nbconvert_exporter": "python",
   "pygments_lexer": "ipython3",
   "version": "3.11.5"
  }
 },
 "nbformat": 4,
 "nbformat_minor": 5
}
