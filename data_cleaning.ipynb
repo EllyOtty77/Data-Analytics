{
 "cells": [
  {
   "cell_type": "code",
   "execution_count": 12,
   "metadata": {},
   "outputs": [],
   "source": [
    "import pandas as pd"
   ]
  },
  {
   "cell_type": "markdown",
   "metadata": {},
   "source": [
    "### Load the data"
   ]
  },
  {
   "cell_type": "code",
   "execution_count": 13,
   "metadata": {},
   "outputs": [
    {
     "data": {
      "text/html": [
       "<div>\n",
       "<style scoped>\n",
       "    .dataframe tbody tr th:only-of-type {\n",
       "        vertical-align: middle;\n",
       "    }\n",
       "\n",
       "    .dataframe tbody tr th {\n",
       "        vertical-align: top;\n",
       "    }\n",
       "\n",
       "    .dataframe thead th {\n",
       "        text-align: right;\n",
       "    }\n",
       "</style>\n",
       "<table border=\"1\" class=\"dataframe\">\n",
       "  <thead>\n",
       "    <tr style=\"text-align: right;\">\n",
       "      <th></th>\n",
       "      <th>ID</th>\n",
       "      <th>Name</th>\n",
       "      <th>Age</th>\n",
       "      <th>Salary</th>\n",
       "      <th>Joining_Date</th>\n",
       "      <th>Department</th>\n",
       "      <th>Email</th>\n",
       "    </tr>\n",
       "  </thead>\n",
       "  <tbody>\n",
       "    <tr>\n",
       "      <th>0</th>\n",
       "      <td>101</td>\n",
       "      <td>Alice</td>\n",
       "      <td>25.0</td>\n",
       "      <td>50000</td>\n",
       "      <td>2021-07-15</td>\n",
       "      <td>HR</td>\n",
       "      <td>alice@example.com</td>\n",
       "    </tr>\n",
       "    <tr>\n",
       "      <th>1</th>\n",
       "      <td>102</td>\n",
       "      <td>BOB</td>\n",
       "      <td>NaN</td>\n",
       "      <td>sixty thousand</td>\n",
       "      <td>06/12/2021</td>\n",
       "      <td>ENGINEERING</td>\n",
       "      <td>BOB@EXAMPLE.COM</td>\n",
       "    </tr>\n",
       "    <tr>\n",
       "      <th>2</th>\n",
       "      <td>103</td>\n",
       "      <td>Charlie</td>\n",
       "      <td>30.0</td>\n",
       "      <td>NaN</td>\n",
       "      <td>10 May 2021</td>\n",
       "      <td>HR</td>\n",
       "      <td>charlie@example</td>\n",
       "    </tr>\n",
       "    <tr>\n",
       "      <th>3</th>\n",
       "      <td>104</td>\n",
       "      <td>NaN</td>\n",
       "      <td>22.0</td>\n",
       "      <td>45000</td>\n",
       "      <td>15-08-2020</td>\n",
       "      <td>Sales</td>\n",
       "      <td>NaN</td>\n",
       "    </tr>\n",
       "    <tr>\n",
       "      <th>4</th>\n",
       "      <td>105</td>\n",
       "      <td>Eve</td>\n",
       "      <td>28.0</td>\n",
       "      <td>52000</td>\n",
       "      <td>2021-09-01</td>\n",
       "      <td>Marketing</td>\n",
       "      <td>eve@example.com</td>\n",
       "    </tr>\n",
       "  </tbody>\n",
       "</table>\n",
       "</div>"
      ],
      "text/plain": [
       "    ID     Name   Age          Salary Joining_Date    Department  \\\n",
       "0  101   Alice   25.0           50000   2021-07-15            HR   \n",
       "1  102      BOB   NaN  sixty thousand   06/12/2021  ENGINEERING    \n",
       "2  103  Charlie  30.0             NaN  10 May 2021            HR   \n",
       "3  104      NaN  22.0           45000   15-08-2020         Sales   \n",
       "4  105      Eve  28.0           52000   2021-09-01     Marketing   \n",
       "\n",
       "               Email  \n",
       "0  alice@example.com  \n",
       "1    BOB@EXAMPLE.COM  \n",
       "2    charlie@example  \n",
       "3                NaN  \n",
       "4    eve@example.com  "
      ]
     },
     "execution_count": 13,
     "metadata": {},
     "output_type": "execute_result"
    }
   ],
   "source": [
    "# Load CSV into DataFrame\n",
    "df = pd.read_csv(\"dirty_data.csv\")\n",
    "\n",
    "# Display the first few rows\n",
    "df.head()"
   ]
  },
  {
   "cell_type": "markdown",
   "metadata": {},
   "source": [
    "### Inspect Data Issues"
   ]
  },
  {
   "cell_type": "code",
   "execution_count": 14,
   "metadata": {},
   "outputs": [
    {
     "name": "stdout",
     "output_type": "stream",
     "text": [
      "ID              0\n",
      "Name            2\n",
      "Age             3\n",
      "Salary          3\n",
      "Joining_Date    0\n",
      "Department      0\n",
      "Email           2\n",
      "dtype: int64\n"
     ]
    }
   ],
   "source": [
    "# Check for missing values\n",
    "print(df.isnull().sum())"
   ]
  },
  {
   "cell_type": "code",
   "execution_count": 15,
   "metadata": {},
   "outputs": [
    {
     "name": "stdout",
     "output_type": "stream",
     "text": [
      "ID                int64\n",
      "Name             object\n",
      "Age             float64\n",
      "Salary           object\n",
      "Joining_Date     object\n",
      "Department       object\n",
      "Email            object\n",
      "dtype: object\n"
     ]
    }
   ],
   "source": [
    "# Check data types\n",
    "print(df.dtypes)"
   ]
  },
  {
   "cell_type": "code",
   "execution_count": 17,
   "metadata": {},
   "outputs": [
    {
     "name": "stdout",
     "output_type": "stream",
     "text": [
      "0\n"
     ]
    }
   ],
   "source": [
    "# Check for duplicates\n",
    "print(df.duplicated().sum())"
   ]
  },
  {
   "cell_type": "code",
   "execution_count": 18,
   "metadata": {},
   "outputs": [
    {
     "name": "stdout",
     "output_type": "stream",
     "text": [
      "               ID     Name         Age Salary Joining_Date Department  \\\n",
      "count    20.00000       18   17.000000     17           20         20   \n",
      "unique        NaN       17         NaN     13           19         14   \n",
      "top           NaN  Charlie         NaN  50000  10 May 2021         HR   \n",
      "freq          NaN        2         NaN      3            2          2   \n",
      "mean    109.65000      NaN   45.058824    NaN          NaN        NaN   \n",
      "std       5.69649      NaN   38.653057    NaN          NaN        NaN   \n",
      "min     101.00000      NaN   22.000000    NaN          NaN        NaN   \n",
      "25%     104.75000      NaN   25.000000    NaN          NaN        NaN   \n",
      "50%     109.50000      NaN   29.000000    NaN          NaN        NaN   \n",
      "75%     114.25000      NaN   34.000000    NaN          NaN        NaN   \n",
      "max     119.00000      NaN  150.000000    NaN          NaN        NaN   \n",
      "\n",
      "                  Email  \n",
      "count                18  \n",
      "unique               17  \n",
      "top     charlie@example  \n",
      "freq                  2  \n",
      "mean                NaN  \n",
      "std                 NaN  \n",
      "min                 NaN  \n",
      "25%                 NaN  \n",
      "50%                 NaN  \n",
      "75%                 NaN  \n",
      "max                 NaN  \n"
     ]
    }
   ],
   "source": [
    "# Display summary statistics\n",
    "print(df.describe(include='all'))"
   ]
  },
  {
   "cell_type": "markdown",
   "metadata": {},
   "source": [
    "### Handle missing values"
   ]
  },
  {
   "cell_type": "code",
   "execution_count": 19,
   "metadata": {},
   "outputs": [
    {
     "name": "stderr",
     "output_type": "stream",
     "text": [
      "C:\\Users\\user\\AppData\\Local\\Temp\\ipykernel_13780\\1514277096.py:2: FutureWarning: A value is trying to be set on a copy of a DataFrame or Series through chained assignment using an inplace method.\n",
      "The behavior will change in pandas 3.0. This inplace method will never work because the intermediate object on which we are setting values always behaves as a copy.\n",
      "\n",
      "For example, when doing 'df[col].method(value, inplace=True)', try using 'df.method({col: value}, inplace=True)' or df[col] = df[col].method(value) instead, to perform the operation inplace on the original object.\n",
      "\n",
      "\n",
      "  df['Age'].fillna(df['Age'].mean(), inplace=True)\n"
     ]
    }
   ],
   "source": [
    "# Fill missing Age with the mean age\n",
    "df['Age'].fillna(df['Age'].mean(), inplace=True)"
   ]
  },
  {
   "cell_type": "code",
   "execution_count": null,
   "metadata": {},
   "outputs": [],
   "source": [
    "# Fill missing Salary with median salary\n",
    "df['Salary'].fillna(df['Salary'].median(), inplace=True)\n",
    "\n",
    "# Fill missing Name with \"Unknown\"\n",
    "df['Name'].fillna(\"Unknown\", inplace=True)"
   ]
  },
  {
   "cell_type": "markdown",
   "metadata": {},
   "source": [
    "### Convert Data Types"
   ]
  },
  {
   "cell_type": "code",
   "execution_count": null,
   "metadata": {},
   "outputs": [],
   "source": [
    "# Convert Joining_Date to datetime format\n",
    "df['Joining_Date'] = pd.to_datetime(df['Joining_Date'], errors='coerce')\n",
    "\n",
    "# Convert Salary to integer type\n",
    "df['Salary'] = pd.to_numeric(df['Salary'], errors='coerce')\n",
    "\n",
    "# Convert Age to integer\n",
    "df['Age'] = df['Age'].astype(int)"
   ]
  },
  {
   "cell_type": "markdown",
   "metadata": {},
   "source": [
    "### Remove Duplicates"
   ]
  },
  {
   "cell_type": "code",
   "execution_count": null,
   "metadata": {},
   "outputs": [],
   "source": [
    "df.drop_duplicates(inplace=True)"
   ]
  },
  {
   "cell_type": "markdown",
   "metadata": {},
   "source": [
    "### Standardize Text Formatting"
   ]
  },
  {
   "cell_type": "code",
   "execution_count": null,
   "metadata": {},
   "outputs": [],
   "source": [
    "# Trim spaces and convert names to title case\n",
    "df['Name'] = df['Name'].str.strip().str.title()\n",
    "\n",
    "# Convert Department to consistent lowercase format\n",
    "df['Department'] = df['Department'].str.strip().str.lower()\n",
    "\n",
    "# Convert Email to lowercase\n",
    "df['Email'] = df['Email'].str.lower()"
   ]
  },
  {
   "cell_type": "markdown",
   "metadata": {},
   "source": [
    "### Handle Outliers"
   ]
  },
  {
   "cell_type": "code",
   "execution_count": null,
   "metadata": {},
   "outputs": [],
   "source": [
    "# Remove rows where Salary is below 20,000 or above 200,000\n",
    "df = df[(df['Salary'] >= 20000) & (df['Salary'] <= 200000)]\n",
    "\n",
    "# Check for unrealistic ages (e.g., less than 18 or greater than 65)\n",
    "df = df[(df['Age'] >= 18) & (df['Age'] <= 65)]"
   ]
  },
  {
   "cell_type": "markdown",
   "metadata": {},
   "source": [
    "### Validate and Save Clean Data"
   ]
  },
  {
   "cell_type": "code",
   "execution_count": null,
   "metadata": {},
   "outputs": [],
   "source": [
    "# Check final dataset\n",
    "print(df.info())\n",
    "print(df.head())\n",
    "\n",
    "# Save cleaned data\n",
    "df.to_csv(\"cleaned_data.csv\", index=False)"
   ]
  }
 ],
 "metadata": {
  "kernelspec": {
   "display_name": "dataenv",
   "language": "python",
   "name": "python3"
  },
  "language_info": {
   "codemirror_mode": {
    "name": "ipython",
    "version": 3
   },
   "file_extension": ".py",
   "mimetype": "text/x-python",
   "name": "python",
   "nbconvert_exporter": "python",
   "pygments_lexer": "ipython3",
   "version": "3.13.0"
  }
 },
 "nbformat": 4,
 "nbformat_minor": 2
}
